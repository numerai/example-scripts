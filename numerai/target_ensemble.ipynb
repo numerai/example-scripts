{
 "cells": [
  {
   "cell_type": "markdown",
   "metadata": {
    "id": "FOUvgVp3xnNW"
   },
   "source": [
    "# Target Ensemble\n",
    "\n",
    "Apart from the main target, there are actually many auxilliary targets in the dataset.\n",
    "\n",
    "These targets are fundamentally related to the main target which make them potentially helpful to model. And because these targets have a wide range of correlations to the main targets, it means that we could potentially build some nice ensembles to boost our performance.\n",
    "\n",
    "In this notebook, we will\n",
    "1. Explore the auxilliary targets\n",
    "2. Select our favorite targets to include in the ensemble\n",
    "3. Create an ensemble of models trained on different targets\n",
    "4. Pickle and upload our ensemble model"
   ]
  },
  {
   "cell_type": "code",
   "source": [
    "!python --version"
   ],
   "metadata": {
    "id": "Ej4poji3G1Df",
    "outputId": "171d8edf-bd43-406a-e782-64ed09624904",
    "colab": {
     "base_uri": "https://localhost:8080/"
    },
    "ExecuteTime": {
     "end_time": "2025-10-30T20:49:04.616116Z",
     "start_time": "2025-10-30T20:49:04.188020Z"
    }
   },
   "outputs": [
    {
     "name": "stdout",
     "output_type": "stream",
     "text": [
      "Python 3.11.11\r\n"
     ]
    }
   ],
   "execution_count": 27
  },
  {
   "cell_type": "code",
   "metadata": {
    "colab": {
     "base_uri": "https://localhost:8080/"
    },
    "id": "KD826S8uxnNY",
    "outputId": "2d93c23b-7937-4dba-8dde-1f51df9884c0",
    "ExecuteTime": {
     "end_time": "2025-10-30T20:49:15.338187Z",
     "start_time": "2025-10-30T20:49:05.501964Z"
    }
   },
   "source": [
    "# Install dependencies\n",
    "!pip install -q --upgrade numerapi pandas pyarrow matplotlib lightgbm scikit-learn scipy cloudpickle==3.1.1\n",
    "\n",
    "# Inline plots\n",
    "%matplotlib inline"
   ],
   "outputs": [
    {
     "name": "stdout",
     "output_type": "stream",
     "text": [
      "\r\n",
      "\u001B[1m[\u001B[0m\u001B[34;49mnotice\u001B[0m\u001B[1;39;49m]\u001B[0m\u001B[39;49m A new release of pip is available: \u001B[0m\u001B[31;49m25.2\u001B[0m\u001B[39;49m -> \u001B[0m\u001B[32;49m25.3\u001B[0m\r\n",
      "\u001B[1m[\u001B[0m\u001B[34;49mnotice\u001B[0m\u001B[1;39;49m]\u001B[0m\u001B[39;49m To update, run: \u001B[0m\u001B[32;49mpip install --upgrade pip\u001B[0m\r\n"
     ]
    }
   ],
   "execution_count": 28
  },
  {
   "metadata": {
    "ExecuteTime": {
     "end_time": "2025-10-30T20:49:21.679114Z",
     "start_time": "2025-10-30T20:49:15.358443Z"
    }
   },
   "cell_type": "code",
   "source": "!pip install seaborn",
   "outputs": [
    {
     "name": "stdout",
     "output_type": "stream",
     "text": [
      "Requirement already satisfied: seaborn in /Users/numerai/Desktop/work_space/example-scripts/python311_venv/example-scripts/lib/python3.11/site-packages (0.13.2)\r\n",
      "Requirement already satisfied: numpy!=1.24.0,>=1.20 in /Users/numerai/Desktop/work_space/example-scripts/python311_venv/example-scripts/lib/python3.11/site-packages (from seaborn) (2.3.4)\r\n",
      "Requirement already satisfied: pandas>=1.2 in /Users/numerai/Desktop/work_space/example-scripts/python311_venv/example-scripts/lib/python3.11/site-packages (from seaborn) (2.3.3)\r\n",
      "Requirement already satisfied: matplotlib!=3.6.1,>=3.4 in /Users/numerai/Desktop/work_space/example-scripts/python311_venv/example-scripts/lib/python3.11/site-packages (from seaborn) (3.10.7)\r\n",
      "Requirement already satisfied: contourpy>=1.0.1 in /Users/numerai/Desktop/work_space/example-scripts/python311_venv/example-scripts/lib/python3.11/site-packages (from matplotlib!=3.6.1,>=3.4->seaborn) (1.3.3)\r\n",
      "Requirement already satisfied: cycler>=0.10 in /Users/numerai/Desktop/work_space/example-scripts/python311_venv/example-scripts/lib/python3.11/site-packages (from matplotlib!=3.6.1,>=3.4->seaborn) (0.12.1)\r\n",
      "Requirement already satisfied: fonttools>=4.22.0 in /Users/numerai/Desktop/work_space/example-scripts/python311_venv/example-scripts/lib/python3.11/site-packages (from matplotlib!=3.6.1,>=3.4->seaborn) (4.60.1)\r\n",
      "Requirement already satisfied: kiwisolver>=1.3.1 in /Users/numerai/Desktop/work_space/example-scripts/python311_venv/example-scripts/lib/python3.11/site-packages (from matplotlib!=3.6.1,>=3.4->seaborn) (1.4.9)\r\n",
      "Requirement already satisfied: packaging>=20.0 in /Users/numerai/Desktop/work_space/example-scripts/python311_venv/example-scripts/lib/python3.11/site-packages (from matplotlib!=3.6.1,>=3.4->seaborn) (25.0)\r\n",
      "Requirement already satisfied: pillow>=8 in /Users/numerai/Desktop/work_space/example-scripts/python311_venv/example-scripts/lib/python3.11/site-packages (from matplotlib!=3.6.1,>=3.4->seaborn) (12.0.0)\r\n",
      "Requirement already satisfied: pyparsing>=3 in /Users/numerai/Desktop/work_space/example-scripts/python311_venv/example-scripts/lib/python3.11/site-packages (from matplotlib!=3.6.1,>=3.4->seaborn) (3.2.5)\r\n",
      "Requirement already satisfied: python-dateutil>=2.7 in /Users/numerai/Desktop/work_space/example-scripts/python311_venv/example-scripts/lib/python3.11/site-packages (from matplotlib!=3.6.1,>=3.4->seaborn) (2.9.0.post0)\r\n",
      "Requirement already satisfied: pytz>=2020.1 in /Users/numerai/Desktop/work_space/example-scripts/python311_venv/example-scripts/lib/python3.11/site-packages (from pandas>=1.2->seaborn) (2025.2)\r\n",
      "Requirement already satisfied: tzdata>=2022.7 in /Users/numerai/Desktop/work_space/example-scripts/python311_venv/example-scripts/lib/python3.11/site-packages (from pandas>=1.2->seaborn) (2025.2)\r\n",
      "Requirement already satisfied: six>=1.5 in /Users/numerai/Desktop/work_space/example-scripts/python311_venv/example-scripts/lib/python3.11/site-packages (from python-dateutil>=2.7->matplotlib!=3.6.1,>=3.4->seaborn) (1.17.0)\r\n",
      "\r\n",
      "\u001B[1m[\u001B[0m\u001B[34;49mnotice\u001B[0m\u001B[1;39;49m]\u001B[0m\u001B[39;49m A new release of pip is available: \u001B[0m\u001B[31;49m25.2\u001B[0m\u001B[39;49m -> \u001B[0m\u001B[32;49m25.3\u001B[0m\r\n",
      "\u001B[1m[\u001B[0m\u001B[34;49mnotice\u001B[0m\u001B[1;39;49m]\u001B[0m\u001B[39;49m To update, run: \u001B[0m\u001B[32;49mpip install --upgrade pip\u001B[0m\r\n"
     ]
    }
   ],
   "execution_count": 29
  },
  {
   "cell_type": "markdown",
   "metadata": {
    "id": "VwChLrKexnNa"
   },
   "source": [
    "## 1. Auxilliary Targets\n",
    "\n",
    "Let's start by taking a look at the different targets in the training data."
   ]
  },
  {
   "cell_type": "code",
   "metadata": {
    "colab": {
     "base_uri": "https://localhost:8080/",
     "height": 511
    },
    "id": "R1I_xkY4xnNa",
    "outputId": "62fdbb5e-df86-4e4e-f648-fe52d726c949",
    "ExecuteTime": {
     "end_time": "2025-10-30T20:49:27.889096Z",
     "start_time": "2025-10-30T20:49:21.721155Z"
    }
   },
   "source": [
    "import pandas as pd\n",
    "import json\n",
    "from numerapi import NumerAPI\n",
    "\n",
    "# Set the data version to one of the most recent versions\n",
    "DATA_VERSION = \"v5.1\"\n",
    "MAIN_TARGET = \"target_cyrusd_20\"\n",
    "TARGET_CANDIDATES = [\n",
    "  MAIN_TARGET,\n",
    "  \"target_victor_20\",\n",
    "  \"target_xerxes_20\",\n",
    "  \"target_teager2b_20\"\n",
    "]\n",
    "FAVORITE_MODEL = \"v5_lgbm_ct_blend\"\n",
    "\n",
    "# Download data\n",
    "napi = NumerAPI()\n",
    "napi.download_dataset(f\"{DATA_VERSION}/train.parquet\")\n",
    "napi.download_dataset(f\"{DATA_VERSION}/features.json\")\n",
    "\n",
    "# Load data\n",
    "feature_metadata = json.load(open(f\"{DATA_VERSION}/features.json\"))\n",
    "feature_cols = feature_metadata[\"feature_sets\"][\"small\"]\n",
    "# use \"medium\" or \"all\" for better performance. Requires more RAM.\n",
    "# features = feature_metadata[\"feature_sets\"][\"medium\"]\n",
    "# features = feature_metadata[\"feature_sets\"][\"all\"]\n",
    "target_cols = feature_metadata[\"targets\"]\n",
    "train = pd.read_parquet(\n",
    "    f\"{DATA_VERSION}/train.parquet\",\n",
    "    columns=[\"era\"] + feature_cols + target_cols\n",
    ")\n",
    "\n",
    "# Downsample to every 4th era to reduce memory usage and speedup model training (suggested for Colab free tier)\n",
    "# Comment out the line below to use all the data (higher memory usage, slower model training, potentially better performance)\n",
    "train = train[train[\"era\"].isin(train[\"era\"].unique()[::4])]\n",
    "\n",
    "# Print target columns\n",
    "train[[\"era\"] + target_cols]"
   ],
   "outputs": [
    {
     "name": "stderr",
     "output_type": "stream",
     "text": [
      "2025-10-30 13:49:22,285 INFO numerapi.utils: target file already exists\n",
      "2025-10-30 13:49:22,291 INFO numerapi.utils: download complete\n",
      "2025-10-30 13:49:22,722 INFO numerapi.utils: target file already exists\n",
      "2025-10-30 13:49:22,731 INFO numerapi.utils: download complete\n"
     ]
    },
    {
     "data": {
      "text/plain": [
       "                   era  target_agnes_20  target_agnes_60  target_alpha_20  \\\n",
       "id                                                                          \n",
       "n0007b5abb0c3a25  0001         0.250000         0.000000         0.250000   \n",
       "n003bba8a98662e4  0001         0.250000         0.250000         0.250000   \n",
       "n003bee128c2fcfc  0001         1.000000         1.000000         1.000000   \n",
       "n0048ac83aff7194  0001         0.250000         0.250000         0.250000   \n",
       "n0055a2401ba6480  0001         0.250000         0.500000         0.250000   \n",
       "...                ...              ...              ...              ...   \n",
       "nffc2d5e4b79a7ae  0573         0.000000         0.250000         0.000000   \n",
       "nffc9844c1c7a6a9  0573         0.500000         0.500000         0.250000   \n",
       "nffd79773f4109bb  0573         0.500000         0.500000         0.750000   \n",
       "nfff6ab9d6dc0b32  0573         0.500000         0.500000         0.250000   \n",
       "nfff87b21e4db902  0573         0.750000         0.750000         0.500000   \n",
       "\n",
       "                  target_alpha_60  target_bravo_20  target_bravo_60  \\\n",
       "id                                                                    \n",
       "n0007b5abb0c3a25         0.250000         0.000000         0.000000   \n",
       "n003bba8a98662e4         0.000000         0.250000         0.000000   \n",
       "n003bee128c2fcfc         1.000000         0.750000         1.000000   \n",
       "n0048ac83aff7194         0.250000         0.500000         0.250000   \n",
       "n0055a2401ba6480         0.500000         0.250000         0.500000   \n",
       "...                           ...              ...              ...   \n",
       "nffc2d5e4b79a7ae         0.250000         0.000000         0.250000   \n",
       "nffc9844c1c7a6a9         0.500000         0.500000         0.500000   \n",
       "nffd79773f4109bb         0.500000         0.750000         0.500000   \n",
       "nfff6ab9d6dc0b32         0.500000         0.500000         0.500000   \n",
       "nfff87b21e4db902         0.750000         0.500000         0.750000   \n",
       "\n",
       "                  target_caroline_20  target_caroline_60  target_charlie_20  \\\n",
       "id                                                                            \n",
       "n0007b5abb0c3a25            0.250000            0.000000           0.250000   \n",
       "n003bba8a98662e4            0.250000            0.250000           0.250000   \n",
       "n003bee128c2fcfc            0.750000            0.750000           0.750000   \n",
       "n0048ac83aff7194            0.500000            0.250000           0.500000   \n",
       "n0055a2401ba6480            0.250000            0.500000           0.250000   \n",
       "...                              ...                 ...                ...   \n",
       "nffc2d5e4b79a7ae            0.250000            0.500000           0.000000   \n",
       "nffc9844c1c7a6a9            0.500000            0.500000           0.500000   \n",
       "nffd79773f4109bb            0.500000            0.500000           0.750000   \n",
       "nfff6ab9d6dc0b32            0.250000            0.500000           0.250000   \n",
       "nfff87b21e4db902            0.500000            0.500000           0.500000   \n",
       "\n",
       "                  ...  target_teager2b_60  target_tyler_20  target_tyler_60  \\\n",
       "id                ...                                                         \n",
       "n0007b5abb0c3a25  ...            0.500000         0.250000         0.250000   \n",
       "n003bba8a98662e4  ...            0.500000         0.250000         0.250000   \n",
       "n003bee128c2fcfc  ...            1.000000         1.000000         0.750000   \n",
       "n0048ac83aff7194  ...            0.250000         0.250000         0.250000   \n",
       "n0055a2401ba6480  ...            0.500000         0.250000         0.500000   \n",
       "...               ...                 ...              ...              ...   \n",
       "nffc2d5e4b79a7ae  ...            0.500000         0.250000         0.500000   \n",
       "nffc9844c1c7a6a9  ...            0.750000         0.500000         0.500000   \n",
       "nffd79773f4109bb  ...            0.750000         0.500000         0.500000   \n",
       "nfff6ab9d6dc0b32  ...            0.500000         0.500000         0.250000   \n",
       "nfff87b21e4db902  ...            0.750000         0.750000         0.750000   \n",
       "\n",
       "                  target_victor_20  target_victor_60  target_waldo_20  \\\n",
       "id                                                                      \n",
       "n0007b5abb0c3a25          0.250000          0.250000         0.250000   \n",
       "n003bba8a98662e4          0.250000          0.000000         0.250000   \n",
       "n003bee128c2fcfc          0.750000          0.750000         0.750000   \n",
       "n0048ac83aff7194          0.500000          0.250000         0.250000   \n",
       "n0055a2401ba6480          0.250000          0.500000         0.250000   \n",
       "...                            ...               ...              ...   \n",
       "nffc2d5e4b79a7ae          0.250000          0.500000         0.000000   \n",
       "nffc9844c1c7a6a9          0.500000          0.500000         0.500000   \n",
       "nffd79773f4109bb          0.500000          0.500000         0.500000   \n",
       "nfff6ab9d6dc0b32          0.250000          0.500000         0.500000   \n",
       "nfff87b21e4db902          0.500000          0.750000         0.500000   \n",
       "\n",
       "                  target_waldo_60  target_xerxes_20  target_xerxes_60   target  \n",
       "id                                                                              \n",
       "n0007b5abb0c3a25         0.000000          0.250000          0.000000 0.250000  \n",
       "n003bba8a98662e4         0.250000          0.250000          0.250000 0.250000  \n",
       "n003bee128c2fcfc         1.000000          0.750000          0.750000 0.750000  \n",
       "n0048ac83aff7194         0.250000          0.250000          0.250000 0.250000  \n",
       "n0055a2401ba6480         0.500000          0.250000          0.500000 0.250000  \n",
       "...                           ...               ...               ...      ...  \n",
       "nffc2d5e4b79a7ae         0.500000          0.000000          0.250000 0.000000  \n",
       "nffc9844c1c7a6a9         0.500000          0.500000          0.500000 0.250000  \n",
       "nffd79773f4109bb         0.750000          0.500000          0.500000 0.500000  \n",
       "nfff6ab9d6dc0b32         0.500000          0.250000          0.500000 0.250000  \n",
       "nfff87b21e4db902         0.500000          0.500000          0.500000 0.500000  \n",
       "\n",
       "[688184 rows x 38 columns]"
      ],
      "text/html": [
       "<div>\n",
       "<style scoped>\n",
       "    .dataframe tbody tr th:only-of-type {\n",
       "        vertical-align: middle;\n",
       "    }\n",
       "\n",
       "    .dataframe tbody tr th {\n",
       "        vertical-align: top;\n",
       "    }\n",
       "\n",
       "    .dataframe thead th {\n",
       "        text-align: right;\n",
       "    }\n",
       "</style>\n",
       "<table border=\"1\" class=\"dataframe\">\n",
       "  <thead>\n",
       "    <tr style=\"text-align: right;\">\n",
       "      <th></th>\n",
       "      <th>era</th>\n",
       "      <th>target_agnes_20</th>\n",
       "      <th>target_agnes_60</th>\n",
       "      <th>target_alpha_20</th>\n",
       "      <th>target_alpha_60</th>\n",
       "      <th>target_bravo_20</th>\n",
       "      <th>target_bravo_60</th>\n",
       "      <th>target_caroline_20</th>\n",
       "      <th>target_caroline_60</th>\n",
       "      <th>target_charlie_20</th>\n",
       "      <th>...</th>\n",
       "      <th>target_teager2b_60</th>\n",
       "      <th>target_tyler_20</th>\n",
       "      <th>target_tyler_60</th>\n",
       "      <th>target_victor_20</th>\n",
       "      <th>target_victor_60</th>\n",
       "      <th>target_waldo_20</th>\n",
       "      <th>target_waldo_60</th>\n",
       "      <th>target_xerxes_20</th>\n",
       "      <th>target_xerxes_60</th>\n",
       "      <th>target</th>\n",
       "    </tr>\n",
       "    <tr>\n",
       "      <th>id</th>\n",
       "      <th></th>\n",
       "      <th></th>\n",
       "      <th></th>\n",
       "      <th></th>\n",
       "      <th></th>\n",
       "      <th></th>\n",
       "      <th></th>\n",
       "      <th></th>\n",
       "      <th></th>\n",
       "      <th></th>\n",
       "      <th></th>\n",
       "      <th></th>\n",
       "      <th></th>\n",
       "      <th></th>\n",
       "      <th></th>\n",
       "      <th></th>\n",
       "      <th></th>\n",
       "      <th></th>\n",
       "      <th></th>\n",
       "      <th></th>\n",
       "      <th></th>\n",
       "    </tr>\n",
       "  </thead>\n",
       "  <tbody>\n",
       "    <tr>\n",
       "      <th>n0007b5abb0c3a25</th>\n",
       "      <td>0001</td>\n",
       "      <td>0.250000</td>\n",
       "      <td>0.000000</td>\n",
       "      <td>0.250000</td>\n",
       "      <td>0.250000</td>\n",
       "      <td>0.000000</td>\n",
       "      <td>0.000000</td>\n",
       "      <td>0.250000</td>\n",
       "      <td>0.000000</td>\n",
       "      <td>0.250000</td>\n",
       "      <td>...</td>\n",
       "      <td>0.500000</td>\n",
       "      <td>0.250000</td>\n",
       "      <td>0.250000</td>\n",
       "      <td>0.250000</td>\n",
       "      <td>0.250000</td>\n",
       "      <td>0.250000</td>\n",
       "      <td>0.000000</td>\n",
       "      <td>0.250000</td>\n",
       "      <td>0.000000</td>\n",
       "      <td>0.250000</td>\n",
       "    </tr>\n",
       "    <tr>\n",
       "      <th>n003bba8a98662e4</th>\n",
       "      <td>0001</td>\n",
       "      <td>0.250000</td>\n",
       "      <td>0.250000</td>\n",
       "      <td>0.250000</td>\n",
       "      <td>0.000000</td>\n",
       "      <td>0.250000</td>\n",
       "      <td>0.000000</td>\n",
       "      <td>0.250000</td>\n",
       "      <td>0.250000</td>\n",
       "      <td>0.250000</td>\n",
       "      <td>...</td>\n",
       "      <td>0.500000</td>\n",
       "      <td>0.250000</td>\n",
       "      <td>0.250000</td>\n",
       "      <td>0.250000</td>\n",
       "      <td>0.000000</td>\n",
       "      <td>0.250000</td>\n",
       "      <td>0.250000</td>\n",
       "      <td>0.250000</td>\n",
       "      <td>0.250000</td>\n",
       "      <td>0.250000</td>\n",
       "    </tr>\n",
       "    <tr>\n",
       "      <th>n003bee128c2fcfc</th>\n",
       "      <td>0001</td>\n",
       "      <td>1.000000</td>\n",
       "      <td>1.000000</td>\n",
       "      <td>1.000000</td>\n",
       "      <td>1.000000</td>\n",
       "      <td>0.750000</td>\n",
       "      <td>1.000000</td>\n",
       "      <td>0.750000</td>\n",
       "      <td>0.750000</td>\n",
       "      <td>0.750000</td>\n",
       "      <td>...</td>\n",
       "      <td>1.000000</td>\n",
       "      <td>1.000000</td>\n",
       "      <td>0.750000</td>\n",
       "      <td>0.750000</td>\n",
       "      <td>0.750000</td>\n",
       "      <td>0.750000</td>\n",
       "      <td>1.000000</td>\n",
       "      <td>0.750000</td>\n",
       "      <td>0.750000</td>\n",
       "      <td>0.750000</td>\n",
       "    </tr>\n",
       "    <tr>\n",
       "      <th>n0048ac83aff7194</th>\n",
       "      <td>0001</td>\n",
       "      <td>0.250000</td>\n",
       "      <td>0.250000</td>\n",
       "      <td>0.250000</td>\n",
       "      <td>0.250000</td>\n",
       "      <td>0.500000</td>\n",
       "      <td>0.250000</td>\n",
       "      <td>0.500000</td>\n",
       "      <td>0.250000</td>\n",
       "      <td>0.500000</td>\n",
       "      <td>...</td>\n",
       "      <td>0.250000</td>\n",
       "      <td>0.250000</td>\n",
       "      <td>0.250000</td>\n",
       "      <td>0.500000</td>\n",
       "      <td>0.250000</td>\n",
       "      <td>0.250000</td>\n",
       "      <td>0.250000</td>\n",
       "      <td>0.250000</td>\n",
       "      <td>0.250000</td>\n",
       "      <td>0.250000</td>\n",
       "    </tr>\n",
       "    <tr>\n",
       "      <th>n0055a2401ba6480</th>\n",
       "      <td>0001</td>\n",
       "      <td>0.250000</td>\n",
       "      <td>0.500000</td>\n",
       "      <td>0.250000</td>\n",
       "      <td>0.500000</td>\n",
       "      <td>0.250000</td>\n",
       "      <td>0.500000</td>\n",
       "      <td>0.250000</td>\n",
       "      <td>0.500000</td>\n",
       "      <td>0.250000</td>\n",
       "      <td>...</td>\n",
       "      <td>0.500000</td>\n",
       "      <td>0.250000</td>\n",
       "      <td>0.500000</td>\n",
       "      <td>0.250000</td>\n",
       "      <td>0.500000</td>\n",
       "      <td>0.250000</td>\n",
       "      <td>0.500000</td>\n",
       "      <td>0.250000</td>\n",
       "      <td>0.500000</td>\n",
       "      <td>0.250000</td>\n",
       "    </tr>\n",
       "    <tr>\n",
       "      <th>...</th>\n",
       "      <td>...</td>\n",
       "      <td>...</td>\n",
       "      <td>...</td>\n",
       "      <td>...</td>\n",
       "      <td>...</td>\n",
       "      <td>...</td>\n",
       "      <td>...</td>\n",
       "      <td>...</td>\n",
       "      <td>...</td>\n",
       "      <td>...</td>\n",
       "      <td>...</td>\n",
       "      <td>...</td>\n",
       "      <td>...</td>\n",
       "      <td>...</td>\n",
       "      <td>...</td>\n",
       "      <td>...</td>\n",
       "      <td>...</td>\n",
       "      <td>...</td>\n",
       "      <td>...</td>\n",
       "      <td>...</td>\n",
       "      <td>...</td>\n",
       "    </tr>\n",
       "    <tr>\n",
       "      <th>nffc2d5e4b79a7ae</th>\n",
       "      <td>0573</td>\n",
       "      <td>0.000000</td>\n",
       "      <td>0.250000</td>\n",
       "      <td>0.000000</td>\n",
       "      <td>0.250000</td>\n",
       "      <td>0.000000</td>\n",
       "      <td>0.250000</td>\n",
       "      <td>0.250000</td>\n",
       "      <td>0.500000</td>\n",
       "      <td>0.000000</td>\n",
       "      <td>...</td>\n",
       "      <td>0.500000</td>\n",
       "      <td>0.250000</td>\n",
       "      <td>0.500000</td>\n",
       "      <td>0.250000</td>\n",
       "      <td>0.500000</td>\n",
       "      <td>0.000000</td>\n",
       "      <td>0.500000</td>\n",
       "      <td>0.000000</td>\n",
       "      <td>0.250000</td>\n",
       "      <td>0.000000</td>\n",
       "    </tr>\n",
       "    <tr>\n",
       "      <th>nffc9844c1c7a6a9</th>\n",
       "      <td>0573</td>\n",
       "      <td>0.500000</td>\n",
       "      <td>0.500000</td>\n",
       "      <td>0.250000</td>\n",
       "      <td>0.500000</td>\n",
       "      <td>0.500000</td>\n",
       "      <td>0.500000</td>\n",
       "      <td>0.500000</td>\n",
       "      <td>0.500000</td>\n",
       "      <td>0.500000</td>\n",
       "      <td>...</td>\n",
       "      <td>0.750000</td>\n",
       "      <td>0.500000</td>\n",
       "      <td>0.500000</td>\n",
       "      <td>0.500000</td>\n",
       "      <td>0.500000</td>\n",
       "      <td>0.500000</td>\n",
       "      <td>0.500000</td>\n",
       "      <td>0.500000</td>\n",
       "      <td>0.500000</td>\n",
       "      <td>0.250000</td>\n",
       "    </tr>\n",
       "    <tr>\n",
       "      <th>nffd79773f4109bb</th>\n",
       "      <td>0573</td>\n",
       "      <td>0.500000</td>\n",
       "      <td>0.500000</td>\n",
       "      <td>0.750000</td>\n",
       "      <td>0.500000</td>\n",
       "      <td>0.750000</td>\n",
       "      <td>0.500000</td>\n",
       "      <td>0.500000</td>\n",
       "      <td>0.500000</td>\n",
       "      <td>0.750000</td>\n",
       "      <td>...</td>\n",
       "      <td>0.750000</td>\n",
       "      <td>0.500000</td>\n",
       "      <td>0.500000</td>\n",
       "      <td>0.500000</td>\n",
       "      <td>0.500000</td>\n",
       "      <td>0.500000</td>\n",
       "      <td>0.750000</td>\n",
       "      <td>0.500000</td>\n",
       "      <td>0.500000</td>\n",
       "      <td>0.500000</td>\n",
       "    </tr>\n",
       "    <tr>\n",
       "      <th>nfff6ab9d6dc0b32</th>\n",
       "      <td>0573</td>\n",
       "      <td>0.500000</td>\n",
       "      <td>0.500000</td>\n",
       "      <td>0.250000</td>\n",
       "      <td>0.500000</td>\n",
       "      <td>0.500000</td>\n",
       "      <td>0.500000</td>\n",
       "      <td>0.250000</td>\n",
       "      <td>0.500000</td>\n",
       "      <td>0.250000</td>\n",
       "      <td>...</td>\n",
       "      <td>0.500000</td>\n",
       "      <td>0.500000</td>\n",
       "      <td>0.250000</td>\n",
       "      <td>0.250000</td>\n",
       "      <td>0.500000</td>\n",
       "      <td>0.500000</td>\n",
       "      <td>0.500000</td>\n",
       "      <td>0.250000</td>\n",
       "      <td>0.500000</td>\n",
       "      <td>0.250000</td>\n",
       "    </tr>\n",
       "    <tr>\n",
       "      <th>nfff87b21e4db902</th>\n",
       "      <td>0573</td>\n",
       "      <td>0.750000</td>\n",
       "      <td>0.750000</td>\n",
       "      <td>0.500000</td>\n",
       "      <td>0.750000</td>\n",
       "      <td>0.500000</td>\n",
       "      <td>0.750000</td>\n",
       "      <td>0.500000</td>\n",
       "      <td>0.500000</td>\n",
       "      <td>0.500000</td>\n",
       "      <td>...</td>\n",
       "      <td>0.750000</td>\n",
       "      <td>0.750000</td>\n",
       "      <td>0.750000</td>\n",
       "      <td>0.500000</td>\n",
       "      <td>0.750000</td>\n",
       "      <td>0.500000</td>\n",
       "      <td>0.500000</td>\n",
       "      <td>0.500000</td>\n",
       "      <td>0.500000</td>\n",
       "      <td>0.500000</td>\n",
       "    </tr>\n",
       "  </tbody>\n",
       "</table>\n",
       "<p>688184 rows × 38 columns</p>\n",
       "</div>"
      ]
     },
     "execution_count": 30,
     "metadata": {},
     "output_type": "execute_result"
    }
   ],
   "execution_count": 30
  },
  {
   "cell_type": "markdown",
   "metadata": {
    "id": "4YzbRO5uxnNa"
   },
   "source": [
    "### The main target"
   ]
  },
  {
   "cell_type": "markdown",
   "metadata": {
    "id": "R1o6PJcbxnNa"
   },
   "source": [
    "First thing to note is that `target` is just an alias for the `cyrus` target, so we can drop this column for the rest of the notebook."
   ]
  },
  {
   "cell_type": "code",
   "metadata": {
    "id": "pP6LnWcExnNa",
    "ExecuteTime": {
     "end_time": "2025-10-30T20:49:28.237725Z",
     "start_time": "2025-10-30T20:49:28.004101Z"
    }
   },
   "source": [
    "# Drop `target` column\n",
    "assert train[\"target\"].equals(train[MAIN_TARGET])\n",
    "targets_df = train[[\"era\"] + target_cols]"
   ],
   "outputs": [],
   "execution_count": 31
  },
  {
   "cell_type": "markdown",
   "metadata": {
    "id": "d46TQDtrxnNb"
   },
   "source": [
    "### Target names\n",
    "\n",
    "At a high level, each target represents a different kind of stock market return\n",
    "- the `name` represents the type of stock market return (eg. residual to market/country/sector vs market/country/style)\n",
    "- the `_20` or `_60` suffix denotes the time horizon of the target (ie. 20 vs 60 market days)\n",
    "\n",
    "The reason why `cyrus` as our main target is because it most closely matches the type of returns we want for our hedge fund. Just like how we are always in search for better features to include in the dataset, we are also always in search for better targets to make our main target. During our research, we often come up with targets we like but not as much as the main target, and these are instead released as auxilliary targets."
   ]
  },
  {
   "cell_type": "code",
   "metadata": {
    "colab": {
     "base_uri": "https://localhost:8080/",
     "height": 645
    },
    "id": "P7uAdarxxnNb",
    "outputId": "ece63dd6-310d-4b40-c863-c22be9170fad",
    "ExecuteTime": {
     "end_time": "2025-10-30T20:49:28.583920Z",
     "start_time": "2025-10-30T20:49:28.536635Z"
    }
   },
   "source": [
    "# Print target names grouped by name and time horizon\n",
    "pd.set_option('display.max_rows', 100)\n",
    "t20s = [t for t in target_cols if t.endswith(\"_20\")]\n",
    "t60s = [t for t in target_cols if t.endswith(\"_60\")]\n",
    "names = [t.replace(\"target_\", \"\").replace(\"_20\", \"\") for t in t20s]\n",
    "pd.DataFrame({\"name\": names,\"20\": t20s,\"60\": t60s}).set_index(\"name\")"
   ],
   "outputs": [
    {
     "data": {
      "text/plain": [
       "                          20                  60\n",
       "name                                            \n",
       "agnes        target_agnes_20     target_agnes_60\n",
       "alpha        target_alpha_20     target_alpha_60\n",
       "bravo        target_bravo_20     target_bravo_60\n",
       "caroline  target_caroline_20  target_caroline_60\n",
       "charlie    target_charlie_20   target_charlie_60\n",
       "claudia    target_claudia_20   target_claudia_60\n",
       "cyrusd      target_cyrusd_20    target_cyrusd_60\n",
       "delta        target_delta_20     target_delta_60\n",
       "echo          target_echo_20      target_echo_60\n",
       "jeremy      target_jeremy_20    target_jeremy_60\n",
       "ralph        target_ralph_20     target_ralph_60\n",
       "rowan        target_rowan_20     target_rowan_60\n",
       "sam            target_sam_20       target_sam_60\n",
       "teager2b  target_teager2b_20  target_teager2b_60\n",
       "tyler        target_tyler_20     target_tyler_60\n",
       "victor      target_victor_20    target_victor_60\n",
       "waldo        target_waldo_20     target_waldo_60\n",
       "xerxes      target_xerxes_20    target_xerxes_60"
      ],
      "text/html": [
       "<div>\n",
       "<style scoped>\n",
       "    .dataframe tbody tr th:only-of-type {\n",
       "        vertical-align: middle;\n",
       "    }\n",
       "\n",
       "    .dataframe tbody tr th {\n",
       "        vertical-align: top;\n",
       "    }\n",
       "\n",
       "    .dataframe thead th {\n",
       "        text-align: right;\n",
       "    }\n",
       "</style>\n",
       "<table border=\"1\" class=\"dataframe\">\n",
       "  <thead>\n",
       "    <tr style=\"text-align: right;\">\n",
       "      <th></th>\n",
       "      <th>20</th>\n",
       "      <th>60</th>\n",
       "    </tr>\n",
       "    <tr>\n",
       "      <th>name</th>\n",
       "      <th></th>\n",
       "      <th></th>\n",
       "    </tr>\n",
       "  </thead>\n",
       "  <tbody>\n",
       "    <tr>\n",
       "      <th>agnes</th>\n",
       "      <td>target_agnes_20</td>\n",
       "      <td>target_agnes_60</td>\n",
       "    </tr>\n",
       "    <tr>\n",
       "      <th>alpha</th>\n",
       "      <td>target_alpha_20</td>\n",
       "      <td>target_alpha_60</td>\n",
       "    </tr>\n",
       "    <tr>\n",
       "      <th>bravo</th>\n",
       "      <td>target_bravo_20</td>\n",
       "      <td>target_bravo_60</td>\n",
       "    </tr>\n",
       "    <tr>\n",
       "      <th>caroline</th>\n",
       "      <td>target_caroline_20</td>\n",
       "      <td>target_caroline_60</td>\n",
       "    </tr>\n",
       "    <tr>\n",
       "      <th>charlie</th>\n",
       "      <td>target_charlie_20</td>\n",
       "      <td>target_charlie_60</td>\n",
       "    </tr>\n",
       "    <tr>\n",
       "      <th>claudia</th>\n",
       "      <td>target_claudia_20</td>\n",
       "      <td>target_claudia_60</td>\n",
       "    </tr>\n",
       "    <tr>\n",
       "      <th>cyrusd</th>\n",
       "      <td>target_cyrusd_20</td>\n",
       "      <td>target_cyrusd_60</td>\n",
       "    </tr>\n",
       "    <tr>\n",
       "      <th>delta</th>\n",
       "      <td>target_delta_20</td>\n",
       "      <td>target_delta_60</td>\n",
       "    </tr>\n",
       "    <tr>\n",
       "      <th>echo</th>\n",
       "      <td>target_echo_20</td>\n",
       "      <td>target_echo_60</td>\n",
       "    </tr>\n",
       "    <tr>\n",
       "      <th>jeremy</th>\n",
       "      <td>target_jeremy_20</td>\n",
       "      <td>target_jeremy_60</td>\n",
       "    </tr>\n",
       "    <tr>\n",
       "      <th>ralph</th>\n",
       "      <td>target_ralph_20</td>\n",
       "      <td>target_ralph_60</td>\n",
       "    </tr>\n",
       "    <tr>\n",
       "      <th>rowan</th>\n",
       "      <td>target_rowan_20</td>\n",
       "      <td>target_rowan_60</td>\n",
       "    </tr>\n",
       "    <tr>\n",
       "      <th>sam</th>\n",
       "      <td>target_sam_20</td>\n",
       "      <td>target_sam_60</td>\n",
       "    </tr>\n",
       "    <tr>\n",
       "      <th>teager2b</th>\n",
       "      <td>target_teager2b_20</td>\n",
       "      <td>target_teager2b_60</td>\n",
       "    </tr>\n",
       "    <tr>\n",
       "      <th>tyler</th>\n",
       "      <td>target_tyler_20</td>\n",
       "      <td>target_tyler_60</td>\n",
       "    </tr>\n",
       "    <tr>\n",
       "      <th>victor</th>\n",
       "      <td>target_victor_20</td>\n",
       "      <td>target_victor_60</td>\n",
       "    </tr>\n",
       "    <tr>\n",
       "      <th>waldo</th>\n",
       "      <td>target_waldo_20</td>\n",
       "      <td>target_waldo_60</td>\n",
       "    </tr>\n",
       "    <tr>\n",
       "      <th>xerxes</th>\n",
       "      <td>target_xerxes_20</td>\n",
       "      <td>target_xerxes_60</td>\n",
       "    </tr>\n",
       "  </tbody>\n",
       "</table>\n",
       "</div>"
      ]
     },
     "execution_count": 32,
     "metadata": {},
     "output_type": "execute_result"
    }
   ],
   "execution_count": 32
  },
  {
   "cell_type": "markdown",
   "metadata": {
    "id": "PDkTNQMrxnNb"
   },
   "source": [
    "### Target values\n",
    "\n",
    "Note that some targets are binned into 5 bins while others are binned into 7 bins.\n",
    "\n",
    "Unlike feature values which are integers ranging from 0-4, target values are floats which range from 0-1."
   ]
  },
  {
   "cell_type": "code",
   "metadata": {
    "colab": {
     "base_uri": "https://localhost:8080/",
     "height": 444
    },
    "id": "Uw_4oswnxnNb",
    "outputId": "a208b358-fc87-4423-bf2a-9e8d67007274",
    "ExecuteTime": {
     "end_time": "2025-10-30T20:49:29.346766Z",
     "start_time": "2025-10-30T20:49:28.635728Z"
    }
   },
   "source": [
    "# Plot target distributions\n",
    "targets_df[TARGET_CANDIDATES].plot(\n",
    "  title=\"Target Distributions\",\n",
    "  kind=\"hist\",\n",
    "  bins=35,\n",
    "  density=True,\n",
    "  figsize=(8, 4),\n",
    "  subplots=True,\n",
    "  layout=(2, 2),\n",
    "  ylabel=\"\",\n",
    "  yticks=[]\n",
    ")"
   ],
   "outputs": [
    {
     "data": {
      "text/plain": [
       "array([[<Axes: >, <Axes: >],\n",
       "       [<Axes: >, <Axes: >]], dtype=object)"
      ]
     },
     "execution_count": 33,
     "metadata": {},
     "output_type": "execute_result"
    },
    {
     "data": {
      "text/plain": [
       "<Figure size 800x400 with 4 Axes>"
      ],
      "image/png": "[encoded data removed]"
     },
     "metadata": {},
     "output_type": "display_data"
    }
   ],
   "execution_count": 33
  },
  {
   "cell_type": "markdown",
   "metadata": {
    "id": "2DM-mHG_xnNc"
   },
   "source": [
    "It is also important to note that the auxilary targets can be `NaN`, but the primary target will never be `NaN`. Since we are using tree-based models here we won't need to do any special pre-processing."
   ]
  },
  {
   "cell_type": "code",
   "metadata": {
    "colab": {
     "base_uri": "https://localhost:8080/",
     "height": 484
    },
    "id": "FT3YCXrYxnNc",
    "outputId": "1dbaa0ec-86b7-43ed-dde8-6be3c37c02e6",
    "ExecuteTime": {
     "end_time": "2025-10-30T20:49:31.112709Z",
     "start_time": "2025-10-30T20:49:29.463174Z"
    }
   },
   "source": [
    "# print number of NaNs per era\n",
    "nans_per_era = targets_df.groupby(\"era\").apply(lambda x: x.isna().sum())\n",
    "nans_per_era[target_cols].plot(figsize=(8, 4), title=\"Number of NaNs per Era\", legend=False)"
   ],
   "outputs": [
    {
     "name": "stderr",
     "output_type": "stream",
     "text": [
      "/var/folders/9t/l_bbq0y57ns1020jcy_lxsfm0000gn/T/ipykernel_80671/1621777384.py:2: FutureWarning: DataFrameGroupBy.apply operated on the grouping columns. This behavior is deprecated, and in a future version of pandas the grouping columns will be excluded from the operation. Either pass `include_groups=False` to exclude the groupings or explicitly select the grouping columns after groupby to silence this warning.\n",
      "  nans_per_era = targets_df.groupby(\"era\").apply(lambda x: x.isna().sum())\n"
     ]
    },
    {
     "data": {
      "text/plain": [
       "<Axes: title={'center': 'Number of NaNs per Era'}, xlabel='era'>"
      ]
     },
     "execution_count": 34,
     "metadata": {},
     "output_type": "execute_result"
    },
    {
     "data": {
      "text/plain": [
       "<Figure size 800x400 with 1 Axes>"
      ],
      "image/png": "[encoded data removed]"
     },
     "metadata": {},
     "output_type": "display_data"
    }
   ],
   "execution_count": 34
  },
  {
   "cell_type": "markdown",
   "metadata": {
    "id": "KdPdFvXFxnNc"
   },
   "source": [
    "### Target correlations\n",
    "\n",
    "The targets have a wide range of correlations with each other even though they are all fundamentally related, which should allow the construction of diverse models that ensemble together nicely."
   ]
  },
  {
   "cell_type": "code",
   "metadata": {
    "colab": {
     "base_uri": "https://localhost:8080/",
     "height": 430
    },
    "id": "jAvpw-XvxnNc",
    "outputId": "1c0e3f11-e25a-4df6-a0aa-7c040ddfbd33",
    "ExecuteTime": {
     "end_time": "2025-10-30T20:49:33.099452Z",
     "start_time": "2025-10-30T20:49:31.260031Z"
    }
   },
   "source": [
    "# Plot correlation matrix of targets\n",
    "import seaborn as sns\n",
    "sns.heatmap(\n",
    "  targets_df[target_cols].corr(),\n",
    "  cmap=\"coolwarm\",\n",
    "  xticklabels=False,\n",
    "  yticklabels=False\n",
    ")"
   ],
   "outputs": [
    {
     "data": {
      "text/plain": [
       "<Axes: >"
      ]
     },
     "execution_count": 35,
     "metadata": {},
     "output_type": "execute_result"
    },
    {
     "data": {
      "text/plain": [
       "<Figure size 640x480 with 2 Axes>"
      ],
      "image/png": "[encoded data removed]"
     },
     "metadata": {},
     "output_type": "display_data"
    }
   ],
   "execution_count": 35
  },
  {
   "cell_type": "markdown",
   "metadata": {
    "id": "n4DcPlrixnNd"
   },
   "source": [
    "Since we are ultimately trying to predict the main target, it is perhaps most important to consider each auxilliary target's correlation to it."
   ]
  },
  {
   "cell_type": "code",
   "metadata": {
    "colab": {
     "base_uri": "https://localhost:8080/",
     "height": 1000
    },
    "id": "sFN8_azMxnNd",
    "outputId": "4516093b-af13-4ea8-e8c6-efb301a842b6",
    "ExecuteTime": {
     "end_time": "2025-10-30T20:49:33.818463Z",
     "start_time": "2025-10-30T20:49:33.142162Z"
    }
   },
   "source": [
    "(\n",
    "    targets_df[target_cols]\n",
    "    .corrwith(targets_df[MAIN_TARGET])\n",
    "    .sort_values(ascending=False)\n",
    "    .to_frame(\"corr_with_cyrus_v4_20\")\n",
    ")"
   ],
   "outputs": [
    {
     "data": {
      "text/plain": [
       "                    corr_with_cyrus_v4_20\n",
       "target                           1.000000\n",
       "target_cyrusd_20                 1.000000\n",
       "target_xerxes_20                 0.942907\n",
       "target_caroline_20               0.922111\n",
       "target_sam_20                    0.911981\n",
       "target_ralph_20                  0.894999\n",
       "target_echo_20                   0.851763\n",
       "target_victor_20                 0.838408\n",
       "target_waldo_20                  0.833260\n",
       "target_delta_20                  0.806752\n",
       "target_bravo_20                  0.801685\n",
       "target_jeremy_20                 0.790352\n",
       "target_charlie_20                0.767458\n",
       "target_alpha_20                  0.765305\n",
       "target_claudia_20                0.745132\n",
       "target_teager2b_20               0.717080\n",
       "target_agnes_20                  0.710171\n",
       "target_tyler_20                  0.707080\n",
       "target_rowan_20                  0.704642\n",
       "target_cyrusd_60                 0.489257\n",
       "target_xerxes_60                 0.485867\n",
       "target_caroline_60               0.482128\n",
       "target_sam_60                    0.479950\n",
       "target_ralph_60                  0.477175\n",
       "target_echo_60                   0.461583\n",
       "target_victor_60                 0.459265\n",
       "target_waldo_60                  0.455948\n",
       "target_delta_60                  0.441798\n",
       "target_bravo_60                  0.441597\n",
       "target_jeremy_60                 0.437988\n",
       "target_charlie_60                0.424056\n",
       "target_alpha_60                  0.423646\n",
       "target_claudia_60                0.410047\n",
       "target_teager2b_60               0.398701\n",
       "target_agnes_60                  0.396759\n",
       "target_tyler_60                  0.396696\n",
       "target_rowan_60                  0.391740"
      ],
      "text/html": [
       "<div>\n",
       "<style scoped>\n",
       "    .dataframe tbody tr th:only-of-type {\n",
       "        vertical-align: middle;\n",
       "    }\n",
       "\n",
       "    .dataframe tbody tr th {\n",
       "        vertical-align: top;\n",
       "    }\n",
       "\n",
       "    .dataframe thead th {\n",
       "        text-align: right;\n",
       "    }\n",
       "</style>\n",
       "<table border=\"1\" class=\"dataframe\">\n",
       "  <thead>\n",
       "    <tr style=\"text-align: right;\">\n",
       "      <th></th>\n",
       "      <th>corr_with_cyrus_v4_20</th>\n",
       "    </tr>\n",
       "  </thead>\n",
       "  <tbody>\n",
       "    <tr>\n",
       "      <th>target</th>\n",
       "      <td>1.000000</td>\n",
       "    </tr>\n",
       "    <tr>\n",
       "      <th>target_cyrusd_20</th>\n",
       "      <td>1.000000</td>\n",
       "    </tr>\n",
       "    <tr>\n",
       "      <th>target_xerxes_20</th>\n",
       "      <td>0.942907</td>\n",
       "    </tr>\n",
       "    <tr>\n",
       "      <th>target_caroline_20</th>\n",
       "      <td>0.922111</td>\n",
       "    </tr>\n",
       "    <tr>\n",
       "      <th>target_sam_20</th>\n",
       "      <td>0.911981</td>\n",
       "    </tr>\n",
       "    <tr>\n",
       "      <th>target_ralph_20</th>\n",
       "      <td>0.894999</td>\n",
       "    </tr>\n",
       "    <tr>\n",
       "      <th>target_echo_20</th>\n",
       "      <td>0.851763</td>\n",
       "    </tr>\n",
       "    <tr>\n",
       "      <th>target_victor_20</th>\n",
       "      <td>0.838408</td>\n",
       "    </tr>\n",
       "    <tr>\n",
       "      <th>target_waldo_20</th>\n",
       "      <td>0.833260</td>\n",
       "    </tr>\n",
       "    <tr>\n",
       "      <th>target_delta_20</th>\n",
       "      <td>0.806752</td>\n",
       "    </tr>\n",
       "    <tr>\n",
       "      <th>target_bravo_20</th>\n",
       "      <td>0.801685</td>\n",
       "    </tr>\n",
       "    <tr>\n",
       "      <th>target_jeremy_20</th>\n",
       "      <td>0.790352</td>\n",
       "    </tr>\n",
       "    <tr>\n",
       "      <th>target_charlie_20</th>\n",
       "      <td>0.767458</td>\n",
       "    </tr>\n",
       "    <tr>\n",
       "      <th>target_alpha_20</th>\n",
       "      <td>0.765305</td>\n",
       "    </tr>\n",
       "    <tr>\n",
       "      <th>target_claudia_20</th>\n",
       "      <td>0.745132</td>\n",
       "    </tr>\n",
       "    <tr>\n",
       "      <th>target_teager2b_20</th>\n",
       "      <td>0.717080</td>\n",
       "    </tr>\n",
       "    <tr>\n",
       "      <th>target_agnes_20</th>\n",
       "      <td>0.710171</td>\n",
       "    </tr>\n",
       "    <tr>\n",
       "      <th>target_tyler_20</th>\n",
       "      <td>0.707080</td>\n",
       "    </tr>\n",
       "    <tr>\n",
       "      <th>target_rowan_20</th>\n",
       "      <td>0.704642</td>\n",
       "    </tr>\n",
       "    <tr>\n",
       "      <th>target_cyrusd_60</th>\n",
       "      <td>0.489257</td>\n",
       "    </tr>\n",
       "    <tr>\n",
       "      <th>target_xerxes_60</th>\n",
       "      <td>0.485867</td>\n",
       "    </tr>\n",
       "    <tr>\n",
       "      <th>target_caroline_60</th>\n",
       "      <td>0.482128</td>\n",
       "    </tr>\n",
       "    <tr>\n",
       "      <th>target_sam_60</th>\n",
       "      <td>0.479950</td>\n",
       "    </tr>\n",
       "    <tr>\n",
       "      <th>target_ralph_60</th>\n",
       "      <td>0.477175</td>\n",
       "    </tr>\n",
       "    <tr>\n",
       "      <th>target_echo_60</th>\n",
       "      <td>0.461583</td>\n",
       "    </tr>\n",
       "    <tr>\n",
       "      <th>target_victor_60</th>\n",
       "      <td>0.459265</td>\n",
       "    </tr>\n",
       "    <tr>\n",
       "      <th>target_waldo_60</th>\n",
       "      <td>0.455948</td>\n",
       "    </tr>\n",
       "    <tr>\n",
       "      <th>target_delta_60</th>\n",
       "      <td>0.441798</td>\n",
       "    </tr>\n",
       "    <tr>\n",
       "      <th>target_bravo_60</th>\n",
       "      <td>0.441597</td>\n",
       "    </tr>\n",
       "    <tr>\n",
       "      <th>target_jeremy_60</th>\n",
       "      <td>0.437988</td>\n",
       "    </tr>\n",
       "    <tr>\n",
       "      <th>target_charlie_60</th>\n",
       "      <td>0.424056</td>\n",
       "    </tr>\n",
       "    <tr>\n",
       "      <th>target_alpha_60</th>\n",
       "      <td>0.423646</td>\n",
       "    </tr>\n",
       "    <tr>\n",
       "      <th>target_claudia_60</th>\n",
       "      <td>0.410047</td>\n",
       "    </tr>\n",
       "    <tr>\n",
       "      <th>target_teager2b_60</th>\n",
       "      <td>0.398701</td>\n",
       "    </tr>\n",
       "    <tr>\n",
       "      <th>target_agnes_60</th>\n",
       "      <td>0.396759</td>\n",
       "    </tr>\n",
       "    <tr>\n",
       "      <th>target_tyler_60</th>\n",
       "      <td>0.396696</td>\n",
       "    </tr>\n",
       "    <tr>\n",
       "      <th>target_rowan_60</th>\n",
       "      <td>0.391740</td>\n",
       "    </tr>\n",
       "  </tbody>\n",
       "</table>\n",
       "</div>"
      ]
     },
     "execution_count": 36,
     "metadata": {},
     "output_type": "execute_result"
    }
   ],
   "execution_count": 36
  },
  {
   "cell_type": "markdown",
   "metadata": {
    "id": "jl7_XIKfxnNd"
   },
   "source": [
    "## 2. Target Selection\n",
    "\n",
    "Our goal is to create an ensemble of models trained on different targets. But which targets should we use?\n",
    "\n",
    "When deciding which model to ensemble, we should consider a few things:\n",
    "\n",
    "- The performance of the predictions of the model trained on the target vs the main target\n",
    "\n",
    "- The correlation between the target and the main target\n",
    "\n",
    "To keep things simple and fast, let's just arbitrarily pick a few 20-day targets to evaluate."
   ]
  },
  {
   "cell_type": "markdown",
   "metadata": {
    "id": "4YDRiSoPxnNd"
   },
   "source": [
    "### Model training and generating validation predictions\n",
    "\n",
    "Like usual we train on the training dataset, but this time we do it for each target.\n",
    "\n",
    "Sit back and relax, this will take a while\n",
    "# ☕"
   ]
  },
  {
   "cell_type": "code",
   "metadata": {
    "colab": {
     "base_uri": "https://localhost:8080/"
    },
    "id": "VqBaYwmqxnNd",
    "outputId": "6716cbd7-827c-4593-b65d-25d120de0af5",
    "ExecuteTime": {
     "end_time": "2025-10-30T21:04:16.456576Z",
     "start_time": "2025-10-30T20:49:33.878460Z"
    }
   },
   "source": [
    "import lightgbm as lgb\n",
    "\n",
    "models = {}\n",
    "for target in TARGET_CANDIDATES:\n",
    "    model = lgb.LGBMRegressor(\n",
    "        n_estimators=2000,\n",
    "        learning_rate=0.01,\n",
    "        max_depth=5,\n",
    "        num_leaves=2**4-1,\n",
    "        colsample_bytree=0.1\n",
    "    )\n",
    "    # We've found the following \"deep\" parameters perform much better, but they require much more CPU and RAM\n",
    "    # model = lgb.LGBMRegressor(\n",
    "    #     n_estimators=30_000,\n",
    "    #     learning_rate=0.001,\n",
    "    #     max_depth=10,\n",
    "    #     num_leaves=2**10,\n",
    "    #     colsample_bytree=0.1\n",
    "    #     min_data_in_leaf=10000,\n",
    "    # )\n",
    "    model.fit(\n",
    "        train[feature_cols],\n",
    "        train[target]\n",
    "    )\n",
    "    models[target] = model"
   ],
   "outputs": [
    {
     "name": "stdout",
     "output_type": "stream",
     "text": [
      "[LightGBM] [Info] Auto-choosing col-wise multi-threading, the overhead of testing was 0.414451 seconds.\n",
      "You can set `force_col_wise=true` to remove the overhead.\n",
      "[LightGBM] [Info] Total Bins 210\n",
      "[LightGBM] [Info] Number of data points in the train set: 688184, number of used features: 42\n",
      "[LightGBM] [Info] Start training from score 0.500008\n",
      "[LightGBM] [Info] Auto-choosing col-wise multi-threading, the overhead of testing was 0.035056 seconds.\n",
      "You can set `force_col_wise=true` to remove the overhead.\n",
      "[LightGBM] [Info] Total Bins 210\n",
      "[LightGBM] [Info] Number of data points in the train set: 688184, number of used features: 42\n",
      "[LightGBM] [Info] Start training from score 0.500003\n",
      "[LightGBM] [Info] Auto-choosing row-wise multi-threading, the overhead of testing was 0.001499 seconds.\n",
      "You can set `force_row_wise=true` to remove the overhead.\n",
      "And if memory is not enough, you can set `force_col_wise=true`.\n",
      "[LightGBM] [Info] Total Bins 210\n",
      "[LightGBM] [Info] Number of data points in the train set: 688184, number of used features: 42\n",
      "[LightGBM] [Info] Start training from score 0.500031\n",
      "[LightGBM] [Info] Auto-choosing row-wise multi-threading, the overhead of testing was 0.001457 seconds.\n",
      "You can set `force_row_wise=true` to remove the overhead.\n",
      "And if memory is not enough, you can set `force_col_wise=true`.\n",
      "[LightGBM] [Info] Total Bins 210\n",
      "[LightGBM] [Info] Number of data points in the train set: 688184, number of used features: 42\n",
      "[LightGBM] [Info] Start training from score 0.499948\n"
     ]
    }
   ],
   "execution_count": 37
  },
  {
   "cell_type": "markdown",
   "metadata": {
    "id": "9jD6j1JBxnNe"
   },
   "source": [
    "Then we will generate predictions on the validation dataset."
   ]
  },
  {
   "cell_type": "code",
   "metadata": {
    "colab": {
     "base_uri": "https://localhost:8080/",
     "height": 473
    },
    "id": "Ic9eGKxSxnNe",
    "outputId": "e3522459-1f43-4d45-d20c-a6edfcf6f28a",
    "ExecuteTime": {
     "end_time": "2025-10-30T21:04:16.529577Z",
     "start_time": "2025-10-30T21:04:16.457409Z"
    }
   },
   "source": [
    "# Download validation data\n",
    "napi.download_dataset(f\"{DATA_VERSION}/validation.parquet\")\n",
    "\n",
    "# Load the validation data, filtering for data_type == \"validation\"\n",
    "validation = pd.read_parquet(\n",
    "    f\"{DATA_VERSION}/validation.parquet\",\n",
    "    columns=[\"era\", \"data_type\"] + feature_cols + target_cols\n",
    ")\n",
    "validation = validation[validation[\"data_type\"] == \"validation\"]\n",
    "del validation[\"data_type\"]\n",
    "\n",
    "# Downsample every 4th era to reduce memory usage and speedup validation (suggested for Colab free tier)\n",
    "# Comment out the line below to use all the data\n",
    "validation = validation[validation[\"era\"].isin(validation[\"era\"].unique()[::4])]\n",
    "\n",
    "# Embargo overlapping eras from training data\n",
    "last_train_era = int(train[\"era\"].unique()[-1])\n",
    "eras_to_embargo = [str(era).zfill(4) for era in [last_train_era + i for i in range(4)]]\n",
    "validation = validation[~validation[\"era\"].isin(eras_to_embargo)]\n",
    "\n",
    "# Generate validation predictions for each model\n",
    "for target in TARGET_CANDIDATES:\n",
    "    validation[f\"prediction_{target}\"] = models[target].predict(validation[feature_cols])\n",
    "\n",
    "pred_cols = [f\"prediction_{target}\" for target in TARGET_CANDIDATES]\n",
    "validation[pred_cols]"
   ],
   "outputs": [
    {
     "name": "stderr",
     "output_type": "stream",
     "text": [
      "2025-10-30 14:04:16,489 ERROR numerapi.utils: Error Connecting: HTTPSConnectionPool(host='api-tournament.numer.ai', port=443): Max retries exceeded with url: / (Caused by NameResolutionError(\"<urllib3.connection.HTTPSConnection object at 0x42f4acc90>: Failed to resolve 'api-tournament.numer.ai' ([Errno 8] nodename nor servname provided, or not known)\"))\n"
     ]
    },
    {
     "ename": "KeyError",
     "evalue": "'data'",
     "output_type": "error",
     "traceback": [
      "\u001B[31m---------------------------------------------------------------------------\u001B[39m",
      "\u001B[31mKeyError\u001B[39m                                  Traceback (most recent call last)",
      "\u001B[36mCell\u001B[39m\u001B[36m \u001B[39m\u001B[32mIn[38]\u001B[39m\u001B[32m, line 2\u001B[39m\n\u001B[32m      1\u001B[39m \u001B[38;5;66;03m# Download validation data\u001B[39;00m\n\u001B[32m----> \u001B[39m\u001B[32m2\u001B[39m \u001B[43mnapi\u001B[49m\u001B[43m.\u001B[49m\u001B[43mdownload_dataset\u001B[49m\u001B[43m(\u001B[49m\u001B[33;43mf\u001B[39;49m\u001B[33;43m\"\u001B[39;49m\u001B[38;5;132;43;01m{\u001B[39;49;00m\u001B[43mDATA_VERSION\u001B[49m\u001B[38;5;132;43;01m}\u001B[39;49;00m\u001B[33;43m/validation.parquet\u001B[39;49m\u001B[33;43m\"\u001B[39;49m\u001B[43m)\u001B[49m\n\u001B[32m      4\u001B[39m \u001B[38;5;66;03m# Load the validation data, filtering for data_type == \"validation\"\u001B[39;00m\n\u001B[32m      5\u001B[39m validation = pd.read_parquet(\n\u001B[32m      6\u001B[39m     \u001B[33mf\u001B[39m\u001B[33m\"\u001B[39m\u001B[38;5;132;01m{\u001B[39;00mDATA_VERSION\u001B[38;5;132;01m}\u001B[39;00m\u001B[33m/validation.parquet\u001B[39m\u001B[33m\"\u001B[39m,\n\u001B[32m      7\u001B[39m     columns=[\u001B[33m\"\u001B[39m\u001B[33mera\u001B[39m\u001B[33m\"\u001B[39m, \u001B[33m\"\u001B[39m\u001B[33mdata_type\u001B[39m\u001B[33m\"\u001B[39m] + feature_cols + target_cols\n\u001B[32m      8\u001B[39m )\n",
      "\u001B[36mFile \u001B[39m\u001B[32m~/Desktop/work_space/example-scripts/python311_venv/example-scripts/lib/python3.11/site-packages/numerapi/base_api.py:202\u001B[39m, in \u001B[36mApi.download_dataset\u001B[39m\u001B[34m(self, filename, dest_path, round_num)\u001B[39m\n\u001B[32m    191\u001B[39m query = \u001B[33m\"\"\"\u001B[39m\n\u001B[32m    192\u001B[39m \u001B[33mquery ($filename: String!\u001B[39m\n\u001B[32m    193\u001B[39m \u001B[33m       $round: Int\u001B[39m\n\u001B[32m   (...)\u001B[39m\u001B[32m    198\u001B[39m \u001B[33m}\u001B[39m\n\u001B[32m    199\u001B[39m \u001B[33m\u001B[39m\u001B[33m\"\"\"\u001B[39m\n\u001B[32m    200\u001B[39m args = {\u001B[33m'\u001B[39m\u001B[33mfilename\u001B[39m\u001B[33m'\u001B[39m: filename, \u001B[33m\"\u001B[39m\u001B[33mround\u001B[39m\u001B[33m\"\u001B[39m: round_num, \u001B[33m\"\u001B[39m\u001B[33mtournament\u001B[39m\u001B[33m\"\u001B[39m: \u001B[38;5;28mself\u001B[39m.tournament_id}\n\u001B[32m--> \u001B[39m\u001B[32m202\u001B[39m dataset_url = \u001B[38;5;28;43mself\u001B[39;49m\u001B[43m.\u001B[49m\u001B[43mraw_query\u001B[49m\u001B[43m(\u001B[49m\u001B[43mquery\u001B[49m\u001B[43m,\u001B[49m\u001B[43m \u001B[49m\u001B[43margs\u001B[49m\u001B[43m)\u001B[49m\u001B[43m[\u001B[49m\u001B[33;43m'\u001B[39;49m\u001B[33;43mdata\u001B[39;49m\u001B[33;43m'\u001B[39;49m\u001B[43m]\u001B[49m[\u001B[33m'\u001B[39m\u001B[33mdataset\u001B[39m\u001B[33m'\u001B[39m]\n\u001B[32m    203\u001B[39m utils.download_file(dataset_url, dest_path, \u001B[38;5;28mself\u001B[39m.show_progress_bars)\n\u001B[32m    204\u001B[39m \u001B[38;5;28;01mreturn\u001B[39;00m dest_path\n",
      "\u001B[31mKeyError\u001B[39m: 'data'"
     ]
    }
   ],
   "execution_count": 38
  },
  {
   "cell_type": "markdown",
   "metadata": {
    "id": "Ea2Z98CIxnNe"
   },
   "source": [
    "### Evaluating the performance of each model\n",
    "\n",
    "Now we can evaluate the performance of our models."
   ]
  },
  {
   "cell_type": "code",
   "metadata": {
    "id": "NjuAERHhxnNe",
    "ExecuteTime": {
     "end_time": "2025-10-30T21:04:16.530518Z",
     "start_time": "2025-10-30T21:04:16.530470Z"
    }
   },
   "source": [
    "# install Numerai's open-source scoring tools\n",
    "!pip install -q --no-deps numerai-tools\n",
    "\n",
    "# import the 2 scoring functions\n",
    "from numerai_tools.scoring import numerai_corr, correlation_contribution"
   ],
   "outputs": [],
   "execution_count": null
  },
  {
   "cell_type": "markdown",
   "metadata": {
    "id": "Q8aLpCC3xnNf"
   },
   "source": [
    "As you can see in the performance chart below, models trained on the auxiliary target are able to predict the main target pretty well, but the model trained on the main target performs the best."
   ]
  },
  {
   "cell_type": "code",
   "metadata": {
    "colab": {
     "base_uri": "https://localhost:8080/",
     "height": 614
    },
    "id": "WUvsFi-VxnNf",
    "outputId": "39a65698-cf42-4a58-fe75-eaca8ec2d224",
    "ExecuteTime": {
     "start_time": "2025-10-30T21:04:16.531161Z"
    }
   },
   "source": [
    "prediction_cols = [\n",
    "    f\"prediction_{target}\"\n",
    "    for target in TARGET_CANDIDATES\n",
    "]\n",
    "correlations = validation.groupby(\"era\").apply(\n",
    "    lambda d: numerai_corr(d[prediction_cols], d[\"target\"])\n",
    ")\n",
    "cumsum_corrs = correlations.cumsum()\n",
    "cumsum_corrs.plot(\n",
    "  title=\"Cumulative Correlation of validation Predictions\",\n",
    "  figsize=(10, 6),\n",
    "  xticks=[]\n",
    ")"
   ],
   "outputs": [],
   "execution_count": null
  },
  {
   "cell_type": "markdown",
   "metadata": {
    "id": "EDUjJ3guxnNf"
   },
   "source": [
    "Looking at the summary metrics below:\n",
    "- the models trained on `victor` and `xerxes` have the highest means, but `victor` is less correlated with `cyrus` than `xerxes` is, which means `victor` could be better in ensembling\n",
    "- the model trained on `teager` has the lowest mean, but `teager` is significantly less correlated with `cyrus` than any other target shown"
   ]
  },
  {
   "cell_type": "code",
   "metadata": {
    "colab": {
     "base_uri": "https://localhost:8080/",
     "height": 338
    },
    "id": "smz_GLLAxnNf",
    "outputId": "75d86754-9e57-492a-c776-748dd04ca32f",
    "ExecuteTime": {
     "end_time": "2025-10-30T21:04:16.531976Z",
     "start_time": "2025-10-30T21:04:16.531822Z"
    }
   },
   "source": [
    "def get_summary_metrics(scores, cumsum_scores):\n",
    "    summary_metrics = {}\n",
    "    # per era correlation between predictions of the model trained on this target and cyrus\n",
    "    mean = scores.mean()\n",
    "    std = scores.std()\n",
    "    sharpe = mean / std\n",
    "    rolling_max = cumsum_scores.expanding(min_periods=1).max()\n",
    "    max_drawdown = (rolling_max - cumsum_scores).max()\n",
    "    return {\n",
    "        \"mean\": mean,\n",
    "        \"std\": std,\n",
    "        \"sharpe\": sharpe,\n",
    "        \"max_drawdown\": max_drawdown,\n",
    "    }\n",
    "\n",
    "target_summary_metrics = {}\n",
    "for pred_col in prediction_cols:\n",
    "  target_summary_metrics[pred_col] = get_summary_metrics(\n",
    "      correlations[pred_col], cumsum_corrs[pred_col]\n",
    "  )\n",
    "  # per era correlation between this target and cyrus\n",
    "  mean_corr_with_cryus = validation.groupby(\"era\").apply(\n",
    "      lambda d: d[pred_col].corr(d[MAIN_TARGET])\n",
    "  ).mean()\n",
    "  target_summary_metrics[pred_col].update({\n",
    "      \"mean_corr_with_cryus\": mean_corr_with_cryus\n",
    "  })\n",
    "\n",
    "\n",
    "pd.set_option('display.float_format', lambda x: '%f' % x)\n",
    "summary = pd.DataFrame(target_summary_metrics).T\n",
    "summary"
   ],
   "outputs": [],
   "execution_count": null
  },
  {
   "cell_type": "markdown",
   "metadata": {
    "id": "yju_5cHJxnNf"
   },
   "source": [
    "### Selecting our favorite target\n",
    "Based on our observations above, it seems like target `victor` is the best candidate target for our ensemble since it has great performance and it is not too correlated with `cyrus`. However, it's interesting to look at how models that are very uncorrelated ensemble together we are going to also look at how `teager` ensembles with `cyrus`.\n",
    "\n",
    "What do you think?\n",
    "\n",
    "Note that this target selection heuristic is extremely basic. In your own research, you will most likely want to consider all targets instead of just our favorites, and may want to experiment with different ways of selecting your ensemble targets."
   ]
  },
  {
   "cell_type": "markdown",
   "metadata": {
    "id": "eeqgd58hxnNg"
   },
   "source": [
    "## 3. Ensembling\n",
    "\n",
    "Now that we have reviewed and selected our favorite targets, let's ensemble our predictions and re-evaluate performance."
   ]
  },
  {
   "cell_type": "markdown",
   "metadata": {
    "id": "Rap7tHjGxnNg"
   },
   "source": [
    "### Creating the ensemble\n",
    "\n",
    "For simplicity, we will equal weight the predictions from target `victor` and `cyrus`. Note that this is an extremely basic and arbitrary way of selecting ensemble weights. In your research, you may want to experiment with different ways of setting ensemble weights.\n",
    "\n",
    "Tip: remember to always normalize (percentile rank) your predictions before averaging so that they are comparable!"
   ]
  },
  {
   "cell_type": "code",
   "metadata": {
    "colab": {
     "base_uri": "https://localhost:8080/",
     "height": 455
    },
    "id": "y27jxEUwxnNg",
    "outputId": "17962176-35ec-4d5a-e891-1b51779b961a",
    "ExecuteTime": {
     "end_time": "2025-10-30T21:04:16.532947Z",
     "start_time": "2025-10-30T21:04:16.532901Z"
    }
   },
   "source": [
    "# Ensemble predictions together with a simple average\n",
    "validation[\"ensemble_cyrus_victor\"] = (\n",
    "    validation\n",
    "    .groupby(\"era\")[[\n",
    "      f\"prediction_{MAIN_TARGET}\",\n",
    "      \"prediction_target_victor_20\",\n",
    "    ]]\n",
    "    .rank(pct=True)\n",
    "    .mean(axis=1)\n",
    ")\n",
    "validation[\"ensemble_cyrus_teager\"] = (\n",
    "    validation\n",
    "    .groupby(\"era\")[[\n",
    "      f\"prediction_{MAIN_TARGET}\",\n",
    "      \"prediction_target_teager2b_20\",\n",
    "    ]]\n",
    "    .rank(pct=True)\n",
    "    .mean(axis=1)\n",
    ")\n",
    "\n",
    "# Print the ensemble predictions\n",
    "prediction_cols = [\n",
    "  \"prediction_target_cyrusd_20\",\n",
    "  \"prediction_target_victor_20\",\n",
    "  \"prediction_target_teager2b_20\",\n",
    "  \"ensemble_cyrus_victor\",\n",
    "  \"ensemble_cyrus_teager\"\n",
    "]\n",
    "validation[prediction_cols]"
   ],
   "outputs": [],
   "execution_count": null
  },
  {
   "cell_type": "markdown",
   "metadata": {
    "id": "sMLgtnXTxnNg"
   },
   "source": [
    "### Evaluating performance of the ensemble\n",
    "Looking at the performance chart below, we can see that the peformance of our ensembles are better than that of the models trained on individual targets. Is this a result you would have expected or does it surprise you?"
   ]
  },
  {
   "cell_type": "code",
   "metadata": {
    "colab": {
     "base_uri": "https://localhost:8080/",
     "height": 614
    },
    "id": "jCRbKxZmxnNg",
    "outputId": "313c0821-f81d-46fe-f54c-e5ce95a583f7"
   },
   "source": [
    "correlations = validation.groupby(\"era\").apply(\n",
    "    lambda d: numerai_corr(d[prediction_cols], d[\"target\"])\n",
    ")\n",
    "cumsum_corrs = correlations.cumsum()\n",
    "\n",
    "cumsum_corrs = pd.DataFrame(cumsum_corrs)\n",
    "cumsum_corrs.plot(\n",
    "    title=\"Cumulative Correlation of validation Predictions\",\n",
    "    figsize=(10, 6),\n",
    "    xticks=[]\n",
    ")"
   ],
   "outputs": [],
   "execution_count": null
  },
  {
   "cell_type": "markdown",
   "metadata": {
    "id": "4FjFZq-hxnNh"
   },
   "source": [
    "Looking at the summary metrics below, we can see that our ensemble seems to have better `mean`, `sharpe`, and `max_drawdown` than our original model. Much more interestingly, however, is that our ensemble with `teager` has even higher sharpe than the ensemble with `victor`!"
   ]
  },
  {
   "cell_type": "code",
   "metadata": {
    "colab": {
     "base_uri": "https://localhost:8080/",
     "height": 206
    },
    "id": "_79JgZULxnNh",
    "outputId": "b843f522-90c8-48a2-af55-a5b11cc19555"
   },
   "source": [
    "summary_metrics = get_summary_metrics(correlations, cumsum_corrs)\n",
    "pd.set_option('display.float_format', lambda x: '%f' % x)\n",
    "summary = pd.DataFrame(summary_metrics)\n",
    "summary"
   ],
   "outputs": [],
   "execution_count": null
  },
  {
   "cell_type": "markdown",
   "metadata": {
    "id": "Kns8BQ1kL2mE"
   },
   "source": [
    "You can see below that ensembling also improves MMC performance significantly."
   ]
  },
  {
   "cell_type": "code",
   "metadata": {
    "colab": {
     "base_uri": "https://localhost:8080/",
     "height": 803
    },
    "id": "k9jKnsnuL1se",
    "outputId": "85142579-bb14-4847-e6ba-108aa6caf235"
   },
   "source": [
    "from numerai_tools.scoring import correlation_contribution\n",
    "\n",
    "# Download and join in the meta_model for the validation eras\n",
    "napi.download_dataset(f\"v4.3/meta_model.parquet\", round_num=842)\n",
    "validation[\"meta_model\"] = pd.read_parquet(\n",
    "    f\"v4.3/meta_model.parquet\"\n",
    ")[\"numerai_meta_model\"]\n",
    "\n",
    "def get_mmc(validation, meta_model_col):\n",
    "    # Compute the per-era mmc between our predictions, the meta model, and the target values\n",
    "    per_era_mmc = validation.dropna().groupby(\"era\").apply(\n",
    "        lambda x: correlation_contribution(\n",
    "            x[prediction_cols], x[meta_model_col], x[\"target\"]\n",
    "        )\n",
    "    )\n",
    "\n",
    "    cumsum_mmc = per_era_mmc.cumsum()\n",
    "\n",
    "    # compute summary metrics\n",
    "    summary_metrics = get_summary_metrics(per_era_mmc, cumsum_mmc)\n",
    "    summary = pd.DataFrame(summary_metrics)\n",
    "\n",
    "    return per_era_mmc, cumsum_mmc, summary\n",
    "\n",
    "per_era_mmc, cumsum_mmc, summary = get_mmc(validation, \"meta_model\")\n",
    "# plot the cumsum mmc performance\n",
    "cumsum_mmc.plot(\n",
    "  title=\"Cumulative MMC of Neutralized Predictions\",\n",
    "  figsize=(10, 6),\n",
    "  xticks=[]\n",
    ")\n",
    "\n",
    "pd.set_option('display.float_format', lambda x: '%f' % x)\n",
    "summary"
   ],
   "outputs": [],
   "execution_count": null
  },
  {
   "cell_type": "markdown",
   "metadata": {
    "id": "bijsOnqqOqpf"
   },
   "source": [
    "#### Benchmark Models\n",
    "\n",
    "It's no accident that a model trained on `teager` nicely ensembles with `cyrus`. We have seen in our research that models trained or ensembled using `teager` perform well. We even released a benchmark for a [teager ensemble](https://numer.ai/v42_teager_ensemble). We submit predictions for all internally known models [here](https://numer.ai/~benchmark_models) and release files with their predictions."
   ]
  },
  {
   "cell_type": "code",
   "metadata": {
    "colab": {
     "base_uri": "https://localhost:8080/",
     "height": 473
    },
    "id": "QNSLiLDWOx6D",
    "outputId": "18224a74-f6de-4bc8-cab1-84d7552b1873"
   },
   "source": [
    "# download Numerai's benchmark models\n",
    "napi.download_dataset(f\"{DATA_VERSION}/validation_benchmark_models.parquet\")\n",
    "benchmark_models = pd.read_parquet(\n",
    "    f\"{DATA_VERSION}/validation_benchmark_models.parquet\"\n",
    ")\n",
    "benchmark_models"
   ],
   "outputs": [],
   "execution_count": null
  },
  {
   "cell_type": "markdown",
   "metadata": {
    "id": "dZNr_xbQWJsf"
   },
   "source": [
    "Because models trained on newer targets perform so well and we release their predictions, it's likely many users will begin to shift their models to include newer data and targets. By extension, the Meta Model will begin to include information from from these new targets.\n",
    "\n",
    "This means that MMC over the validation period may not be truly indicative of out-of-sample performance. The Meta Model over the early validation period did not have access to newer data/targets and MMC over the validation period may be misleading.\n",
    "\n",
    "So if the Meta Model was much closer to our teager ensemble, what would your MMC look like?"
   ]
  },
  {
   "cell_type": "code",
   "metadata": {
    "colab": {
     "base_uri": "https://localhost:8080/",
     "height": 785
    },
    "id": "OcUNnnkUWnwg",
    "outputId": "65de24b0-9515-4205-ede5-8d5649fadc23"
   },
   "source": [
    "validation[FAVORITE_MODEL] = benchmark_models[FAVORITE_MODEL]\n",
    "\n",
    "\n",
    "per_era_mmc, cumsum_mmc, summary = get_mmc(validation, FAVORITE_MODEL)\n",
    "# plot the cumsum mmc performance\n",
    "cumsum_mmc.plot(\n",
    "  title=\"Contribution of Neutralized Predictions to Numerai's Teager Ensemble\",\n",
    "  figsize=(10, 6),\n",
    "  xticks=[]\n",
    ")\n",
    "\n",
    "pd.set_option('display.float_format', lambda x: '%f' % x)\n",
    "summary"
   ],
   "outputs": [],
   "execution_count": null
  },
  {
   "cell_type": "markdown",
   "metadata": {
    "id": "1KSqVvJBxnNh"
   },
   "source": [
    "Ouch. Our teager models actually perform the worst. This means we aren't adding very useful signal to a model that Numerai already created, but this should not be surprising since we are training basically the same model. The model trained with `xerxes`, however, still does well against Numerai's model. What do you think this means?\n",
    "\n",
    "It's also helpful to if we measured the contribution of your models to all of Numerai's benchmark models. We call this Benchmark Model Contribution or `BMC`.  On the website, `BMC` measures your model's contribution to a weighted ensemble of all of our Benchmark Models.\n",
    "\n",
    "This is an important metric to track because it tells you how additive your model is to Numerai's known models and, by extension, how additive you might be to the Meta Model in the future.\n",
    "\n",
    "To keep things simple, we will use an unweighted ensemble of Numerai's Benchmarks to measure your models' BMC, let's take a look:"
   ]
  },
  {
   "cell_type": "code",
   "metadata": {
    "colab": {
     "base_uri": "https://localhost:8080/",
     "height": 785
    },
    "id": "39UfnEmifTMh",
    "outputId": "827dd9fb-4682-418c-eecd-f3d1e5c90114"
   },
   "source": [
    "validation[\"numerai_benchmark\"] = (\n",
    "    benchmark_models\n",
    "    .groupby(\"era\")\n",
    "    .apply(lambda x: x.mean(axis=1))\n",
    "    .reset_index()\n",
    "    .set_index(\"id\")[0]\n",
    ")\n",
    "\n",
    "per_era_mmc, cumsum_mmc, summary = get_mmc(validation, \"numerai_benchmark\")\n",
    "# plot the cumsum mmc performance\n",
    "cumsum_mmc.plot(\n",
    "  title=\"Cumulative BMC of Neutralized Predictions\",\n",
    "  figsize=(10, 6),\n",
    "  xticks=[]\n",
    ")\n",
    "\n",
    "pd.set_option('display.float_format', lambda x: '%f' % x)\n",
    "summary"
   ],
   "outputs": [],
   "execution_count": null
  },
  {
   "cell_type": "markdown",
   "metadata": {
    "id": "q-FSdGrhqWkD"
   },
   "source": [
    "Looking at the results above, none of these models seem very additive to models that Numerai can already create. It will take some research and experimentation to find something additive to Numerai's benchmarks.\n",
    "\n",
    "Ensembling models trained on different targets can be a very fruitful avenue of research. However, it is completely up to you whether or not to create an ensemble - there are many great performing models that don't make use of the auxilliary targets at all.\n",
    "\n",
    "If you are interested in learning more about targets, we highly encourage you to read up on these forum posts\n",
    "- https://forum.numer.ai/t/how-to-ensemble-models/4034\n",
    "- https://forum.numer.ai/t/target-jerome-is-dominating-and-thats-weird/6513"
   ]
  },
  {
   "cell_type": "markdown",
   "metadata": {
    "id": "ihVoBcnhxnNq"
   },
   "source": [
    "## 4. Model Upload\n",
    "To wrap up this notebook, let's pickle and upload our ensemble.\n",
    "\n",
    "As usual, we will be wrapping our submission pipeline into a function. Since we already have our favorite targets and trained models in memory, we can simply reference them in our function.  "
   ]
  },
  {
   "cell_type": "code",
   "metadata": {
    "id": "WWdOTGy4xnNq"
   },
   "source": [
    "# we now give you access to the live_benchmark_models if you want to use them in your ensemble\n",
    "def predict_ensemble(\n",
    "    live_features: pd.DataFrame,\n",
    "    live_benchmark_models: pd.DataFrame\n",
    ") -> pd.DataFrame:\n",
    "    favorite_targets = [\n",
    "        'target_cyrusd_20',\n",
    "        'target_teager2b_20'\n",
    "    ]\n",
    "    # generate predictions from each model\n",
    "    predictions = pd.DataFrame(index=live_features.index)\n",
    "    for target in favorite_targets:\n",
    "        predictions[target] = models[target].predict(live_features[feature_cols])\n",
    "    # ensemble predictions\n",
    "    ensemble = predictions.rank(pct=True).mean(axis=1)\n",
    "    # format submission\n",
    "    submission = ensemble.rank(pct=True, method=\"first\")\n",
    "    return submission.to_frame(\"prediction\")"
   ],
   "outputs": [],
   "execution_count": null
  },
  {
   "cell_type": "code",
   "metadata": {
    "colab": {
     "base_uri": "https://localhost:8080/",
     "height": 473
    },
    "id": "kPq_ATf0xnNr",
    "outputId": "53bef369-0a53-4c1e-fd62-d9d4d6ec2c53"
   },
   "source": [
    "# Quick test\n",
    "napi.download_dataset(f\"{DATA_VERSION}/live.parquet\")\n",
    "live_features = pd.read_parquet(f\"{DATA_VERSION}/live.parquet\", columns=feature_cols)\n",
    "predict_ensemble(live_features, benchmark_models)"
   ],
   "outputs": [],
   "execution_count": null
  },
  {
   "cell_type": "code",
   "metadata": {
    "id": "5VTrZ1Q6xnNr"
   },
   "source": [
    "# Use the cloudpickle library to serialize your function and its dependencies\n",
    "import cloudpickle\n",
    "p = cloudpickle.dumps(predict_ensemble)\n",
    "with open(\"target_ensemble.pkl\", \"wb\") as f:\n",
    "    f.write(p)"
   ],
   "outputs": [],
   "execution_count": null
  },
  {
   "cell_type": "code",
   "metadata": {
    "colab": {
     "base_uri": "https://localhost:8080/",
     "height": 17
    },
    "id": "RiJjBD-zxnNr",
    "outputId": "dd372d69-e8f7-4fec-8211-2078a3e18c6d"
   },
   "source": [
    "# Download file if running in Google Colab\n",
    "try:\n",
    "    from google.colab import files\n",
    "    files.download('target_ensemble.pkl')\n",
    "except:\n",
    "    pass"
   ],
   "outputs": [],
   "execution_count": null
  },
  {
   "cell_type": "markdown",
   "metadata": {
    "id": "jxO2YzmIxnNr"
   },
   "source": [
    "That's it! Now head back to [numer.ai](numer.ai) to upload your model!"
   ]
  },
  {
   "metadata": {},
   "cell_type": "code",
   "source": "",
   "outputs": [],
   "execution_count": null
  },
  {
   "metadata": {},
   "cell_type": "code",
   "source": "",
   "outputs": [],
   "execution_count": null
  },
  {
   "metadata": {},
   "cell_type": "code",
   "source": "",
   "outputs": [],
   "execution_count": null
  },
  {
   "metadata": {},
   "cell_type": "code",
   "source": "",
   "outputs": [],
   "execution_count": null
  },
  {
   "metadata": {},
   "cell_type": "code",
   "source": "",
   "outputs": [],
   "execution_count": null
  },
  {
   "metadata": {},
   "cell_type": "code",
   "source": "",
   "outputs": [],
   "execution_count": null
  },
  {
   "metadata": {},
   "cell_type": "code",
   "source": "",
   "outputs": [],
   "execution_count": null
  },
  {
   "metadata": {},
   "cell_type": "code",
   "source": "",
   "outputs": [],
   "execution_count": null
  }
 ],
 "metadata": {
  "colab": {
   "provenance": [],
   "gpuType": "V28"
  },
  "kernelspec": {
   "display_name": "Python 3 (ipykernel)",
   "name": "python3",
   "language": "python"
  },
  "language_info": {
   "codemirror_mode": {
    "name": "ipython",
    "version": 3
   },
   "file_extension": ".py",
   "mimetype": "text/x-python",
   "name": "python",
   "nbconvert_exporter": "python",
   "pygments_lexer": "ipython3",
   "version": "3.10.14"
  },
  "accelerator": "TPU"
 },
 "nbformat": 4,
 "nbformat_minor": 0
}
