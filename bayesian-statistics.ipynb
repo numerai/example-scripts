{
 "cells": [
  {
   "cell_type": "markdown",
   "metadata": {},
   "source": [
    "# Statistical comparison using Bayesian Statistics\n",
    "___\n",
    "\n",
    "## Motivation\n",
    "\n",
    "Bayesian Statistics is the new prefered way of comparing results in Machine Learning, it has many advantages over the traditional frequentist approach.\n",
    "\n",
    "## Background\n",
    "\n",
    "Bayesian Statistics is based on [Bayes' Theorem](https://en.wikipedia.org/wiki/Bayes%27_theorem) and we have that the posterior is proportional to the prior times the likelihood:\n",
    "\n",
    "$\\text{posterior} \\propto \\text{prior} * \\text{likelihood} $\n",
    "\n",
    "the prior being the initial belief about the population and the likelihood the probability of occurrence of each sample in the population.\n",
    "\n",
    "After calculating the posterior, it holds our entire belief about the population and we can use it to answer questions probabilistically.\n",
    "\n",
    "## Assumptions\n",
    "\n",
    "Below we consider the set of live results of a single account as a single population.\n",
    "\n",
    "Also, it is assumed that accounts did not change models in the past 30 rounds because we cannot know this from other people's accounts.\n",
    "\n",
    "## Evaluating a single account\n",
    "\n",
    "The mean of a population is lower than zero?\n",
    "This is a null hypothesis that we can evaluate using Bayesian Statistics.\n",
    "\n",
    "And we can use the posterior to answer the following related question:\n",
    "What's the probability of the mean of a population being greater than zero?\n",
    "\n",
    "### How many live results should we use to evaluate an account?\n",
    "\n",
    "The [convergence plot below](#Plots) tries to answer this question.\n",
    "The plot is read backwards, as we consider an increasing number of points from the most recent results, the mean converges to a value and the 98% high density interval (HDI) converges to a small region.\n",
    "\n",
    "From this plot we select the number of rounds and we ask, can we reject the null hypothesis?\n",
    "- For arbitrage:\n",
    "  - considering 10 rounds, we cannot because zero is inside the HDI;\n",
    "  - considering 20 rounds, we can reject the null hypothesis.\n",
    "- For benben11:\n",
    "  - considering just 6 rounds, we can already reject the null hypothehis.\n",
    "- For jrb:\n",
    "  - even with 30 rounds, we cannot reject the null hypothesis.\n",
    "  \n",
    "When we can reject the null hypothesis, we also know that the probability of the mean of the population being grater than zero is greater than 99%!\n",
    "This is because we are performing a two-sided test.\n",
    "To calculate the 98% HDI, there's 1% above and below it... so when the HDI is above zero, more than 99% of the posterior probability is above zero.\n",
    "\n",
    "### How an account performance evolves after each round?\n",
    "\n",
    "The [timeseries plot below](#Plots) tries to answer this question.\n",
    "After selecting an appropriate number of rounds from the convergence plot, we can see in the timeseries plot how the posterior mean and HDI evolve at each round.\n",
    "\n",
    "Using 20 rounds as the official leaderboard, we note that:\n",
    "- For arbitrage, the HDI has been above zero only in the latest 11 rounds;\n",
    "- For benben11, the latest 10 rounds gave a huge boost to the HDI;\n",
    "- For hiryuu, the HDI has been steady above zero for the latest 20 rounds;\n",
    "- For jrb, the HDI has not been above zero for the latest 30 rounds;\n",
    "- For themicon, the HDI was well above zero for most rounds but it has lowered in the latest 5 rounds.\n",
    "\n",
    "## Comparing multiple accounts\n",
    "\n",
    "Is the difference of the mean of two populations equal to zero?\n",
    "This is a null hypothesis that cannot be evaluated using Bayesian Statistics because the probability of occurrence of a single particular value is, by definition, zero.\n",
    "\n",
    "Yet, we can use the posterior to answer the following related question:\n",
    "What's the probability of the mean of a population being greater than the mean of another population?\n",
    "\n",
    "It is helpful to define a region where we consider two populations as being equivalent, the region of practical equivalence (ROPE).\n",
    "\n",
    "Below, we consider that two populations with the difference of their means lower than 0.0025 as being equivalent and ignore this region, we are interested in the probability of a population being better than another.\n",
    "\n",
    "Still, comparing just two populations is very limited, so we use the posterior to calculate the probabilities of each population being better and worse than every other population, building a matrix of probabilities, and then we simply take the means and rank the populations.\n",
    "\n",
    "We end up with a mean probability of each population being better than all the others.\n",
    "\n",
    "We show some examples of rankings:\n",
    "- [Some popular accounts](#Some-popular-accounts);\n",
    "- [The top 20 accounts](#Top-20-accounts);\n",
    "- [Nasdaqjockey's accounts](#nasdaqjockey's-accounts), showing that this ranking strategy would work well with [their method to select diagnostic metrics](https://forum.numer.ai/t/does-good-model-diagnostics-correlate-with-tournament-performance/).\n",
    "\n",
    "## Conclusion\n",
    "\n",
    "These are statistical tests about the mean of the populations, meaning that an account can still suffer serious burns in upcoming rounds but we get from the results some hints that help us evaluate how many rounds to consider and how to compare models before deciding to replace underperforming models and how to allocate stakes.\n",
    "\n",
    "## Links\n",
    "\n",
    "- [Statistical comparison of models using grid search](https://scikit-learn.org/stable/auto_examples/model_selection/plot_grid_search_stats.html)\n",
    "- [Time for a Change:  a Tutorial for Comparing Multiple Classifiers Through Bayesian Analysis](https://www.jmlr.org/papers/volume18/16-305/16-305.pdf)\n",
    "- [Bayesian Estimation Supersedes the T-Test](https://docs.pymc.io/notebooks/BEST.html)\n",
    "- [Introduction to Bayesian Stastistics](https://www.amazon.com/Introduction-Bayesian-Statistics-William-Bolstad/dp/1118091566)"
   ]
  },
  {
   "cell_type": "code",
   "execution_count": 1,
   "metadata": {},
   "outputs": [
    {
     "data": {
      "text/html": [
       "\n",
       "    <div class=\"bk-root\">\n",
       "        <a href=\"https://bokeh.org\" target=\"_blank\" class=\"bk-logo bk-logo-small bk-logo-notebook\"></a>\n",
       "        <span id=\"1001\">Loading BokehJS ...</span>\n",
       "    </div>"
      ]
     },
     "metadata": {},
     "output_type": "display_data"
    },
    {
     "data": {
      "application/javascript": [
       "\n",
       "(function(root) {\n",
       "  function now() {\n",
       "    return new Date();\n",
       "  }\n",
       "\n",
       "  var force = true;\n",
       "\n",
       "  if (typeof root._bokeh_onload_callbacks === \"undefined\" || force === true) {\n",
       "    root._bokeh_onload_callbacks = [];\n",
       "    root._bokeh_is_loading = undefined;\n",
       "  }\n",
       "\n",
       "  var JS_MIME_TYPE = 'application/javascript';\n",
       "  var HTML_MIME_TYPE = 'text/html';\n",
       "  var EXEC_MIME_TYPE = 'application/vnd.bokehjs_exec.v0+json';\n",
       "  var CLASS_NAME = 'output_bokeh rendered_html';\n",
       "\n",
       "  /**\n",
       "   * Render data to the DOM node\n",
       "   */\n",
       "  function render(props, node) {\n",
       "    var script = document.createElement(\"script\");\n",
       "    node.appendChild(script);\n",
       "  }\n",
       "\n",
       "  /**\n",
       "   * Handle when an output is cleared or removed\n",
       "   */\n",
       "  function handleClearOutput(event, handle) {\n",
       "    var cell = handle.cell;\n",
       "\n",
       "    var id = cell.output_area._bokeh_element_id;\n",
       "    var server_id = cell.output_area._bokeh_server_id;\n",
       "    // Clean up Bokeh references\n",
       "    if (id != null && id in Bokeh.index) {\n",
       "      Bokeh.index[id].model.document.clear();\n",
       "      delete Bokeh.index[id];\n",
       "    }\n",
       "\n",
       "    if (server_id !== undefined) {\n",
       "      // Clean up Bokeh references\n",
       "      var cmd = \"from bokeh.io.state import curstate; print(curstate().uuid_to_server['\" + server_id + \"'].get_sessions()[0].document.roots[0]._id)\";\n",
       "      cell.notebook.kernel.execute(cmd, {\n",
       "        iopub: {\n",
       "          output: function(msg) {\n",
       "            var id = msg.content.text.trim();\n",
       "            if (id in Bokeh.index) {\n",
       "              Bokeh.index[id].model.document.clear();\n",
       "              delete Bokeh.index[id];\n",
       "            }\n",
       "          }\n",
       "        }\n",
       "      });\n",
       "      // Destroy server and session\n",
       "      var cmd = \"import bokeh.io.notebook as ion; ion.destroy_server('\" + server_id + \"')\";\n",
       "      cell.notebook.kernel.execute(cmd);\n",
       "    }\n",
       "  }\n",
       "\n",
       "  /**\n",
       "   * Handle when a new output is added\n",
       "   */\n",
       "  function handleAddOutput(event, handle) {\n",
       "    var output_area = handle.output_area;\n",
       "    var output = handle.output;\n",
       "\n",
       "    // limit handleAddOutput to display_data with EXEC_MIME_TYPE content only\n",
       "    if ((output.output_type != \"display_data\") || (!output.data.hasOwnProperty(EXEC_MIME_TYPE))) {\n",
       "      return\n",
       "    }\n",
       "\n",
       "    var toinsert = output_area.element.find(\".\" + CLASS_NAME.split(' ')[0]);\n",
       "\n",
       "    if (output.metadata[EXEC_MIME_TYPE][\"id\"] !== undefined) {\n",
       "      toinsert[toinsert.length - 1].firstChild.textContent = output.data[JS_MIME_TYPE];\n",
       "      // store reference to embed id on output_area\n",
       "      output_area._bokeh_element_id = output.metadata[EXEC_MIME_TYPE][\"id\"];\n",
       "    }\n",
       "    if (output.metadata[EXEC_MIME_TYPE][\"server_id\"] !== undefined) {\n",
       "      var bk_div = document.createElement(\"div\");\n",
       "      bk_div.innerHTML = output.data[HTML_MIME_TYPE];\n",
       "      var script_attrs = bk_div.children[0].attributes;\n",
       "      for (var i = 0; i < script_attrs.length; i++) {\n",
       "        toinsert[toinsert.length - 1].firstChild.setAttribute(script_attrs[i].name, script_attrs[i].value);\n",
       "        toinsert[toinsert.length - 1].firstChild.textContent = bk_div.children[0].textContent\n",
       "      }\n",
       "      // store reference to server id on output_area\n",
       "      output_area._bokeh_server_id = output.metadata[EXEC_MIME_TYPE][\"server_id\"];\n",
       "    }\n",
       "  }\n",
       "\n",
       "  function register_renderer(events, OutputArea) {\n",
       "\n",
       "    function append_mime(data, metadata, element) {\n",
       "      // create a DOM node to render to\n",
       "      var toinsert = this.create_output_subarea(\n",
       "        metadata,\n",
       "        CLASS_NAME,\n",
       "        EXEC_MIME_TYPE\n",
       "      );\n",
       "      this.keyboard_manager.register_events(toinsert);\n",
       "      // Render to node\n",
       "      var props = {data: data, metadata: metadata[EXEC_MIME_TYPE]};\n",
       "      render(props, toinsert[toinsert.length - 1]);\n",
       "      element.append(toinsert);\n",
       "      return toinsert\n",
       "    }\n",
       "\n",
       "    /* Handle when an output is cleared or removed */\n",
       "    events.on('clear_output.CodeCell', handleClearOutput);\n",
       "    events.on('delete.Cell', handleClearOutput);\n",
       "\n",
       "    /* Handle when a new output is added */\n",
       "    events.on('output_added.OutputArea', handleAddOutput);\n",
       "\n",
       "    /**\n",
       "     * Register the mime type and append_mime function with output_area\n",
       "     */\n",
       "    OutputArea.prototype.register_mime_type(EXEC_MIME_TYPE, append_mime, {\n",
       "      /* Is output safe? */\n",
       "      safe: true,\n",
       "      /* Index of renderer in `output_area.display_order` */\n",
       "      index: 0\n",
       "    });\n",
       "  }\n",
       "\n",
       "  // register the mime type if in Jupyter Notebook environment and previously unregistered\n",
       "  if (root.Jupyter !== undefined) {\n",
       "    var events = require('base/js/events');\n",
       "    var OutputArea = require('notebook/js/outputarea').OutputArea;\n",
       "\n",
       "    if (OutputArea.prototype.mime_types().indexOf(EXEC_MIME_TYPE) == -1) {\n",
       "      register_renderer(events, OutputArea);\n",
       "    }\n",
       "  }\n",
       "\n",
       "  \n",
       "  if (typeof (root._bokeh_timeout) === \"undefined\" || force === true) {\n",
       "    root._bokeh_timeout = Date.now() + 5000;\n",
       "    root._bokeh_failed_load = false;\n",
       "  }\n",
       "\n",
       "  var NB_LOAD_WARNING = {'data': {'text/html':\n",
       "     \"<div style='background-color: #fdd'>\\n\"+\n",
       "     \"<p>\\n\"+\n",
       "     \"BokehJS does not appear to have successfully loaded. If loading BokehJS from CDN, this \\n\"+\n",
       "     \"may be due to a slow or bad network connection. Possible fixes:\\n\"+\n",
       "     \"</p>\\n\"+\n",
       "     \"<ul>\\n\"+\n",
       "     \"<li>re-rerun `output_notebook()` to attempt to load from CDN again, or</li>\\n\"+\n",
       "     \"<li>use INLINE resources instead, as so:</li>\\n\"+\n",
       "     \"</ul>\\n\"+\n",
       "     \"<code>\\n\"+\n",
       "     \"from bokeh.resources import INLINE\\n\"+\n",
       "     \"output_notebook(resources=INLINE)\\n\"+\n",
       "     \"</code>\\n\"+\n",
       "     \"</div>\"}};\n",
       "\n",
       "  function display_loaded() {\n",
       "    var el = document.getElementById(\"1001\");\n",
       "    if (el != null) {\n",
       "      el.textContent = \"BokehJS is loading...\";\n",
       "    }\n",
       "    if (root.Bokeh !== undefined) {\n",
       "      if (el != null) {\n",
       "        el.textContent = \"BokehJS \" + root.Bokeh.version + \" successfully loaded.\";\n",
       "      }\n",
       "    } else if (Date.now() < root._bokeh_timeout) {\n",
       "      setTimeout(display_loaded, 100)\n",
       "    }\n",
       "  }\n",
       "\n",
       "\n",
       "  function run_callbacks() {\n",
       "    try {\n",
       "      root._bokeh_onload_callbacks.forEach(function(callback) {\n",
       "        if (callback != null)\n",
       "          callback();\n",
       "      });\n",
       "    } finally {\n",
       "      delete root._bokeh_onload_callbacks\n",
       "    }\n",
       "    console.debug(\"Bokeh: all callbacks have finished\");\n",
       "  }\n",
       "\n",
       "  function load_libs(css_urls, js_urls, callback) {\n",
       "    if (css_urls == null) css_urls = [];\n",
       "    if (js_urls == null) js_urls = [];\n",
       "\n",
       "    root._bokeh_onload_callbacks.push(callback);\n",
       "    if (root._bokeh_is_loading > 0) {\n",
       "      console.debug(\"Bokeh: BokehJS is being loaded, scheduling callback at\", now());\n",
       "      return null;\n",
       "    }\n",
       "    if (js_urls == null || js_urls.length === 0) {\n",
       "      run_callbacks();\n",
       "      return null;\n",
       "    }\n",
       "    console.debug(\"Bokeh: BokehJS not loaded, scheduling load and callback at\", now());\n",
       "    root._bokeh_is_loading = css_urls.length + js_urls.length;\n",
       "\n",
       "    function on_load() {\n",
       "      root._bokeh_is_loading--;\n",
       "      if (root._bokeh_is_loading === 0) {\n",
       "        console.debug(\"Bokeh: all BokehJS libraries/stylesheets loaded\");\n",
       "        run_callbacks()\n",
       "      }\n",
       "    }\n",
       "\n",
       "    function on_error() {\n",
       "      console.error(\"failed to load \" + url);\n",
       "    }\n",
       "\n",
       "    for (var i = 0; i < css_urls.length; i++) {\n",
       "      var url = css_urls[i];\n",
       "      const element = document.createElement(\"link\");\n",
       "      element.onload = on_load;\n",
       "      element.onerror = on_error;\n",
       "      element.rel = \"stylesheet\";\n",
       "      element.type = \"text/css\";\n",
       "      element.href = url;\n",
       "      console.debug(\"Bokeh: injecting link tag for BokehJS stylesheet: \", url);\n",
       "      document.body.appendChild(element);\n",
       "    }\n",
       "\n",
       "    const hashes = {\"https://cdn.bokeh.org/bokeh/release/bokeh-2.2.3.min.js\": \"T2yuo9Oe71Cz/I4X9Ac5+gpEa5a8PpJCDlqKYO0CfAuEszu1JrXLl8YugMqYe3sM\", \"https://cdn.bokeh.org/bokeh/release/bokeh-widgets-2.2.3.min.js\": \"98GDGJ0kOMCUMUePhksaQ/GYgB3+NH9h996V88sh3aOiUNX3N+fLXAtry6xctSZ6\", \"https://cdn.bokeh.org/bokeh/release/bokeh-tables-2.2.3.min.js\": \"89bArO+nlbP3sgakeHjCo1JYxYR5wufVgA3IbUvDY+K7w4zyxJqssu7wVnfeKCq8\"};\n",
       "\n",
       "    for (var i = 0; i < js_urls.length; i++) {\n",
       "      var url = js_urls[i];\n",
       "      var element = document.createElement('script');\n",
       "      element.onload = on_load;\n",
       "      element.onerror = on_error;\n",
       "      element.async = false;\n",
       "      element.src = url;\n",
       "      if (url in hashes) {\n",
       "        element.crossOrigin = \"anonymous\";\n",
       "        element.integrity = \"sha384-\" + hashes[url];\n",
       "      }\n",
       "      console.debug(\"Bokeh: injecting script tag for BokehJS library: \", url);\n",
       "      document.head.appendChild(element);\n",
       "    }\n",
       "  };\n",
       "\n",
       "  function inject_raw_css(css) {\n",
       "    const element = document.createElement(\"style\");\n",
       "    element.appendChild(document.createTextNode(css));\n",
       "    document.body.appendChild(element);\n",
       "  }\n",
       "\n",
       "  \n",
       "  var js_urls = [\"https://cdn.bokeh.org/bokeh/release/bokeh-2.2.3.min.js\", \"https://cdn.bokeh.org/bokeh/release/bokeh-widgets-2.2.3.min.js\", \"https://cdn.bokeh.org/bokeh/release/bokeh-tables-2.2.3.min.js\"];\n",
       "  var css_urls = [];\n",
       "  \n",
       "\n",
       "  var inline_js = [\n",
       "    function(Bokeh) {\n",
       "      Bokeh.set_log_level(\"info\");\n",
       "    },\n",
       "    function(Bokeh) {\n",
       "    \n",
       "    \n",
       "    }\n",
       "  ];\n",
       "\n",
       "  function run_inline_js() {\n",
       "    \n",
       "    if (root.Bokeh !== undefined || force === true) {\n",
       "      \n",
       "    for (var i = 0; i < inline_js.length; i++) {\n",
       "      inline_js[i].call(root, root.Bokeh);\n",
       "    }\n",
       "    if (force === true) {\n",
       "        display_loaded();\n",
       "      }} else if (Date.now() < root._bokeh_timeout) {\n",
       "      setTimeout(run_inline_js, 100);\n",
       "    } else if (!root._bokeh_failed_load) {\n",
       "      console.log(\"Bokeh: BokehJS failed to load within specified timeout.\");\n",
       "      root._bokeh_failed_load = true;\n",
       "    } else if (force !== true) {\n",
       "      var cell = $(document.getElementById(\"1001\")).parents('.cell').data().cell;\n",
       "      cell.output_area.append_execute_result(NB_LOAD_WARNING)\n",
       "    }\n",
       "\n",
       "  }\n",
       "\n",
       "  if (root._bokeh_is_loading === 0) {\n",
       "    console.debug(\"Bokeh: BokehJS loaded, going straight to plotting\");\n",
       "    run_inline_js();\n",
       "  } else {\n",
       "    load_libs(css_urls, js_urls, function() {\n",
       "      console.debug(\"Bokeh: BokehJS plotting callback run at\", now());\n",
       "      run_inline_js();\n",
       "    });\n",
       "  }\n",
       "}(window));"
      ],
      "application/vnd.bokehjs_load.v0+json": "\n(function(root) {\n  function now() {\n    return new Date();\n  }\n\n  var force = true;\n\n  if (typeof root._bokeh_onload_callbacks === \"undefined\" || force === true) {\n    root._bokeh_onload_callbacks = [];\n    root._bokeh_is_loading = undefined;\n  }\n\n  \n\n  \n  if (typeof (root._bokeh_timeout) === \"undefined\" || force === true) {\n    root._bokeh_timeout = Date.now() + 5000;\n    root._bokeh_failed_load = false;\n  }\n\n  var NB_LOAD_WARNING = {'data': {'text/html':\n     \"<div style='background-color: #fdd'>\\n\"+\n     \"<p>\\n\"+\n     \"BokehJS does not appear to have successfully loaded. If loading BokehJS from CDN, this \\n\"+\n     \"may be due to a slow or bad network connection. Possible fixes:\\n\"+\n     \"</p>\\n\"+\n     \"<ul>\\n\"+\n     \"<li>re-rerun `output_notebook()` to attempt to load from CDN again, or</li>\\n\"+\n     \"<li>use INLINE resources instead, as so:</li>\\n\"+\n     \"</ul>\\n\"+\n     \"<code>\\n\"+\n     \"from bokeh.resources import INLINE\\n\"+\n     \"output_notebook(resources=INLINE)\\n\"+\n     \"</code>\\n\"+\n     \"</div>\"}};\n\n  function display_loaded() {\n    var el = document.getElementById(\"1001\");\n    if (el != null) {\n      el.textContent = \"BokehJS is loading...\";\n    }\n    if (root.Bokeh !== undefined) {\n      if (el != null) {\n        el.textContent = \"BokehJS \" + root.Bokeh.version + \" successfully loaded.\";\n      }\n    } else if (Date.now() < root._bokeh_timeout) {\n      setTimeout(display_loaded, 100)\n    }\n  }\n\n\n  function run_callbacks() {\n    try {\n      root._bokeh_onload_callbacks.forEach(function(callback) {\n        if (callback != null)\n          callback();\n      });\n    } finally {\n      delete root._bokeh_onload_callbacks\n    }\n    console.debug(\"Bokeh: all callbacks have finished\");\n  }\n\n  function load_libs(css_urls, js_urls, callback) {\n    if (css_urls == null) css_urls = [];\n    if (js_urls == null) js_urls = [];\n\n    root._bokeh_onload_callbacks.push(callback);\n    if (root._bokeh_is_loading > 0) {\n      console.debug(\"Bokeh: BokehJS is being loaded, scheduling callback at\", now());\n      return null;\n    }\n    if (js_urls == null || js_urls.length === 0) {\n      run_callbacks();\n      return null;\n    }\n    console.debug(\"Bokeh: BokehJS not loaded, scheduling load and callback at\", now());\n    root._bokeh_is_loading = css_urls.length + js_urls.length;\n\n    function on_load() {\n      root._bokeh_is_loading--;\n      if (root._bokeh_is_loading === 0) {\n        console.debug(\"Bokeh: all BokehJS libraries/stylesheets loaded\");\n        run_callbacks()\n      }\n    }\n\n    function on_error() {\n      console.error(\"failed to load \" + url);\n    }\n\n    for (var i = 0; i < css_urls.length; i++) {\n      var url = css_urls[i];\n      const element = document.createElement(\"link\");\n      element.onload = on_load;\n      element.onerror = on_error;\n      element.rel = \"stylesheet\";\n      element.type = \"text/css\";\n      element.href = url;\n      console.debug(\"Bokeh: injecting link tag for BokehJS stylesheet: \", url);\n      document.body.appendChild(element);\n    }\n\n    const hashes = {\"https://cdn.bokeh.org/bokeh/release/bokeh-2.2.3.min.js\": \"T2yuo9Oe71Cz/I4X9Ac5+gpEa5a8PpJCDlqKYO0CfAuEszu1JrXLl8YugMqYe3sM\", \"https://cdn.bokeh.org/bokeh/release/bokeh-widgets-2.2.3.min.js\": \"98GDGJ0kOMCUMUePhksaQ/GYgB3+NH9h996V88sh3aOiUNX3N+fLXAtry6xctSZ6\", \"https://cdn.bokeh.org/bokeh/release/bokeh-tables-2.2.3.min.js\": \"89bArO+nlbP3sgakeHjCo1JYxYR5wufVgA3IbUvDY+K7w4zyxJqssu7wVnfeKCq8\"};\n\n    for (var i = 0; i < js_urls.length; i++) {\n      var url = js_urls[i];\n      var element = document.createElement('script');\n      element.onload = on_load;\n      element.onerror = on_error;\n      element.async = false;\n      element.src = url;\n      if (url in hashes) {\n        element.crossOrigin = \"anonymous\";\n        element.integrity = \"sha384-\" + hashes[url];\n      }\n      console.debug(\"Bokeh: injecting script tag for BokehJS library: \", url);\n      document.head.appendChild(element);\n    }\n  };\n\n  function inject_raw_css(css) {\n    const element = document.createElement(\"style\");\n    element.appendChild(document.createTextNode(css));\n    document.body.appendChild(element);\n  }\n\n  \n  var js_urls = [\"https://cdn.bokeh.org/bokeh/release/bokeh-2.2.3.min.js\", \"https://cdn.bokeh.org/bokeh/release/bokeh-widgets-2.2.3.min.js\", \"https://cdn.bokeh.org/bokeh/release/bokeh-tables-2.2.3.min.js\"];\n  var css_urls = [];\n  \n\n  var inline_js = [\n    function(Bokeh) {\n      Bokeh.set_log_level(\"info\");\n    },\n    function(Bokeh) {\n    \n    \n    }\n  ];\n\n  function run_inline_js() {\n    \n    if (root.Bokeh !== undefined || force === true) {\n      \n    for (var i = 0; i < inline_js.length; i++) {\n      inline_js[i].call(root, root.Bokeh);\n    }\n    if (force === true) {\n        display_loaded();\n      }} else if (Date.now() < root._bokeh_timeout) {\n      setTimeout(run_inline_js, 100);\n    } else if (!root._bokeh_failed_load) {\n      console.log(\"Bokeh: BokehJS failed to load within specified timeout.\");\n      root._bokeh_failed_load = true;\n    } else if (force !== true) {\n      var cell = $(document.getElementById(\"1001\")).parents('.cell').data().cell;\n      cell.output_area.append_execute_result(NB_LOAD_WARNING)\n    }\n\n  }\n\n  if (root._bokeh_is_loading === 0) {\n    console.debug(\"Bokeh: BokehJS loaded, going straight to plotting\");\n    run_inline_js();\n  } else {\n    load_libs(css_urls, js_urls, function() {\n      console.debug(\"Bokeh: BokehJS plotting callback run at\", now());\n      run_inline_js();\n    });\n  }\n}(window));"
     },
     "metadata": {},
     "output_type": "display_data"
    }
   ],
   "source": [
    "import arviz as az\n",
    "import numpy as np\n",
    "import pymc3 as pm\n",
    "import pandas as pd\n",
    "\n",
    "from scipy import stats\n",
    "from numerapi import NumerAPI\n",
    "from tqdm.notebook import tqdm\n",
    "\n",
    "from bokeh.io import output_notebook, show\n",
    "from bokeh.models import Span\n",
    "from bokeh.plotting import figure\n",
    "\n",
    "output_notebook()"
   ]
  },
  {
   "cell_type": "code",
   "execution_count": 2,
   "metadata": {},
   "outputs": [],
   "source": [
    "import logging\n",
    "\n",
    "logging.getLogger('pymc3').setLevel(logging.CRITICAL)\n",
    "logging.getLogger('filelock').setLevel(logging.WARNING)\n",
    "logging.getLogger('numexpr.utils').setLevel(logging.WARNING)"
   ]
  },
  {
   "cell_type": "code",
   "execution_count": 3,
   "metadata": {},
   "outputs": [],
   "source": [
    "napi = NumerAPI()\n",
    "\n",
    "\n",
    "def get_metrics(username):\n",
    "    try:\n",
    "        df = pd.DataFrame(napi.daily_submissions_performances(username))\n",
    "    except:\n",
    "        return None\n",
    "\n",
    "    results = []\n",
    "    for name, group in df.groupby('roundNumber'):\n",
    "        values = group.drop(['correlationWithMetamodel', 'fnc'], axis=1).dropna()\n",
    "        if values.shape[0] > 0:\n",
    "            values = values.sort_values('date').tail(1).to_dict('records')[0]\n",
    "            results.append({\n",
    "                'round': name,\n",
    "                'corr': values['correlation'],\n",
    "                'mmc': values['mmc'],\n",
    "                'corr+mmc': values['correlation'] + values['mmc'],\n",
    "            })\n",
    "    return pd.DataFrame(results)"
   ]
  },
  {
   "cell_type": "code",
   "execution_count": 4,
   "metadata": {},
   "outputs": [],
   "source": [
    "def get_summary_mean(observed, hdi_prob=0.98):\n",
    "     with pm.Model():\n",
    "        prior_mean = pm.Normal('mean', mu=0, sigma=1)\n",
    "        prior_std = pm.HalfNormal('std', sigma=0.4 / 6)\n",
    "        likelihood = pm.Normal('likelihood', mu=prior_mean, sigma=prior_std, observed=observed)\n",
    "\n",
    "        trace = pm.sample(2000, return_inferencedata=True, progressbar=False)\n",
    "        return az.summary(trace, hdi_prob=hdi_prob).T['mean'].to_dict()"
   ]
  },
  {
   "cell_type": "code",
   "execution_count": 5,
   "metadata": {},
   "outputs": [],
   "source": [
    "def get_convergence(metrics, metric_name='corr+mmc', n_rounds=30):\n",
    "    stats = []\n",
    "    for n in tqdm(list(range(1, n_rounds+1)), leave=False):\n",
    "        df = metrics.tail(n)\n",
    "\n",
    "        if len(df) < n:\n",
    "            continue\n",
    "\n",
    "        idx = df['round'].values[0]\n",
    "        observed = df[metric_name].values\n",
    "        summary = get_summary_mean(observed)\n",
    "        stats.append({\n",
    "            'round': idx,\n",
    "            'mean': summary['mean'],\n",
    "            'lower': summary['hdi_1%'],\n",
    "            'higher': summary['hdi_99%'],\n",
    "        })\n",
    "\n",
    "    stats = pd.DataFrame(stats)\n",
    "    return metrics.merge(stats, on='round')"
   ]
  },
  {
   "cell_type": "code",
   "execution_count": 6,
   "metadata": {
    "scrolled": true
   },
   "outputs": [],
   "source": [
    "def get_timeseries(metrics, metric_name='corr+mmc', n_rounds=30, n_points=20):\n",
    "    stats = []\n",
    "    for n in tqdm(list(range(n_rounds)), leave=False):\n",
    "        df = metrics.head(len(metrics) - n)\n",
    "        df = df.tail(n_points)\n",
    "\n",
    "        if len(df) < 1:\n",
    "            continue\n",
    "\n",
    "        idx = df['round'].values[-1]\n",
    "        observed = df[metric_name].values\n",
    "        summary = get_summary_mean(observed)\n",
    "        stats.append({\n",
    "            'round': idx,\n",
    "            'mean': summary['mean'],\n",
    "            'lower': summary['hdi_1%'],\n",
    "            'higher': summary['hdi_99%'],\n",
    "        })\n",
    "\n",
    "    stats = pd.DataFrame(stats)\n",
    "    return metrics.merge(stats, on='round')"
   ]
  },
  {
   "cell_type": "code",
   "execution_count": 7,
   "metadata": {},
   "outputs": [],
   "source": [
    "def plot_series(data, title='', metric_name='corr+mmc'):\n",
    "    plt = figure(width=900, height=300, y_range=(-0.26, 0.26), title=title)\n",
    "\n",
    "    plt.varea(data['round'], data['lower'], data['higher'], color='gray', alpha=0.1, legend_label='hdi')\n",
    "\n",
    "    plt.line(data['round'], data['mean'], color='green', line_width=1, legend_label='mean')\n",
    "\n",
    "    plt.line(data['round'], data[metric_name], color='blue', line_width=1, legend_label='metric')\n",
    "    plt.circle(data['round'], data[metric_name], color='blue', line_width=1, legend_label='metric')\n",
    "\n",
    "    if len(data) > 19:\n",
    "        plt.add_layout(Span(location=data['round'].max() - 19,\n",
    "                            dimension='height',\n",
    "                            line_color='gray',\n",
    "                            line_dash='dashed'))\n",
    "\n",
    "    if len(data) > 4:\n",
    "        plt.add_layout(Span(location=data['round'].max() - 3,\n",
    "                            dimension='height',\n",
    "                            line_color='gray',\n",
    "                            line_dash='dashed'))\n",
    "\n",
    "    plt.legend.location = 'bottom_left'\n",
    "    plt.legend.click_policy = 'hide'\n",
    "    return plt"
   ]
  },
  {
   "cell_type": "code",
   "execution_count": 8,
   "metadata": {},
   "outputs": [
    {
     "data": {
      "application/vnd.jupyter.widget-view+json": {
       "model_id": "f700de6e3d154d71a14f3468f92575a7",
       "version_major": 2,
       "version_minor": 0
      },
      "text/plain": [
       "HBox(children=(HTML(value=''), FloatProgress(value=0.0, max=10.0), HTML(value='')))"
      ]
     },
     "metadata": {},
     "output_type": "display_data"
    },
    {
     "name": "stdout",
     "output_type": "stream",
     "text": [
      "\n"
     ]
    }
   ],
   "source": [
    "accounts = [\n",
    "    'arbitrage',\n",
    "    'benben11',\n",
    "    'hiryuu',\n",
    "    'integration_test_7',\n",
    "    'jrb',\n",
    "    'nasdaqjockey',\n",
    "    'niam',\n",
    "    'sorios',\n",
    "    'themicon',\n",
    "    'uuazed',\n",
    "]\n",
    "\n",
    "results = {n: get_metrics(n) for n in tqdm(accounts)}"
   ]
  },
  {
   "cell_type": "code",
   "execution_count": 9,
   "metadata": {
    "scrolled": true
   },
   "outputs": [
    {
     "data": {
      "application/vnd.jupyter.widget-view+json": {
       "model_id": "150b7e6cfd544f2297d7fe3b47bfbea9",
       "version_major": 2,
       "version_minor": 0
      },
      "text/plain": [
       "HBox(children=(HTML(value=''), FloatProgress(value=0.0, max=10.0), HTML(value='')))"
      ]
     },
     "metadata": {},
     "output_type": "display_data"
    },
    {
     "data": {
      "application/vnd.jupyter.widget-view+json": {
       "model_id": "",
       "version_major": 2,
       "version_minor": 0
      },
      "text/plain": [
       "HBox(children=(HTML(value=''), FloatProgress(value=0.0, max=30.0), HTML(value='')))"
      ]
     },
     "metadata": {},
     "output_type": "display_data"
    },
    {
     "data": {
      "application/vnd.jupyter.widget-view+json": {
       "model_id": "",
       "version_major": 2,
       "version_minor": 0
      },
      "text/plain": [
       "HBox(children=(HTML(value=''), FloatProgress(value=0.0, max=30.0), HTML(value='')))"
      ]
     },
     "metadata": {},
     "output_type": "display_data"
    },
    {
     "data": {
      "application/vnd.jupyter.widget-view+json": {
       "model_id": "",
       "version_major": 2,
       "version_minor": 0
      },
      "text/plain": [
       "HBox(children=(HTML(value=''), FloatProgress(value=0.0, max=30.0), HTML(value='')))"
      ]
     },
     "metadata": {},
     "output_type": "display_data"
    },
    {
     "data": {
      "application/vnd.jupyter.widget-view+json": {
       "model_id": "",
       "version_major": 2,
       "version_minor": 0
      },
      "text/plain": [
       "HBox(children=(HTML(value=''), FloatProgress(value=0.0, max=30.0), HTML(value='')))"
      ]
     },
     "metadata": {},
     "output_type": "display_data"
    },
    {
     "data": {
      "application/vnd.jupyter.widget-view+json": {
       "model_id": "",
       "version_major": 2,
       "version_minor": 0
      },
      "text/plain": [
       "HBox(children=(HTML(value=''), FloatProgress(value=0.0, max=30.0), HTML(value='')))"
      ]
     },
     "metadata": {},
     "output_type": "display_data"
    },
    {
     "data": {
      "application/vnd.jupyter.widget-view+json": {
       "model_id": "",
       "version_major": 2,
       "version_minor": 0
      },
      "text/plain": [
       "HBox(children=(HTML(value=''), FloatProgress(value=0.0, max=30.0), HTML(value='')))"
      ]
     },
     "metadata": {},
     "output_type": "display_data"
    },
    {
     "data": {
      "application/vnd.jupyter.widget-view+json": {
       "model_id": "",
       "version_major": 2,
       "version_minor": 0
      },
      "text/plain": [
       "HBox(children=(HTML(value=''), FloatProgress(value=0.0, max=30.0), HTML(value='')))"
      ]
     },
     "metadata": {},
     "output_type": "display_data"
    },
    {
     "data": {
      "application/vnd.jupyter.widget-view+json": {
       "model_id": "",
       "version_major": 2,
       "version_minor": 0
      },
      "text/plain": [
       "HBox(children=(HTML(value=''), FloatProgress(value=0.0, max=30.0), HTML(value='')))"
      ]
     },
     "metadata": {},
     "output_type": "display_data"
    },
    {
     "data": {
      "application/vnd.jupyter.widget-view+json": {
       "model_id": "",
       "version_major": 2,
       "version_minor": 0
      },
      "text/plain": [
       "HBox(children=(HTML(value=''), FloatProgress(value=0.0, max=30.0), HTML(value='')))"
      ]
     },
     "metadata": {},
     "output_type": "display_data"
    },
    {
     "data": {
      "application/vnd.jupyter.widget-view+json": {
       "model_id": "",
       "version_major": 2,
       "version_minor": 0
      },
      "text/plain": [
       "HBox(children=(HTML(value=''), FloatProgress(value=0.0, max=30.0), HTML(value='')))"
      ]
     },
     "metadata": {},
     "output_type": "display_data"
    },
    {
     "name": "stdout",
     "output_type": "stream",
     "text": [
      "\n"
     ]
    }
   ],
   "source": [
    "convergences = {k: get_convergence(v) for k, v in tqdm(results.items())}"
   ]
  },
  {
   "cell_type": "code",
   "execution_count": 10,
   "metadata": {
    "scrolled": true
   },
   "outputs": [
    {
     "data": {
      "application/vnd.jupyter.widget-view+json": {
       "model_id": "a0fc5e9505f94f95a2be4f56d53c9b59",
       "version_major": 2,
       "version_minor": 0
      },
      "text/plain": [
       "HBox(children=(HTML(value=''), FloatProgress(value=0.0, max=10.0), HTML(value='')))"
      ]
     },
     "metadata": {},
     "output_type": "display_data"
    },
    {
     "data": {
      "application/vnd.jupyter.widget-view+json": {
       "model_id": "",
       "version_major": 2,
       "version_minor": 0
      },
      "text/plain": [
       "HBox(children=(HTML(value=''), FloatProgress(value=0.0, max=30.0), HTML(value='')))"
      ]
     },
     "metadata": {},
     "output_type": "display_data"
    },
    {
     "data": {
      "application/vnd.jupyter.widget-view+json": {
       "model_id": "",
       "version_major": 2,
       "version_minor": 0
      },
      "text/plain": [
       "HBox(children=(HTML(value=''), FloatProgress(value=0.0, max=30.0), HTML(value='')))"
      ]
     },
     "metadata": {},
     "output_type": "display_data"
    },
    {
     "data": {
      "application/vnd.jupyter.widget-view+json": {
       "model_id": "",
       "version_major": 2,
       "version_minor": 0
      },
      "text/plain": [
       "HBox(children=(HTML(value=''), FloatProgress(value=0.0, max=30.0), HTML(value='')))"
      ]
     },
     "metadata": {},
     "output_type": "display_data"
    },
    {
     "data": {
      "application/vnd.jupyter.widget-view+json": {
       "model_id": "",
       "version_major": 2,
       "version_minor": 0
      },
      "text/plain": [
       "HBox(children=(HTML(value=''), FloatProgress(value=0.0, max=30.0), HTML(value='')))"
      ]
     },
     "metadata": {},
     "output_type": "display_data"
    },
    {
     "data": {
      "application/vnd.jupyter.widget-view+json": {
       "model_id": "",
       "version_major": 2,
       "version_minor": 0
      },
      "text/plain": [
       "HBox(children=(HTML(value=''), FloatProgress(value=0.0, max=30.0), HTML(value='')))"
      ]
     },
     "metadata": {},
     "output_type": "display_data"
    },
    {
     "data": {
      "application/vnd.jupyter.widget-view+json": {
       "model_id": "",
       "version_major": 2,
       "version_minor": 0
      },
      "text/plain": [
       "HBox(children=(HTML(value=''), FloatProgress(value=0.0, max=30.0), HTML(value='')))"
      ]
     },
     "metadata": {},
     "output_type": "display_data"
    },
    {
     "data": {
      "application/vnd.jupyter.widget-view+json": {
       "model_id": "",
       "version_major": 2,
       "version_minor": 0
      },
      "text/plain": [
       "HBox(children=(HTML(value=''), FloatProgress(value=0.0, max=30.0), HTML(value='')))"
      ]
     },
     "metadata": {},
     "output_type": "display_data"
    },
    {
     "data": {
      "application/vnd.jupyter.widget-view+json": {
       "model_id": "",
       "version_major": 2,
       "version_minor": 0
      },
      "text/plain": [
       "HBox(children=(HTML(value=''), FloatProgress(value=0.0, max=30.0), HTML(value='')))"
      ]
     },
     "metadata": {},
     "output_type": "display_data"
    },
    {
     "data": {
      "application/vnd.jupyter.widget-view+json": {
       "model_id": "",
       "version_major": 2,
       "version_minor": 0
      },
      "text/plain": [
       "HBox(children=(HTML(value=''), FloatProgress(value=0.0, max=30.0), HTML(value='')))"
      ]
     },
     "metadata": {},
     "output_type": "display_data"
    },
    {
     "data": {
      "application/vnd.jupyter.widget-view+json": {
       "model_id": "",
       "version_major": 2,
       "version_minor": 0
      },
      "text/plain": [
       "HBox(children=(HTML(value=''), FloatProgress(value=0.0, max=30.0), HTML(value='')))"
      ]
     },
     "metadata": {},
     "output_type": "display_data"
    },
    {
     "name": "stdout",
     "output_type": "stream",
     "text": [
      "\n"
     ]
    }
   ],
   "source": [
    "timeseries = {k: get_timeseries(v) for k, v in tqdm(results.items())}"
   ]
  },
  {
   "cell_type": "markdown",
   "metadata": {},
   "source": [
    "# Plots"
   ]
  },
  {
   "cell_type": "code",
   "execution_count": 11,
   "metadata": {},
   "outputs": [
    {
     "data": {
      "text/html": [
       "\n",
       "\n",
       "\n",
       "\n",
       "\n",
       "\n",
       "  <div class=\"bk-root\" id=\"e8d09826-d049-48e7-a238-be2030340bd2\" data-root-id=\"1002\"></div>\n"
      ]
     },
     "metadata": {},
     "output_type": "display_data"
    },
    {
     "data": {
      "application/javascript": [
       "(function(root) {\n",
       "  function embed_document(root) {\n",
       "    \n",
       "  var docs_json = {\"38ed6878-798f-443d-bb70-3debeb994395\":{\"roots\":{\"references\":[{\"attributes\":{\"below\":[{\"id\":\"1013\"}],\"center\":[{\"id\":\"1016\"},{\"id\":\"1020\"},{\"id\":\"1048\"},{\"id\":\"1103\"},{\"id\":\"1104\"}],\"left\":[{\"id\":\"1017\"}],\"plot_height\":300,\"plot_width\":900,\"renderers\":[{\"id\":\"1038\"},{\"id\":\"1053\"},{\"id\":\"1069\"},{\"id\":\"1087\"}],\"title\":{\"id\":\"1003\"},\"toolbar\":{\"id\":\"1028\"},\"x_range\":{\"id\":\"1005\"},\"x_scale\":{\"id\":\"1009\"},\"y_range\":{\"id\":\"1007\"},\"y_scale\":{\"id\":\"1011\"}},\"id\":\"1002\",\"subtype\":\"Figure\",\"type\":\"Plot\"},{\"attributes\":{\"label\":{\"value\":\"hdi\"},\"renderers\":[{\"id\":\"1038\"}]},\"id\":\"1049\",\"type\":\"LegendItem\"},{\"attributes\":{},\"id\":\"1063\",\"type\":\"UnionRenderers\"},{\"attributes\":{\"click_policy\":\"hide\",\"items\":[{\"id\":\"1049\"},{\"id\":\"1065\"},{\"id\":\"1083\"}],\"location\":\"bottom_left\"},\"id\":\"1048\",\"type\":\"Legend\"},{\"attributes\":{\"line_color\":\"blue\",\"x\":{\"field\":\"x\"},\"y\":{\"field\":\"y\"}},\"id\":\"1067\",\"type\":\"Line\"},{\"attributes\":{\"bottom_units\":\"screen\",\"fill_alpha\":0.5,\"fill_color\":\"lightgrey\",\"left_units\":\"screen\",\"level\":\"overlay\",\"line_alpha\":1.0,\"line_color\":\"black\",\"line_dash\":[4,4],\"line_width\":2,\"right_units\":\"screen\",\"top_units\":\"screen\"},\"id\":\"1027\",\"type\":\"BoxAnnotation\"},{\"attributes\":{\"active_drag\":\"auto\",\"active_inspect\":\"auto\",\"active_multi\":null,\"active_scroll\":\"auto\",\"active_tap\":\"auto\",\"tools\":[{\"id\":\"1021\"},{\"id\":\"1022\"},{\"id\":\"1023\"},{\"id\":\"1024\"},{\"id\":\"1025\"},{\"id\":\"1026\"}]},\"id\":\"1028\",\"type\":\"Toolbar\"},{\"attributes\":{},\"id\":\"1064\",\"type\":\"Selection\"},{\"attributes\":{\"label\":{\"value\":\"metric\"},\"renderers\":[{\"id\":\"1069\"},{\"id\":\"1087\"}]},\"id\":\"1083\",\"type\":\"LegendItem\"},{\"attributes\":{\"end\":0.26,\"start\":-0.26},\"id\":\"1007\",\"type\":\"Range1d\"},{\"attributes\":{\"data_source\":{\"id\":\"1066\"},\"glyph\":{\"id\":\"1067\"},\"hover_glyph\":null,\"muted_glyph\":null,\"nonselection_glyph\":{\"id\":\"1068\"},\"selection_glyph\":null,\"view\":{\"id\":\"1070\"}},\"id\":\"1069\",\"type\":\"GlyphRenderer\"},{\"attributes\":{\"fill_alpha\":0.1,\"x\":{\"field\":\"x\"},\"y1\":{\"field\":\"y1\"},\"y2\":{\"field\":\"y2\"}},\"id\":\"1037\",\"type\":\"VArea\"},{\"attributes\":{\"source\":{\"id\":\"1050\"}},\"id\":\"1054\",\"type\":\"CDSView\"},{\"attributes\":{},\"id\":\"1101\",\"type\":\"UnionRenderers\"},{\"attributes\":{},\"id\":\"1011\",\"type\":\"LinearScale\"},{\"attributes\":{\"data_source\":{\"id\":\"1050\"},\"glyph\":{\"id\":\"1051\"},\"hover_glyph\":null,\"muted_glyph\":null,\"nonselection_glyph\":{\"id\":\"1052\"},\"selection_glyph\":null,\"view\":{\"id\":\"1054\"}},\"id\":\"1053\",\"type\":\"GlyphRenderer\"},{\"attributes\":{},\"id\":\"1024\",\"type\":\"SaveTool\"},{\"attributes\":{\"label\":{\"value\":\"mean\"},\"renderers\":[{\"id\":\"1053\"}]},\"id\":\"1065\",\"type\":\"LegendItem\"},{\"attributes\":{\"source\":{\"id\":\"1035\"}},\"id\":\"1039\",\"type\":\"CDSView\"},{\"attributes\":{\"fill_alpha\":{\"value\":0.1},\"fill_color\":{\"value\":\"blue\"},\"line_alpha\":{\"value\":0.1},\"line_color\":{\"value\":\"blue\"},\"x\":{\"field\":\"x\"},\"y\":{\"field\":\"y\"}},\"id\":\"1086\",\"type\":\"Circle\"},{\"attributes\":{\"data_source\":{\"id\":\"1084\"},\"glyph\":{\"id\":\"1085\"},\"hover_glyph\":null,\"muted_glyph\":null,\"nonselection_glyph\":{\"id\":\"1086\"},\"selection_glyph\":null,\"view\":{\"id\":\"1088\"}},\"id\":\"1087\",\"type\":\"GlyphRenderer\"},{\"attributes\":{},\"id\":\"1005\",\"type\":\"DataRange1d\"},{\"attributes\":{},\"id\":\"1021\",\"type\":\"PanTool\"},{\"attributes\":{\"overlay\":{\"id\":\"1027\"}},\"id\":\"1023\",\"type\":\"BoxZoomTool\"},{\"attributes\":{},\"id\":\"1102\",\"type\":\"Selection\"},{\"attributes\":{\"axis\":{\"id\":\"1017\"},\"dimension\":1,\"ticker\":null},\"id\":\"1020\",\"type\":\"Grid\"},{\"attributes\":{},\"id\":\"1025\",\"type\":\"ResetTool\"},{\"attributes\":{},\"id\":\"1041\",\"type\":\"BasicTickFormatter\"},{\"attributes\":{\"axis\":{\"id\":\"1013\"},\"ticker\":null},\"id\":\"1016\",\"type\":\"Grid\"},{\"attributes\":{\"line_alpha\":0.1,\"line_color\":\"green\",\"x\":{\"field\":\"x\"},\"y\":{\"field\":\"y\"}},\"id\":\"1052\",\"type\":\"Line\"},{\"attributes\":{\"dimension\":\"height\",\"line_color\":\"gray\",\"line_dash\":[6],\"location\":250},\"id\":\"1104\",\"type\":\"Span\"},{\"attributes\":{\"formatter\":{\"id\":\"1041\"},\"ticker\":{\"id\":\"1014\"}},\"id\":\"1013\",\"type\":\"LinearAxis\"},{\"attributes\":{\"fill_color\":{\"value\":\"blue\"},\"line_color\":{\"value\":\"blue\"},\"x\":{\"field\":\"x\"},\"y\":{\"field\":\"y\"}},\"id\":\"1085\",\"type\":\"Circle\"},{\"attributes\":{\"line_color\":\"green\",\"x\":{\"field\":\"x\"},\"y\":{\"field\":\"y\"}},\"id\":\"1051\",\"type\":\"Line\"},{\"attributes\":{},\"id\":\"1043\",\"type\":\"BasicTickFormatter\"},{\"attributes\":{},\"id\":\"1009\",\"type\":\"LinearScale\"},{\"attributes\":{},\"id\":\"1081\",\"type\":\"UnionRenderers\"},{\"attributes\":{\"line_alpha\":0.1,\"line_color\":\"blue\",\"x\":{\"field\":\"x\"},\"y\":{\"field\":\"y\"}},\"id\":\"1068\",\"type\":\"Line\"},{\"attributes\":{},\"id\":\"1046\",\"type\":\"UnionRenderers\"},{\"attributes\":{},\"id\":\"1022\",\"type\":\"WheelZoomTool\"},{\"attributes\":{\"text\":\"Convergence - arbitrage\"},\"id\":\"1003\",\"type\":\"Title\"},{\"attributes\":{\"data\":{\"x\":[224,225,226,227,228,229,230,231,232,233,234,235,236,237,238,239,240,241,242,243,244,245,246,247,248,249,250,251,252,253],\"y\":{\"__ndarray__\":\"ahnike39q7+StcwlG62hv6Zm+fI3yI+/GnuYfvYboT+fonlhRbOmP5i3JWTqcrU/f7FEx2jioj9QaEr56Q5lPx9syUMrbGS/cYDeRaM+p78KoxYWhtKhP4JqwKAqo6c/k7cZ4fvOtD+3YybOEcKnP6wEwrGdjbU/qt4j9THvsz/jLZD903uoP/m78FjcP7M/kAPYw1Cbkz80ZnifpV2WPxhRxz/FBoi/2GGtJu6YSz94Gtdu+zSWP4at4VUX8Kc/fLujrv+Poj/BqyDA8MmPP2wg1V6qeIS/CKq4OSxsRj8U6tGqLpLyvjcXxlowx4k/\",\"dtype\":\"float64\",\"order\":\"little\",\"shape\":[30]}},\"selected\":{\"id\":\"1082\"},\"selection_policy\":{\"id\":\"1081\"}},\"id\":\"1066\",\"type\":\"ColumnDataSource\"},{\"attributes\":{\"dimension\":\"height\",\"line_color\":\"gray\",\"line_dash\":[6],\"location\":234},\"id\":\"1103\",\"type\":\"Span\"},{\"attributes\":{},\"id\":\"1018\",\"type\":\"BasicTicker\"},{\"attributes\":{},\"id\":\"1026\",\"type\":\"HelpTool\"},{\"attributes\":{\"data\":{\"x\":[224,225,226,227,228,229,230,231,232,233,234,235,236,237,238,239,240,241,242,243,244,245,246,247,248,249,250,251,252,253],\"y1\":{\"__ndarray__\":\"eekmMQisfD8730+Nl26CP/p+arx0k4g/eekmMQisjD956SYxCKyMP7pJDAIrh4Y/exSuR+F6hD8730+Nl26CPzvfT42XboI/exSuR+F6hD/8qfHSTWKQPzm0yHa+n4o/+n5qvHSTiD8730+Nl26CP/p+arx0k3g/+n5qvHSTaD/8qfHSTWJQP/yp8dJNYmC//Knx0k1iUL/8qfHSTWJwv/yp8dJNYoC/eekmMQisfL/6fmq8dJN4v7pJDAIrh4a/nMQgsHJokb97FK5H4XqUv7gehetRuJ6/mpmZmZmZqb9aZDvfT423vwIrhxbZzse/\",\"dtype\":\"float64\",\"order\":\"little\",\"shape\":[30]},\"y2\":{\"__ndarray__\":\"y6FFtvP9pD/LoUW28/2kPwrXo3A9Cqc/CtejcD0Kpz+q8dJNYhCoP1pkO99Pjac/ukkMAiuHpj+6SQwCK4emPwrXo3A9Cqc/SgwCK4cWqT/pJjEIrByqP+kmMQisHKo/ObTIdr6fqj/6fmq8dJOoP0oMAiuHFqk/arx0kxgEpj/b+X5qvHSjP+xRuB6F66E/eekmMQisnD8ZBFYOLbKdP1g5tMh2vp8/TDeJQWDloD+LbOf7qfGiPxsv3SQGgaU/7FG4HoXroT9aZDvfT42XP7gehetRuJ4/Gy/dJAaBpT+4HoXrUbi+P8UgsHJokc0/\",\"dtype\":\"float64\",\"order\":\"little\",\"shape\":[30]}},\"selected\":{\"id\":\"1047\"},\"selection_policy\":{\"id\":\"1046\"}},\"id\":\"1035\",\"type\":\"ColumnDataSource\"},{\"attributes\":{\"data_source\":{\"id\":\"1035\"},\"glyph\":{\"id\":\"1036\"},\"hover_glyph\":null,\"muted_glyph\":null,\"nonselection_glyph\":{\"id\":\"1037\"},\"selection_glyph\":null,\"view\":{\"id\":\"1039\"}},\"id\":\"1038\",\"type\":\"GlyphRenderer\"},{\"attributes\":{},\"id\":\"1047\",\"type\":\"Selection\"},{\"attributes\":{\"fill_alpha\":0.1,\"x\":{\"field\":\"x\"},\"y1\":{\"field\":\"y1\"},\"y2\":{\"field\":\"y2\"}},\"id\":\"1036\",\"type\":\"VArea\"},{\"attributes\":{},\"id\":\"1082\",\"type\":\"Selection\"},{\"attributes\":{\"source\":{\"id\":\"1066\"}},\"id\":\"1070\",\"type\":\"CDSView\"},{\"attributes\":{\"formatter\":{\"id\":\"1043\"},\"ticker\":{\"id\":\"1018\"}},\"id\":\"1017\",\"type\":\"LinearAxis\"},{\"attributes\":{\"source\":{\"id\":\"1084\"}},\"id\":\"1088\",\"type\":\"CDSView\"},{\"attributes\":{\"data\":{\"x\":[224,225,226,227,228,229,230,231,232,233,234,235,236,237,238,239,240,241,242,243,244,245,246,247,248,249,250,251,252,253],\"y\":{\"__ndarray__\":\"WmQ730+Nlz85tMh2vp+aP3npJjEIrJw/uB6F61G4nj+4HoXrUbiePxkEVg4tsp0/2c73U+Olmz85tMh2vp+aP9nO91PjpZs/GQRWDi2ynT/8qfHSTWKgP/yp8dJNYqA/WDm0yHa+nz8ZBFYOLbKdP9nO91PjpZs/+n5qvHSTmD97FK5H4XqUPzvfT42XbpI/ObTIdr6fij/6fmq8dJOIP7pJDAIrh4Y/eekmMQisjD/8qfHSTWKQP3npJjEIrIw/O99PjZdugj/8qfHSTWJwP/yp8dJNYlA//Knx0k1icD956SYxCKx8Pzm0yHa+n4o/\",\"dtype\":\"float64\",\"order\":\"little\",\"shape\":[30]}},\"selected\":{\"id\":\"1064\"},\"selection_policy\":{\"id\":\"1063\"}},\"id\":\"1050\",\"type\":\"ColumnDataSource\"},{\"attributes\":{},\"id\":\"1014\",\"type\":\"BasicTicker\"},{\"attributes\":{\"data\":{\"x\":[224,225,226,227,228,229,230,231,232,233,234,235,236,237,238,239,240,241,242,243,244,245,246,247,248,249,250,251,252,253],\"y\":{\"__ndarray__\":\"ahnike39q7+StcwlG62hv6Zm+fI3yI+/GnuYfvYboT+fonlhRbOmP5i3JWTqcrU/f7FEx2jioj9QaEr56Q5lPx9syUMrbGS/cYDeRaM+p78KoxYWhtKhP4JqwKAqo6c/k7cZ4fvOtD+3YybOEcKnP6wEwrGdjbU/qt4j9THvsz/jLZD903uoP/m78FjcP7M/kAPYw1Cbkz80ZnifpV2WPxhRxz/FBoi/2GGtJu6YSz94Gtdu+zSWP4at4VUX8Kc/fLujrv+Poj/BqyDA8MmPP2wg1V6qeIS/CKq4OSxsRj8U6tGqLpLyvjcXxlowx4k/\",\"dtype\":\"float64\",\"order\":\"little\",\"shape\":[30]}},\"selected\":{\"id\":\"1102\"},\"selection_policy\":{\"id\":\"1101\"}},\"id\":\"1084\",\"type\":\"ColumnDataSource\"}],\"root_ids\":[\"1002\"]},\"title\":\"Bokeh Application\",\"version\":\"2.2.3\"}};\n",
       "  var render_items = [{\"docid\":\"38ed6878-798f-443d-bb70-3debeb994395\",\"root_ids\":[\"1002\"],\"roots\":{\"1002\":\"e8d09826-d049-48e7-a238-be2030340bd2\"}}];\n",
       "  root.Bokeh.embed.embed_items_notebook(docs_json, render_items);\n",
       "\n",
       "  }\n",
       "  if (root.Bokeh !== undefined) {\n",
       "    embed_document(root);\n",
       "  } else {\n",
       "    var attempts = 0;\n",
       "    var timer = setInterval(function(root) {\n",
       "      if (root.Bokeh !== undefined) {\n",
       "        clearInterval(timer);\n",
       "        embed_document(root);\n",
       "      } else {\n",
       "        attempts++;\n",
       "        if (attempts > 100) {\n",
       "          clearInterval(timer);\n",
       "          console.log(\"Bokeh: ERROR: Unable to run BokehJS code because BokehJS library is missing\");\n",
       "        }\n",
       "      }\n",
       "    }, 10, root)\n",
       "  }\n",
       "})(window);"
      ],
      "application/vnd.bokehjs_exec.v0+json": ""
     },
     "metadata": {
      "application/vnd.bokehjs_exec.v0+json": {
       "id": "1002"
      }
     },
     "output_type": "display_data"
    },
    {
     "data": {
      "text/html": [
       "\n",
       "\n",
       "\n",
       "\n",
       "\n",
       "\n",
       "  <div class=\"bk-root\" id=\"8d80a723-4f44-4c1d-adc8-774397126050\" data-root-id=\"1189\"></div>\n"
      ]
     },
     "metadata": {},
     "output_type": "display_data"
    },
    {
     "data": {
      "application/javascript": [
       "(function(root) {\n",
       "  function embed_document(root) {\n",
       "    \n",
       "  var docs_json = {\"f0454c71-aa28-44ab-a49f-412db1cf8f5e\":{\"roots\":{\"references\":[{\"attributes\":{\"below\":[{\"id\":\"1200\"}],\"center\":[{\"id\":\"1203\"},{\"id\":\"1207\"},{\"id\":\"1235\"},{\"id\":\"1290\"},{\"id\":\"1291\"}],\"left\":[{\"id\":\"1204\"}],\"plot_height\":300,\"plot_width\":900,\"renderers\":[{\"id\":\"1225\"},{\"id\":\"1240\"},{\"id\":\"1256\"},{\"id\":\"1274\"}],\"title\":{\"id\":\"1190\"},\"toolbar\":{\"id\":\"1215\"},\"x_range\":{\"id\":\"1192\"},\"x_scale\":{\"id\":\"1196\"},\"y_range\":{\"id\":\"1194\"},\"y_scale\":{\"id\":\"1198\"}},\"id\":\"1189\",\"subtype\":\"Figure\",\"type\":\"Plot\"},{\"attributes\":{},\"id\":\"1211\",\"type\":\"SaveTool\"},{\"attributes\":{\"data\":{\"x\":[224,225,226,227,228,229,230,231,232,233,234,235,236,237,238,239,240,241,242,243,244,245,246,247,248,249,250,251,252,253],\"y\":{\"__ndarray__\":\"ahnike39q7+StcwlG62hv6Zm+fI3yI+/GnuYfvYboT+fonlhRbOmP5i3JWTqcrU/f7FEx2jioj9QaEr56Q5lPx9syUMrbGS/cYDeRaM+p78KoxYWhtKhP4JqwKAqo6c/k7cZ4fvOtD+3YybOEcKnP6wEwrGdjbU/qt4j9THvsz/jLZD903uoP/m78FjcP7M/kAPYw1Cbkz80ZnifpV2WPxhRxz/FBoi/2GGtJu6YSz94Gtdu+zSWP4at4VUX8Kc/fLujrv+Poj/BqyDA8MmPP2wg1V6qeIS/CKq4OSxsRj8U6tGqLpLyvjcXxlowx4k/\",\"dtype\":\"float64\",\"order\":\"little\",\"shape\":[30]}},\"selected\":{\"id\":\"1269\"},\"selection_policy\":{\"id\":\"1268\"}},\"id\":\"1253\",\"type\":\"ColumnDataSource\"},{\"attributes\":{},\"id\":\"1250\",\"type\":\"UnionRenderers\"},{\"attributes\":{},\"id\":\"1228\",\"type\":\"BasicTickFormatter\"},{\"attributes\":{\"label\":{\"value\":\"metric\"},\"renderers\":[{\"id\":\"1256\"},{\"id\":\"1274\"}]},\"id\":\"1270\",\"type\":\"LegendItem\"},{\"attributes\":{\"line_alpha\":0.1,\"line_color\":\"green\",\"x\":{\"field\":\"x\"},\"y\":{\"field\":\"y\"}},\"id\":\"1239\",\"type\":\"Line\"},{\"attributes\":{\"text\":\"Timeseries - arbitrage\"},\"id\":\"1190\",\"type\":\"Title\"},{\"attributes\":{\"bottom_units\":\"screen\",\"fill_alpha\":0.5,\"fill_color\":\"lightgrey\",\"left_units\":\"screen\",\"level\":\"overlay\",\"line_alpha\":1.0,\"line_color\":\"black\",\"line_dash\":[4,4],\"line_width\":2,\"right_units\":\"screen\",\"top_units\":\"screen\"},\"id\":\"1214\",\"type\":\"BoxAnnotation\"},{\"attributes\":{},\"id\":\"1209\",\"type\":\"WheelZoomTool\"},{\"attributes\":{\"end\":0.26,\"start\":-0.26},\"id\":\"1194\",\"type\":\"Range1d\"},{\"attributes\":{\"data_source\":{\"id\":\"1271\"},\"glyph\":{\"id\":\"1272\"},\"hover_glyph\":null,\"muted_glyph\":null,\"nonselection_glyph\":{\"id\":\"1273\"},\"selection_glyph\":null,\"view\":{\"id\":\"1275\"}},\"id\":\"1274\",\"type\":\"GlyphRenderer\"},{\"attributes\":{\"data_source\":{\"id\":\"1253\"},\"glyph\":{\"id\":\"1254\"},\"hover_glyph\":null,\"muted_glyph\":null,\"nonselection_glyph\":{\"id\":\"1255\"},\"selection_glyph\":null,\"view\":{\"id\":\"1257\"}},\"id\":\"1256\",\"type\":\"GlyphRenderer\"},{\"attributes\":{},\"id\":\"1251\",\"type\":\"Selection\"},{\"attributes\":{\"source\":{\"id\":\"1271\"}},\"id\":\"1275\",\"type\":\"CDSView\"},{\"attributes\":{\"line_color\":\"blue\",\"x\":{\"field\":\"x\"},\"y\":{\"field\":\"y\"}},\"id\":\"1254\",\"type\":\"Line\"},{\"attributes\":{\"dimension\":\"height\",\"line_color\":\"gray\",\"line_dash\":[6],\"location\":250},\"id\":\"1291\",\"type\":\"Span\"},{\"attributes\":{\"axis\":{\"id\":\"1204\"},\"dimension\":1,\"ticker\":null},\"id\":\"1207\",\"type\":\"Grid\"},{\"attributes\":{\"data_source\":{\"id\":\"1222\"},\"glyph\":{\"id\":\"1223\"},\"hover_glyph\":null,\"muted_glyph\":null,\"nonselection_glyph\":{\"id\":\"1224\"},\"selection_glyph\":null,\"view\":{\"id\":\"1226\"}},\"id\":\"1225\",\"type\":\"GlyphRenderer\"},{\"attributes\":{\"overlay\":{\"id\":\"1214\"}},\"id\":\"1210\",\"type\":\"BoxZoomTool\"},{\"attributes\":{},\"id\":\"1288\",\"type\":\"UnionRenderers\"},{\"attributes\":{\"label\":{\"value\":\"mean\"},\"renderers\":[{\"id\":\"1240\"}]},\"id\":\"1252\",\"type\":\"LegendItem\"},{\"attributes\":{},\"id\":\"1198\",\"type\":\"LinearScale\"},{\"attributes\":{\"source\":{\"id\":\"1237\"}},\"id\":\"1241\",\"type\":\"CDSView\"},{\"attributes\":{\"formatter\":{\"id\":\"1228\"},\"ticker\":{\"id\":\"1201\"}},\"id\":\"1200\",\"type\":\"LinearAxis\"},{\"attributes\":{\"data_source\":{\"id\":\"1237\"},\"glyph\":{\"id\":\"1238\"},\"hover_glyph\":null,\"muted_glyph\":null,\"nonselection_glyph\":{\"id\":\"1239\"},\"selection_glyph\":null,\"view\":{\"id\":\"1241\"}},\"id\":\"1240\",\"type\":\"GlyphRenderer\"},{\"attributes\":{\"line_color\":\"green\",\"x\":{\"field\":\"x\"},\"y\":{\"field\":\"y\"}},\"id\":\"1238\",\"type\":\"Line\"},{\"attributes\":{},\"id\":\"1192\",\"type\":\"DataRange1d\"},{\"attributes\":{\"line_alpha\":0.1,\"line_color\":\"blue\",\"x\":{\"field\":\"x\"},\"y\":{\"field\":\"y\"}},\"id\":\"1255\",\"type\":\"Line\"},{\"attributes\":{},\"id\":\"1269\",\"type\":\"Selection\"},{\"attributes\":{},\"id\":\"1233\",\"type\":\"UnionRenderers\"},{\"attributes\":{\"click_policy\":\"hide\",\"items\":[{\"id\":\"1236\"},{\"id\":\"1252\"},{\"id\":\"1270\"}],\"location\":\"bottom_left\"},\"id\":\"1235\",\"type\":\"Legend\"},{\"attributes\":{},\"id\":\"1201\",\"type\":\"BasicTicker\"},{\"attributes\":{\"source\":{\"id\":\"1253\"}},\"id\":\"1257\",\"type\":\"CDSView\"},{\"attributes\":{\"data\":{\"x\":[224,225,226,227,228,229,230,231,232,233,234,235,236,237,238,239,240,241,242,243,244,245,246,247,248,249,250,251,252,253],\"y1\":{\"__ndarray__\":\"exSuR+F6hD/6fmq8dJNoP/yp8dJNYlC/+n5qvHSTaL/8qfHSTWJQvwAAAAAAAACA/Knx0k1iYL/6fmq8dJNov3sUrkfhenS/ukkMAiuHhr85tMh2vp+Kv/p+arx0k4i/ObTIdr6fir/6fmq8dJOIv7pJDAIrh4a//Knx0k1igL/6fmq8dJN4v/p+arx0k2i//Knx0k1iUL/6fmq8dJN4P3sUrkfheoQ/exSuR+F6hD956SYxCKyMP3npJjEIrIw/eekmMQisjD956SYxCKyMPzvfT42XboI/O99PjZdugj8730+Nl26CP7gehetRuI4/\",\"dtype\":\"float64\",\"order\":\"little\",\"shape\":[30]},\"y2\":{\"__ndarray__\":\"pHA9CtejsD956SYxCKysP+kmMQisHKo/qvHSTWIQqD9aZDvfT42nP+kmMQisHKo/SgwCK4cWqT+q8dJNYhCoPwrXo3A9Cqc/exSuR+F6pD8730+Nl26iP0w3iUFg5aA/nMQgsHJooT/sUbgeheuhP3sUrkfheqQ/CtejcD0Kpz+q8dJNYhCoP+kmMQisHKo/ObTIdr6fqj+JQWDl0CKrPylcj8L1KKw/2c73U+Olqz956SYxCKysPylcj8L1KKw/eekmMQisrD85tMh2vp+qP5qZmZmZmak/SgwCK4cWqT+amZmZmZmpP+kmMQisHKo/\",\"dtype\":\"float64\",\"order\":\"little\",\"shape\":[30]}},\"selected\":{\"id\":\"1234\"},\"selection_policy\":{\"id\":\"1233\"}},\"id\":\"1222\",\"type\":\"ColumnDataSource\"},{\"attributes\":{},\"id\":\"1212\",\"type\":\"ResetTool\"},{\"attributes\":{},\"id\":\"1208\",\"type\":\"PanTool\"},{\"attributes\":{},\"id\":\"1196\",\"type\":\"LinearScale\"},{\"attributes\":{\"active_drag\":\"auto\",\"active_inspect\":\"auto\",\"active_multi\":null,\"active_scroll\":\"auto\",\"active_tap\":\"auto\",\"tools\":[{\"id\":\"1208\"},{\"id\":\"1209\"},{\"id\":\"1210\"},{\"id\":\"1211\"},{\"id\":\"1212\"},{\"id\":\"1213\"}]},\"id\":\"1215\",\"type\":\"Toolbar\"},{\"attributes\":{\"source\":{\"id\":\"1222\"}},\"id\":\"1226\",\"type\":\"CDSView\"},{\"attributes\":{\"data\":{\"x\":[224,225,226,227,228,229,230,231,232,233,234,235,236,237,238,239,240,241,242,243,244,245,246,247,248,249,250,251,252,253],\"y\":{\"__ndarray__\":\"ahnike39q7+StcwlG62hv6Zm+fI3yI+/GnuYfvYboT+fonlhRbOmP5i3JWTqcrU/f7FEx2jioj9QaEr56Q5lPx9syUMrbGS/cYDeRaM+p78KoxYWhtKhP4JqwKAqo6c/k7cZ4fvOtD+3YybOEcKnP6wEwrGdjbU/qt4j9THvsz/jLZD903uoP/m78FjcP7M/kAPYw1Cbkz80ZnifpV2WPxhRxz/FBoi/2GGtJu6YSz94Gtdu+zSWP4at4VUX8Kc/fLujrv+Poj/BqyDA8MmPP2wg1V6qeIS/CKq4OSxsRj8U6tGqLpLyvjcXxlowx4k/\",\"dtype\":\"float64\",\"order\":\"little\",\"shape\":[30]}},\"selected\":{\"id\":\"1289\"},\"selection_policy\":{\"id\":\"1288\"}},\"id\":\"1271\",\"type\":\"ColumnDataSource\"},{\"attributes\":{\"data\":{\"x\":[224,225,226,227,228,229,230,231,232,233,234,235,236,237,238,239,240,241,242,243,244,245,246,247,248,249,250,251,252,253],\"y\":{\"__ndarray__\":\"2/l+arx0oz9YObTIdr6fP5qZmZmZmZk/ukkMAiuHlj9aZDvfT42XP5qZmZmZmZk/+n5qvHSTmD9aZDvfT42XPxsv3SQGgZU/uB6F61G4jj85tMh2vp+KP7pJDAIrh4Y/+n5qvHSTiD/6fmq8dJOIP/yp8dJNYpA/2/l+arx0kz97FK5H4XqUP/p+arx0k5g/mpmZmZmZmT8ZBFYOLbKdP1g5tMh2vp8/TDeJQWDloD/sUbgeheuhP+xRuB6F66E/7FG4HoXroT/8qfHSTWKgPxkEVg4tsp0/GQRWDi2ynT+4HoXrUbieP/yp8dJNYqA/\",\"dtype\":\"float64\",\"order\":\"little\",\"shape\":[30]}},\"selected\":{\"id\":\"1251\"},\"selection_policy\":{\"id\":\"1250\"}},\"id\":\"1237\",\"type\":\"ColumnDataSource\"},{\"attributes\":{\"fill_alpha\":0.1,\"x\":{\"field\":\"x\"},\"y1\":{\"field\":\"y1\"},\"y2\":{\"field\":\"y2\"}},\"id\":\"1224\",\"type\":\"VArea\"},{\"attributes\":{\"fill_alpha\":{\"value\":0.1},\"fill_color\":{\"value\":\"blue\"},\"line_alpha\":{\"value\":0.1},\"line_color\":{\"value\":\"blue\"},\"x\":{\"field\":\"x\"},\"y\":{\"field\":\"y\"}},\"id\":\"1273\",\"type\":\"Circle\"},{\"attributes\":{},\"id\":\"1230\",\"type\":\"BasicTickFormatter\"},{\"attributes\":{\"fill_color\":{\"value\":\"blue\"},\"line_color\":{\"value\":\"blue\"},\"x\":{\"field\":\"x\"},\"y\":{\"field\":\"y\"}},\"id\":\"1272\",\"type\":\"Circle\"},{\"attributes\":{},\"id\":\"1268\",\"type\":\"UnionRenderers\"},{\"attributes\":{},\"id\":\"1205\",\"type\":\"BasicTicker\"},{\"attributes\":{\"axis\":{\"id\":\"1200\"},\"ticker\":null},\"id\":\"1203\",\"type\":\"Grid\"},{\"attributes\":{\"label\":{\"value\":\"hdi\"},\"renderers\":[{\"id\":\"1225\"}]},\"id\":\"1236\",\"type\":\"LegendItem\"},{\"attributes\":{},\"id\":\"1234\",\"type\":\"Selection\"},{\"attributes\":{},\"id\":\"1289\",\"type\":\"Selection\"},{\"attributes\":{},\"id\":\"1213\",\"type\":\"HelpTool\"},{\"attributes\":{\"fill_alpha\":0.1,\"x\":{\"field\":\"x\"},\"y1\":{\"field\":\"y1\"},\"y2\":{\"field\":\"y2\"}},\"id\":\"1223\",\"type\":\"VArea\"},{\"attributes\":{\"formatter\":{\"id\":\"1230\"},\"ticker\":{\"id\":\"1205\"}},\"id\":\"1204\",\"type\":\"LinearAxis\"},{\"attributes\":{\"dimension\":\"height\",\"line_color\":\"gray\",\"line_dash\":[6],\"location\":234},\"id\":\"1290\",\"type\":\"Span\"}],\"root_ids\":[\"1189\"]},\"title\":\"Bokeh Application\",\"version\":\"2.2.3\"}};\n",
       "  var render_items = [{\"docid\":\"f0454c71-aa28-44ab-a49f-412db1cf8f5e\",\"root_ids\":[\"1189\"],\"roots\":{\"1189\":\"8d80a723-4f44-4c1d-adc8-774397126050\"}}];\n",
       "  root.Bokeh.embed.embed_items_notebook(docs_json, render_items);\n",
       "\n",
       "  }\n",
       "  if (root.Bokeh !== undefined) {\n",
       "    embed_document(root);\n",
       "  } else {\n",
       "    var attempts = 0;\n",
       "    var timer = setInterval(function(root) {\n",
       "      if (root.Bokeh !== undefined) {\n",
       "        clearInterval(timer);\n",
       "        embed_document(root);\n",
       "      } else {\n",
       "        attempts++;\n",
       "        if (attempts > 100) {\n",
       "          clearInterval(timer);\n",
       "          console.log(\"Bokeh: ERROR: Unable to run BokehJS code because BokehJS library is missing\");\n",
       "        }\n",
       "      }\n",
       "    }, 10, root)\n",
       "  }\n",
       "})(window);"
      ],
      "application/vnd.bokehjs_exec.v0+json": ""
     },
     "metadata": {
      "application/vnd.bokehjs_exec.v0+json": {
       "id": "1189"
      }
     },
     "output_type": "display_data"
    },
    {
     "data": {
      "text/html": [
       "\n",
       "\n",
       "\n",
       "\n",
       "\n",
       "\n",
       "  <div class=\"bk-root\" id=\"772f558f-edf7-4575-ac35-33fc523147e7\" data-root-id=\"1390\"></div>\n"
      ]
     },
     "metadata": {},
     "output_type": "display_data"
    },
    {
     "data": {
      "application/javascript": [
       "(function(root) {\n",
       "  function embed_document(root) {\n",
       "    \n",
       "  var docs_json = {\"08217cc5-36a4-46cb-8b2b-d92bc3c90a85\":{\"roots\":{\"references\":[{\"attributes\":{\"below\":[{\"id\":\"1401\"}],\"center\":[{\"id\":\"1404\"},{\"id\":\"1408\"},{\"id\":\"1436\"},{\"id\":\"1491\"},{\"id\":\"1492\"}],\"left\":[{\"id\":\"1405\"}],\"plot_height\":300,\"plot_width\":900,\"renderers\":[{\"id\":\"1426\"},{\"id\":\"1441\"},{\"id\":\"1457\"},{\"id\":\"1475\"}],\"title\":{\"id\":\"1391\"},\"toolbar\":{\"id\":\"1416\"},\"x_range\":{\"id\":\"1393\"},\"x_scale\":{\"id\":\"1397\"},\"y_range\":{\"id\":\"1395\"},\"y_scale\":{\"id\":\"1399\"}},\"id\":\"1390\",\"subtype\":\"Figure\",\"type\":\"Plot\"},{\"attributes\":{},\"id\":\"1399\",\"type\":\"LinearScale\"},{\"attributes\":{},\"id\":\"1402\",\"type\":\"BasicTicker\"},{\"attributes\":{\"data_source\":{\"id\":\"1454\"},\"glyph\":{\"id\":\"1455\"},\"hover_glyph\":null,\"muted_glyph\":null,\"nonselection_glyph\":{\"id\":\"1456\"},\"selection_glyph\":null,\"view\":{\"id\":\"1458\"}},\"id\":\"1457\",\"type\":\"GlyphRenderer\"},{\"attributes\":{},\"id\":\"1429\",\"type\":\"BasicTickFormatter\"},{\"attributes\":{\"source\":{\"id\":\"1454\"}},\"id\":\"1458\",\"type\":\"CDSView\"},{\"attributes\":{\"formatter\":{\"id\":\"1429\"},\"ticker\":{\"id\":\"1402\"}},\"id\":\"1401\",\"type\":\"LinearAxis\"},{\"attributes\":{\"fill_alpha\":0.1,\"x\":{\"field\":\"x\"},\"y1\":{\"field\":\"y1\"},\"y2\":{\"field\":\"y2\"}},\"id\":\"1425\",\"type\":\"VArea\"},{\"attributes\":{\"fill_alpha\":0.1,\"x\":{\"field\":\"x\"},\"y1\":{\"field\":\"y1\"},\"y2\":{\"field\":\"y2\"}},\"id\":\"1424\",\"type\":\"VArea\"},{\"attributes\":{\"line_alpha\":0.1,\"line_color\":\"blue\",\"x\":{\"field\":\"x\"},\"y\":{\"field\":\"y\"}},\"id\":\"1456\",\"type\":\"Line\"},{\"attributes\":{},\"id\":\"1431\",\"type\":\"BasicTickFormatter\"},{\"attributes\":{\"data_source\":{\"id\":\"1423\"},\"glyph\":{\"id\":\"1424\"},\"hover_glyph\":null,\"muted_glyph\":null,\"nonselection_glyph\":{\"id\":\"1425\"},\"selection_glyph\":null,\"view\":{\"id\":\"1427\"}},\"id\":\"1426\",\"type\":\"GlyphRenderer\"},{\"attributes\":{\"data\":{\"x\":[223,224,225,226,227,228,229,230,231,232,233,234,235,236,237,239,240,241,242,243,244,245,246,247,248,249,250,251,252,253],\"y1\":{\"__ndarray__\":\"WmQ730+Nlz/ZzvdT46WbP/yp8dJNYqA/O99PjZduoj9qvHSTGASmPxsv3SQGgaU/arx0kxgEpj8rhxbZzvejP9v5fmq8dKM/exSuR+F6pD/LoUW28/2kP2q8dJMYBKY/qvHSTWIQqD+6SQwCK4emP0oMAiuHFqk/KVyPwvUorD+JQWDl0CKrP3npJjEIrKw/eekmMQisrD956SYxCKysP1TjpZvEILA/SgwCK4cWqT9aZDvfT42nP5zEILByaKE/WmQ730+Nlz/b+X5qvHSTP/yp8dJNYoC/SgwCK4cWqb8xCKwcWmS7v1pkO99Pjce/\",\"dtype\":\"float64\",\"order\":\"little\",\"shape\":[30]},\"y2\":{\"__ndarray__\":\"kxgEVg4tsj+LbOf7qfGyPyuHFtnO97M/001iEFg5tD9zaJHtfD+1P3Noke18P7U/arx0kxgEtj/LoUW28/20Pxsv3SQGgbU/EoPAyqFFtj9iEFg5tMi2PwIrhxbZzrc/SgwCK4cWuT9KDAIrhxa5P5qZmZmZmbk/MQisHFpkuz/ZzvdT46W7P8l2vp8aL70/uB6F61G4vj9U46WbxCDAP/hT46WbxMA//Knx0k1iwD9Ei2zn+6nBP5zEILByaME/j8L1KFyPwj8j2/l+arzEP7bz/dR46cY/lkOLbOf7yT+F61G4HoXLP30/NV66Scw/\",\"dtype\":\"float64\",\"order\":\"little\",\"shape\":[30]}},\"selected\":{\"id\":\"1435\"},\"selection_policy\":{\"id\":\"1434\"}},\"id\":\"1423\",\"type\":\"ColumnDataSource\"},{\"attributes\":{\"line_color\":\"blue\",\"x\":{\"field\":\"x\"},\"y\":{\"field\":\"y\"}},\"id\":\"1455\",\"type\":\"Line\"},{\"attributes\":{},\"id\":\"1393\",\"type\":\"DataRange1d\"},{\"attributes\":{},\"id\":\"1397\",\"type\":\"LinearScale\"},{\"attributes\":{\"bottom_units\":\"screen\",\"fill_alpha\":0.5,\"fill_color\":\"lightgrey\",\"left_units\":\"screen\",\"level\":\"overlay\",\"line_alpha\":1.0,\"line_color\":\"black\",\"line_dash\":[4,4],\"line_width\":2,\"right_units\":\"screen\",\"top_units\":\"screen\"},\"id\":\"1415\",\"type\":\"BoxAnnotation\"},{\"attributes\":{\"source\":{\"id\":\"1472\"}},\"id\":\"1476\",\"type\":\"CDSView\"},{\"attributes\":{\"end\":0.26,\"start\":-0.26},\"id\":\"1395\",\"type\":\"Range1d\"},{\"attributes\":{\"label\":{\"value\":\"mean\"},\"renderers\":[{\"id\":\"1441\"}]},\"id\":\"1453\",\"type\":\"LegendItem\"},{\"attributes\":{},\"id\":\"1406\",\"type\":\"BasicTicker\"},{\"attributes\":{\"line_color\":\"green\",\"x\":{\"field\":\"x\"},\"y\":{\"field\":\"y\"}},\"id\":\"1439\",\"type\":\"Line\"},{\"attributes\":{},\"id\":\"1490\",\"type\":\"Selection\"},{\"attributes\":{},\"id\":\"1410\",\"type\":\"WheelZoomTool\"},{\"attributes\":{\"data\":{\"x\":[223,224,225,226,227,228,229,230,231,232,233,234,235,236,237,239,240,241,242,243,244,245,246,247,248,249,250,251,252,253],\"y\":{\"__ndarray__\":\"g827hwpQqb+uftP5wuSrv6qlcwad+KK/rASWpXdEr7+yd3ze6uSoP8bhdm2e1aw/dnPYfuJbuD+S3WtP8jKrPzwd1t1U0Y0/sQ9l6vJFoT88+pRO2312P8Eghym2pZM/YBd8FDQcsD94hvyhH6d1P4cQPv649Yg/CstQUspqpz9xVJ3vkD+pP1SnyCU8zrE/0TDllpjmrD/aBDi2ioKiP1Sy2BJjmL0/rEgE23xtuT/ha05gSpe+P7IpSKJ357Y/2QPT0ojVsj/yp/L0vh22P46e3U1J2bo/0XcVtPI9wj+e87flpqK7PxYGVTG9FFI/\",\"dtype\":\"float64\",\"order\":\"little\",\"shape\":[30]}},\"selected\":{\"id\":\"1490\"},\"selection_policy\":{\"id\":\"1489\"}},\"id\":\"1472\",\"type\":\"ColumnDataSource\"},{\"attributes\":{\"axis\":{\"id\":\"1405\"},\"dimension\":1,\"ticker\":null},\"id\":\"1408\",\"type\":\"Grid\"},{\"attributes\":{\"click_policy\":\"hide\",\"items\":[{\"id\":\"1437\"},{\"id\":\"1453\"},{\"id\":\"1471\"}],\"location\":\"bottom_left\"},\"id\":\"1436\",\"type\":\"Legend\"},{\"attributes\":{},\"id\":\"1470\",\"type\":\"Selection\"},{\"attributes\":{},\"id\":\"1414\",\"type\":\"HelpTool\"},{\"attributes\":{\"active_drag\":\"auto\",\"active_inspect\":\"auto\",\"active_multi\":null,\"active_scroll\":\"auto\",\"active_tap\":\"auto\",\"tools\":[{\"id\":\"1409\"},{\"id\":\"1410\"},{\"id\":\"1411\"},{\"id\":\"1412\"},{\"id\":\"1413\"},{\"id\":\"1414\"}]},\"id\":\"1416\",\"type\":\"Toolbar\"},{\"attributes\":{},\"id\":\"1451\",\"type\":\"UnionRenderers\"},{\"attributes\":{\"source\":{\"id\":\"1423\"}},\"id\":\"1427\",\"type\":\"CDSView\"},{\"attributes\":{\"data\":{\"x\":[223,224,225,226,227,228,229,230,231,232,233,234,235,236,237,239,240,241,242,243,244,245,246,247,248,249,250,251,252,253],\"y\":{\"__ndarray__\":\"g827hwpQqb+uftP5wuSrv6qlcwad+KK/rASWpXdEr7+yd3ze6uSoP8bhdm2e1aw/dnPYfuJbuD+S3WtP8jKrPzwd1t1U0Y0/sQ9l6vJFoT88+pRO2312P8Eghym2pZM/YBd8FDQcsD94hvyhH6d1P4cQPv649Yg/CstQUspqpz9xVJ3vkD+pP1SnyCU8zrE/0TDllpjmrD/aBDi2ioKiP1Sy2BJjmL0/rEgE23xtuT/ha05gSpe+P7IpSKJ357Y/2QPT0ojVsj/yp/L0vh22P46e3U1J2bo/0XcVtPI9wj+e87flpqK7PxYGVTG9FFI/\",\"dtype\":\"float64\",\"order\":\"little\",\"shape\":[30]}},\"selected\":{\"id\":\"1470\"},\"selection_policy\":{\"id\":\"1469\"}},\"id\":\"1454\",\"type\":\"ColumnDataSource\"},{\"attributes\":{\"source\":{\"id\":\"1438\"}},\"id\":\"1442\",\"type\":\"CDSView\"},{\"attributes\":{},\"id\":\"1412\",\"type\":\"SaveTool\"},{\"attributes\":{},\"id\":\"1435\",\"type\":\"Selection\"},{\"attributes\":{\"data_source\":{\"id\":\"1438\"},\"glyph\":{\"id\":\"1439\"},\"hover_glyph\":null,\"muted_glyph\":null,\"nonselection_glyph\":{\"id\":\"1440\"},\"selection_glyph\":null,\"view\":{\"id\":\"1442\"}},\"id\":\"1441\",\"type\":\"GlyphRenderer\"},{\"attributes\":{\"text\":\"Convergence - benben11\"},\"id\":\"1391\",\"type\":\"Title\"},{\"attributes\":{},\"id\":\"1452\",\"type\":\"Selection\"},{\"attributes\":{\"formatter\":{\"id\":\"1431\"},\"ticker\":{\"id\":\"1406\"}},\"id\":\"1405\",\"type\":\"LinearAxis\"},{\"attributes\":{},\"id\":\"1489\",\"type\":\"UnionRenderers\"},{\"attributes\":{\"fill_alpha\":{\"value\":0.1},\"fill_color\":{\"value\":\"blue\"},\"line_alpha\":{\"value\":0.1},\"line_color\":{\"value\":\"blue\"},\"x\":{\"field\":\"x\"},\"y\":{\"field\":\"y\"}},\"id\":\"1474\",\"type\":\"Circle\"},{\"attributes\":{\"line_alpha\":0.1,\"line_color\":\"green\",\"x\":{\"field\":\"x\"},\"y\":{\"field\":\"y\"}},\"id\":\"1440\",\"type\":\"Line\"},{\"attributes\":{\"dimension\":\"height\",\"line_color\":\"gray\",\"line_dash\":[6],\"location\":234},\"id\":\"1491\",\"type\":\"Span\"},{\"attributes\":{\"dimension\":\"height\",\"line_color\":\"gray\",\"line_dash\":[6],\"location\":250},\"id\":\"1492\",\"type\":\"Span\"},{\"attributes\":{\"data\":{\"x\":[223,224,225,226,227,228,229,230,231,232,233,234,235,236,237,239,240,241,242,243,244,245,246,247,248,249,250,251,252,253],\"y\":{\"__ndarray__\":\"qvHSTWIQqD+amZmZmZmpP9nO91Pjpas/yXa+nxovrT9YObTIdr6vP1g5tMh2vq8/WDm0yHa+rz8IrBxaZDuvPwisHFpkO68//Knx0k1isD+kcD0K16OwP5zEILByaLE/kxgEVg4tsj+TGARWDi2yP9v5fmq8dLM/exSuR+F6tD/LoUW28/20P8P1KFyPwrU/arx0kxgEtj9iEFg5tMi2P1K4HoXrUbg/sp3vp8ZLtz8K16NwPQq3PxKDwMqhRbY/arx0kxgEtj9iEFg5tMi2P2IQWDm0yLY/y6FFtvP9tD8pXI/C9SisP3sUrkfhenQ/\",\"dtype\":\"float64\",\"order\":\"little\",\"shape\":[30]}},\"selected\":{\"id\":\"1452\"},\"selection_policy\":{\"id\":\"1451\"}},\"id\":\"1438\",\"type\":\"ColumnDataSource\"},{\"attributes\":{},\"id\":\"1413\",\"type\":\"ResetTool\"},{\"attributes\":{\"label\":{\"value\":\"metric\"},\"renderers\":[{\"id\":\"1457\"},{\"id\":\"1475\"}]},\"id\":\"1471\",\"type\":\"LegendItem\"},{\"attributes\":{},\"id\":\"1409\",\"type\":\"PanTool\"},{\"attributes\":{\"overlay\":{\"id\":\"1415\"}},\"id\":\"1411\",\"type\":\"BoxZoomTool\"},{\"attributes\":{\"data_source\":{\"id\":\"1472\"},\"glyph\":{\"id\":\"1473\"},\"hover_glyph\":null,\"muted_glyph\":null,\"nonselection_glyph\":{\"id\":\"1474\"},\"selection_glyph\":null,\"view\":{\"id\":\"1476\"}},\"id\":\"1475\",\"type\":\"GlyphRenderer\"},{\"attributes\":{},\"id\":\"1434\",\"type\":\"UnionRenderers\"},{\"attributes\":{},\"id\":\"1469\",\"type\":\"UnionRenderers\"},{\"attributes\":{\"fill_color\":{\"value\":\"blue\"},\"line_color\":{\"value\":\"blue\"},\"x\":{\"field\":\"x\"},\"y\":{\"field\":\"y\"}},\"id\":\"1473\",\"type\":\"Circle\"},{\"attributes\":{\"label\":{\"value\":\"hdi\"},\"renderers\":[{\"id\":\"1426\"}]},\"id\":\"1437\",\"type\":\"LegendItem\"},{\"attributes\":{\"axis\":{\"id\":\"1401\"},\"ticker\":null},\"id\":\"1404\",\"type\":\"Grid\"}],\"root_ids\":[\"1390\"]},\"title\":\"Bokeh Application\",\"version\":\"2.2.3\"}};\n",
       "  var render_items = [{\"docid\":\"08217cc5-36a4-46cb-8b2b-d92bc3c90a85\",\"root_ids\":[\"1390\"],\"roots\":{\"1390\":\"772f558f-edf7-4575-ac35-33fc523147e7\"}}];\n",
       "  root.Bokeh.embed.embed_items_notebook(docs_json, render_items);\n",
       "\n",
       "  }\n",
       "  if (root.Bokeh !== undefined) {\n",
       "    embed_document(root);\n",
       "  } else {\n",
       "    var attempts = 0;\n",
       "    var timer = setInterval(function(root) {\n",
       "      if (root.Bokeh !== undefined) {\n",
       "        clearInterval(timer);\n",
       "        embed_document(root);\n",
       "      } else {\n",
       "        attempts++;\n",
       "        if (attempts > 100) {\n",
       "          clearInterval(timer);\n",
       "          console.log(\"Bokeh: ERROR: Unable to run BokehJS code because BokehJS library is missing\");\n",
       "        }\n",
       "      }\n",
       "    }, 10, root)\n",
       "  }\n",
       "})(window);"
      ],
      "application/vnd.bokehjs_exec.v0+json": ""
     },
     "metadata": {
      "application/vnd.bokehjs_exec.v0+json": {
       "id": "1390"
      }
     },
     "output_type": "display_data"
    },
    {
     "data": {
      "text/html": [
       "\n",
       "\n",
       "\n",
       "\n",
       "\n",
       "\n",
       "  <div class=\"bk-root\" id=\"aae6f246-9cd6-4d2b-9c19-69832c782766\" data-root-id=\"1605\"></div>\n"
      ]
     },
     "metadata": {},
     "output_type": "display_data"
    },
    {
     "data": {
      "application/javascript": [
       "(function(root) {\n",
       "  function embed_document(root) {\n",
       "    \n",
       "  var docs_json = {\"606eb5e7-3b12-4008-9d62-1aef2bc15831\":{\"roots\":{\"references\":[{\"attributes\":{\"below\":[{\"id\":\"1616\"}],\"center\":[{\"id\":\"1619\"},{\"id\":\"1623\"},{\"id\":\"1651\"},{\"id\":\"1706\"},{\"id\":\"1707\"}],\"left\":[{\"id\":\"1620\"}],\"plot_height\":300,\"plot_width\":900,\"renderers\":[{\"id\":\"1641\"},{\"id\":\"1656\"},{\"id\":\"1672\"},{\"id\":\"1690\"}],\"title\":{\"id\":\"1606\"},\"toolbar\":{\"id\":\"1631\"},\"x_range\":{\"id\":\"1608\"},\"x_scale\":{\"id\":\"1612\"},\"y_range\":{\"id\":\"1610\"},\"y_scale\":{\"id\":\"1614\"}},\"id\":\"1605\",\"subtype\":\"Figure\",\"type\":\"Plot\"},{\"attributes\":{\"fill_alpha\":0.1,\"x\":{\"field\":\"x\"},\"y1\":{\"field\":\"y1\"},\"y2\":{\"field\":\"y2\"}},\"id\":\"1640\",\"type\":\"VArea\"},{\"attributes\":{\"formatter\":{\"id\":\"1646\"},\"ticker\":{\"id\":\"1621\"}},\"id\":\"1620\",\"type\":\"LinearAxis\"},{\"attributes\":{\"axis\":{\"id\":\"1616\"},\"ticker\":null},\"id\":\"1619\",\"type\":\"Grid\"},{\"attributes\":{},\"id\":\"1644\",\"type\":\"BasicTickFormatter\"},{\"attributes\":{\"line_color\":\"blue\",\"x\":{\"field\":\"x\"},\"y\":{\"field\":\"y\"}},\"id\":\"1670\",\"type\":\"Line\"},{\"attributes\":{\"data\":{\"x\":[223,224,225,226,227,228,229,230,231,232,233,234,235,236,237,239,240,241,242,243,244,245,246,247,248,249,250,251,252,253],\"y\":{\"__ndarray__\":\"g827hwpQqb+uftP5wuSrv6qlcwad+KK/rASWpXdEr7+yd3ze6uSoP8bhdm2e1aw/dnPYfuJbuD+S3WtP8jKrPzwd1t1U0Y0/sQ9l6vJFoT88+pRO2312P8Eghym2pZM/YBd8FDQcsD94hvyhH6d1P4cQPv649Yg/CstQUspqpz9xVJ3vkD+pP1SnyCU8zrE/0TDllpjmrD/aBDi2ioKiP1Sy2BJjmL0/rEgE23xtuT/ha05gSpe+P7IpSKJ357Y/2QPT0ojVsj/yp/L0vh22P46e3U1J2bo/0XcVtPI9wj+e87flpqK7PxYGVTG9FFI/\",\"dtype\":\"float64\",\"order\":\"little\",\"shape\":[30]}},\"selected\":{\"id\":\"1705\"},\"selection_policy\":{\"id\":\"1704\"}},\"id\":\"1687\",\"type\":\"ColumnDataSource\"},{\"attributes\":{},\"id\":\"1650\",\"type\":\"Selection\"},{\"attributes\":{},\"id\":\"1625\",\"type\":\"WheelZoomTool\"},{\"attributes\":{},\"id\":\"1666\",\"type\":\"UnionRenderers\"},{\"attributes\":{},\"id\":\"1667\",\"type\":\"Selection\"},{\"attributes\":{\"dimension\":\"height\",\"line_color\":\"gray\",\"line_dash\":[6],\"location\":250},\"id\":\"1707\",\"type\":\"Span\"},{\"attributes\":{\"data\":{\"x\":[223,224,225,226,227,228,229,230,231,232,233,234,235,236,237,239,240,241,242,243,244,245,246,247,248,249,250,251,252,253],\"y\":{\"__ndarray__\":\"O99PjZduoj8bL90kBoGVP/p+arx0k4g//Knx0k1icD/8qfHSTWJQP/yp8dJNYnA/eekmMQisfD97FK5H4Xp0P/yp8dJNYlA/AAAAAAAAAAD8qfHSTWJQv/yp8dJNYmC/AAAAAAAAAAAAAAAAAAAAgPyp8dJNYlA/eekmMQisfD/6fmq8dJOIP/yp8dJNYpA/exSuR+F6lD9aZDvfT42XP1g5tMh2vp8/K4cW2c73oz+q8dJNYhCoPylcj8L1KKw/eekmMQisrD/Jdr6fGi+tPxkEVg4tsq0/WDm0yHa+rz/0/dR46SaxP6RwPQrXo7A/\",\"dtype\":\"float64\",\"order\":\"little\",\"shape\":[30]}},\"selected\":{\"id\":\"1667\"},\"selection_policy\":{\"id\":\"1666\"}},\"id\":\"1653\",\"type\":\"ColumnDataSource\"},{\"attributes\":{\"data_source\":{\"id\":\"1669\"},\"glyph\":{\"id\":\"1670\"},\"hover_glyph\":null,\"muted_glyph\":null,\"nonselection_glyph\":{\"id\":\"1671\"},\"selection_glyph\":null,\"view\":{\"id\":\"1673\"}},\"id\":\"1672\",\"type\":\"GlyphRenderer\"},{\"attributes\":{},\"id\":\"1684\",\"type\":\"UnionRenderers\"},{\"attributes\":{},\"id\":\"1608\",\"type\":\"DataRange1d\"},{\"attributes\":{},\"id\":\"1629\",\"type\":\"HelpTool\"},{\"attributes\":{\"data\":{\"x\":[223,224,225,226,227,228,229,230,231,232,233,234,235,236,237,239,240,241,242,243,244,245,246,247,248,249,250,251,252,253],\"y\":{\"__ndarray__\":\"g827hwpQqb+uftP5wuSrv6qlcwad+KK/rASWpXdEr7+yd3ze6uSoP8bhdm2e1aw/dnPYfuJbuD+S3WtP8jKrPzwd1t1U0Y0/sQ9l6vJFoT88+pRO2312P8Eghym2pZM/YBd8FDQcsD94hvyhH6d1P4cQPv649Yg/CstQUspqpz9xVJ3vkD+pP1SnyCU8zrE/0TDllpjmrD/aBDi2ioKiP1Sy2BJjmL0/rEgE23xtuT/ha05gSpe+P7IpSKJ357Y/2QPT0ojVsj/yp/L0vh22P46e3U1J2bo/0XcVtPI9wj+e87flpqK7PxYGVTG9FFI/\",\"dtype\":\"float64\",\"order\":\"little\",\"shape\":[30]}},\"selected\":{\"id\":\"1685\"},\"selection_policy\":{\"id\":\"1684\"}},\"id\":\"1669\",\"type\":\"ColumnDataSource\"},{\"attributes\":{\"source\":{\"id\":\"1687\"}},\"id\":\"1691\",\"type\":\"CDSView\"},{\"attributes\":{},\"id\":\"1627\",\"type\":\"SaveTool\"},{\"attributes\":{\"active_drag\":\"auto\",\"active_inspect\":\"auto\",\"active_multi\":null,\"active_scroll\":\"auto\",\"active_tap\":\"auto\",\"tools\":[{\"id\":\"1624\"},{\"id\":\"1625\"},{\"id\":\"1626\"},{\"id\":\"1627\"},{\"id\":\"1628\"},{\"id\":\"1629\"}]},\"id\":\"1631\",\"type\":\"Toolbar\"},{\"attributes\":{\"bottom_units\":\"screen\",\"fill_alpha\":0.5,\"fill_color\":\"lightgrey\",\"left_units\":\"screen\",\"level\":\"overlay\",\"line_alpha\":1.0,\"line_color\":\"black\",\"line_dash\":[4,4],\"line_width\":2,\"right_units\":\"screen\",\"top_units\":\"screen\"},\"id\":\"1630\",\"type\":\"BoxAnnotation\"},{\"attributes\":{},\"id\":\"1705\",\"type\":\"Selection\"},{\"attributes\":{\"label\":{\"value\":\"mean\"},\"renderers\":[{\"id\":\"1656\"}]},\"id\":\"1668\",\"type\":\"LegendItem\"},{\"attributes\":{\"data_source\":{\"id\":\"1638\"},\"glyph\":{\"id\":\"1639\"},\"hover_glyph\":null,\"muted_glyph\":null,\"nonselection_glyph\":{\"id\":\"1640\"},\"selection_glyph\":null,\"view\":{\"id\":\"1642\"}},\"id\":\"1641\",\"type\":\"GlyphRenderer\"},{\"attributes\":{},\"id\":\"1628\",\"type\":\"ResetTool\"},{\"attributes\":{\"fill_alpha\":{\"value\":0.1},\"fill_color\":{\"value\":\"blue\"},\"line_alpha\":{\"value\":0.1},\"line_color\":{\"value\":\"blue\"},\"x\":{\"field\":\"x\"},\"y\":{\"field\":\"y\"}},\"id\":\"1689\",\"type\":\"Circle\"},{\"attributes\":{\"click_policy\":\"hide\",\"items\":[{\"id\":\"1652\"},{\"id\":\"1668\"},{\"id\":\"1686\"}],\"location\":\"bottom_left\"},\"id\":\"1651\",\"type\":\"Legend\"},{\"attributes\":{\"end\":0.26,\"start\":-0.26},\"id\":\"1610\",\"type\":\"Range1d\"},{\"attributes\":{\"dimension\":\"height\",\"line_color\":\"gray\",\"line_dash\":[6],\"location\":234},\"id\":\"1706\",\"type\":\"Span\"},{\"attributes\":{\"data_source\":{\"id\":\"1653\"},\"glyph\":{\"id\":\"1654\"},\"hover_glyph\":null,\"muted_glyph\":null,\"nonselection_glyph\":{\"id\":\"1655\"},\"selection_glyph\":null,\"view\":{\"id\":\"1657\"}},\"id\":\"1656\",\"type\":\"GlyphRenderer\"},{\"attributes\":{},\"id\":\"1617\",\"type\":\"BasicTicker\"},{\"attributes\":{\"label\":{\"value\":\"metric\"},\"renderers\":[{\"id\":\"1672\"},{\"id\":\"1690\"}]},\"id\":\"1686\",\"type\":\"LegendItem\"},{\"attributes\":{\"data\":{\"x\":[223,224,225,226,227,228,229,230,231,232,233,234,235,236,237,239,240,241,242,243,244,245,246,247,248,249,250,251,252,253],\"y1\":{\"__ndarray__\":\"O99PjZdugr+4HoXrUbiOv7pJDAIrh5a/eekmMQisnL8ZBFYOLbKdv/p+arx0k5i/mpmZmZmZmb+amZmZmZmZv/p+arx0k5i/eekmMQisnL85tMh2vp+avxkEVg4tsp2/2c73U+Olm7/ZzvdT46Wbvzm0yHa+n5q/2/l+arx0k7956SYxCKyMv3sUrkfheoS/eekmMQisfL/8qfHSTWJgv/yp8dJNYnA/eekmMQisjD/6fmq8dJOYP+xRuB6F66E/7FG4HoXroT8730+Nl26iP9v5fmq8dKM/2/l+arx0oz8bL90kBoGlP8uhRbbz/aQ/\",\"dtype\":\"float64\",\"order\":\"little\",\"shape\":[30]},\"y2\":{\"__ndarray__\":\"001iEFg5tD+4HoXrUbiuP7pJDAIrh6Y/7FG4HoXroT956SYxCKycP/yp8dJNYqA/i2zn+6nxoj9MN4lBYOWgPxkEVg4tsp0/2c73U+Olmz956SYxCKycP1pkO99PjZc/GQRWDi2ynT/ZzvdT46WbP3npJjEIrJw/TDeJQWDloD8730+Nl26iP8uhRbbz/aQ/WmQ730+Npz+q8dJNYhCoP3npJjEIrKw//Knx0k1isD8730+Nl26yP9v5fmq8dLM/g8DKoUW2sz/TTWIQWDm0P3sUrkfherQ/arx0kxgEtj8K16NwPQq3P2IQWDm0yLY/\",\"dtype\":\"float64\",\"order\":\"little\",\"shape\":[30]}},\"selected\":{\"id\":\"1650\"},\"selection_policy\":{\"id\":\"1649\"}},\"id\":\"1638\",\"type\":\"ColumnDataSource\"},{\"attributes\":{\"line_alpha\":0.1,\"line_color\":\"green\",\"x\":{\"field\":\"x\"},\"y\":{\"field\":\"y\"}},\"id\":\"1655\",\"type\":\"Line\"},{\"attributes\":{},\"id\":\"1621\",\"type\":\"BasicTicker\"},{\"attributes\":{\"source\":{\"id\":\"1638\"}},\"id\":\"1642\",\"type\":\"CDSView\"},{\"attributes\":{\"fill_alpha\":0.1,\"x\":{\"field\":\"x\"},\"y1\":{\"field\":\"y1\"},\"y2\":{\"field\":\"y2\"}},\"id\":\"1639\",\"type\":\"VArea\"},{\"attributes\":{},\"id\":\"1685\",\"type\":\"Selection\"},{\"attributes\":{},\"id\":\"1704\",\"type\":\"UnionRenderers\"},{\"attributes\":{\"axis\":{\"id\":\"1620\"},\"dimension\":1,\"ticker\":null},\"id\":\"1623\",\"type\":\"Grid\"},{\"attributes\":{\"data_source\":{\"id\":\"1687\"},\"glyph\":{\"id\":\"1688\"},\"hover_glyph\":null,\"muted_glyph\":null,\"nonselection_glyph\":{\"id\":\"1689\"},\"selection_glyph\":null,\"view\":{\"id\":\"1691\"}},\"id\":\"1690\",\"type\":\"GlyphRenderer\"},{\"attributes\":{\"line_color\":\"green\",\"x\":{\"field\":\"x\"},\"y\":{\"field\":\"y\"}},\"id\":\"1654\",\"type\":\"Line\"},{\"attributes\":{},\"id\":\"1649\",\"type\":\"UnionRenderers\"},{\"attributes\":{},\"id\":\"1624\",\"type\":\"PanTool\"},{\"attributes\":{\"source\":{\"id\":\"1669\"}},\"id\":\"1673\",\"type\":\"CDSView\"},{\"attributes\":{\"label\":{\"value\":\"hdi\"},\"renderers\":[{\"id\":\"1641\"}]},\"id\":\"1652\",\"type\":\"LegendItem\"},{\"attributes\":{\"source\":{\"id\":\"1653\"}},\"id\":\"1657\",\"type\":\"CDSView\"},{\"attributes\":{\"line_alpha\":0.1,\"line_color\":\"blue\",\"x\":{\"field\":\"x\"},\"y\":{\"field\":\"y\"}},\"id\":\"1671\",\"type\":\"Line\"},{\"attributes\":{\"text\":\"Timeseries - benben11\"},\"id\":\"1606\",\"type\":\"Title\"},{\"attributes\":{\"overlay\":{\"id\":\"1630\"}},\"id\":\"1626\",\"type\":\"BoxZoomTool\"},{\"attributes\":{},\"id\":\"1646\",\"type\":\"BasicTickFormatter\"},{\"attributes\":{\"fill_color\":{\"value\":\"blue\"},\"line_color\":{\"value\":\"blue\"},\"x\":{\"field\":\"x\"},\"y\":{\"field\":\"y\"}},\"id\":\"1688\",\"type\":\"Circle\"},{\"attributes\":{},\"id\":\"1612\",\"type\":\"LinearScale\"},{\"attributes\":{\"formatter\":{\"id\":\"1644\"},\"ticker\":{\"id\":\"1617\"}},\"id\":\"1616\",\"type\":\"LinearAxis\"},{\"attributes\":{},\"id\":\"1614\",\"type\":\"LinearScale\"}],\"root_ids\":[\"1605\"]},\"title\":\"Bokeh Application\",\"version\":\"2.2.3\"}};\n",
       "  var render_items = [{\"docid\":\"606eb5e7-3b12-4008-9d62-1aef2bc15831\",\"root_ids\":[\"1605\"],\"roots\":{\"1605\":\"aae6f246-9cd6-4d2b-9c19-69832c782766\"}}];\n",
       "  root.Bokeh.embed.embed_items_notebook(docs_json, render_items);\n",
       "\n",
       "  }\n",
       "  if (root.Bokeh !== undefined) {\n",
       "    embed_document(root);\n",
       "  } else {\n",
       "    var attempts = 0;\n",
       "    var timer = setInterval(function(root) {\n",
       "      if (root.Bokeh !== undefined) {\n",
       "        clearInterval(timer);\n",
       "        embed_document(root);\n",
       "      } else {\n",
       "        attempts++;\n",
       "        if (attempts > 100) {\n",
       "          clearInterval(timer);\n",
       "          console.log(\"Bokeh: ERROR: Unable to run BokehJS code because BokehJS library is missing\");\n",
       "        }\n",
       "      }\n",
       "    }, 10, root)\n",
       "  }\n",
       "})(window);"
      ],
      "application/vnd.bokehjs_exec.v0+json": ""
     },
     "metadata": {
      "application/vnd.bokehjs_exec.v0+json": {
       "id": "1605"
      }
     },
     "output_type": "display_data"
    },
    {
     "data": {
      "text/html": [
       "\n",
       "\n",
       "\n",
       "\n",
       "\n",
       "\n",
       "  <div class=\"bk-root\" id=\"cd3d0d67-18b9-488c-ba2a-aa181f502025\" data-root-id=\"1834\"></div>\n"
      ]
     },
     "metadata": {},
     "output_type": "display_data"
    },
    {
     "data": {
      "application/javascript": [
       "(function(root) {\n",
       "  function embed_document(root) {\n",
       "    \n",
       "  var docs_json = {\"7c303068-e125-482a-b593-0500a4159df8\":{\"roots\":{\"references\":[{\"attributes\":{\"below\":[{\"id\":\"1845\"}],\"center\":[{\"id\":\"1848\"},{\"id\":\"1852\"},{\"id\":\"1880\"},{\"id\":\"1935\"},{\"id\":\"1936\"}],\"left\":[{\"id\":\"1849\"}],\"plot_height\":300,\"plot_width\":900,\"renderers\":[{\"id\":\"1870\"},{\"id\":\"1885\"},{\"id\":\"1901\"},{\"id\":\"1919\"}],\"title\":{\"id\":\"1835\"},\"toolbar\":{\"id\":\"1860\"},\"x_range\":{\"id\":\"1837\"},\"x_scale\":{\"id\":\"1841\"},\"y_range\":{\"id\":\"1839\"},\"y_scale\":{\"id\":\"1843\"}},\"id\":\"1834\",\"subtype\":\"Figure\",\"type\":\"Plot\"},{\"attributes\":{\"line_color\":\"green\",\"x\":{\"field\":\"x\"},\"y\":{\"field\":\"y\"}},\"id\":\"1883\",\"type\":\"Line\"},{\"attributes\":{\"source\":{\"id\":\"1882\"}},\"id\":\"1886\",\"type\":\"CDSView\"},{\"attributes\":{},\"id\":\"1913\",\"type\":\"UnionRenderers\"},{\"attributes\":{\"data_source\":{\"id\":\"1916\"},\"glyph\":{\"id\":\"1917\"},\"hover_glyph\":null,\"muted_glyph\":null,\"nonselection_glyph\":{\"id\":\"1918\"},\"selection_glyph\":null,\"view\":{\"id\":\"1920\"}},\"id\":\"1919\",\"type\":\"GlyphRenderer\"},{\"attributes\":{\"active_drag\":\"auto\",\"active_inspect\":\"auto\",\"active_multi\":null,\"active_scroll\":\"auto\",\"active_tap\":\"auto\",\"tools\":[{\"id\":\"1853\"},{\"id\":\"1854\"},{\"id\":\"1855\"},{\"id\":\"1856\"},{\"id\":\"1857\"},{\"id\":\"1858\"}]},\"id\":\"1860\",\"type\":\"Toolbar\"},{\"attributes\":{\"axis\":{\"id\":\"1845\"},\"ticker\":null},\"id\":\"1848\",\"type\":\"Grid\"},{\"attributes\":{\"line_alpha\":0.1,\"line_color\":\"green\",\"x\":{\"field\":\"x\"},\"y\":{\"field\":\"y\"}},\"id\":\"1884\",\"type\":\"Line\"},{\"attributes\":{},\"id\":\"1873\",\"type\":\"BasicTickFormatter\"},{\"attributes\":{},\"id\":\"1837\",\"type\":\"DataRange1d\"},{\"attributes\":{},\"id\":\"1896\",\"type\":\"Selection\"},{\"attributes\":{\"axis\":{\"id\":\"1849\"},\"dimension\":1,\"ticker\":null},\"id\":\"1852\",\"type\":\"Grid\"},{\"attributes\":{},\"id\":\"1858\",\"type\":\"HelpTool\"},{\"attributes\":{},\"id\":\"1914\",\"type\":\"Selection\"},{\"attributes\":{\"data\":{\"x\":[224,225,226,227,228,229,230,231,232,233,234,235,236,237,238,239,240,241,242,243,244,245,246,247,248,249,250,251,252,253],\"y\":{\"__ndarray__\":\"4C7NJ4uOQz/kKLXcTMKHv/4gZicjY52/UAHacZOYez8vb1+TevmYv0Wo7lNQnZw/HLL3Up15pD+o2W+TCEGuPxmJA1ek0K0/yE+goiJDqj/tnEqAr9+rP+R8s5UaNq4/pfsIkcR7oz9MxW627zqlP4oTDNDBWbg/JrXa6YaJuT8DD7BkLKu4P4GkPOpL5LU/7gpalVgPtj8KuuHDRV6nP+KSRIGeqbc/zwZHbndYsD/sNwZzJeulP+evgAVN260/ZCeQrDGOnz+gxLg7LjOhPwROB6c02KE/RBMR6ARhrT8ghHvtHvmtP2UIftsa9KM/\",\"dtype\":\"float64\",\"order\":\"little\",\"shape\":[30]}},\"selected\":{\"id\":\"1934\"},\"selection_policy\":{\"id\":\"1933\"}},\"id\":\"1916\",\"type\":\"ColumnDataSource\"},{\"attributes\":{\"dimension\":\"height\",\"line_color\":\"gray\",\"line_dash\":[6],\"location\":250},\"id\":\"1936\",\"type\":\"Span\"},{\"attributes\":{\"source\":{\"id\":\"1867\"}},\"id\":\"1871\",\"type\":\"CDSView\"},{\"attributes\":{},\"id\":\"1933\",\"type\":\"UnionRenderers\"},{\"attributes\":{\"data_source\":{\"id\":\"1867\"},\"glyph\":{\"id\":\"1868\"},\"hover_glyph\":null,\"muted_glyph\":null,\"nonselection_glyph\":{\"id\":\"1869\"},\"selection_glyph\":null,\"view\":{\"id\":\"1871\"}},\"id\":\"1870\",\"type\":\"GlyphRenderer\"},{\"attributes\":{},\"id\":\"1850\",\"type\":\"BasicTicker\"},{\"attributes\":{},\"id\":\"1878\",\"type\":\"UnionRenderers\"},{\"attributes\":{},\"id\":\"1846\",\"type\":\"BasicTicker\"},{\"attributes\":{\"fill_alpha\":0.1,\"x\":{\"field\":\"x\"},\"y1\":{\"field\":\"y1\"},\"y2\":{\"field\":\"y2\"}},\"id\":\"1869\",\"type\":\"VArea\"},{\"attributes\":{},\"id\":\"1843\",\"type\":\"LinearScale\"},{\"attributes\":{\"end\":0.26,\"start\":-0.26},\"id\":\"1839\",\"type\":\"Range1d\"},{\"attributes\":{\"source\":{\"id\":\"1898\"}},\"id\":\"1902\",\"type\":\"CDSView\"},{\"attributes\":{},\"id\":\"1841\",\"type\":\"LinearScale\"},{\"attributes\":{},\"id\":\"1857\",\"type\":\"ResetTool\"},{\"attributes\":{\"data_source\":{\"id\":\"1882\"},\"glyph\":{\"id\":\"1883\"},\"hover_glyph\":null,\"muted_glyph\":null,\"nonselection_glyph\":{\"id\":\"1884\"},\"selection_glyph\":null,\"view\":{\"id\":\"1886\"}},\"id\":\"1885\",\"type\":\"GlyphRenderer\"},{\"attributes\":{\"formatter\":{\"id\":\"1875\"},\"ticker\":{\"id\":\"1850\"}},\"id\":\"1849\",\"type\":\"LinearAxis\"},{\"attributes\":{\"data\":{\"x\":[224,225,226,227,228,229,230,231,232,233,234,235,236,237,238,239,240,241,242,243,244,245,246,247,248,249,250,251,252,253],\"y\":{\"__ndarray__\":\"WmQ730+Npz/6fmq8dJOoP5qZmZmZmak/iUFg5dAiqz8pXI/C9SisPxkEVg4tsq0/aJHtfD81rj+4HoXrUbiuP7gehetRuK4/uB6F61G4rj8IrBxaZDuvPwisHFpkO68/CKwcWmQ7rz9U46WbxCCwP/yp8dJNYrA/WDm0yHa+rz9oke18PzWuP3npJjEIrKw/2c73U+Olqz/pJjEIrByqP+kmMQisHKo/qvHSTWIQqD+6SQwCK4emP7pJDAIrh6Y/Gy/dJAaBpT8K16NwPQqnP/p+arx0k6g/ObTIdr6fqj/6fmq8dJOoP4ts5/up8aI/\",\"dtype\":\"float64\",\"order\":\"little\",\"shape\":[30]}},\"selected\":{\"id\":\"1896\"},\"selection_policy\":{\"id\":\"1895\"}},\"id\":\"1882\",\"type\":\"ColumnDataSource\"},{\"attributes\":{\"data\":{\"x\":[224,225,226,227,228,229,230,231,232,233,234,235,236,237,238,239,240,241,242,243,244,245,246,247,248,249,250,251,252,253],\"y\":{\"__ndarray__\":\"4C7NJ4uOQz/kKLXcTMKHv/4gZicjY52/UAHacZOYez8vb1+TevmYv0Wo7lNQnZw/HLL3Up15pD+o2W+TCEGuPxmJA1ek0K0/yE+goiJDqj/tnEqAr9+rP+R8s5UaNq4/pfsIkcR7oz9MxW627zqlP4oTDNDBWbg/JrXa6YaJuT8DD7BkLKu4P4GkPOpL5LU/7gpalVgPtj8KuuHDRV6nP+KSRIGeqbc/zwZHbndYsD/sNwZzJeulP+evgAVN260/ZCeQrDGOnz+gxLg7LjOhPwROB6c02KE/RBMR6ARhrT8ghHvtHvmtP2UIftsa9KM/\",\"dtype\":\"float64\",\"order\":\"little\",\"shape\":[30]}},\"selected\":{\"id\":\"1914\"},\"selection_policy\":{\"id\":\"1913\"}},\"id\":\"1898\",\"type\":\"ColumnDataSource\"},{\"attributes\":{\"fill_alpha\":0.1,\"x\":{\"field\":\"x\"},\"y1\":{\"field\":\"y1\"},\"y2\":{\"field\":\"y2\"}},\"id\":\"1868\",\"type\":\"VArea\"},{\"attributes\":{\"source\":{\"id\":\"1916\"}},\"id\":\"1920\",\"type\":\"CDSView\"},{\"attributes\":{\"bottom_units\":\"screen\",\"fill_alpha\":0.5,\"fill_color\":\"lightgrey\",\"left_units\":\"screen\",\"level\":\"overlay\",\"line_alpha\":1.0,\"line_color\":\"black\",\"line_dash\":[4,4],\"line_width\":2,\"right_units\":\"screen\",\"top_units\":\"screen\"},\"id\":\"1859\",\"type\":\"BoxAnnotation\"},{\"attributes\":{\"data_source\":{\"id\":\"1898\"},\"glyph\":{\"id\":\"1899\"},\"hover_glyph\":null,\"muted_glyph\":null,\"nonselection_glyph\":{\"id\":\"1900\"},\"selection_glyph\":null,\"view\":{\"id\":\"1902\"}},\"id\":\"1901\",\"type\":\"GlyphRenderer\"},{\"attributes\":{\"line_alpha\":0.1,\"line_color\":\"blue\",\"x\":{\"field\":\"x\"},\"y\":{\"field\":\"y\"}},\"id\":\"1900\",\"type\":\"Line\"},{\"attributes\":{},\"id\":\"1879\",\"type\":\"Selection\"},{\"attributes\":{},\"id\":\"1856\",\"type\":\"SaveTool\"},{\"attributes\":{\"label\":{\"value\":\"mean\"},\"renderers\":[{\"id\":\"1885\"}]},\"id\":\"1897\",\"type\":\"LegendItem\"},{\"attributes\":{\"text\":\"Convergence - hiryuu\"},\"id\":\"1835\",\"type\":\"Title\"},{\"attributes\":{\"overlay\":{\"id\":\"1859\"}},\"id\":\"1855\",\"type\":\"BoxZoomTool\"},{\"attributes\":{\"fill_color\":{\"value\":\"blue\"},\"line_color\":{\"value\":\"blue\"},\"x\":{\"field\":\"x\"},\"y\":{\"field\":\"y\"}},\"id\":\"1917\",\"type\":\"Circle\"},{\"attributes\":{},\"id\":\"1895\",\"type\":\"UnionRenderers\"},{\"attributes\":{},\"id\":\"1875\",\"type\":\"BasicTickFormatter\"},{\"attributes\":{},\"id\":\"1853\",\"type\":\"PanTool\"},{\"attributes\":{},\"id\":\"1934\",\"type\":\"Selection\"},{\"attributes\":{\"label\":{\"value\":\"metric\"},\"renderers\":[{\"id\":\"1901\"},{\"id\":\"1919\"}]},\"id\":\"1915\",\"type\":\"LegendItem\"},{\"attributes\":{\"dimension\":\"height\",\"line_color\":\"gray\",\"line_dash\":[6],\"location\":234},\"id\":\"1935\",\"type\":\"Span\"},{\"attributes\":{},\"id\":\"1854\",\"type\":\"WheelZoomTool\"},{\"attributes\":{\"label\":{\"value\":\"hdi\"},\"renderers\":[{\"id\":\"1870\"}]},\"id\":\"1881\",\"type\":\"LegendItem\"},{\"attributes\":{\"data\":{\"x\":[224,225,226,227,228,229,230,231,232,233,234,235,236,237,238,239,240,241,242,243,244,245,246,247,248,249,250,251,252,253],\"y1\":{\"__ndarray__\":\"/Knx0k1ioD9MN4lBYOWgPzvfT42XbqI/K4cW2c73oz8bL90kBoGlP6rx0k1iEKg/SgwCK4cWqT9KDAIrhxapP6rx0k1iEKg/qvHSTWIQqD+q8dJNYhCoP6rx0k1iEKg/WmQ730+Npz+q8dJNYhCoP6rx0k1iEKg/ukkMAiuHpj8bL90kBoGlPyuHFtnO96M/i2zn+6nxoj/sUbgeheuhP5zEILByaKE//Knx0k1ioD9YObTIdr6fP3npJjEIrJw/Gy/dJAaBlT8bL90kBoGVP3sUrkfhenQ/O99PjZdugr/6fmq8dJOov0a28/3UeMm/\",\"dtype\":\"float64\",\"order\":\"little\",\"shape\":[30]},\"y2\":{\"__ndarray__\":\"WDm0yHa+rz+kcD0K16OwP0w3iUFg5bA/TDeJQWDlsD+cxCCwcmixP+xRuB6F67E/kxgEVg4tsj+TGARWDi2yPzvfT42XbrI/46WbxCCwsj+LbOf7qfGyP9v5fmq8dLM/g8DKoUW2sz/TTWIQWDm0P8uhRbbz/bQ/K4cW2c73sz/b+X5qvHSzPzvfT42XbrI/kxgEVg4tsj/0/dR46SaxP+xRuB6F67E/CKwcWmQ7rz9oke18PzWuP1g5tMh2vq8/WDm0yHa+rz+LbOf7qfGyPyPb+X5qvLQ/iUFg5dAiuz+DwMqhRbbDP6rx0k1iENA/\",\"dtype\":\"float64\",\"order\":\"little\",\"shape\":[30]}},\"selected\":{\"id\":\"1879\"},\"selection_policy\":{\"id\":\"1878\"}},\"id\":\"1867\",\"type\":\"ColumnDataSource\"},{\"attributes\":{\"fill_alpha\":{\"value\":0.1},\"fill_color\":{\"value\":\"blue\"},\"line_alpha\":{\"value\":0.1},\"line_color\":{\"value\":\"blue\"},\"x\":{\"field\":\"x\"},\"y\":{\"field\":\"y\"}},\"id\":\"1918\",\"type\":\"Circle\"},{\"attributes\":{\"line_color\":\"blue\",\"x\":{\"field\":\"x\"},\"y\":{\"field\":\"y\"}},\"id\":\"1899\",\"type\":\"Line\"},{\"attributes\":{\"click_policy\":\"hide\",\"items\":[{\"id\":\"1881\"},{\"id\":\"1897\"},{\"id\":\"1915\"}],\"location\":\"bottom_left\"},\"id\":\"1880\",\"type\":\"Legend\"},{\"attributes\":{\"formatter\":{\"id\":\"1873\"},\"ticker\":{\"id\":\"1846\"}},\"id\":\"1845\",\"type\":\"LinearAxis\"}],\"root_ids\":[\"1834\"]},\"title\":\"Bokeh Application\",\"version\":\"2.2.3\"}};\n",
       "  var render_items = [{\"docid\":\"7c303068-e125-482a-b593-0500a4159df8\",\"root_ids\":[\"1834\"],\"roots\":{\"1834\":\"cd3d0d67-18b9-488c-ba2a-aa181f502025\"}}];\n",
       "  root.Bokeh.embed.embed_items_notebook(docs_json, render_items);\n",
       "\n",
       "  }\n",
       "  if (root.Bokeh !== undefined) {\n",
       "    embed_document(root);\n",
       "  } else {\n",
       "    var attempts = 0;\n",
       "    var timer = setInterval(function(root) {\n",
       "      if (root.Bokeh !== undefined) {\n",
       "        clearInterval(timer);\n",
       "        embed_document(root);\n",
       "      } else {\n",
       "        attempts++;\n",
       "        if (attempts > 100) {\n",
       "          clearInterval(timer);\n",
       "          console.log(\"Bokeh: ERROR: Unable to run BokehJS code because BokehJS library is missing\");\n",
       "        }\n",
       "      }\n",
       "    }, 10, root)\n",
       "  }\n",
       "})(window);"
      ],
      "application/vnd.bokehjs_exec.v0+json": ""
     },
     "metadata": {
      "application/vnd.bokehjs_exec.v0+json": {
       "id": "1834"
      }
     },
     "output_type": "display_data"
    },
    {
     "data": {
      "text/html": [
       "\n",
       "\n",
       "\n",
       "\n",
       "\n",
       "\n",
       "  <div class=\"bk-root\" id=\"a22e91ad-3be5-4e79-81ff-d5f560a58fd1\" data-root-id=\"2077\"></div>\n"
      ]
     },
     "metadata": {},
     "output_type": "display_data"
    },
    {
     "data": {
      "application/javascript": [
       "(function(root) {\n",
       "  function embed_document(root) {\n",
       "    \n",
       "  var docs_json = {\"fd13c0fe-4c9b-4241-b163-f4b1942e8e06\":{\"roots\":{\"references\":[{\"attributes\":{\"below\":[{\"id\":\"2088\"}],\"center\":[{\"id\":\"2091\"},{\"id\":\"2095\"},{\"id\":\"2123\"},{\"id\":\"2178\"},{\"id\":\"2179\"}],\"left\":[{\"id\":\"2092\"}],\"plot_height\":300,\"plot_width\":900,\"renderers\":[{\"id\":\"2113\"},{\"id\":\"2128\"},{\"id\":\"2144\"},{\"id\":\"2162\"}],\"title\":{\"id\":\"2078\"},\"toolbar\":{\"id\":\"2103\"},\"x_range\":{\"id\":\"2080\"},\"x_scale\":{\"id\":\"2084\"},\"y_range\":{\"id\":\"2082\"},\"y_scale\":{\"id\":\"2086\"}},\"id\":\"2077\",\"subtype\":\"Figure\",\"type\":\"Plot\"},{\"attributes\":{},\"id\":\"2080\",\"type\":\"DataRange1d\"},{\"attributes\":{},\"id\":\"2100\",\"type\":\"ResetTool\"},{\"attributes\":{},\"id\":\"2156\",\"type\":\"UnionRenderers\"},{\"attributes\":{\"axis\":{\"id\":\"2088\"},\"ticker\":null},\"id\":\"2091\",\"type\":\"Grid\"},{\"attributes\":{\"dimension\":\"height\",\"line_color\":\"gray\",\"line_dash\":[6],\"location\":250},\"id\":\"2179\",\"type\":\"Span\"},{\"attributes\":{\"data_source\":{\"id\":\"2159\"},\"glyph\":{\"id\":\"2160\"},\"hover_glyph\":null,\"muted_glyph\":null,\"nonselection_glyph\":{\"id\":\"2161\"},\"selection_glyph\":null,\"view\":{\"id\":\"2163\"}},\"id\":\"2162\",\"type\":\"GlyphRenderer\"},{\"attributes\":{\"data_source\":{\"id\":\"2141\"},\"glyph\":{\"id\":\"2142\"},\"hover_glyph\":null,\"muted_glyph\":null,\"nonselection_glyph\":{\"id\":\"2143\"},\"selection_glyph\":null,\"view\":{\"id\":\"2145\"}},\"id\":\"2144\",\"type\":\"GlyphRenderer\"},{\"attributes\":{},\"id\":\"2138\",\"type\":\"UnionRenderers\"},{\"attributes\":{},\"id\":\"2139\",\"type\":\"Selection\"},{\"attributes\":{\"label\":{\"value\":\"metric\"},\"renderers\":[{\"id\":\"2144\"},{\"id\":\"2162\"}]},\"id\":\"2158\",\"type\":\"LegendItem\"},{\"attributes\":{},\"id\":\"2099\",\"type\":\"SaveTool\"},{\"attributes\":{\"line_alpha\":0.1,\"line_color\":\"blue\",\"x\":{\"field\":\"x\"},\"y\":{\"field\":\"y\"}},\"id\":\"2143\",\"type\":\"Line\"},{\"attributes\":{\"formatter\":{\"id\":\"2116\"},\"ticker\":{\"id\":\"2089\"}},\"id\":\"2088\",\"type\":\"LinearAxis\"},{\"attributes\":{\"formatter\":{\"id\":\"2118\"},\"ticker\":{\"id\":\"2093\"}},\"id\":\"2092\",\"type\":\"LinearAxis\"},{\"attributes\":{},\"id\":\"2116\",\"type\":\"BasicTickFormatter\"},{\"attributes\":{},\"id\":\"2086\",\"type\":\"LinearScale\"},{\"attributes\":{},\"id\":\"2176\",\"type\":\"UnionRenderers\"},{\"attributes\":{\"line_color\":\"blue\",\"x\":{\"field\":\"x\"},\"y\":{\"field\":\"y\"}},\"id\":\"2142\",\"type\":\"Line\"},{\"attributes\":{\"fill_alpha\":{\"value\":0.1},\"fill_color\":{\"value\":\"blue\"},\"line_alpha\":{\"value\":0.1},\"line_color\":{\"value\":\"blue\"},\"x\":{\"field\":\"x\"},\"y\":{\"field\":\"y\"}},\"id\":\"2161\",\"type\":\"Circle\"},{\"attributes\":{\"bottom_units\":\"screen\",\"fill_alpha\":0.5,\"fill_color\":\"lightgrey\",\"left_units\":\"screen\",\"level\":\"overlay\",\"line_alpha\":1.0,\"line_color\":\"black\",\"line_dash\":[4,4],\"line_width\":2,\"right_units\":\"screen\",\"top_units\":\"screen\"},\"id\":\"2102\",\"type\":\"BoxAnnotation\"},{\"attributes\":{\"source\":{\"id\":\"2125\"}},\"id\":\"2129\",\"type\":\"CDSView\"},{\"attributes\":{\"data\":{\"x\":[224,225,226,227,228,229,230,231,232,233,234,235,236,237,238,239,240,241,242,243,244,245,246,247,248,249,250,251,252,253],\"y\":{\"__ndarray__\":\"4C7NJ4uOQz/kKLXcTMKHv/4gZicjY52/UAHacZOYez8vb1+TevmYv0Wo7lNQnZw/HLL3Up15pD+o2W+TCEGuPxmJA1ek0K0/yE+goiJDqj/tnEqAr9+rP+R8s5UaNq4/pfsIkcR7oz9MxW627zqlP4oTDNDBWbg/JrXa6YaJuT8DD7BkLKu4P4GkPOpL5LU/7gpalVgPtj8KuuHDRV6nP+KSRIGeqbc/zwZHbndYsD/sNwZzJeulP+evgAVN260/ZCeQrDGOnz+gxLg7LjOhPwROB6c02KE/RBMR6ARhrT8ghHvtHvmtP2UIftsa9KM/\",\"dtype\":\"float64\",\"order\":\"little\",\"shape\":[30]}},\"selected\":{\"id\":\"2157\"},\"selection_policy\":{\"id\":\"2156\"}},\"id\":\"2141\",\"type\":\"ColumnDataSource\"},{\"attributes\":{\"axis\":{\"id\":\"2092\"},\"dimension\":1,\"ticker\":null},\"id\":\"2095\",\"type\":\"Grid\"},{\"attributes\":{\"fill_color\":{\"value\":\"blue\"},\"line_color\":{\"value\":\"blue\"},\"x\":{\"field\":\"x\"},\"y\":{\"field\":\"y\"}},\"id\":\"2160\",\"type\":\"Circle\"},{\"attributes\":{},\"id\":\"2093\",\"type\":\"BasicTicker\"},{\"attributes\":{\"dimension\":\"height\",\"line_color\":\"gray\",\"line_dash\":[6],\"location\":234},\"id\":\"2178\",\"type\":\"Span\"},{\"attributes\":{\"fill_alpha\":0.1,\"x\":{\"field\":\"x\"},\"y1\":{\"field\":\"y1\"},\"y2\":{\"field\":\"y2\"}},\"id\":\"2112\",\"type\":\"VArea\"},{\"attributes\":{\"line_color\":\"green\",\"x\":{\"field\":\"x\"},\"y\":{\"field\":\"y\"}},\"id\":\"2126\",\"type\":\"Line\"},{\"attributes\":{\"text\":\"Timeseries - hiryuu\"},\"id\":\"2078\",\"type\":\"Title\"},{\"attributes\":{\"end\":0.26,\"start\":-0.26},\"id\":\"2082\",\"type\":\"Range1d\"},{\"attributes\":{},\"id\":\"2089\",\"type\":\"BasicTicker\"},{\"attributes\":{},\"id\":\"2157\",\"type\":\"Selection\"},{\"attributes\":{},\"id\":\"2084\",\"type\":\"LinearScale\"},{\"attributes\":{\"active_drag\":\"auto\",\"active_inspect\":\"auto\",\"active_multi\":null,\"active_scroll\":\"auto\",\"active_tap\":\"auto\",\"tools\":[{\"id\":\"2096\"},{\"id\":\"2097\"},{\"id\":\"2098\"},{\"id\":\"2099\"},{\"id\":\"2100\"},{\"id\":\"2101\"}]},\"id\":\"2103\",\"type\":\"Toolbar\"},{\"attributes\":{},\"id\":\"2097\",\"type\":\"WheelZoomTool\"},{\"attributes\":{\"label\":{\"value\":\"hdi\"},\"renderers\":[{\"id\":\"2113\"}]},\"id\":\"2124\",\"type\":\"LegendItem\"},{\"attributes\":{\"data\":{\"x\":[224,225,226,227,228,229,230,231,232,233,234,235,236,237,238,239,240,241,242,243,244,245,246,247,248,249,250,251,252,253],\"y\":{\"__ndarray__\":\"WmQ730+Nlz97FK5H4XqUP/yp8dJNYpA//Knx0k1ikD85tMh2vp+KP3npJjEIrIw//Knx0k1ikD8730+Nl26SP3sUrkfhepQ/ukkMAiuHlj9aZDvfT42XP9nO91PjpZs/eekmMQisnD9YObTIdr6fP/yp8dJNYqA//Knx0k1ioD/sUbgeheuhP4ts5/up8aI/exSuR+F6pD+6SQwCK4emP0oMAiuHFqk/ObTIdr6fqj956SYxCKysP2iR7Xw/Na4/CKwcWmQ7rz9YObTIdr6vPwisHFpkO68/CKwcWmQ7rz8IrBxaZDuvPwisHFpkO68/\",\"dtype\":\"float64\",\"order\":\"little\",\"shape\":[30]}},\"selected\":{\"id\":\"2139\"},\"selection_policy\":{\"id\":\"2138\"}},\"id\":\"2125\",\"type\":\"ColumnDataSource\"},{\"attributes\":{\"overlay\":{\"id\":\"2102\"}},\"id\":\"2098\",\"type\":\"BoxZoomTool\"},{\"attributes\":{},\"id\":\"2101\",\"type\":\"HelpTool\"},{\"attributes\":{\"line_alpha\":0.1,\"line_color\":\"green\",\"x\":{\"field\":\"x\"},\"y\":{\"field\":\"y\"}},\"id\":\"2127\",\"type\":\"Line\"},{\"attributes\":{},\"id\":\"2122\",\"type\":\"Selection\"},{\"attributes\":{},\"id\":\"2096\",\"type\":\"PanTool\"},{\"attributes\":{\"source\":{\"id\":\"2159\"}},\"id\":\"2163\",\"type\":\"CDSView\"},{\"attributes\":{\"data\":{\"x\":[224,225,226,227,228,229,230,231,232,233,234,235,236,237,238,239,240,241,242,243,244,245,246,247,248,249,250,251,252,253],\"y\":{\"__ndarray__\":\"4C7NJ4uOQz/kKLXcTMKHv/4gZicjY52/UAHacZOYez8vb1+TevmYv0Wo7lNQnZw/HLL3Up15pD+o2W+TCEGuPxmJA1ek0K0/yE+goiJDqj/tnEqAr9+rP+R8s5UaNq4/pfsIkcR7oz9MxW627zqlP4oTDNDBWbg/JrXa6YaJuT8DD7BkLKu4P4GkPOpL5LU/7gpalVgPtj8KuuHDRV6nP+KSRIGeqbc/zwZHbndYsD/sNwZzJeulP+evgAVN260/ZCeQrDGOnz+gxLg7LjOhPwROB6c02KE/RBMR6ARhrT8ghHvtHvmtP2UIftsa9KM/\",\"dtype\":\"float64\",\"order\":\"little\",\"shape\":[30]}},\"selected\":{\"id\":\"2177\"},\"selection_policy\":{\"id\":\"2176\"}},\"id\":\"2159\",\"type\":\"ColumnDataSource\"},{\"attributes\":{\"data\":{\"x\":[224,225,226,227,228,229,230,231,232,233,234,235,236,237,238,239,240,241,242,243,244,245,246,247,248,249,250,251,252,253],\"y1\":{\"__ndarray__\":\"ObTIdr6fir97FK5H4XqEv/p+arx0k4i/+n5qvHSTiL/6fmq8dJOIv3sUrkfheoS/eekmMQisfL956SYxCKx8v/yp8dJNYmC/AAAAAAAAAAD8qfHSTWJQP3sUrkfhenQ/+n5qvHSTeD+6SQwCK4eGP3sUrkfheoQ/exSuR+F6hD+6SQwCK4eGP/p+arx0k4g/uB6F61G4jj+6SQwCK4eWPzm0yHa+n5o/WDm0yHa+nz+LbOf7qfGiP8uhRbbz/aQ/qvHSTWIQqD9KDAIrhxapP/p+arx0k6g/+n5qvHSTqD/6fmq8dJOoP6rx0k1iEKg/\",\"dtype\":\"float64\",\"order\":\"little\",\"shape\":[30]},\"y2\":{\"__ndarray__\":\"KVyPwvUorD/ZzvdT46WrP5qZmZmZmak/arx0kxgEpj97FK5H4XqkP3sUrkfheqQ/K4cW2c73oz/LoUW28/2kP8uhRbbz/aQ/ukkMAiuHpj8K16NwPQqnP0oMAiuHFqk/SgwCK4cWqT85tMh2vp+qP9nO91Pjpas/iUFg5dAiqz8ZBFYOLbKtPwisHFpkO68/pHA9CtejsD/0/dR46SaxP5MYBFYOLbI/i2zn+6nxsj8zMzMzMzOzP9v5fmq8dLM/MzMzMzMzsz8zMzMzMzOzPzMzMzMzM7M/46WbxCCwsj8zMzMzMzOzP4ts5/up8bI/\",\"dtype\":\"float64\",\"order\":\"little\",\"shape\":[30]}},\"selected\":{\"id\":\"2122\"},\"selection_policy\":{\"id\":\"2121\"}},\"id\":\"2110\",\"type\":\"ColumnDataSource\"},{\"attributes\":{\"fill_alpha\":0.1,\"x\":{\"field\":\"x\"},\"y1\":{\"field\":\"y1\"},\"y2\":{\"field\":\"y2\"}},\"id\":\"2111\",\"type\":\"VArea\"},{\"attributes\":{\"click_policy\":\"hide\",\"items\":[{\"id\":\"2124\"},{\"id\":\"2140\"},{\"id\":\"2158\"}],\"location\":\"bottom_left\"},\"id\":\"2123\",\"type\":\"Legend\"},{\"attributes\":{\"data_source\":{\"id\":\"2125\"},\"glyph\":{\"id\":\"2126\"},\"hover_glyph\":null,\"muted_glyph\":null,\"nonselection_glyph\":{\"id\":\"2127\"},\"selection_glyph\":null,\"view\":{\"id\":\"2129\"}},\"id\":\"2128\",\"type\":\"GlyphRenderer\"},{\"attributes\":{\"source\":{\"id\":\"2141\"}},\"id\":\"2145\",\"type\":\"CDSView\"},{\"attributes\":{\"label\":{\"value\":\"mean\"},\"renderers\":[{\"id\":\"2128\"}]},\"id\":\"2140\",\"type\":\"LegendItem\"},{\"attributes\":{},\"id\":\"2121\",\"type\":\"UnionRenderers\"},{\"attributes\":{},\"id\":\"2118\",\"type\":\"BasicTickFormatter\"},{\"attributes\":{},\"id\":\"2177\",\"type\":\"Selection\"},{\"attributes\":{\"source\":{\"id\":\"2110\"}},\"id\":\"2114\",\"type\":\"CDSView\"},{\"attributes\":{\"data_source\":{\"id\":\"2110\"},\"glyph\":{\"id\":\"2111\"},\"hover_glyph\":null,\"muted_glyph\":null,\"nonselection_glyph\":{\"id\":\"2112\"},\"selection_glyph\":null,\"view\":{\"id\":\"2114\"}},\"id\":\"2113\",\"type\":\"GlyphRenderer\"}],\"root_ids\":[\"2077\"]},\"title\":\"Bokeh Application\",\"version\":\"2.2.3\"}};\n",
       "  var render_items = [{\"docid\":\"fd13c0fe-4c9b-4241-b163-f4b1942e8e06\",\"root_ids\":[\"2077\"],\"roots\":{\"2077\":\"a22e91ad-3be5-4e79-81ff-d5f560a58fd1\"}}];\n",
       "  root.Bokeh.embed.embed_items_notebook(docs_json, render_items);\n",
       "\n",
       "  }\n",
       "  if (root.Bokeh !== undefined) {\n",
       "    embed_document(root);\n",
       "  } else {\n",
       "    var attempts = 0;\n",
       "    var timer = setInterval(function(root) {\n",
       "      if (root.Bokeh !== undefined) {\n",
       "        clearInterval(timer);\n",
       "        embed_document(root);\n",
       "      } else {\n",
       "        attempts++;\n",
       "        if (attempts > 100) {\n",
       "          clearInterval(timer);\n",
       "          console.log(\"Bokeh: ERROR: Unable to run BokehJS code because BokehJS library is missing\");\n",
       "        }\n",
       "      }\n",
       "    }, 10, root)\n",
       "  }\n",
       "})(window);"
      ],
      "application/vnd.bokehjs_exec.v0+json": ""
     },
     "metadata": {
      "application/vnd.bokehjs_exec.v0+json": {
       "id": "2077"
      }
     },
     "output_type": "display_data"
    },
    {
     "data": {
      "text/html": [
       "\n",
       "\n",
       "\n",
       "\n",
       "\n",
       "\n",
       "  <div class=\"bk-root\" id=\"ac5f68fe-754c-4dd8-84d4-ebb14cdb3fef\" data-root-id=\"2334\"></div>\n"
      ]
     },
     "metadata": {},
     "output_type": "display_data"
    },
    {
     "data": {
      "application/javascript": [
       "(function(root) {\n",
       "  function embed_document(root) {\n",
       "    \n",
       "  var docs_json = {\"37b13908-7451-47e7-9e3e-1da472cbcc64\":{\"roots\":{\"references\":[{\"attributes\":{\"below\":[{\"id\":\"2345\"}],\"center\":[{\"id\":\"2348\"},{\"id\":\"2352\"},{\"id\":\"2380\"},{\"id\":\"2435\"},{\"id\":\"2436\"}],\"left\":[{\"id\":\"2349\"}],\"plot_height\":300,\"plot_width\":900,\"renderers\":[{\"id\":\"2370\"},{\"id\":\"2385\"},{\"id\":\"2401\"},{\"id\":\"2419\"}],\"title\":{\"id\":\"2335\"},\"toolbar\":{\"id\":\"2360\"},\"x_range\":{\"id\":\"2337\"},\"x_scale\":{\"id\":\"2341\"},\"y_range\":{\"id\":\"2339\"},\"y_scale\":{\"id\":\"2343\"}},\"id\":\"2334\",\"subtype\":\"Figure\",\"type\":\"Plot\"},{\"attributes\":{\"fill_alpha\":0.1,\"x\":{\"field\":\"x\"},\"y1\":{\"field\":\"y1\"},\"y2\":{\"field\":\"y2\"}},\"id\":\"2368\",\"type\":\"VArea\"},{\"attributes\":{},\"id\":\"2375\",\"type\":\"BasicTickFormatter\"},{\"attributes\":{},\"id\":\"2357\",\"type\":\"ResetTool\"},{\"attributes\":{\"formatter\":{\"id\":\"2373\"},\"ticker\":{\"id\":\"2346\"}},\"id\":\"2345\",\"type\":\"LinearAxis\"},{\"attributes\":{},\"id\":\"2354\",\"type\":\"WheelZoomTool\"},{\"attributes\":{\"label\":{\"value\":\"mean\"},\"renderers\":[{\"id\":\"2385\"}]},\"id\":\"2397\",\"type\":\"LegendItem\"},{\"attributes\":{},\"id\":\"2337\",\"type\":\"DataRange1d\"},{\"attributes\":{},\"id\":\"2356\",\"type\":\"SaveTool\"},{\"attributes\":{},\"id\":\"2379\",\"type\":\"Selection\"},{\"attributes\":{\"fill_alpha\":{\"value\":0.1},\"fill_color\":{\"value\":\"blue\"},\"line_alpha\":{\"value\":0.1},\"line_color\":{\"value\":\"blue\"},\"x\":{\"field\":\"x\"},\"y\":{\"field\":\"y\"}},\"id\":\"2418\",\"type\":\"Circle\"},{\"attributes\":{\"fill_color\":{\"value\":\"blue\"},\"line_color\":{\"value\":\"blue\"},\"x\":{\"field\":\"x\"},\"y\":{\"field\":\"y\"}},\"id\":\"2417\",\"type\":\"Circle\"},{\"attributes\":{\"line_color\":\"blue\",\"x\":{\"field\":\"x\"},\"y\":{\"field\":\"y\"}},\"id\":\"2399\",\"type\":\"Line\"},{\"attributes\":{\"dimension\":\"height\",\"line_color\":\"gray\",\"line_dash\":[6],\"location\":250},\"id\":\"2436\",\"type\":\"Span\"},{\"attributes\":{\"source\":{\"id\":\"2382\"}},\"id\":\"2386\",\"type\":\"CDSView\"},{\"attributes\":{},\"id\":\"2413\",\"type\":\"UnionRenderers\"},{\"attributes\":{\"data\":{\"x\":[224,225,226,227,228,229,230,231,232,233,234,235,236,237,238,239,240,241,242,243,244,245,246,247,248,249,250,251,252,253],\"y\":{\"__ndarray__\":\"nLY7ViQCk79jINPfK+2Lvxe4Sqpf1Ig//FwZGly0oD+Dvyq81WGwPx12+Gyp3rc/4My1W5HPqT95p7+ulC+dP2MofVApnIS/JPhtJ/9Zpr9aITZSNginv3Yc2ssWHZI/kqZrx0/WkD/+No3kCw+qP4XG9awDRq8/ycVCO4NKrT/hLqjPGDSiP55saBCm2qE/TnIgb9qukz+HrLwFhTV0v4Ewd3Fdb7A/+RE4dvQusT9RoKzMMjuwP+BFtq7xVKo/4fFNUMT7lz+sW+cotRVWv9wLevaJU3U//VgY3IhKlz+xFXF5LGdkP0N+ulS/zJa/\",\"dtype\":\"float64\",\"order\":\"little\",\"shape\":[30]}},\"selected\":{\"id\":\"2434\"},\"selection_policy\":{\"id\":\"2433\"}},\"id\":\"2416\",\"type\":\"ColumnDataSource\"},{\"attributes\":{},\"id\":\"2414\",\"type\":\"Selection\"},{\"attributes\":{},\"id\":\"2373\",\"type\":\"BasicTickFormatter\"},{\"attributes\":{\"source\":{\"id\":\"2398\"}},\"id\":\"2402\",\"type\":\"CDSView\"},{\"attributes\":{\"data\":{\"x\":[224,225,226,227,228,229,230,231,232,233,234,235,236,237,238,239,240,241,242,243,244,245,246,247,248,249,250,251,252,253],\"y1\":{\"__ndarray__\":\"/Knx0k1igD97FK5H4XqEP7pJDAIrh4Y/exSuR+F6hD97FK5H4XqEP/yp8dJNYoA/+n5qvHSTeD/8qfHSTWJwP/p+arx0k2g//Knx0k1iYD/8qfHSTWKAP3npJjEIrIw/ObTIdr6fij85tMh2vp+KP3sUrkfheoQ//Knx0k1igD/8qfHSTWJwP/yp8dJNYmA//Knx0k1iYL/8qfHSTWJwv/yp8dJNYmC/exSuR+F6hL956SYxCKyMvzvfT42XbpK/mpmZmZmZmb9MN4lBYOWgv+kmMQisHKq/7FG4HoXrsb9oke18PzW+v83MzMzMzMy/\",\"dtype\":\"float64\",\"order\":\"little\",\"shape\":[30]},\"y2\":{\"__ndarray__\":\"K4cW2c73oz8bL90kBoGlP2q8dJMYBKY/ukkMAiuHpj+6SQwCK4emP2q8dJMYBKY/exSuR+F6pD97FK5H4XqkP3sUrkfheqQ/y6FFtvP9pD9aZDvfT42nP6rx0k1iEKg/SgwCK4cWqT9KDAIrhxapP0oMAiuHFqk/SgwCK4cWqT9aZDvfT42nP1pkO99Pjac/+n5qvHSTqD+JQWDl0CKrP3npJjEIrKw/KVyPwvUorD85tMh2vp+qP2q8dJMYBKY/uB6F61G4nj9MN4lBYOWgP0oMAiuHFqk/CtejcD0Ktz85tMh2vp+6PwaBlUOLbMc/\",\"dtype\":\"float64\",\"order\":\"little\",\"shape\":[30]}},\"selected\":{\"id\":\"2379\"},\"selection_policy\":{\"id\":\"2378\"}},\"id\":\"2367\",\"type\":\"ColumnDataSource\"},{\"attributes\":{},\"id\":\"2343\",\"type\":\"LinearScale\"},{\"attributes\":{\"overlay\":{\"id\":\"2359\"}},\"id\":\"2355\",\"type\":\"BoxZoomTool\"},{\"attributes\":{\"data_source\":{\"id\":\"2398\"},\"glyph\":{\"id\":\"2399\"},\"hover_glyph\":null,\"muted_glyph\":null,\"nonselection_glyph\":{\"id\":\"2400\"},\"selection_glyph\":null,\"view\":{\"id\":\"2402\"}},\"id\":\"2401\",\"type\":\"GlyphRenderer\"},{\"attributes\":{\"label\":{\"value\":\"metric\"},\"renderers\":[{\"id\":\"2401\"},{\"id\":\"2419\"}]},\"id\":\"2415\",\"type\":\"LegendItem\"},{\"attributes\":{\"line_alpha\":0.1,\"line_color\":\"green\",\"x\":{\"field\":\"x\"},\"y\":{\"field\":\"y\"}},\"id\":\"2384\",\"type\":\"Line\"},{\"attributes\":{\"dimension\":\"height\",\"line_color\":\"gray\",\"line_dash\":[6],\"location\":234},\"id\":\"2435\",\"type\":\"Span\"},{\"attributes\":{},\"id\":\"2358\",\"type\":\"HelpTool\"},{\"attributes\":{},\"id\":\"2434\",\"type\":\"Selection\"},{\"attributes\":{},\"id\":\"2341\",\"type\":\"LinearScale\"},{\"attributes\":{\"text\":\"Convergence - integration_test_7\"},\"id\":\"2335\",\"type\":\"Title\"},{\"attributes\":{\"formatter\":{\"id\":\"2375\"},\"ticker\":{\"id\":\"2350\"}},\"id\":\"2349\",\"type\":\"LinearAxis\"},{\"attributes\":{},\"id\":\"2346\",\"type\":\"BasicTicker\"},{\"attributes\":{\"source\":{\"id\":\"2367\"}},\"id\":\"2371\",\"type\":\"CDSView\"},{\"attributes\":{\"label\":{\"value\":\"hdi\"},\"renderers\":[{\"id\":\"2370\"}]},\"id\":\"2381\",\"type\":\"LegendItem\"},{\"attributes\":{\"axis\":{\"id\":\"2345\"},\"ticker\":null},\"id\":\"2348\",\"type\":\"Grid\"},{\"attributes\":{},\"id\":\"2378\",\"type\":\"UnionRenderers\"},{\"attributes\":{},\"id\":\"2353\",\"type\":\"PanTool\"},{\"attributes\":{\"line_color\":\"green\",\"x\":{\"field\":\"x\"},\"y\":{\"field\":\"y\"}},\"id\":\"2383\",\"type\":\"Line\"},{\"attributes\":{\"line_alpha\":0.1,\"line_color\":\"blue\",\"x\":{\"field\":\"x\"},\"y\":{\"field\":\"y\"}},\"id\":\"2400\",\"type\":\"Line\"},{\"attributes\":{\"source\":{\"id\":\"2416\"}},\"id\":\"2420\",\"type\":\"CDSView\"},{\"attributes\":{\"end\":0.26,\"start\":-0.26},\"id\":\"2339\",\"type\":\"Range1d\"},{\"attributes\":{},\"id\":\"2396\",\"type\":\"Selection\"},{\"attributes\":{\"data_source\":{\"id\":\"2382\"},\"glyph\":{\"id\":\"2383\"},\"hover_glyph\":null,\"muted_glyph\":null,\"nonselection_glyph\":{\"id\":\"2384\"},\"selection_glyph\":null,\"view\":{\"id\":\"2386\"}},\"id\":\"2385\",\"type\":\"GlyphRenderer\"},{\"attributes\":{\"active_drag\":\"auto\",\"active_inspect\":\"auto\",\"active_multi\":null,\"active_scroll\":\"auto\",\"active_tap\":\"auto\",\"tools\":[{\"id\":\"2353\"},{\"id\":\"2354\"},{\"id\":\"2355\"},{\"id\":\"2356\"},{\"id\":\"2357\"},{\"id\":\"2358\"}]},\"id\":\"2360\",\"type\":\"Toolbar\"},{\"attributes\":{\"fill_alpha\":0.1,\"x\":{\"field\":\"x\"},\"y1\":{\"field\":\"y1\"},\"y2\":{\"field\":\"y2\"}},\"id\":\"2369\",\"type\":\"VArea\"},{\"attributes\":{},\"id\":\"2433\",\"type\":\"UnionRenderers\"},{\"attributes\":{},\"id\":\"2350\",\"type\":\"BasicTicker\"},{\"attributes\":{\"click_policy\":\"hide\",\"items\":[{\"id\":\"2381\"},{\"id\":\"2397\"},{\"id\":\"2415\"}],\"location\":\"bottom_left\"},\"id\":\"2380\",\"type\":\"Legend\"},{\"attributes\":{},\"id\":\"2395\",\"type\":\"UnionRenderers\"},{\"attributes\":{\"axis\":{\"id\":\"2349\"},\"dimension\":1,\"ticker\":null},\"id\":\"2352\",\"type\":\"Grid\"},{\"attributes\":{\"data_source\":{\"id\":\"2367\"},\"glyph\":{\"id\":\"2368\"},\"hover_glyph\":null,\"muted_glyph\":null,\"nonselection_glyph\":{\"id\":\"2369\"},\"selection_glyph\":null,\"view\":{\"id\":\"2371\"}},\"id\":\"2370\",\"type\":\"GlyphRenderer\"},{\"attributes\":{\"bottom_units\":\"screen\",\"fill_alpha\":0.5,\"fill_color\":\"lightgrey\",\"left_units\":\"screen\",\"level\":\"overlay\",\"line_alpha\":1.0,\"line_color\":\"black\",\"line_dash\":[4,4],\"line_width\":2,\"right_units\":\"screen\",\"top_units\":\"screen\"},\"id\":\"2359\",\"type\":\"BoxAnnotation\"},{\"attributes\":{\"data_source\":{\"id\":\"2416\"},\"glyph\":{\"id\":\"2417\"},\"hover_glyph\":null,\"muted_glyph\":null,\"nonselection_glyph\":{\"id\":\"2418\"},\"selection_glyph\":null,\"view\":{\"id\":\"2420\"}},\"id\":\"2419\",\"type\":\"GlyphRenderer\"},{\"attributes\":{\"data\":{\"x\":[224,225,226,227,228,229,230,231,232,233,234,235,236,237,238,239,240,241,242,243,244,245,246,247,248,249,250,251,252,253],\"y\":{\"__ndarray__\":\"nLY7ViQCk79jINPfK+2Lvxe4Sqpf1Ig//FwZGly0oD+Dvyq81WGwPx12+Gyp3rc/4My1W5HPqT95p7+ulC+dP2MofVApnIS/JPhtJ/9Zpr9aITZSNginv3Yc2ssWHZI/kqZrx0/WkD/+No3kCw+qP4XG9awDRq8/ycVCO4NKrT/hLqjPGDSiP55saBCm2qE/TnIgb9qukz+HrLwFhTV0v4Ewd3Fdb7A/+RE4dvQusT9RoKzMMjuwP+BFtq7xVKo/4fFNUMT7lz+sW+cotRVWv9wLevaJU3U//VgY3IhKlz+xFXF5LGdkP0N+ulS/zJa/\",\"dtype\":\"float64\",\"order\":\"little\",\"shape\":[30]}},\"selected\":{\"id\":\"2414\"},\"selection_policy\":{\"id\":\"2413\"}},\"id\":\"2398\",\"type\":\"ColumnDataSource\"},{\"attributes\":{\"data\":{\"x\":[224,225,226,227,228,229,230,231,232,233,234,235,236,237,238,239,240,241,242,243,244,245,246,247,248,249,250,251,252,253],\"y\":{\"__ndarray__\":\"+n5qvHSTmD+amZmZmZmZP9nO91PjpZs/2c73U+Olmz/ZzvdT46WbPzm0yHa+n5o/WmQ730+Nlz+6SQwCK4eWPxsv3SQGgZU/WmQ730+Nlz85tMh2vp+aP7gehetRuJ4/uB6F61G4nj9YObTIdr6fP7gehetRuJ4/eekmMQisnD85tMh2vp+aP5qZmZmZmZk/+n5qvHSTmD+amZmZmZmZP9nO91PjpZs/WmQ730+Nlz8730+Nl26SP7pJDAIrh4Y/exSuR+F6dD/8qfHSTWJQP/yp8dJNYmA//Knx0k1iYD+6SQwCK4eGvxsv3SQGgZW/\",\"dtype\":\"float64\",\"order\":\"little\",\"shape\":[30]}},\"selected\":{\"id\":\"2396\"},\"selection_policy\":{\"id\":\"2395\"}},\"id\":\"2382\",\"type\":\"ColumnDataSource\"}],\"root_ids\":[\"2334\"]},\"title\":\"Bokeh Application\",\"version\":\"2.2.3\"}};\n",
       "  var render_items = [{\"docid\":\"37b13908-7451-47e7-9e3e-1da472cbcc64\",\"root_ids\":[\"2334\"],\"roots\":{\"2334\":\"ac5f68fe-754c-4dd8-84d4-ebb14cdb3fef\"}}];\n",
       "  root.Bokeh.embed.embed_items_notebook(docs_json, render_items);\n",
       "\n",
       "  }\n",
       "  if (root.Bokeh !== undefined) {\n",
       "    embed_document(root);\n",
       "  } else {\n",
       "    var attempts = 0;\n",
       "    var timer = setInterval(function(root) {\n",
       "      if (root.Bokeh !== undefined) {\n",
       "        clearInterval(timer);\n",
       "        embed_document(root);\n",
       "      } else {\n",
       "        attempts++;\n",
       "        if (attempts > 100) {\n",
       "          clearInterval(timer);\n",
       "          console.log(\"Bokeh: ERROR: Unable to run BokehJS code because BokehJS library is missing\");\n",
       "        }\n",
       "      }\n",
       "    }, 10, root)\n",
       "  }\n",
       "})(window);"
      ],
      "application/vnd.bokehjs_exec.v0+json": ""
     },
     "metadata": {
      "application/vnd.bokehjs_exec.v0+json": {
       "id": "2334"
      }
     },
     "output_type": "display_data"
    },
    {
     "data": {
      "text/html": [
       "\n",
       "\n",
       "\n",
       "\n",
       "\n",
       "\n",
       "  <div class=\"bk-root\" id=\"5673126f-d7cf-466d-a6f2-74f89b32eda3\" data-root-id=\"2605\"></div>\n"
      ]
     },
     "metadata": {},
     "output_type": "display_data"
    },
    {
     "data": {
      "application/javascript": [
       "(function(root) {\n",
       "  function embed_document(root) {\n",
       "    \n",
       "  var docs_json = {\"3a5eea1f-042a-4fc3-8559-e725d3571210\":{\"roots\":{\"references\":[{\"attributes\":{\"below\":[{\"id\":\"2616\"}],\"center\":[{\"id\":\"2619\"},{\"id\":\"2623\"},{\"id\":\"2651\"},{\"id\":\"2706\"},{\"id\":\"2707\"}],\"left\":[{\"id\":\"2620\"}],\"plot_height\":300,\"plot_width\":900,\"renderers\":[{\"id\":\"2641\"},{\"id\":\"2656\"},{\"id\":\"2672\"},{\"id\":\"2690\"}],\"title\":{\"id\":\"2606\"},\"toolbar\":{\"id\":\"2631\"},\"x_range\":{\"id\":\"2608\"},\"x_scale\":{\"id\":\"2612\"},\"y_range\":{\"id\":\"2610\"},\"y_scale\":{\"id\":\"2614\"}},\"id\":\"2605\",\"subtype\":\"Figure\",\"type\":\"Plot\"},{\"attributes\":{},\"id\":\"2617\",\"type\":\"BasicTicker\"},{\"attributes\":{},\"id\":\"2608\",\"type\":\"DataRange1d\"},{\"attributes\":{\"label\":{\"value\":\"mean\"},\"renderers\":[{\"id\":\"2656\"}]},\"id\":\"2668\",\"type\":\"LegendItem\"},{\"attributes\":{\"label\":{\"value\":\"metric\"},\"renderers\":[{\"id\":\"2672\"},{\"id\":\"2690\"}]},\"id\":\"2686\",\"type\":\"LegendItem\"},{\"attributes\":{\"source\":{\"id\":\"2638\"}},\"id\":\"2642\",\"type\":\"CDSView\"},{\"attributes\":{},\"id\":\"2612\",\"type\":\"LinearScale\"},{\"attributes\":{\"formatter\":{\"id\":\"2646\"},\"ticker\":{\"id\":\"2621\"}},\"id\":\"2620\",\"type\":\"LinearAxis\"},{\"attributes\":{\"text\":\"Timeseries - integration_test_7\"},\"id\":\"2606\",\"type\":\"Title\"},{\"attributes\":{},\"id\":\"2625\",\"type\":\"WheelZoomTool\"},{\"attributes\":{\"line_alpha\":0.1,\"line_color\":\"blue\",\"x\":{\"field\":\"x\"},\"y\":{\"field\":\"y\"}},\"id\":\"2671\",\"type\":\"Line\"},{\"attributes\":{\"active_drag\":\"auto\",\"active_inspect\":\"auto\",\"active_multi\":null,\"active_scroll\":\"auto\",\"active_tap\":\"auto\",\"tools\":[{\"id\":\"2624\"},{\"id\":\"2625\"},{\"id\":\"2626\"},{\"id\":\"2627\"},{\"id\":\"2628\"},{\"id\":\"2629\"}]},\"id\":\"2631\",\"type\":\"Toolbar\"},{\"attributes\":{\"label\":{\"value\":\"hdi\"},\"renderers\":[{\"id\":\"2641\"}]},\"id\":\"2652\",\"type\":\"LegendItem\"},{\"attributes\":{},\"id\":\"2684\",\"type\":\"UnionRenderers\"},{\"attributes\":{},\"id\":\"2649\",\"type\":\"UnionRenderers\"},{\"attributes\":{\"data_source\":{\"id\":\"2687\"},\"glyph\":{\"id\":\"2688\"},\"hover_glyph\":null,\"muted_glyph\":null,\"nonselection_glyph\":{\"id\":\"2689\"},\"selection_glyph\":null,\"view\":{\"id\":\"2691\"}},\"id\":\"2690\",\"type\":\"GlyphRenderer\"},{\"attributes\":{\"click_policy\":\"hide\",\"items\":[{\"id\":\"2652\"},{\"id\":\"2668\"},{\"id\":\"2686\"}],\"location\":\"bottom_left\"},\"id\":\"2651\",\"type\":\"Legend\"},{\"attributes\":{\"overlay\":{\"id\":\"2630\"}},\"id\":\"2626\",\"type\":\"BoxZoomTool\"},{\"attributes\":{\"line_alpha\":0.1,\"line_color\":\"green\",\"x\":{\"field\":\"x\"},\"y\":{\"field\":\"y\"}},\"id\":\"2655\",\"type\":\"Line\"},{\"attributes\":{},\"id\":\"2650\",\"type\":\"Selection\"},{\"attributes\":{\"end\":0.26,\"start\":-0.26},\"id\":\"2610\",\"type\":\"Range1d\"},{\"attributes\":{\"data\":{\"x\":[224,225,226,227,228,229,230,231,232,233,234,235,236,237,238,239,240,241,242,243,244,245,246,247,248,249,250,251,252,253],\"y\":{\"__ndarray__\":\"nLY7ViQCk79jINPfK+2Lvxe4Sqpf1Ig//FwZGly0oD+Dvyq81WGwPx12+Gyp3rc/4My1W5HPqT95p7+ulC+dP2MofVApnIS/JPhtJ/9Zpr9aITZSNginv3Yc2ssWHZI/kqZrx0/WkD/+No3kCw+qP4XG9awDRq8/ycVCO4NKrT/hLqjPGDSiP55saBCm2qE/TnIgb9qukz+HrLwFhTV0v4Ewd3Fdb7A/+RE4dvQusT9RoKzMMjuwP+BFtq7xVKo/4fFNUMT7lz+sW+cotRVWv9wLevaJU3U//VgY3IhKlz+xFXF5LGdkP0N+ulS/zJa/\",\"dtype\":\"float64\",\"order\":\"little\",\"shape\":[30]}},\"selected\":{\"id\":\"2685\"},\"selection_policy\":{\"id\":\"2684\"}},\"id\":\"2669\",\"type\":\"ColumnDataSource\"},{\"attributes\":{\"axis\":{\"id\":\"2616\"},\"ticker\":null},\"id\":\"2619\",\"type\":\"Grid\"},{\"attributes\":{\"data_source\":{\"id\":\"2669\"},\"glyph\":{\"id\":\"2670\"},\"hover_glyph\":null,\"muted_glyph\":null,\"nonselection_glyph\":{\"id\":\"2671\"},\"selection_glyph\":null,\"view\":{\"id\":\"2673\"}},\"id\":\"2672\",\"type\":\"GlyphRenderer\"},{\"attributes\":{},\"id\":\"2627\",\"type\":\"SaveTool\"},{\"attributes\":{\"formatter\":{\"id\":\"2644\"},\"ticker\":{\"id\":\"2617\"}},\"id\":\"2616\",\"type\":\"LinearAxis\"},{\"attributes\":{},\"id\":\"2704\",\"type\":\"UnionRenderers\"},{\"attributes\":{},\"id\":\"2705\",\"type\":\"Selection\"},{\"attributes\":{},\"id\":\"2644\",\"type\":\"BasicTickFormatter\"},{\"attributes\":{\"line_color\":\"green\",\"x\":{\"field\":\"x\"},\"y\":{\"field\":\"y\"}},\"id\":\"2654\",\"type\":\"Line\"},{\"attributes\":{\"fill_alpha\":{\"value\":0.1},\"fill_color\":{\"value\":\"blue\"},\"line_alpha\":{\"value\":0.1},\"line_color\":{\"value\":\"blue\"},\"x\":{\"field\":\"x\"},\"y\":{\"field\":\"y\"}},\"id\":\"2689\",\"type\":\"Circle\"},{\"attributes\":{\"fill_alpha\":0.1,\"x\":{\"field\":\"x\"},\"y1\":{\"field\":\"y1\"},\"y2\":{\"field\":\"y2\"}},\"id\":\"2640\",\"type\":\"VArea\"},{\"attributes\":{\"source\":{\"id\":\"2653\"}},\"id\":\"2657\",\"type\":\"CDSView\"},{\"attributes\":{\"data_source\":{\"id\":\"2638\"},\"glyph\":{\"id\":\"2639\"},\"hover_glyph\":null,\"muted_glyph\":null,\"nonselection_glyph\":{\"id\":\"2640\"},\"selection_glyph\":null,\"view\":{\"id\":\"2642\"}},\"id\":\"2641\",\"type\":\"GlyphRenderer\"},{\"attributes\":{},\"id\":\"2629\",\"type\":\"HelpTool\"},{\"attributes\":{},\"id\":\"2685\",\"type\":\"Selection\"},{\"attributes\":{},\"id\":\"2667\",\"type\":\"Selection\"},{\"attributes\":{\"data\":{\"x\":[224,225,226,227,228,229,230,231,232,233,234,235,236,237,238,239,240,241,242,243,244,245,246,247,248,249,250,251,252,253],\"y\":{\"__ndarray__\":\"O99PjZduoj+4HoXrUbiePzm0yHa+n5o/WmQ730+Nlz/6fmq8dJOYPzm0yHa+n5o/ObTIdr6fmj85tMh2vp+aP1pkO99PjZc/nMQgsHJokT+6SQwCK4eGPzvfT42XboI/eekmMQisfD/8qfHSTWKAPzm0yHa+n4o/nMQgsHJokT97FK5H4XqUPxsv3SQGgZU/ukkMAiuHlj+6SQwCK4eWPzm0yHa+n5o/uB6F61G4nj9MN4lBYOWgP0w3iUFg5aA//Knx0k1ioD/ZzvdT46WbP5qZmZmZmZk/+n5qvHSTmD+amZmZmZmZPzm0yHa+n5o/\",\"dtype\":\"float64\",\"order\":\"little\",\"shape\":[30]}},\"selected\":{\"id\":\"2667\"},\"selection_policy\":{\"id\":\"2666\"}},\"id\":\"2653\",\"type\":\"ColumnDataSource\"},{\"attributes\":{},\"id\":\"2628\",\"type\":\"ResetTool\"},{\"attributes\":{\"data\":{\"x\":[224,225,226,227,228,229,230,231,232,233,234,235,236,237,238,239,240,241,242,243,244,245,246,247,248,249,250,251,252,253],\"y1\":{\"__ndarray__\":\"+n5qvHSTiD/6fmq8dJN4P/yp8dJNYnA/+n5qvHSTaD/6fmq8dJNoP3sUrkfhenQ/+n5qvHSTaD/8qfHSTWJwPwAAAAAAAACA+n5qvHSTeL97FK5H4XqEv/p+arx0k4i/ObTIdr6fir+4HoXrUbiOvzvfT42XboK//Knx0k1icL/8qfHSTWJQv/yp8dJNYmA//Knx0k1iUL/8qfHSTWJgP3sUrkfhenQ/exSuR+F6hD+6SQwCK4eGP/p+arx0k4g/ukkMAiuHhj956SYxCKx8P3sUrkfhenQ/+n5qvHSTeD956SYxCKx8PzvfT42XboI/\",\"dtype\":\"float64\",\"order\":\"little\",\"shape\":[30]},\"y2\":{\"__ndarray__\":\"WDm0yHa+rz/ZzvdT46WrP/p+arx0k6g/arx0kxgEpj8K16NwPQqnP/p+arx0k6g/SgwCK4cWqT9KDAIrhxapP7pJDAIrh6Y/i2zn+6nxoj+cxCCwcmihP7gehetRuJ4/uB6F61G4nj8ZBFYOLbKdP+xRuB6F66E/exSuR+F6pD8bL90kBoGlP2q8dJMYBKY/Gy/dJAaBpT9qvHSTGASmP/p+arx0k6g/ObTIdr6fqj/ZzvdT46WrPylcj8L1KKw/2c73U+Olqz+q8dJNYhCoPwrXo3A9Cqc/CtejcD0Kpz+6SQwCK4emP7pJDAIrh6Y/\",\"dtype\":\"float64\",\"order\":\"little\",\"shape\":[30]}},\"selected\":{\"id\":\"2650\"},\"selection_policy\":{\"id\":\"2649\"}},\"id\":\"2638\",\"type\":\"ColumnDataSource\"},{\"attributes\":{},\"id\":\"2624\",\"type\":\"PanTool\"},{\"attributes\":{},\"id\":\"2646\",\"type\":\"BasicTickFormatter\"},{\"attributes\":{\"bottom_units\":\"screen\",\"fill_alpha\":0.5,\"fill_color\":\"lightgrey\",\"left_units\":\"screen\",\"level\":\"overlay\",\"line_alpha\":1.0,\"line_color\":\"black\",\"line_dash\":[4,4],\"line_width\":2,\"right_units\":\"screen\",\"top_units\":\"screen\"},\"id\":\"2630\",\"type\":\"BoxAnnotation\"},{\"attributes\":{\"source\":{\"id\":\"2669\"}},\"id\":\"2673\",\"type\":\"CDSView\"},{\"attributes\":{\"data_source\":{\"id\":\"2653\"},\"glyph\":{\"id\":\"2654\"},\"hover_glyph\":null,\"muted_glyph\":null,\"nonselection_glyph\":{\"id\":\"2655\"},\"selection_glyph\":null,\"view\":{\"id\":\"2657\"}},\"id\":\"2656\",\"type\":\"GlyphRenderer\"},{\"attributes\":{\"data\":{\"x\":[224,225,226,227,228,229,230,231,232,233,234,235,236,237,238,239,240,241,242,243,244,245,246,247,248,249,250,251,252,253],\"y\":{\"__ndarray__\":\"nLY7ViQCk79jINPfK+2Lvxe4Sqpf1Ig//FwZGly0oD+Dvyq81WGwPx12+Gyp3rc/4My1W5HPqT95p7+ulC+dP2MofVApnIS/JPhtJ/9Zpr9aITZSNginv3Yc2ssWHZI/kqZrx0/WkD/+No3kCw+qP4XG9awDRq8/ycVCO4NKrT/hLqjPGDSiP55saBCm2qE/TnIgb9qukz+HrLwFhTV0v4Ewd3Fdb7A/+RE4dvQusT9RoKzMMjuwP+BFtq7xVKo/4fFNUMT7lz+sW+cotRVWv9wLevaJU3U//VgY3IhKlz+xFXF5LGdkP0N+ulS/zJa/\",\"dtype\":\"float64\",\"order\":\"little\",\"shape\":[30]}},\"selected\":{\"id\":\"2705\"},\"selection_policy\":{\"id\":\"2704\"}},\"id\":\"2687\",\"type\":\"ColumnDataSource\"},{\"attributes\":{\"dimension\":\"height\",\"line_color\":\"gray\",\"line_dash\":[6],\"location\":234},\"id\":\"2706\",\"type\":\"Span\"},{\"attributes\":{\"line_color\":\"blue\",\"x\":{\"field\":\"x\"},\"y\":{\"field\":\"y\"}},\"id\":\"2670\",\"type\":\"Line\"},{\"attributes\":{},\"id\":\"2666\",\"type\":\"UnionRenderers\"},{\"attributes\":{\"fill_color\":{\"value\":\"blue\"},\"line_color\":{\"value\":\"blue\"},\"x\":{\"field\":\"x\"},\"y\":{\"field\":\"y\"}},\"id\":\"2688\",\"type\":\"Circle\"},{\"attributes\":{},\"id\":\"2621\",\"type\":\"BasicTicker\"},{\"attributes\":{},\"id\":\"2614\",\"type\":\"LinearScale\"},{\"attributes\":{\"dimension\":\"height\",\"line_color\":\"gray\",\"line_dash\":[6],\"location\":250},\"id\":\"2707\",\"type\":\"Span\"},{\"attributes\":{\"axis\":{\"id\":\"2620\"},\"dimension\":1,\"ticker\":null},\"id\":\"2623\",\"type\":\"Grid\"},{\"attributes\":{\"source\":{\"id\":\"2687\"}},\"id\":\"2691\",\"type\":\"CDSView\"},{\"attributes\":{\"fill_alpha\":0.1,\"x\":{\"field\":\"x\"},\"y1\":{\"field\":\"y1\"},\"y2\":{\"field\":\"y2\"}},\"id\":\"2639\",\"type\":\"VArea\"}],\"root_ids\":[\"2605\"]},\"title\":\"Bokeh Application\",\"version\":\"2.2.3\"}};\n",
       "  var render_items = [{\"docid\":\"3a5eea1f-042a-4fc3-8559-e725d3571210\",\"root_ids\":[\"2605\"],\"roots\":{\"2605\":\"5673126f-d7cf-466d-a6f2-74f89b32eda3\"}}];\n",
       "  root.Bokeh.embed.embed_items_notebook(docs_json, render_items);\n",
       "\n",
       "  }\n",
       "  if (root.Bokeh !== undefined) {\n",
       "    embed_document(root);\n",
       "  } else {\n",
       "    var attempts = 0;\n",
       "    var timer = setInterval(function(root) {\n",
       "      if (root.Bokeh !== undefined) {\n",
       "        clearInterval(timer);\n",
       "        embed_document(root);\n",
       "      } else {\n",
       "        attempts++;\n",
       "        if (attempts > 100) {\n",
       "          clearInterval(timer);\n",
       "          console.log(\"Bokeh: ERROR: Unable to run BokehJS code because BokehJS library is missing\");\n",
       "        }\n",
       "      }\n",
       "    }, 10, root)\n",
       "  }\n",
       "})(window);"
      ],
      "application/vnd.bokehjs_exec.v0+json": ""
     },
     "metadata": {
      "application/vnd.bokehjs_exec.v0+json": {
       "id": "2605"
      }
     },
     "output_type": "display_data"
    },
    {
     "data": {
      "text/html": [
       "\n",
       "\n",
       "\n",
       "\n",
       "\n",
       "\n",
       "  <div class=\"bk-root\" id=\"419f21d7-eb81-4d32-8c2d-6ff9fcc1d50c\" data-root-id=\"2890\"></div>\n"
      ]
     },
     "metadata": {},
     "output_type": "display_data"
    },
    {
     "data": {
      "application/javascript": [
       "(function(root) {\n",
       "  function embed_document(root) {\n",
       "    \n",
       "  var docs_json = {\"b3455967-d0a3-4c33-9004-a3c42a44e23a\":{\"roots\":{\"references\":[{\"attributes\":{\"below\":[{\"id\":\"2901\"}],\"center\":[{\"id\":\"2904\"},{\"id\":\"2908\"},{\"id\":\"2936\"},{\"id\":\"2991\"},{\"id\":\"2992\"}],\"left\":[{\"id\":\"2905\"}],\"plot_height\":300,\"plot_width\":900,\"renderers\":[{\"id\":\"2926\"},{\"id\":\"2941\"},{\"id\":\"2957\"},{\"id\":\"2975\"}],\"title\":{\"id\":\"2891\"},\"toolbar\":{\"id\":\"2916\"},\"x_range\":{\"id\":\"2893\"},\"x_scale\":{\"id\":\"2897\"},\"y_range\":{\"id\":\"2895\"},\"y_scale\":{\"id\":\"2899\"}},\"id\":\"2890\",\"subtype\":\"Figure\",\"type\":\"Plot\"},{\"attributes\":{\"source\":{\"id\":\"2938\"}},\"id\":\"2942\",\"type\":\"CDSView\"},{\"attributes\":{\"fill_alpha\":0.1,\"x\":{\"field\":\"x\"},\"y1\":{\"field\":\"y1\"},\"y2\":{\"field\":\"y2\"}},\"id\":\"2924\",\"type\":\"VArea\"},{\"attributes\":{},\"id\":\"2897\",\"type\":\"LinearScale\"},{\"attributes\":{\"data\":{\"x\":[224,225,226,227,228,229,230,231,232,233,234,235,236,237,238,239,240,241,242,243,244,245,246,247,248,249,250,251,252,253],\"y\":{\"__ndarray__\":\"Qb2tRy47kr8M0Pzj+eh6v0xMEXUbO4Q/jEX381pcoD+pAfEg6MGpP6/p1Wc5SrM/Ov2xQSksqT9SdiHIaa+kPyigS4aapVy/FZ8Au0NhoT+daRmpW7+vv9Ro6lEJr1W/gGR7aWMUTr8wVr6eYsRUv8OZwDWnDrM/yCCxD2qUoj8bf3uLza9+v3LctpIY1Y0/eDKGnpwwpz+SMZ6WhTt7v8b7fZ2N94a/Lm5Sk413qb9JNlfeNWuSv+E+4cayqaK/rniGHQ6Kn7/w25Yj6DaXv9VyDaYEi4U/IiUU4xb/lz/mRTqBEKJqv2xVj7Ck840/\",\"dtype\":\"float64\",\"order\":\"little\",\"shape\":[30]}},\"selected\":{\"id\":\"2990\"},\"selection_policy\":{\"id\":\"2989\"}},\"id\":\"2972\",\"type\":\"ColumnDataSource\"},{\"attributes\":{\"fill_color\":{\"value\":\"blue\"},\"line_color\":{\"value\":\"blue\"},\"x\":{\"field\":\"x\"},\"y\":{\"field\":\"y\"}},\"id\":\"2973\",\"type\":\"Circle\"},{\"attributes\":{\"line_color\":\"green\",\"x\":{\"field\":\"x\"},\"y\":{\"field\":\"y\"}},\"id\":\"2939\",\"type\":\"Line\"},{\"attributes\":{\"line_color\":\"blue\",\"x\":{\"field\":\"x\"},\"y\":{\"field\":\"y\"}},\"id\":\"2955\",\"type\":\"Line\"},{\"attributes\":{\"text\":\"Convergence - jrb\"},\"id\":\"2891\",\"type\":\"Title\"},{\"attributes\":{},\"id\":\"2909\",\"type\":\"PanTool\"},{\"attributes\":{\"bottom_units\":\"screen\",\"fill_alpha\":0.5,\"fill_color\":\"lightgrey\",\"left_units\":\"screen\",\"level\":\"overlay\",\"line_alpha\":1.0,\"line_color\":\"black\",\"line_dash\":[4,4],\"line_width\":2,\"right_units\":\"screen\",\"top_units\":\"screen\"},\"id\":\"2915\",\"type\":\"BoxAnnotation\"},{\"attributes\":{},\"id\":\"2970\",\"type\":\"Selection\"},{\"attributes\":{\"source\":{\"id\":\"2954\"}},\"id\":\"2958\",\"type\":\"CDSView\"},{\"attributes\":{\"source\":{\"id\":\"2972\"}},\"id\":\"2976\",\"type\":\"CDSView\"},{\"attributes\":{\"click_policy\":\"hide\",\"items\":[{\"id\":\"2937\"},{\"id\":\"2953\"},{\"id\":\"2971\"}],\"location\":\"bottom_left\"},\"id\":\"2936\",\"type\":\"Legend\"},{\"attributes\":{},\"id\":\"2914\",\"type\":\"HelpTool\"},{\"attributes\":{\"overlay\":{\"id\":\"2915\"}},\"id\":\"2911\",\"type\":\"BoxZoomTool\"},{\"attributes\":{\"data_source\":{\"id\":\"2938\"},\"glyph\":{\"id\":\"2939\"},\"hover_glyph\":null,\"muted_glyph\":null,\"nonselection_glyph\":{\"id\":\"2940\"},\"selection_glyph\":null,\"view\":{\"id\":\"2942\"}},\"id\":\"2941\",\"type\":\"GlyphRenderer\"},{\"attributes\":{\"formatter\":{\"id\":\"2931\"},\"ticker\":{\"id\":\"2906\"}},\"id\":\"2905\",\"type\":\"LinearAxis\"},{\"attributes\":{},\"id\":\"2952\",\"type\":\"Selection\"},{\"attributes\":{\"line_alpha\":0.1,\"line_color\":\"green\",\"x\":{\"field\":\"x\"},\"y\":{\"field\":\"y\"}},\"id\":\"2940\",\"type\":\"Line\"},{\"attributes\":{},\"id\":\"2969\",\"type\":\"UnionRenderers\"},{\"attributes\":{\"dimension\":\"height\",\"line_color\":\"gray\",\"line_dash\":[6],\"location\":234},\"id\":\"2991\",\"type\":\"Span\"},{\"attributes\":{\"data\":{\"x\":[224,225,226,227,228,229,230,231,232,233,234,235,236,237,238,239,240,241,242,243,244,245,246,247,248,249,250,251,252,253],\"y1\":{\"__ndarray__\":\"eekmMQisfL956SYxCKx8v3npJjEIrHy//Knx0k1igL97FK5H4XqEv/p+arx0k4i/eekmMQisjL+4HoXrUbiOvzvfT42XbpK/O99PjZdukr97FK5H4XqUv5zEILByaJG/nMQgsHJokb8730+Nl26Sv9v5fmq8dJO/WmQ730+Nl7/6fmq8dJOYv9nO91PjpZu/eekmMQisnL/8qfHSTWKgv+xRuB6F66G/exSuR+F6pL9MN4lBYOWgv4ts5/up8aK/nMQgsHJoob956SYxCKycv9v5fmq8dJO/mpmZmZmZqb9xPQrXo3C9vxsv3SQGgcW/\",\"dtype\":\"float64\",\"order\":\"little\",\"shape\":[30]},\"y2\":{\"__ndarray__\":\"WmQ730+Nlz/6fmq8dJOYPzm0yHa+n5o/ObTIdr6fmj+amZmZmZmZP/p+arx0k5g/exSuR+F6lD/b+X5qvHSTP5zEILByaJE/O99PjZdukj+cxCCwcmiRPzvfT42XbpI/exSuR+F6lD+6SQwCK4eWP/p+arx0k5g//Knx0k1ikD85tMh2vp+KP7gehetRuI4//Knx0k1ikD/8qfHSTWKAP3sUrkfheoQ/ukkMAiuHhj8730+Nl26SP/p+arx0k5g/WDm0yHa+nz8rhxbZzvejPxsv3SQGgaU/RIts5/upsT9YObTIdr6/P7x0kxgEVs4/\",\"dtype\":\"float64\",\"order\":\"little\",\"shape\":[30]}},\"selected\":{\"id\":\"2935\"},\"selection_policy\":{\"id\":\"2934\"}},\"id\":\"2923\",\"type\":\"ColumnDataSource\"},{\"attributes\":{\"label\":{\"value\":\"hdi\"},\"renderers\":[{\"id\":\"2926\"}]},\"id\":\"2937\",\"type\":\"LegendItem\"},{\"attributes\":{\"line_alpha\":0.1,\"line_color\":\"blue\",\"x\":{\"field\":\"x\"},\"y\":{\"field\":\"y\"}},\"id\":\"2956\",\"type\":\"Line\"},{\"attributes\":{},\"id\":\"2931\",\"type\":\"BasicTickFormatter\"},{\"attributes\":{\"data_source\":{\"id\":\"2923\"},\"glyph\":{\"id\":\"2924\"},\"hover_glyph\":null,\"muted_glyph\":null,\"nonselection_glyph\":{\"id\":\"2925\"},\"selection_glyph\":null,\"view\":{\"id\":\"2927\"}},\"id\":\"2926\",\"type\":\"GlyphRenderer\"},{\"attributes\":{\"data_source\":{\"id\":\"2954\"},\"glyph\":{\"id\":\"2955\"},\"hover_glyph\":null,\"muted_glyph\":null,\"nonselection_glyph\":{\"id\":\"2956\"},\"selection_glyph\":null,\"view\":{\"id\":\"2958\"}},\"id\":\"2957\",\"type\":\"GlyphRenderer\"},{\"attributes\":{},\"id\":\"2990\",\"type\":\"Selection\"},{\"attributes\":{\"label\":{\"value\":\"mean\"},\"renderers\":[{\"id\":\"2941\"}]},\"id\":\"2953\",\"type\":\"LegendItem\"},{\"attributes\":{\"fill_alpha\":0.1,\"x\":{\"field\":\"x\"},\"y1\":{\"field\":\"y1\"},\"y2\":{\"field\":\"y2\"}},\"id\":\"2925\",\"type\":\"VArea\"},{\"attributes\":{\"dimension\":\"height\",\"line_color\":\"gray\",\"line_dash\":[6],\"location\":250},\"id\":\"2992\",\"type\":\"Span\"},{\"attributes\":{},\"id\":\"2893\",\"type\":\"DataRange1d\"},{\"attributes\":{},\"id\":\"2910\",\"type\":\"WheelZoomTool\"},{\"attributes\":{},\"id\":\"2902\",\"type\":\"BasicTicker\"},{\"attributes\":{\"data\":{\"x\":[224,225,226,227,228,229,230,231,232,233,234,235,236,237,238,239,240,241,242,243,244,245,246,247,248,249,250,251,252,253],\"y\":{\"__ndarray__\":\"/Knx0k1igD8730+Nl26CPzvfT42XboI/O99PjZdugj/8qfHSTWKAP3npJjEIrHw/+n5qvHSTaD/8qfHSTWJgPwAAAAAAAACAAAAAAAAAAID8qfHSTWJQv/yp8dJNYlA//Knx0k1iYD/8qfHSTWJgP/yp8dJNYmA/+n5qvHSTaL97FK5H4Xp0v3sUrkfhenS/eekmMQisfL/6fmq8dJOIv/p+arx0k4i/+n5qvHSTiL/8qfHSTWKAv/p+arx0k3i//Knx0k1iUL/8qfHSTWJwP7pJDAIrh4Y/ukkMAiuHhj/8qfHSTWJwP7gehetRuI4/\",\"dtype\":\"float64\",\"order\":\"little\",\"shape\":[30]}},\"selected\":{\"id\":\"2952\"},\"selection_policy\":{\"id\":\"2951\"}},\"id\":\"2938\",\"type\":\"ColumnDataSource\"},{\"attributes\":{},\"id\":\"2906\",\"type\":\"BasicTicker\"},{\"attributes\":{},\"id\":\"2934\",\"type\":\"UnionRenderers\"},{\"attributes\":{},\"id\":\"2935\",\"type\":\"Selection\"},{\"attributes\":{\"axis\":{\"id\":\"2905\"},\"dimension\":1,\"ticker\":null},\"id\":\"2908\",\"type\":\"Grid\"},{\"attributes\":{\"formatter\":{\"id\":\"2929\"},\"ticker\":{\"id\":\"2902\"}},\"id\":\"2901\",\"type\":\"LinearAxis\"},{\"attributes\":{},\"id\":\"2929\",\"type\":\"BasicTickFormatter\"},{\"attributes\":{},\"id\":\"2913\",\"type\":\"ResetTool\"},{\"attributes\":{\"fill_alpha\":{\"value\":0.1},\"fill_color\":{\"value\":\"blue\"},\"line_alpha\":{\"value\":0.1},\"line_color\":{\"value\":\"blue\"},\"x\":{\"field\":\"x\"},\"y\":{\"field\":\"y\"}},\"id\":\"2974\",\"type\":\"Circle\"},{\"attributes\":{},\"id\":\"2951\",\"type\":\"UnionRenderers\"},{\"attributes\":{\"source\":{\"id\":\"2923\"}},\"id\":\"2927\",\"type\":\"CDSView\"},{\"attributes\":{\"label\":{\"value\":\"metric\"},\"renderers\":[{\"id\":\"2957\"},{\"id\":\"2975\"}]},\"id\":\"2971\",\"type\":\"LegendItem\"},{\"attributes\":{\"active_drag\":\"auto\",\"active_inspect\":\"auto\",\"active_multi\":null,\"active_scroll\":\"auto\",\"active_tap\":\"auto\",\"tools\":[{\"id\":\"2909\"},{\"id\":\"2910\"},{\"id\":\"2911\"},{\"id\":\"2912\"},{\"id\":\"2913\"},{\"id\":\"2914\"}]},\"id\":\"2916\",\"type\":\"Toolbar\"},{\"attributes\":{\"data\":{\"x\":[224,225,226,227,228,229,230,231,232,233,234,235,236,237,238,239,240,241,242,243,244,245,246,247,248,249,250,251,252,253],\"y\":{\"__ndarray__\":\"Qb2tRy47kr8M0Pzj+eh6v0xMEXUbO4Q/jEX381pcoD+pAfEg6MGpP6/p1Wc5SrM/Ov2xQSksqT9SdiHIaa+kPyigS4aapVy/FZ8Au0NhoT+daRmpW7+vv9Ro6lEJr1W/gGR7aWMUTr8wVr6eYsRUv8OZwDWnDrM/yCCxD2qUoj8bf3uLza9+v3LctpIY1Y0/eDKGnpwwpz+SMZ6WhTt7v8b7fZ2N94a/Lm5Sk413qb9JNlfeNWuSv+E+4cayqaK/rniGHQ6Kn7/w25Yj6DaXv9VyDaYEi4U/IiUU4xb/lz/mRTqBEKJqv2xVj7Ck840/\",\"dtype\":\"float64\",\"order\":\"little\",\"shape\":[30]}},\"selected\":{\"id\":\"2970\"},\"selection_policy\":{\"id\":\"2969\"}},\"id\":\"2954\",\"type\":\"ColumnDataSource\"},{\"attributes\":{},\"id\":\"2989\",\"type\":\"UnionRenderers\"},{\"attributes\":{\"end\":0.26,\"start\":-0.26},\"id\":\"2895\",\"type\":\"Range1d\"},{\"attributes\":{},\"id\":\"2912\",\"type\":\"SaveTool\"},{\"attributes\":{\"data_source\":{\"id\":\"2972\"},\"glyph\":{\"id\":\"2973\"},\"hover_glyph\":null,\"muted_glyph\":null,\"nonselection_glyph\":{\"id\":\"2974\"},\"selection_glyph\":null,\"view\":{\"id\":\"2976\"}},\"id\":\"2975\",\"type\":\"GlyphRenderer\"},{\"attributes\":{},\"id\":\"2899\",\"type\":\"LinearScale\"},{\"attributes\":{\"axis\":{\"id\":\"2901\"},\"ticker\":null},\"id\":\"2904\",\"type\":\"Grid\"}],\"root_ids\":[\"2890\"]},\"title\":\"Bokeh Application\",\"version\":\"2.2.3\"}};\n",
       "  var render_items = [{\"docid\":\"b3455967-d0a3-4c33-9004-a3c42a44e23a\",\"root_ids\":[\"2890\"],\"roots\":{\"2890\":\"419f21d7-eb81-4d32-8c2d-6ff9fcc1d50c\"}}];\n",
       "  root.Bokeh.embed.embed_items_notebook(docs_json, render_items);\n",
       "\n",
       "  }\n",
       "  if (root.Bokeh !== undefined) {\n",
       "    embed_document(root);\n",
       "  } else {\n",
       "    var attempts = 0;\n",
       "    var timer = setInterval(function(root) {\n",
       "      if (root.Bokeh !== undefined) {\n",
       "        clearInterval(timer);\n",
       "        embed_document(root);\n",
       "      } else {\n",
       "        attempts++;\n",
       "        if (attempts > 100) {\n",
       "          clearInterval(timer);\n",
       "          console.log(\"Bokeh: ERROR: Unable to run BokehJS code because BokehJS library is missing\");\n",
       "        }\n",
       "      }\n",
       "    }, 10, root)\n",
       "  }\n",
       "})(window);"
      ],
      "application/vnd.bokehjs_exec.v0+json": ""
     },
     "metadata": {
      "application/vnd.bokehjs_exec.v0+json": {
       "id": "2890"
      }
     },
     "output_type": "display_data"
    },
    {
     "data": {
      "text/html": [
       "\n",
       "\n",
       "\n",
       "\n",
       "\n",
       "\n",
       "  <div class=\"bk-root\" id=\"97f8ea98-7353-44e7-9654-c803618cf3a1\" data-root-id=\"3189\"></div>\n"
      ]
     },
     "metadata": {},
     "output_type": "display_data"
    },
    {
     "data": {
      "application/javascript": [
       "(function(root) {\n",
       "  function embed_document(root) {\n",
       "    \n",
       "  var docs_json = {\"6499ed93-d7fc-4b04-8ed2-44a848681d78\":{\"roots\":{\"references\":[{\"attributes\":{\"below\":[{\"id\":\"3200\"}],\"center\":[{\"id\":\"3203\"},{\"id\":\"3207\"},{\"id\":\"3235\"},{\"id\":\"3290\"},{\"id\":\"3291\"}],\"left\":[{\"id\":\"3204\"}],\"plot_height\":300,\"plot_width\":900,\"renderers\":[{\"id\":\"3225\"},{\"id\":\"3240\"},{\"id\":\"3256\"},{\"id\":\"3274\"}],\"title\":{\"id\":\"3190\"},\"toolbar\":{\"id\":\"3215\"},\"x_range\":{\"id\":\"3192\"},\"x_scale\":{\"id\":\"3196\"},\"y_range\":{\"id\":\"3194\"},\"y_scale\":{\"id\":\"3198\"}},\"id\":\"3189\",\"subtype\":\"Figure\",\"type\":\"Plot\"},{\"attributes\":{\"end\":0.26,\"start\":-0.26},\"id\":\"3194\",\"type\":\"Range1d\"},{\"attributes\":{\"data_source\":{\"id\":\"3253\"},\"glyph\":{\"id\":\"3254\"},\"hover_glyph\":null,\"muted_glyph\":null,\"nonselection_glyph\":{\"id\":\"3255\"},\"selection_glyph\":null,\"view\":{\"id\":\"3257\"}},\"id\":\"3256\",\"type\":\"GlyphRenderer\"},{\"attributes\":{\"source\":{\"id\":\"3253\"}},\"id\":\"3257\",\"type\":\"CDSView\"},{\"attributes\":{},\"id\":\"3233\",\"type\":\"UnionRenderers\"},{\"attributes\":{\"label\":{\"value\":\"metric\"},\"renderers\":[{\"id\":\"3256\"},{\"id\":\"3274\"}]},\"id\":\"3270\",\"type\":\"LegendItem\"},{\"attributes\":{\"line_alpha\":0.1,\"line_color\":\"green\",\"x\":{\"field\":\"x\"},\"y\":{\"field\":\"y\"}},\"id\":\"3239\",\"type\":\"Line\"},{\"attributes\":{},\"id\":\"3205\",\"type\":\"BasicTicker\"},{\"attributes\":{\"line_color\":\"blue\",\"x\":{\"field\":\"x\"},\"y\":{\"field\":\"y\"}},\"id\":\"3254\",\"type\":\"Line\"},{\"attributes\":{\"click_policy\":\"hide\",\"items\":[{\"id\":\"3236\"},{\"id\":\"3252\"},{\"id\":\"3270\"}],\"location\":\"bottom_left\"},\"id\":\"3235\",\"type\":\"Legend\"},{\"attributes\":{\"line_alpha\":0.1,\"line_color\":\"blue\",\"x\":{\"field\":\"x\"},\"y\":{\"field\":\"y\"}},\"id\":\"3255\",\"type\":\"Line\"},{\"attributes\":{\"dimension\":\"height\",\"line_color\":\"gray\",\"line_dash\":[6],\"location\":250},\"id\":\"3291\",\"type\":\"Span\"},{\"attributes\":{},\"id\":\"3234\",\"type\":\"Selection\"},{\"attributes\":{},\"id\":\"3228\",\"type\":\"BasicTickFormatter\"},{\"attributes\":{},\"id\":\"3208\",\"type\":\"PanTool\"},{\"attributes\":{\"data\":{\"x\":[224,225,226,227,228,229,230,231,232,233,234,235,236,237,238,239,240,241,242,243,244,245,246,247,248,249,250,251,252,253],\"y\":{\"__ndarray__\":\"Qb2tRy47kr8M0Pzj+eh6v0xMEXUbO4Q/jEX381pcoD+pAfEg6MGpP6/p1Wc5SrM/Ov2xQSksqT9SdiHIaa+kPyigS4aapVy/FZ8Au0NhoT+daRmpW7+vv9Ro6lEJr1W/gGR7aWMUTr8wVr6eYsRUv8OZwDWnDrM/yCCxD2qUoj8bf3uLza9+v3LctpIY1Y0/eDKGnpwwpz+SMZ6WhTt7v8b7fZ2N94a/Lm5Sk413qb9JNlfeNWuSv+E+4cayqaK/rniGHQ6Kn7/w25Yj6DaXv9VyDaYEi4U/IiUU4xb/lz/mRTqBEKJqv2xVj7Ck840/\",\"dtype\":\"float64\",\"order\":\"little\",\"shape\":[30]}},\"selected\":{\"id\":\"3269\"},\"selection_policy\":{\"id\":\"3268\"}},\"id\":\"3253\",\"type\":\"ColumnDataSource\"},{\"attributes\":{},\"id\":\"3230\",\"type\":\"BasicTickFormatter\"},{\"attributes\":{},\"id\":\"3288\",\"type\":\"UnionRenderers\"},{\"attributes\":{},\"id\":\"3251\",\"type\":\"Selection\"},{\"attributes\":{\"fill_alpha\":{\"value\":0.1},\"fill_color\":{\"value\":\"blue\"},\"line_alpha\":{\"value\":0.1},\"line_color\":{\"value\":\"blue\"},\"x\":{\"field\":\"x\"},\"y\":{\"field\":\"y\"}},\"id\":\"3273\",\"type\":\"Circle\"},{\"attributes\":{\"data\":{\"x\":[224,225,226,227,228,229,230,231,232,233,234,235,236,237,238,239,240,241,242,243,244,245,246,247,248,249,250,251,252,253],\"y1\":{\"__ndarray__\":\"/Knx0k1iYD8AAAAAAAAAgPyp8dJNYmC//Knx0k1iYL/8qfHSTWJQv/yp8dJNYlA//Knx0k1iUD/8qfHSTWJgPwAAAAAAAACA/Knx0k1iUL/8qfHSTWKAv/yp8dJNYoC/ukkMAiuHhr/6fmq8dJOIv3sUrkfheoS/eekmMQisfL/6fmq8dJN4v3sUrkfhenS/+n5qvHSTaL/8qfHSTWJQv/yp8dJNYlC//Knx0k1igL956SYxCKx8v7pJDAIrh4a/eekmMQisjL/b+X5qvHSTv9v5fmq8dJO/exSuR+F6lL97FK5H4XqUv3sUrkfhepS/\",\"dtype\":\"float64\",\"order\":\"little\",\"shape\":[30]},\"y2\":{\"__ndarray__\":\"SgwCK4cWqT/b+X5qvHSjP1g5tMh2vp8/eekmMQisnD9YObTIdr6fP+xRuB6F66E/O99PjZduoj/b+X5qvHSjP5zEILByaKE/TDeJQWDloD/8qfHSTWKgP/yp8dJNYqA/ObTIdr6fmj+amZmZmZmZP7gehetRuJ4/TDeJQWDloD/sUbgeheuhP5zEILByaKE/7FG4HoXroT/b+X5qvHSjP9v5fmq8dKM/7FG4HoXroT8730+Nl26iP5zEILByaKE/uB6F61G4nj+6SQwCK4eWP3sUrkfhepQ/2/l+arx0kz8730+Nl26SP5zEILByaJE/\",\"dtype\":\"float64\",\"order\":\"little\",\"shape\":[30]}},\"selected\":{\"id\":\"3234\"},\"selection_policy\":{\"id\":\"3233\"}},\"id\":\"3222\",\"type\":\"ColumnDataSource\"},{\"attributes\":{\"data_source\":{\"id\":\"3237\"},\"glyph\":{\"id\":\"3238\"},\"hover_glyph\":null,\"muted_glyph\":null,\"nonselection_glyph\":{\"id\":\"3239\"},\"selection_glyph\":null,\"view\":{\"id\":\"3241\"}},\"id\":\"3240\",\"type\":\"GlyphRenderer\"},{\"attributes\":{\"axis\":{\"id\":\"3204\"},\"dimension\":1,\"ticker\":null},\"id\":\"3207\",\"type\":\"Grid\"},{\"attributes\":{\"formatter\":{\"id\":\"3228\"},\"ticker\":{\"id\":\"3201\"}},\"id\":\"3200\",\"type\":\"LinearAxis\"},{\"attributes\":{},\"id\":\"3213\",\"type\":\"HelpTool\"},{\"attributes\":{},\"id\":\"3198\",\"type\":\"LinearScale\"},{\"attributes\":{},\"id\":\"3268\",\"type\":\"UnionRenderers\"},{\"attributes\":{\"fill_alpha\":0.1,\"x\":{\"field\":\"x\"},\"y1\":{\"field\":\"y1\"},\"y2\":{\"field\":\"y2\"}},\"id\":\"3223\",\"type\":\"VArea\"},{\"attributes\":{\"fill_color\":{\"value\":\"blue\"},\"line_color\":{\"value\":\"blue\"},\"x\":{\"field\":\"x\"},\"y\":{\"field\":\"y\"}},\"id\":\"3272\",\"type\":\"Circle\"},{\"attributes\":{\"bottom_units\":\"screen\",\"fill_alpha\":0.5,\"fill_color\":\"lightgrey\",\"left_units\":\"screen\",\"level\":\"overlay\",\"line_alpha\":1.0,\"line_color\":\"black\",\"line_dash\":[4,4],\"line_width\":2,\"right_units\":\"screen\",\"top_units\":\"screen\"},\"id\":\"3214\",\"type\":\"BoxAnnotation\"},{\"attributes\":{\"data_source\":{\"id\":\"3222\"},\"glyph\":{\"id\":\"3223\"},\"hover_glyph\":null,\"muted_glyph\":null,\"nonselection_glyph\":{\"id\":\"3224\"},\"selection_glyph\":null,\"view\":{\"id\":\"3226\"}},\"id\":\"3225\",\"type\":\"GlyphRenderer\"},{\"attributes\":{},\"id\":\"3212\",\"type\":\"ResetTool\"},{\"attributes\":{\"data\":{\"x\":[224,225,226,227,228,229,230,231,232,233,234,235,236,237,238,239,240,241,242,243,244,245,246,247,248,249,250,251,252,253],\"y\":{\"__ndarray__\":\"Qb2tRy47kr8M0Pzj+eh6v0xMEXUbO4Q/jEX381pcoD+pAfEg6MGpP6/p1Wc5SrM/Ov2xQSksqT9SdiHIaa+kPyigS4aapVy/FZ8Au0NhoT+daRmpW7+vv9Ro6lEJr1W/gGR7aWMUTr8wVr6eYsRUv8OZwDWnDrM/yCCxD2qUoj8bf3uLza9+v3LctpIY1Y0/eDKGnpwwpz+SMZ6WhTt7v8b7fZ2N94a/Lm5Sk413qb9JNlfeNWuSv+E+4cayqaK/rniGHQ6Kn7/w25Yj6DaXv9VyDaYEi4U/IiUU4xb/lz/mRTqBEKJqv2xVj7Ck840/\",\"dtype\":\"float64\",\"order\":\"little\",\"shape\":[30]}},\"selected\":{\"id\":\"3289\"},\"selection_policy\":{\"id\":\"3288\"}},\"id\":\"3271\",\"type\":\"ColumnDataSource\"},{\"attributes\":{\"dimension\":\"height\",\"line_color\":\"gray\",\"line_dash\":[6],\"location\":234},\"id\":\"3290\",\"type\":\"Span\"},{\"attributes\":{},\"id\":\"3196\",\"type\":\"LinearScale\"},{\"attributes\":{\"label\":{\"value\":\"hdi\"},\"renderers\":[{\"id\":\"3225\"}]},\"id\":\"3236\",\"type\":\"LegendItem\"},{\"attributes\":{\"source\":{\"id\":\"3222\"}},\"id\":\"3226\",\"type\":\"CDSView\"},{\"attributes\":{},\"id\":\"3250\",\"type\":\"UnionRenderers\"},{\"attributes\":{},\"id\":\"3289\",\"type\":\"Selection\"},{\"attributes\":{},\"id\":\"3211\",\"type\":\"SaveTool\"},{\"attributes\":{\"line_color\":\"green\",\"x\":{\"field\":\"x\"},\"y\":{\"field\":\"y\"}},\"id\":\"3238\",\"type\":\"Line\"},{\"attributes\":{\"text\":\"Timeseries - jrb\"},\"id\":\"3190\",\"type\":\"Title\"},{\"attributes\":{\"source\":{\"id\":\"3237\"}},\"id\":\"3241\",\"type\":\"CDSView\"},{\"attributes\":{\"active_drag\":\"auto\",\"active_inspect\":\"auto\",\"active_multi\":null,\"active_scroll\":\"auto\",\"active_tap\":\"auto\",\"tools\":[{\"id\":\"3208\"},{\"id\":\"3209\"},{\"id\":\"3210\"},{\"id\":\"3211\"},{\"id\":\"3212\"},{\"id\":\"3213\"}]},\"id\":\"3215\",\"type\":\"Toolbar\"},{\"attributes\":{\"overlay\":{\"id\":\"3214\"}},\"id\":\"3210\",\"type\":\"BoxZoomTool\"},{\"attributes\":{\"axis\":{\"id\":\"3200\"},\"ticker\":null},\"id\":\"3203\",\"type\":\"Grid\"},{\"attributes\":{},\"id\":\"3192\",\"type\":\"DataRange1d\"},{\"attributes\":{\"data\":{\"x\":[224,225,226,227,228,229,230,231,232,233,234,235,236,237,238,239,240,241,242,243,244,245,246,247,248,249,250,251,252,253],\"y\":{\"__ndarray__\":\"ObTIdr6fmj/b+X5qvHSTP7gehetRuI4/ObTIdr6fij/8qfHSTWKQPzvfT42XbpI/2/l+arx0kz/b+X5qvHSTP5zEILByaJE/nMQgsHJokT/6fmq8dJOIP7pJDAIrh4Y//Knx0k1igD956SYxCKx8P3sUrkfheoQ/ObTIdr6fij956SYxCKyMP7gehetRuI4/nMQgsHJokT8730+Nl26SPzvfT42XbpI//Knx0k1ikD+4HoXrUbiOP7pJDAIrh4Y/eekmMQisfD/8qfHSTWJgPwAAAAAAAAAA/Knx0k1iUL/8qfHSTWJQv/yp8dJNYmC/\",\"dtype\":\"float64\",\"order\":\"little\",\"shape\":[30]}},\"selected\":{\"id\":\"3251\"},\"selection_policy\":{\"id\":\"3250\"}},\"id\":\"3237\",\"type\":\"ColumnDataSource\"},{\"attributes\":{\"formatter\":{\"id\":\"3230\"},\"ticker\":{\"id\":\"3205\"}},\"id\":\"3204\",\"type\":\"LinearAxis\"},{\"attributes\":{\"data_source\":{\"id\":\"3271\"},\"glyph\":{\"id\":\"3272\"},\"hover_glyph\":null,\"muted_glyph\":null,\"nonselection_glyph\":{\"id\":\"3273\"},\"selection_glyph\":null,\"view\":{\"id\":\"3275\"}},\"id\":\"3274\",\"type\":\"GlyphRenderer\"},{\"attributes\":{\"source\":{\"id\":\"3271\"}},\"id\":\"3275\",\"type\":\"CDSView\"},{\"attributes\":{},\"id\":\"3269\",\"type\":\"Selection\"},{\"attributes\":{},\"id\":\"3209\",\"type\":\"WheelZoomTool\"},{\"attributes\":{\"label\":{\"value\":\"mean\"},\"renderers\":[{\"id\":\"3240\"}]},\"id\":\"3252\",\"type\":\"LegendItem\"},{\"attributes\":{},\"id\":\"3201\",\"type\":\"BasicTicker\"},{\"attributes\":{\"fill_alpha\":0.1,\"x\":{\"field\":\"x\"},\"y1\":{\"field\":\"y1\"},\"y2\":{\"field\":\"y2\"}},\"id\":\"3224\",\"type\":\"VArea\"}],\"root_ids\":[\"3189\"]},\"title\":\"Bokeh Application\",\"version\":\"2.2.3\"}};\n",
       "  var render_items = [{\"docid\":\"6499ed93-d7fc-4b04-8ed2-44a848681d78\",\"root_ids\":[\"3189\"],\"roots\":{\"3189\":\"97f8ea98-7353-44e7-9654-c803618cf3a1\"}}];\n",
       "  root.Bokeh.embed.embed_items_notebook(docs_json, render_items);\n",
       "\n",
       "  }\n",
       "  if (root.Bokeh !== undefined) {\n",
       "    embed_document(root);\n",
       "  } else {\n",
       "    var attempts = 0;\n",
       "    var timer = setInterval(function(root) {\n",
       "      if (root.Bokeh !== undefined) {\n",
       "        clearInterval(timer);\n",
       "        embed_document(root);\n",
       "      } else {\n",
       "        attempts++;\n",
       "        if (attempts > 100) {\n",
       "          clearInterval(timer);\n",
       "          console.log(\"Bokeh: ERROR: Unable to run BokehJS code because BokehJS library is missing\");\n",
       "        }\n",
       "      }\n",
       "    }, 10, root)\n",
       "  }\n",
       "})(window);"
      ],
      "application/vnd.bokehjs_exec.v0+json": ""
     },
     "metadata": {
      "application/vnd.bokehjs_exec.v0+json": {
       "id": "3189"
      }
     },
     "output_type": "display_data"
    },
    {
     "data": {
      "text/html": [
       "\n",
       "\n",
       "\n",
       "\n",
       "\n",
       "\n",
       "  <div class=\"bk-root\" id=\"6a771e4e-1983-4f1f-bf60-1d56761322d4\" data-root-id=\"3502\"></div>\n"
      ]
     },
     "metadata": {},
     "output_type": "display_data"
    },
    {
     "data": {
      "application/javascript": [
       "(function(root) {\n",
       "  function embed_document(root) {\n",
       "    \n",
       "  var docs_json = {\"472dace1-67a6-4ab9-aa1e-d171080c8a51\":{\"roots\":{\"references\":[{\"attributes\":{\"below\":[{\"id\":\"3513\"}],\"center\":[{\"id\":\"3516\"},{\"id\":\"3520\"},{\"id\":\"3548\"},{\"id\":\"3603\"},{\"id\":\"3604\"}],\"left\":[{\"id\":\"3517\"}],\"plot_height\":300,\"plot_width\":900,\"renderers\":[{\"id\":\"3538\"},{\"id\":\"3553\"},{\"id\":\"3569\"},{\"id\":\"3587\"}],\"title\":{\"id\":\"3503\"},\"toolbar\":{\"id\":\"3528\"},\"x_range\":{\"id\":\"3505\"},\"x_scale\":{\"id\":\"3509\"},\"y_range\":{\"id\":\"3507\"},\"y_scale\":{\"id\":\"3511\"}},\"id\":\"3502\",\"subtype\":\"Figure\",\"type\":\"Plot\"},{\"attributes\":{\"data_source\":{\"id\":\"3584\"},\"glyph\":{\"id\":\"3585\"},\"hover_glyph\":null,\"muted_glyph\":null,\"nonselection_glyph\":{\"id\":\"3586\"},\"selection_glyph\":null,\"view\":{\"id\":\"3588\"}},\"id\":\"3587\",\"type\":\"GlyphRenderer\"},{\"attributes\":{\"dimension\":\"height\",\"line_color\":\"gray\",\"line_dash\":[6],\"location\":234},\"id\":\"3603\",\"type\":\"Span\"},{\"attributes\":{\"line_color\":\"green\",\"x\":{\"field\":\"x\"},\"y\":{\"field\":\"y\"}},\"id\":\"3551\",\"type\":\"Line\"},{\"attributes\":{\"line_alpha\":0.1,\"line_color\":\"blue\",\"x\":{\"field\":\"x\"},\"y\":{\"field\":\"y\"}},\"id\":\"3568\",\"type\":\"Line\"},{\"attributes\":{},\"id\":\"3511\",\"type\":\"LinearScale\"},{\"attributes\":{},\"id\":\"3547\",\"type\":\"Selection\"},{\"attributes\":{},\"id\":\"3505\",\"type\":\"DataRange1d\"},{\"attributes\":{\"source\":{\"id\":\"3535\"}},\"id\":\"3539\",\"type\":\"CDSView\"},{\"attributes\":{\"fill_color\":{\"value\":\"blue\"},\"line_color\":{\"value\":\"blue\"},\"x\":{\"field\":\"x\"},\"y\":{\"field\":\"y\"}},\"id\":\"3585\",\"type\":\"Circle\"},{\"attributes\":{\"axis\":{\"id\":\"3517\"},\"dimension\":1,\"ticker\":null},\"id\":\"3520\",\"type\":\"Grid\"},{\"attributes\":{\"axis\":{\"id\":\"3513\"},\"ticker\":null},\"id\":\"3516\",\"type\":\"Grid\"},{\"attributes\":{\"source\":{\"id\":\"3566\"}},\"id\":\"3570\",\"type\":\"CDSView\"},{\"attributes\":{},\"id\":\"3581\",\"type\":\"UnionRenderers\"},{\"attributes\":{},\"id\":\"3601\",\"type\":\"UnionRenderers\"},{\"attributes\":{\"click_policy\":\"hide\",\"items\":[{\"id\":\"3549\"},{\"id\":\"3565\"},{\"id\":\"3583\"}],\"location\":\"bottom_left\"},\"id\":\"3548\",\"type\":\"Legend\"},{\"attributes\":{},\"id\":\"3521\",\"type\":\"PanTool\"},{\"attributes\":{},\"id\":\"3524\",\"type\":\"SaveTool\"},{\"attributes\":{\"data\":{\"x\":[224,225,226,227,228,229,230,231,232,233,234,235,236,237,238,239,240,241,242,243,244,245,246,247,248,249,250,251,252,253],\"y1\":{\"__ndarray__\":\"exSuR+F6hL956SYxCKx8v/yp8dJNYoC/O99PjZdugr97FK5H4XqEv/p+arx0k4i/eekmMQisjL+4HoXrUbiOv5zEILByaJG/exSuR+F6lL97FK5H4XqUv5zEILByaJG//Knx0k1ikL+cxCCwcmiRv3sUrkfhepS/ukkMAiuHlr+amZmZmZmZv9nO91PjpZu/GQRWDi2ynb+cxCCwcmihv+xRuB6F66G/2/l+arx0o7/sUbgeheuhv5zEILByaKG/2/l+arx0o7/ZzvdT46Wbv0w3iUFg5aC/uB6F61G4jr85tMh2vp+qv1pkO99Pjce/\",\"dtype\":\"float64\",\"order\":\"little\",\"shape\":[30]},\"y2\":{\"__ndarray__\":\"WmQ730+Nlz+amZmZmZmZP9nO91PjpZs/ObTIdr6fmj956SYxCKycPzm0yHa+n5o/ukkMAiuHlj8730+Nl26SP3npJjEIrIw/+n5qvHSTiD85tMh2vp+KP7gehetRuI4/nMQgsHJokT/8qfHSTWKQP/yp8dJNYpA//Knx0k1ikD/6fmq8dJOIP3npJjEIrIw/uB6F61G4jj956SYxCKyMP9v5fmq8dJM/WmQ730+Nlz8ZBFYOLbKdP4ts5/up8aI/+n5qvHSTqD+6SQwCK4emP/yp8dJNYrA//Knx0k1isD8hsHJoke28P4lBYOXQIss/\",\"dtype\":\"float64\",\"order\":\"little\",\"shape\":[30]}},\"selected\":{\"id\":\"3547\"},\"selection_policy\":{\"id\":\"3546\"}},\"id\":\"3535\",\"type\":\"ColumnDataSource\"},{\"attributes\":{\"data\":{\"x\":[224,225,226,227,228,229,230,231,232,233,234,235,236,237,238,239,240,241,242,243,244,245,246,247,248,249,250,251,252,253],\"y\":{\"__ndarray__\":\"eW1n7o4sob9y0tzWvfyKv5Kb3RUnQJI/3lxsWZAugz8hpNx+DyuqP5uQALmc/7c/0Ov1CZ4HsD+QZvFYxUm0P1KGgdEZKpo/ztX+bYbmib/GLESTGxKtv1yeyxGWepe/jxJjivc9gj8B4bT8GjiVPwtmsrDG16A/bRYd/2uaoz9gm8Z1lIEyP6LayI6wS3I/WyyhfFQukj8WrFLwfq6Svww7CMcbRqG/MyfGQOQil79YzFYBVACmv7zuflcDkmU/vl5NzkfxqL9ONuDMM3huvwTOu4ZJKZC/fPUkWmtIkj/tTHj0PIOeP0OE6U3iQJo/\",\"dtype\":\"float64\",\"order\":\"little\",\"shape\":[30]}},\"selected\":{\"id\":\"3602\"},\"selection_policy\":{\"id\":\"3601\"}},\"id\":\"3584\",\"type\":\"ColumnDataSource\"},{\"attributes\":{\"overlay\":{\"id\":\"3527\"}},\"id\":\"3523\",\"type\":\"BoxZoomTool\"},{\"attributes\":{},\"id\":\"3514\",\"type\":\"BasicTicker\"},{\"attributes\":{\"fill_alpha\":0.1,\"x\":{\"field\":\"x\"},\"y1\":{\"field\":\"y1\"},\"y2\":{\"field\":\"y2\"}},\"id\":\"3536\",\"type\":\"VArea\"},{\"attributes\":{\"label\":{\"value\":\"mean\"},\"renderers\":[{\"id\":\"3553\"}]},\"id\":\"3565\",\"type\":\"LegendItem\"},{\"attributes\":{\"formatter\":{\"id\":\"3543\"},\"ticker\":{\"id\":\"3518\"}},\"id\":\"3517\",\"type\":\"LinearAxis\"},{\"attributes\":{},\"id\":\"3526\",\"type\":\"HelpTool\"},{\"attributes\":{},\"id\":\"3518\",\"type\":\"BasicTicker\"},{\"attributes\":{\"data_source\":{\"id\":\"3550\"},\"glyph\":{\"id\":\"3551\"},\"hover_glyph\":null,\"muted_glyph\":null,\"nonselection_glyph\":{\"id\":\"3552\"},\"selection_glyph\":null,\"view\":{\"id\":\"3554\"}},\"id\":\"3553\",\"type\":\"GlyphRenderer\"},{\"attributes\":{\"fill_alpha\":0.1,\"x\":{\"field\":\"x\"},\"y1\":{\"field\":\"y1\"},\"y2\":{\"field\":\"y2\"}},\"id\":\"3537\",\"type\":\"VArea\"},{\"attributes\":{\"active_drag\":\"auto\",\"active_inspect\":\"auto\",\"active_multi\":null,\"active_scroll\":\"auto\",\"active_tap\":\"auto\",\"tools\":[{\"id\":\"3521\"},{\"id\":\"3522\"},{\"id\":\"3523\"},{\"id\":\"3524\"},{\"id\":\"3525\"},{\"id\":\"3526\"}]},\"id\":\"3528\",\"type\":\"Toolbar\"},{\"attributes\":{},\"id\":\"3541\",\"type\":\"BasicTickFormatter\"},{\"attributes\":{\"data_source\":{\"id\":\"3566\"},\"glyph\":{\"id\":\"3567\"},\"hover_glyph\":null,\"muted_glyph\":null,\"nonselection_glyph\":{\"id\":\"3568\"},\"selection_glyph\":null,\"view\":{\"id\":\"3570\"}},\"id\":\"3569\",\"type\":\"GlyphRenderer\"},{\"attributes\":{\"formatter\":{\"id\":\"3541\"},\"ticker\":{\"id\":\"3514\"}},\"id\":\"3513\",\"type\":\"LinearAxis\"},{\"attributes\":{\"data\":{\"x\":[224,225,226,227,228,229,230,231,232,233,234,235,236,237,238,239,240,241,242,243,244,245,246,247,248,249,250,251,252,253],\"y\":{\"__ndarray__\":\"eekmMQisfD8730+Nl26CPzvfT42XboI/O99PjZdugj8730+Nl26CP3npJjEIrHw//Knx0k1icD/8qfHSTWJQP/p+arx0k2i//Knx0k1icL/6fmq8dJNovwAAAAAAAACA/Knx0k1iUD8AAAAAAAAAAPyp8dJNYlC/+n5qvHSTaL/6fmq8dJN4v3npJjEIrHy//Knx0k1igL97FK5H4XqEvzvfT42XboK/eekmMQisfL/8qfHSTWJwv/yp8dJNYlA//Knx0k1iUD97FK5H4XqEP3npJjEIrIw/+n5qvHSTmD8ZBFYOLbKdP3npJjEIrJw/\",\"dtype\":\"float64\",\"order\":\"little\",\"shape\":[30]}},\"selected\":{\"id\":\"3564\"},\"selection_policy\":{\"id\":\"3563\"}},\"id\":\"3550\",\"type\":\"ColumnDataSource\"},{\"attributes\":{},\"id\":\"3525\",\"type\":\"ResetTool\"},{\"attributes\":{\"end\":0.26,\"start\":-0.26},\"id\":\"3507\",\"type\":\"Range1d\"},{\"attributes\":{},\"id\":\"3509\",\"type\":\"LinearScale\"},{\"attributes\":{\"label\":{\"value\":\"hdi\"},\"renderers\":[{\"id\":\"3538\"}]},\"id\":\"3549\",\"type\":\"LegendItem\"},{\"attributes\":{\"source\":{\"id\":\"3584\"}},\"id\":\"3588\",\"type\":\"CDSView\"},{\"attributes\":{},\"id\":\"3546\",\"type\":\"UnionRenderers\"},{\"attributes\":{},\"id\":\"3582\",\"type\":\"Selection\"},{\"attributes\":{\"data_source\":{\"id\":\"3535\"},\"glyph\":{\"id\":\"3536\"},\"hover_glyph\":null,\"muted_glyph\":null,\"nonselection_glyph\":{\"id\":\"3537\"},\"selection_glyph\":null,\"view\":{\"id\":\"3539\"}},\"id\":\"3538\",\"type\":\"GlyphRenderer\"},{\"attributes\":{\"data\":{\"x\":[224,225,226,227,228,229,230,231,232,233,234,235,236,237,238,239,240,241,242,243,244,245,246,247,248,249,250,251,252,253],\"y\":{\"__ndarray__\":\"eW1n7o4sob9y0tzWvfyKv5Kb3RUnQJI/3lxsWZAugz8hpNx+DyuqP5uQALmc/7c/0Ov1CZ4HsD+QZvFYxUm0P1KGgdEZKpo/ztX+bYbmib/GLESTGxKtv1yeyxGWepe/jxJjivc9gj8B4bT8GjiVPwtmsrDG16A/bRYd/2uaoz9gm8Z1lIEyP6LayI6wS3I/WyyhfFQukj8WrFLwfq6Svww7CMcbRqG/MyfGQOQil79YzFYBVACmv7zuflcDkmU/vl5NzkfxqL9ONuDMM3huvwTOu4ZJKZC/fPUkWmtIkj/tTHj0PIOeP0OE6U3iQJo/\",\"dtype\":\"float64\",\"order\":\"little\",\"shape\":[30]}},\"selected\":{\"id\":\"3582\"},\"selection_policy\":{\"id\":\"3581\"}},\"id\":\"3566\",\"type\":\"ColumnDataSource\"},{\"attributes\":{},\"id\":\"3564\",\"type\":\"Selection\"},{\"attributes\":{\"line_alpha\":0.1,\"line_color\":\"green\",\"x\":{\"field\":\"x\"},\"y\":{\"field\":\"y\"}},\"id\":\"3552\",\"type\":\"Line\"},{\"attributes\":{\"bottom_units\":\"screen\",\"fill_alpha\":0.5,\"fill_color\":\"lightgrey\",\"left_units\":\"screen\",\"level\":\"overlay\",\"line_alpha\":1.0,\"line_color\":\"black\",\"line_dash\":[4,4],\"line_width\":2,\"right_units\":\"screen\",\"top_units\":\"screen\"},\"id\":\"3527\",\"type\":\"BoxAnnotation\"},{\"attributes\":{},\"id\":\"3602\",\"type\":\"Selection\"},{\"attributes\":{},\"id\":\"3522\",\"type\":\"WheelZoomTool\"},{\"attributes\":{\"text\":\"Convergence - nasdaqjockey\"},\"id\":\"3503\",\"type\":\"Title\"},{\"attributes\":{\"line_color\":\"blue\",\"x\":{\"field\":\"x\"},\"y\":{\"field\":\"y\"}},\"id\":\"3567\",\"type\":\"Line\"},{\"attributes\":{\"dimension\":\"height\",\"line_color\":\"gray\",\"line_dash\":[6],\"location\":250},\"id\":\"3604\",\"type\":\"Span\"},{\"attributes\":{\"label\":{\"value\":\"metric\"},\"renderers\":[{\"id\":\"3569\"},{\"id\":\"3587\"}]},\"id\":\"3583\",\"type\":\"LegendItem\"},{\"attributes\":{\"source\":{\"id\":\"3550\"}},\"id\":\"3554\",\"type\":\"CDSView\"},{\"attributes\":{},\"id\":\"3563\",\"type\":\"UnionRenderers\"},{\"attributes\":{\"fill_alpha\":{\"value\":0.1},\"fill_color\":{\"value\":\"blue\"},\"line_alpha\":{\"value\":0.1},\"line_color\":{\"value\":\"blue\"},\"x\":{\"field\":\"x\"},\"y\":{\"field\":\"y\"}},\"id\":\"3586\",\"type\":\"Circle\"},{\"attributes\":{},\"id\":\"3543\",\"type\":\"BasicTickFormatter\"}],\"root_ids\":[\"3502\"]},\"title\":\"Bokeh Application\",\"version\":\"2.2.3\"}};\n",
       "  var render_items = [{\"docid\":\"472dace1-67a6-4ab9-aa1e-d171080c8a51\",\"root_ids\":[\"3502\"],\"roots\":{\"3502\":\"6a771e4e-1983-4f1f-bf60-1d56761322d4\"}}];\n",
       "  root.Bokeh.embed.embed_items_notebook(docs_json, render_items);\n",
       "\n",
       "  }\n",
       "  if (root.Bokeh !== undefined) {\n",
       "    embed_document(root);\n",
       "  } else {\n",
       "    var attempts = 0;\n",
       "    var timer = setInterval(function(root) {\n",
       "      if (root.Bokeh !== undefined) {\n",
       "        clearInterval(timer);\n",
       "        embed_document(root);\n",
       "      } else {\n",
       "        attempts++;\n",
       "        if (attempts > 100) {\n",
       "          clearInterval(timer);\n",
       "          console.log(\"Bokeh: ERROR: Unable to run BokehJS code because BokehJS library is missing\");\n",
       "        }\n",
       "      }\n",
       "    }, 10, root)\n",
       "  }\n",
       "})(window);"
      ],
      "application/vnd.bokehjs_exec.v0+json": ""
     },
     "metadata": {
      "application/vnd.bokehjs_exec.v0+json": {
       "id": "3502"
      }
     },
     "output_type": "display_data"
    },
    {
     "data": {
      "text/html": [
       "\n",
       "\n",
       "\n",
       "\n",
       "\n",
       "\n",
       "  <div class=\"bk-root\" id=\"b7cc9e42-478a-411b-a5fd-d6f7fc34b2e0\" data-root-id=\"3829\"></div>\n"
      ]
     },
     "metadata": {},
     "output_type": "display_data"
    },
    {
     "data": {
      "application/javascript": [
       "(function(root) {\n",
       "  function embed_document(root) {\n",
       "    \n",
       "  var docs_json = {\"c1d68ac8-c2ce-48c0-ae0a-86773ef1f9e9\":{\"roots\":{\"references\":[{\"attributes\":{\"below\":[{\"id\":\"3840\"}],\"center\":[{\"id\":\"3843\"},{\"id\":\"3847\"},{\"id\":\"3875\"},{\"id\":\"3930\"},{\"id\":\"3931\"}],\"left\":[{\"id\":\"3844\"}],\"plot_height\":300,\"plot_width\":900,\"renderers\":[{\"id\":\"3865\"},{\"id\":\"3880\"},{\"id\":\"3896\"},{\"id\":\"3914\"}],\"title\":{\"id\":\"3830\"},\"toolbar\":{\"id\":\"3855\"},\"x_range\":{\"id\":\"3832\"},\"x_scale\":{\"id\":\"3836\"},\"y_range\":{\"id\":\"3834\"},\"y_scale\":{\"id\":\"3838\"}},\"id\":\"3829\",\"subtype\":\"Figure\",\"type\":\"Plot\"},{\"attributes\":{},\"id\":\"3849\",\"type\":\"WheelZoomTool\"},{\"attributes\":{},\"id\":\"3908\",\"type\":\"UnionRenderers\"},{\"attributes\":{\"axis\":{\"id\":\"3844\"},\"dimension\":1,\"ticker\":null},\"id\":\"3847\",\"type\":\"Grid\"},{\"attributes\":{\"formatter\":{\"id\":\"3870\"},\"ticker\":{\"id\":\"3845\"}},\"id\":\"3844\",\"type\":\"LinearAxis\"},{\"attributes\":{\"data\":{\"x\":[224,225,226,227,228,229,230,231,232,233,234,235,236,237,238,239,240,241,242,243,244,245,246,247,248,249,250,251,252,253],\"y\":{\"__ndarray__\":\"eW1n7o4sob9y0tzWvfyKv5Kb3RUnQJI/3lxsWZAugz8hpNx+DyuqP5uQALmc/7c/0Ov1CZ4HsD+QZvFYxUm0P1KGgdEZKpo/ztX+bYbmib/GLESTGxKtv1yeyxGWepe/jxJjivc9gj8B4bT8GjiVPwtmsrDG16A/bRYd/2uaoz9gm8Z1lIEyP6LayI6wS3I/WyyhfFQukj8WrFLwfq6Svww7CMcbRqG/MyfGQOQil79YzFYBVACmv7zuflcDkmU/vl5NzkfxqL9ONuDMM3huvwTOu4ZJKZC/fPUkWmtIkj/tTHj0PIOeP0OE6U3iQJo/\",\"dtype\":\"float64\",\"order\":\"little\",\"shape\":[30]}},\"selected\":{\"id\":\"3909\"},\"selection_policy\":{\"id\":\"3908\"}},\"id\":\"3893\",\"type\":\"ColumnDataSource\"},{\"attributes\":{\"formatter\":{\"id\":\"3868\"},\"ticker\":{\"id\":\"3841\"}},\"id\":\"3840\",\"type\":\"LinearAxis\"},{\"attributes\":{\"source\":{\"id\":\"3862\"}},\"id\":\"3866\",\"type\":\"CDSView\"},{\"attributes\":{\"bottom_units\":\"screen\",\"fill_alpha\":0.5,\"fill_color\":\"lightgrey\",\"left_units\":\"screen\",\"level\":\"overlay\",\"line_alpha\":1.0,\"line_color\":\"black\",\"line_dash\":[4,4],\"line_width\":2,\"right_units\":\"screen\",\"top_units\":\"screen\"},\"id\":\"3854\",\"type\":\"BoxAnnotation\"},{\"attributes\":{\"data_source\":{\"id\":\"3877\"},\"glyph\":{\"id\":\"3878\"},\"hover_glyph\":null,\"muted_glyph\":null,\"nonselection_glyph\":{\"id\":\"3879\"},\"selection_glyph\":null,\"view\":{\"id\":\"3881\"}},\"id\":\"3880\",\"type\":\"GlyphRenderer\"},{\"attributes\":{},\"id\":\"3868\",\"type\":\"BasicTickFormatter\"},{\"attributes\":{\"label\":{\"value\":\"mean\"},\"renderers\":[{\"id\":\"3880\"}]},\"id\":\"3892\",\"type\":\"LegendItem\"},{\"attributes\":{},\"id\":\"3873\",\"type\":\"UnionRenderers\"},{\"attributes\":{\"fill_color\":{\"value\":\"blue\"},\"line_color\":{\"value\":\"blue\"},\"x\":{\"field\":\"x\"},\"y\":{\"field\":\"y\"}},\"id\":\"3912\",\"type\":\"Circle\"},{\"attributes\":{},\"id\":\"3836\",\"type\":\"LinearScale\"},{\"attributes\":{},\"id\":\"3841\",\"type\":\"BasicTicker\"},{\"attributes\":{\"data_source\":{\"id\":\"3911\"},\"glyph\":{\"id\":\"3912\"},\"hover_glyph\":null,\"muted_glyph\":null,\"nonselection_glyph\":{\"id\":\"3913\"},\"selection_glyph\":null,\"view\":{\"id\":\"3915\"}},\"id\":\"3914\",\"type\":\"GlyphRenderer\"},{\"attributes\":{\"data_source\":{\"id\":\"3862\"},\"glyph\":{\"id\":\"3863\"},\"hover_glyph\":null,\"muted_glyph\":null,\"nonselection_glyph\":{\"id\":\"3864\"},\"selection_glyph\":null,\"view\":{\"id\":\"3866\"}},\"id\":\"3865\",\"type\":\"GlyphRenderer\"},{\"attributes\":{\"active_drag\":\"auto\",\"active_inspect\":\"auto\",\"active_multi\":null,\"active_scroll\":\"auto\",\"active_tap\":\"auto\",\"tools\":[{\"id\":\"3848\"},{\"id\":\"3849\"},{\"id\":\"3850\"},{\"id\":\"3851\"},{\"id\":\"3852\"},{\"id\":\"3853\"}]},\"id\":\"3855\",\"type\":\"Toolbar\"},{\"attributes\":{},\"id\":\"3838\",\"type\":\"LinearScale\"},{\"attributes\":{\"line_alpha\":0.1,\"line_color\":\"green\",\"x\":{\"field\":\"x\"},\"y\":{\"field\":\"y\"}},\"id\":\"3879\",\"type\":\"Line\"},{\"attributes\":{\"end\":0.26,\"start\":-0.26},\"id\":\"3834\",\"type\":\"Range1d\"},{\"attributes\":{\"label\":{\"value\":\"hdi\"},\"renderers\":[{\"id\":\"3865\"}]},\"id\":\"3876\",\"type\":\"LegendItem\"},{\"attributes\":{\"fill_alpha\":0.1,\"x\":{\"field\":\"x\"},\"y1\":{\"field\":\"y1\"},\"y2\":{\"field\":\"y2\"}},\"id\":\"3864\",\"type\":\"VArea\"},{\"attributes\":{\"source\":{\"id\":\"3877\"}},\"id\":\"3881\",\"type\":\"CDSView\"},{\"attributes\":{\"dimension\":\"height\",\"line_color\":\"gray\",\"line_dash\":[6],\"location\":234},\"id\":\"3930\",\"type\":\"Span\"},{\"attributes\":{\"label\":{\"value\":\"metric\"},\"renderers\":[{\"id\":\"3896\"},{\"id\":\"3914\"}]},\"id\":\"3910\",\"type\":\"LegendItem\"},{\"attributes\":{},\"id\":\"3852\",\"type\":\"ResetTool\"},{\"attributes\":{\"line_alpha\":0.1,\"line_color\":\"blue\",\"x\":{\"field\":\"x\"},\"y\":{\"field\":\"y\"}},\"id\":\"3895\",\"type\":\"Line\"},{\"attributes\":{},\"id\":\"3928\",\"type\":\"UnionRenderers\"},{\"attributes\":{\"data\":{\"x\":[224,225,226,227,228,229,230,231,232,233,234,235,236,237,238,239,240,241,242,243,244,245,246,247,248,249,250,251,252,253],\"y1\":{\"__ndarray__\":\"eekmMQisfD8AAAAAAAAAAAAAAAAAAAAA/Knx0k1iYL/6fmq8dJNov/yp8dJNYnC//Knx0k1iYL/8qfHSTWJgv/yp8dJNYlC//Knx0k1icL97FK5H4XqEvzm0yHa+n4q/eekmMQisjL956SYxCKyMv/p+arx0k4i/ukkMAiuHhr8730+Nl26Cv/yp8dJNYoC/eekmMQisfL956SYxCKx8v/yp8dJNYoC/+n5qvHSTeL85tMh2vp+Kv7pJDAIrh4a/nMQgsHJokb/b+X5qvHSTv3sUrkfhepS/ukkMAiuHlr8bL90kBoGVv3sUrkfhepS/\",\"dtype\":\"float64\",\"order\":\"little\",\"shape\":[30]},\"y2\":{\"__ndarray__\":\"ObTIdr6fqj9aZDvfT42nP7pJDAIrh6Y/i2zn+6nxoj+LbOf7qfGiP9v5fmq8dKM/K4cW2c73oz/LoUW28/2kP2q8dJMYBKY/i2zn+6nxoj8730+Nl26iP/yp8dJNYqA/TDeJQWDloD9MN4lBYOWgP5zEILByaKE/O99PjZduoj+LbOf7qfGiPzvfT42XbqI/i2zn+6nxoj+LbOf7qfGiP4ts5/up8aI/K4cW2c73oz9MN4lBYOWgP+xRuB6F66E/uB6F61G4nj8bL90kBoGVPzvfT42XbpI/exSuR+F6hD8730+Nl26CPzm0yHa+n4o/\",\"dtype\":\"float64\",\"order\":\"little\",\"shape\":[30]}},\"selected\":{\"id\":\"3874\"},\"selection_policy\":{\"id\":\"3873\"}},\"id\":\"3862\",\"type\":\"ColumnDataSource\"},{\"attributes\":{\"fill_alpha\":0.1,\"x\":{\"field\":\"x\"},\"y1\":{\"field\":\"y1\"},\"y2\":{\"field\":\"y2\"}},\"id\":\"3863\",\"type\":\"VArea\"},{\"attributes\":{\"data_source\":{\"id\":\"3893\"},\"glyph\":{\"id\":\"3894\"},\"hover_glyph\":null,\"muted_glyph\":null,\"nonselection_glyph\":{\"id\":\"3895\"},\"selection_glyph\":null,\"view\":{\"id\":\"3897\"}},\"id\":\"3896\",\"type\":\"GlyphRenderer\"},{\"attributes\":{},\"id\":\"3845\",\"type\":\"BasicTicker\"},{\"attributes\":{},\"id\":\"3891\",\"type\":\"Selection\"},{\"attributes\":{\"dimension\":\"height\",\"line_color\":\"gray\",\"line_dash\":[6],\"location\":250},\"id\":\"3931\",\"type\":\"Span\"},{\"attributes\":{\"source\":{\"id\":\"3893\"}},\"id\":\"3897\",\"type\":\"CDSView\"},{\"attributes\":{\"line_color\":\"blue\",\"x\":{\"field\":\"x\"},\"y\":{\"field\":\"y\"}},\"id\":\"3894\",\"type\":\"Line\"},{\"attributes\":{\"click_policy\":\"hide\",\"items\":[{\"id\":\"3876\"},{\"id\":\"3892\"},{\"id\":\"3910\"}],\"location\":\"bottom_left\"},\"id\":\"3875\",\"type\":\"Legend\"},{\"attributes\":{\"axis\":{\"id\":\"3840\"},\"ticker\":null},\"id\":\"3843\",\"type\":\"Grid\"},{\"attributes\":{\"data\":{\"x\":[224,225,226,227,228,229,230,231,232,233,234,235,236,237,238,239,240,241,242,243,244,245,246,247,248,249,250,251,252,253],\"y\":{\"__ndarray__\":\"GQRWDi2ynT/6fmq8dJOYPxsv3SQGgZU/nMQgsHJokT+cxCCwcmiRP9v5fmq8dJM/2/l+arx0kz97FK5H4XqUP3sUrkfhepQ//Knx0k1ikD/6fmq8dJOIPzvfT42XboI/O99PjZdugj/8qfHSTWKAP3sUrkfheoQ/+n5qvHSTiD956SYxCKyMP3npJjEIrIw/eekmMQisjD+4HoXrUbiOP7gehetRuI4/uB6F61G4jj/6fmq8dJOIP7pJDAIrh4Y/eekmMQisfD/8qfHSTWJQP/yp8dJNYmC/exSuR+F6dL97FK5H4Xp0v/p+arx0k2i/\",\"dtype\":\"float64\",\"order\":\"little\",\"shape\":[30]}},\"selected\":{\"id\":\"3891\"},\"selection_policy\":{\"id\":\"3890\"}},\"id\":\"3877\",\"type\":\"ColumnDataSource\"},{\"attributes\":{\"text\":\"Timeseries - nasdaqjockey\"},\"id\":\"3830\",\"type\":\"Title\"},{\"attributes\":{},\"id\":\"3890\",\"type\":\"UnionRenderers\"},{\"attributes\":{},\"id\":\"3848\",\"type\":\"PanTool\"},{\"attributes\":{\"fill_alpha\":{\"value\":0.1},\"fill_color\":{\"value\":\"blue\"},\"line_alpha\":{\"value\":0.1},\"line_color\":{\"value\":\"blue\"},\"x\":{\"field\":\"x\"},\"y\":{\"field\":\"y\"}},\"id\":\"3913\",\"type\":\"Circle\"},{\"attributes\":{},\"id\":\"3832\",\"type\":\"DataRange1d\"},{\"attributes\":{},\"id\":\"3909\",\"type\":\"Selection\"},{\"attributes\":{\"data\":{\"x\":[224,225,226,227,228,229,230,231,232,233,234,235,236,237,238,239,240,241,242,243,244,245,246,247,248,249,250,251,252,253],\"y\":{\"__ndarray__\":\"eW1n7o4sob9y0tzWvfyKv5Kb3RUnQJI/3lxsWZAugz8hpNx+DyuqP5uQALmc/7c/0Ov1CZ4HsD+QZvFYxUm0P1KGgdEZKpo/ztX+bYbmib/GLESTGxKtv1yeyxGWepe/jxJjivc9gj8B4bT8GjiVPwtmsrDG16A/bRYd/2uaoz9gm8Z1lIEyP6LayI6wS3I/WyyhfFQukj8WrFLwfq6Svww7CMcbRqG/MyfGQOQil79YzFYBVACmv7zuflcDkmU/vl5NzkfxqL9ONuDMM3huvwTOu4ZJKZC/fPUkWmtIkj/tTHj0PIOeP0OE6U3iQJo/\",\"dtype\":\"float64\",\"order\":\"little\",\"shape\":[30]}},\"selected\":{\"id\":\"3929\"},\"selection_policy\":{\"id\":\"3928\"}},\"id\":\"3911\",\"type\":\"ColumnDataSource\"},{\"attributes\":{\"overlay\":{\"id\":\"3854\"}},\"id\":\"3850\",\"type\":\"BoxZoomTool\"},{\"attributes\":{},\"id\":\"3853\",\"type\":\"HelpTool\"},{\"attributes\":{},\"id\":\"3851\",\"type\":\"SaveTool\"},{\"attributes\":{\"source\":{\"id\":\"3911\"}},\"id\":\"3915\",\"type\":\"CDSView\"},{\"attributes\":{},\"id\":\"3929\",\"type\":\"Selection\"},{\"attributes\":{\"line_color\":\"green\",\"x\":{\"field\":\"x\"},\"y\":{\"field\":\"y\"}},\"id\":\"3878\",\"type\":\"Line\"},{\"attributes\":{},\"id\":\"3870\",\"type\":\"BasicTickFormatter\"},{\"attributes\":{},\"id\":\"3874\",\"type\":\"Selection\"}],\"root_ids\":[\"3829\"]},\"title\":\"Bokeh Application\",\"version\":\"2.2.3\"}};\n",
       "  var render_items = [{\"docid\":\"c1d68ac8-c2ce-48c0-ae0a-86773ef1f9e9\",\"root_ids\":[\"3829\"],\"roots\":{\"3829\":\"b7cc9e42-478a-411b-a5fd-d6f7fc34b2e0\"}}];\n",
       "  root.Bokeh.embed.embed_items_notebook(docs_json, render_items);\n",
       "\n",
       "  }\n",
       "  if (root.Bokeh !== undefined) {\n",
       "    embed_document(root);\n",
       "  } else {\n",
       "    var attempts = 0;\n",
       "    var timer = setInterval(function(root) {\n",
       "      if (root.Bokeh !== undefined) {\n",
       "        clearInterval(timer);\n",
       "        embed_document(root);\n",
       "      } else {\n",
       "        attempts++;\n",
       "        if (attempts > 100) {\n",
       "          clearInterval(timer);\n",
       "          console.log(\"Bokeh: ERROR: Unable to run BokehJS code because BokehJS library is missing\");\n",
       "        }\n",
       "      }\n",
       "    }, 10, root)\n",
       "  }\n",
       "})(window);"
      ],
      "application/vnd.bokehjs_exec.v0+json": ""
     },
     "metadata": {
      "application/vnd.bokehjs_exec.v0+json": {
       "id": "3829"
      }
     },
     "output_type": "display_data"
    },
    {
     "data": {
      "text/html": [
       "\n",
       "\n",
       "\n",
       "\n",
       "\n",
       "\n",
       "  <div class=\"bk-root\" id=\"1e4087dd-4d60-4184-8618-c897424d4aa3\" data-root-id=\"4170\"></div>\n"
      ]
     },
     "metadata": {},
     "output_type": "display_data"
    },
    {
     "data": {
      "application/javascript": [
       "(function(root) {\n",
       "  function embed_document(root) {\n",
       "    \n",
       "  var docs_json = {\"71d9d119-2beb-4aa7-a4c6-3557edbe56ed\":{\"roots\":{\"references\":[{\"attributes\":{\"below\":[{\"id\":\"4181\"}],\"center\":[{\"id\":\"4184\"},{\"id\":\"4188\"},{\"id\":\"4216\"},{\"id\":\"4271\"},{\"id\":\"4272\"}],\"left\":[{\"id\":\"4185\"}],\"plot_height\":300,\"plot_width\":900,\"renderers\":[{\"id\":\"4206\"},{\"id\":\"4221\"},{\"id\":\"4237\"},{\"id\":\"4255\"}],\"title\":{\"id\":\"4171\"},\"toolbar\":{\"id\":\"4196\"},\"x_range\":{\"id\":\"4173\"},\"x_scale\":{\"id\":\"4177\"},\"y_range\":{\"id\":\"4175\"},\"y_scale\":{\"id\":\"4179\"}},\"id\":\"4170\",\"subtype\":\"Figure\",\"type\":\"Plot\"},{\"attributes\":{\"data_source\":{\"id\":\"4203\"},\"glyph\":{\"id\":\"4204\"},\"hover_glyph\":null,\"muted_glyph\":null,\"nonselection_glyph\":{\"id\":\"4205\"},\"selection_glyph\":null,\"view\":{\"id\":\"4207\"}},\"id\":\"4206\",\"type\":\"GlyphRenderer\"},{\"attributes\":{},\"id\":\"4190\",\"type\":\"WheelZoomTool\"},{\"attributes\":{\"source\":{\"id\":\"4218\"}},\"id\":\"4222\",\"type\":\"CDSView\"},{\"attributes\":{\"data_source\":{\"id\":\"4218\"},\"glyph\":{\"id\":\"4219\"},\"hover_glyph\":null,\"muted_glyph\":null,\"nonselection_glyph\":{\"id\":\"4220\"},\"selection_glyph\":null,\"view\":{\"id\":\"4222\"}},\"id\":\"4221\",\"type\":\"GlyphRenderer\"},{\"attributes\":{\"active_drag\":\"auto\",\"active_inspect\":\"auto\",\"active_multi\":null,\"active_scroll\":\"auto\",\"active_tap\":\"auto\",\"tools\":[{\"id\":\"4189\"},{\"id\":\"4190\"},{\"id\":\"4191\"},{\"id\":\"4192\"},{\"id\":\"4193\"},{\"id\":\"4194\"}]},\"id\":\"4196\",\"type\":\"Toolbar\"},{\"attributes\":{\"data\":{\"x\":[224,225,226,227,228,229,230,231,232,233,234,235,236,237,238,239,240,241,242,243,244,245,246,247,248,249,250,251,252,253],\"y1\":{\"__ndarray__\":\"/Knx0k1iYD/6fmq8dJNoP/yp8dJNYnA/+n5qvHSTaD/6fmq8dJNoP/yp8dJNYlA//Knx0k1iUL/6fmq8dJNov/yp8dJNYnC/+n5qvHSTeL/6fmq8dJN4v/p+arx0k2i/exSuR+F6dL/6fmq8dJN4v3sUrkfheoS/exSuR+F6hL85tMh2vp+Kv/yp8dJNYpC/O99PjZdukr97FK5H4XqUv3sUrkfhepS/mpmZmZmZmb/ZzvdT46Wbv0w3iUFg5aC/arx0kxgEpr9KDAIrhxapv6rx0k1iEKi/kxgEVg4tsr8hsHJoke28v83MzMzMzMy/\",\"dtype\":\"float64\",\"order\":\"little\",\"shape\":[30]},\"y2\":{\"__ndarray__\":\"uB6F61G4nj9YObTIdr6fP/yp8dJNYqA/TDeJQWDloD9MN4lBYOWgP/yp8dJNYqA/GQRWDi2ynT/ZzvdT46WbP3npJjEIrJw/eekmMQisnD956SYxCKycP1g5tMh2vp8//Knx0k1ioD9YObTIdr6fPxkEVg4tsp0/WmQ730+Nlz/b+X5qvHSTP/yp8dJNYpA/ObTIdr6fij/6fmq8dJN4P3sUrkfheoQ/ukkMAiuHhj956SYxCKyMPzm0yHa+n4o/exSuR+F6lD+6SQwCK4eGP/yp8dJNYmA/eekmMQisnD+amZmZmZmpP+XQItv5fso/\",\"dtype\":\"float64\",\"order\":\"little\",\"shape\":[30]}},\"selected\":{\"id\":\"4215\"},\"selection_policy\":{\"id\":\"4214\"}},\"id\":\"4203\",\"type\":\"ColumnDataSource\"},{\"attributes\":{\"line_color\":\"green\",\"x\":{\"field\":\"x\"},\"y\":{\"field\":\"y\"}},\"id\":\"4219\",\"type\":\"Line\"},{\"attributes\":{\"end\":0.26,\"start\":-0.26},\"id\":\"4175\",\"type\":\"Range1d\"},{\"attributes\":{\"text\":\"Convergence - niam\"},\"id\":\"4171\",\"type\":\"Title\"},{\"attributes\":{\"axis\":{\"id\":\"4185\"},\"dimension\":1,\"ticker\":null},\"id\":\"4188\",\"type\":\"Grid\"},{\"attributes\":{\"data\":{\"x\":[224,225,226,227,228,229,230,231,232,233,234,235,236,237,238,239,240,241,242,243,244,245,246,247,248,249,250,251,252,253],\"y\":{\"__ndarray__\":\"/Knx0k1ikD+cxCCwcmiRPzvfT42XbpI/O99PjZdukj8730+Nl26SP/yp8dJNYpA/eekmMQisjD85tMh2vp+KP7pJDAIrh4Y/ukkMAiuHhj/6fmq8dJOIP3npJjEIrIw/eekmMQisjD/6fmq8dJOIP3sUrkfheoQ/+n5qvHSTeD/6fmq8dJNoPwAAAAAAAAAA+n5qvHSTaL/6fmq8dJN4v/p+arx0k3i/eekmMQisfL/8qfHSTWKAv7pJDAIrh4a/ukkMAiuHhr+cxCCwcmiRv7pJDAIrh5a/Gy/dJAaBlb+amZmZmZmZvxsv3SQGgZW/\",\"dtype\":\"float64\",\"order\":\"little\",\"shape\":[30]}},\"selected\":{\"id\":\"4232\"},\"selection_policy\":{\"id\":\"4231\"}},\"id\":\"4218\",\"type\":\"ColumnDataSource\"},{\"attributes\":{\"line_alpha\":0.1,\"line_color\":\"blue\",\"x\":{\"field\":\"x\"},\"y\":{\"field\":\"y\"}},\"id\":\"4236\",\"type\":\"Line\"},{\"attributes\":{\"click_policy\":\"hide\",\"items\":[{\"id\":\"4217\"},{\"id\":\"4233\"},{\"id\":\"4251\"}],\"location\":\"bottom_left\"},\"id\":\"4216\",\"type\":\"Legend\"},{\"attributes\":{\"label\":{\"value\":\"metric\"},\"renderers\":[{\"id\":\"4237\"},{\"id\":\"4255\"}]},\"id\":\"4251\",\"type\":\"LegendItem\"},{\"attributes\":{\"fill_color\":{\"value\":\"blue\"},\"line_color\":{\"value\":\"blue\"},\"x\":{\"field\":\"x\"},\"y\":{\"field\":\"y\"}},\"id\":\"4253\",\"type\":\"Circle\"},{\"attributes\":{},\"id\":\"4214\",\"type\":\"UnionRenderers\"},{\"attributes\":{},\"id\":\"4270\",\"type\":\"Selection\"},{\"attributes\":{\"formatter\":{\"id\":\"4211\"},\"ticker\":{\"id\":\"4186\"}},\"id\":\"4185\",\"type\":\"LinearAxis\"},{\"attributes\":{},\"id\":\"4232\",\"type\":\"Selection\"},{\"attributes\":{\"fill_alpha\":0.1,\"x\":{\"field\":\"x\"},\"y1\":{\"field\":\"y1\"},\"y2\":{\"field\":\"y2\"}},\"id\":\"4204\",\"type\":\"VArea\"},{\"attributes\":{\"dimension\":\"height\",\"line_color\":\"gray\",\"line_dash\":[6],\"location\":234},\"id\":\"4271\",\"type\":\"Span\"},{\"attributes\":{\"source\":{\"id\":\"4234\"}},\"id\":\"4238\",\"type\":\"CDSView\"},{\"attributes\":{\"overlay\":{\"id\":\"4195\"}},\"id\":\"4191\",\"type\":\"BoxZoomTool\"},{\"attributes\":{\"data\":{\"x\":[224,225,226,227,228,229,230,231,232,233,234,235,236,237,238,239,240,241,242,243,244,245,246,247,248,249,250,251,252,253],\"y\":{\"__ndarray__\":\"UllJPX1Jkb9obPuu00aMv1piUdf0UYQ/65kcJX6OnT8BYGWctgesP/JjaieS/bM/J6yOL/ajpD8EXiquayClP7XJqz/96ZE/2dvWtxMQdL/PtX331gKgv8P10Syk0Yc/si2b5myvpj8UfgfvUeumP4Kw9QdLv7I/4jafsujXqj+Q3kc2tZSiPwYon43v+6I/0S7aHWR+oD/B9hV5ePd7v7Dpvgo1g24/kHvoKpazXz8S+50ILEB6P7yGLB6rUX6/tejm9QCVlT8o1VSqx4ByP4ZBOa3oT5m/ucT0VkCji7+UF3nj7JKcvwOpW0bSJZe/\",\"dtype\":\"float64\",\"order\":\"little\",\"shape\":[30]}},\"selected\":{\"id\":\"4270\"},\"selection_policy\":{\"id\":\"4269\"}},\"id\":\"4252\",\"type\":\"ColumnDataSource\"},{\"attributes\":{},\"id\":\"4173\",\"type\":\"DataRange1d\"},{\"attributes\":{},\"id\":\"4194\",\"type\":\"HelpTool\"},{\"attributes\":{},\"id\":\"4269\",\"type\":\"UnionRenderers\"},{\"attributes\":{},\"id\":\"4186\",\"type\":\"BasicTicker\"},{\"attributes\":{},\"id\":\"4250\",\"type\":\"Selection\"},{\"attributes\":{},\"id\":\"4209\",\"type\":\"BasicTickFormatter\"},{\"attributes\":{},\"id\":\"4182\",\"type\":\"BasicTicker\"},{\"attributes\":{},\"id\":\"4249\",\"type\":\"UnionRenderers\"},{\"attributes\":{\"bottom_units\":\"screen\",\"fill_alpha\":0.5,\"fill_color\":\"lightgrey\",\"left_units\":\"screen\",\"level\":\"overlay\",\"line_alpha\":1.0,\"line_color\":\"black\",\"line_dash\":[4,4],\"line_width\":2,\"right_units\":\"screen\",\"top_units\":\"screen\"},\"id\":\"4195\",\"type\":\"BoxAnnotation\"},{\"attributes\":{\"label\":{\"value\":\"mean\"},\"renderers\":[{\"id\":\"4221\"}]},\"id\":\"4233\",\"type\":\"LegendItem\"},{\"attributes\":{\"source\":{\"id\":\"4203\"}},\"id\":\"4207\",\"type\":\"CDSView\"},{\"attributes\":{\"dimension\":\"height\",\"line_color\":\"gray\",\"line_dash\":[6],\"location\":250},\"id\":\"4272\",\"type\":\"Span\"},{\"attributes\":{\"formatter\":{\"id\":\"4209\"},\"ticker\":{\"id\":\"4182\"}},\"id\":\"4181\",\"type\":\"LinearAxis\"},{\"attributes\":{\"line_alpha\":0.1,\"line_color\":\"green\",\"x\":{\"field\":\"x\"},\"y\":{\"field\":\"y\"}},\"id\":\"4220\",\"type\":\"Line\"},{\"attributes\":{\"fill_alpha\":{\"value\":0.1},\"fill_color\":{\"value\":\"blue\"},\"line_alpha\":{\"value\":0.1},\"line_color\":{\"value\":\"blue\"},\"x\":{\"field\":\"x\"},\"y\":{\"field\":\"y\"}},\"id\":\"4254\",\"type\":\"Circle\"},{\"attributes\":{\"axis\":{\"id\":\"4181\"},\"ticker\":null},\"id\":\"4184\",\"type\":\"Grid\"},{\"attributes\":{},\"id\":\"4231\",\"type\":\"UnionRenderers\"},{\"attributes\":{},\"id\":\"4215\",\"type\":\"Selection\"},{\"attributes\":{\"label\":{\"value\":\"hdi\"},\"renderers\":[{\"id\":\"4206\"}]},\"id\":\"4217\",\"type\":\"LegendItem\"},{\"attributes\":{},\"id\":\"4179\",\"type\":\"LinearScale\"},{\"attributes\":{\"line_color\":\"blue\",\"x\":{\"field\":\"x\"},\"y\":{\"field\":\"y\"}},\"id\":\"4235\",\"type\":\"Line\"},{\"attributes\":{\"data_source\":{\"id\":\"4252\"},\"glyph\":{\"id\":\"4253\"},\"hover_glyph\":null,\"muted_glyph\":null,\"nonselection_glyph\":{\"id\":\"4254\"},\"selection_glyph\":null,\"view\":{\"id\":\"4256\"}},\"id\":\"4255\",\"type\":\"GlyphRenderer\"},{\"attributes\":{},\"id\":\"4189\",\"type\":\"PanTool\"},{\"attributes\":{\"fill_alpha\":0.1,\"x\":{\"field\":\"x\"},\"y1\":{\"field\":\"y1\"},\"y2\":{\"field\":\"y2\"}},\"id\":\"4205\",\"type\":\"VArea\"},{\"attributes\":{},\"id\":\"4177\",\"type\":\"LinearScale\"},{\"attributes\":{\"data\":{\"x\":[224,225,226,227,228,229,230,231,232,233,234,235,236,237,238,239,240,241,242,243,244,245,246,247,248,249,250,251,252,253],\"y\":{\"__ndarray__\":\"UllJPX1Jkb9obPuu00aMv1piUdf0UYQ/65kcJX6OnT8BYGWctgesP/JjaieS/bM/J6yOL/ajpD8EXiquayClP7XJqz/96ZE/2dvWtxMQdL/PtX331gKgv8P10Syk0Yc/si2b5myvpj8UfgfvUeumP4Kw9QdLv7I/4jafsujXqj+Q3kc2tZSiPwYon43v+6I/0S7aHWR+oD/B9hV5ePd7v7Dpvgo1g24/kHvoKpazXz8S+50ILEB6P7yGLB6rUX6/tejm9QCVlT8o1VSqx4ByP4ZBOa3oT5m/ucT0VkCji7+UF3nj7JKcvwOpW0bSJZe/\",\"dtype\":\"float64\",\"order\":\"little\",\"shape\":[30]}},\"selected\":{\"id\":\"4250\"},\"selection_policy\":{\"id\":\"4249\"}},\"id\":\"4234\",\"type\":\"ColumnDataSource\"},{\"attributes\":{},\"id\":\"4193\",\"type\":\"ResetTool\"},{\"attributes\":{\"source\":{\"id\":\"4252\"}},\"id\":\"4256\",\"type\":\"CDSView\"},{\"attributes\":{},\"id\":\"4192\",\"type\":\"SaveTool\"},{\"attributes\":{\"data_source\":{\"id\":\"4234\"},\"glyph\":{\"id\":\"4235\"},\"hover_glyph\":null,\"muted_glyph\":null,\"nonselection_glyph\":{\"id\":\"4236\"},\"selection_glyph\":null,\"view\":{\"id\":\"4238\"}},\"id\":\"4237\",\"type\":\"GlyphRenderer\"},{\"attributes\":{},\"id\":\"4211\",\"type\":\"BasicTickFormatter\"}],\"root_ids\":[\"4170\"]},\"title\":\"Bokeh Application\",\"version\":\"2.2.3\"}};\n",
       "  var render_items = [{\"docid\":\"71d9d119-2beb-4aa7-a4c6-3557edbe56ed\",\"root_ids\":[\"4170\"],\"roots\":{\"4170\":\"1e4087dd-4d60-4184-8618-c897424d4aa3\"}}];\n",
       "  root.Bokeh.embed.embed_items_notebook(docs_json, render_items);\n",
       "\n",
       "  }\n",
       "  if (root.Bokeh !== undefined) {\n",
       "    embed_document(root);\n",
       "  } else {\n",
       "    var attempts = 0;\n",
       "    var timer = setInterval(function(root) {\n",
       "      if (root.Bokeh !== undefined) {\n",
       "        clearInterval(timer);\n",
       "        embed_document(root);\n",
       "      } else {\n",
       "        attempts++;\n",
       "        if (attempts > 100) {\n",
       "          clearInterval(timer);\n",
       "          console.log(\"Bokeh: ERROR: Unable to run BokehJS code because BokehJS library is missing\");\n",
       "        }\n",
       "      }\n",
       "    }, 10, root)\n",
       "  }\n",
       "})(window);"
      ],
      "application/vnd.bokehjs_exec.v0+json": ""
     },
     "metadata": {
      "application/vnd.bokehjs_exec.v0+json": {
       "id": "4170"
      }
     },
     "output_type": "display_data"
    },
    {
     "data": {
      "text/html": [
       "\n",
       "\n",
       "\n",
       "\n",
       "\n",
       "\n",
       "  <div class=\"bk-root\" id=\"a500b8f1-a015-4e75-aca2-1f5ccbd82df4\" data-root-id=\"4525\"></div>\n"
      ]
     },
     "metadata": {},
     "output_type": "display_data"
    },
    {
     "data": {
      "application/javascript": [
       "(function(root) {\n",
       "  function embed_document(root) {\n",
       "    \n",
       "  var docs_json = {\"6ade6cac-6004-487b-83d2-2fecf921c493\":{\"roots\":{\"references\":[{\"attributes\":{\"below\":[{\"id\":\"4536\"}],\"center\":[{\"id\":\"4539\"},{\"id\":\"4543\"},{\"id\":\"4571\"},{\"id\":\"4626\"},{\"id\":\"4627\"}],\"left\":[{\"id\":\"4540\"}],\"plot_height\":300,\"plot_width\":900,\"renderers\":[{\"id\":\"4561\"},{\"id\":\"4576\"},{\"id\":\"4592\"},{\"id\":\"4610\"}],\"title\":{\"id\":\"4526\"},\"toolbar\":{\"id\":\"4551\"},\"x_range\":{\"id\":\"4528\"},\"x_scale\":{\"id\":\"4532\"},\"y_range\":{\"id\":\"4530\"},\"y_scale\":{\"id\":\"4534\"}},\"id\":\"4525\",\"subtype\":\"Figure\",\"type\":\"Plot\"},{\"attributes\":{},\"id\":\"4549\",\"type\":\"HelpTool\"},{\"attributes\":{\"data\":{\"x\":[224,225,226,227,228,229,230,231,232,233,234,235,236,237,238,239,240,241,242,243,244,245,246,247,248,249,250,251,252,253],\"y1\":{\"__ndarray__\":\"/Knx0k1ikD/6fmq8dJOIP3sUrkfheoQ//Knx0k1igD/8qfHSTWKAPzvfT42XboI//Knx0k1igD97FK5H4XqEPzvfT42XboI/+n5qvHSTeD8AAAAAAAAAgPyp8dJNYlC//Knx0k1iUL/6fmq8dJNov/yp8dJNYmA/exSuR+F6dD/6fmq8dJN4P/yp8dJNYoA//Knx0k1igD8730+Nl26CP3sUrkfheoQ/ukkMAiuHhj/6fmq8dJOIP/yp8dJNYoA/O99PjZdugj/6fmq8dJN4P/yp8dJNYmA//Knx0k1iYL/8qfHSTWJwv/p+arx0k3i/\",\"dtype\":\"float64\",\"order\":\"little\",\"shape\":[30]},\"y2\":{\"__ndarray__\":\"WDm0yHa+rz8pXI/C9SisP+kmMQisHKo/WmQ730+Npz9aZDvfT42nP5qZmZmZmak/+n5qvHSTqD+amZmZmZmpP0oMAiuHFqk/arx0kxgEpj/b+X5qvHSjP0w3iUFg5aA//Knx0k1ioD/8qfHSTWKgPzvfT42XbqI/K4cW2c73oz8bL90kBoGlP7pJDAIrh6Y/ukkMAiuHpj+6SQwCK4emP2q8dJMYBKY/ukkMAiuHpj8K16NwPQqnP2q8dJMYBKY/y6FFtvP9pD8730+Nl26iP0w3iUFg5aA/uB6F61G4nj8ZBFYOLbKdP3npJjEIrJw/\",\"dtype\":\"float64\",\"order\":\"little\",\"shape\":[30]}},\"selected\":{\"id\":\"4570\"},\"selection_policy\":{\"id\":\"4569\"}},\"id\":\"4558\",\"type\":\"ColumnDataSource\"},{\"attributes\":{},\"id\":\"4569\",\"type\":\"UnionRenderers\"},{\"attributes\":{},\"id\":\"4547\",\"type\":\"SaveTool\"},{\"attributes\":{\"data_source\":{\"id\":\"4558\"},\"glyph\":{\"id\":\"4559\"},\"hover_glyph\":null,\"muted_glyph\":null,\"nonselection_glyph\":{\"id\":\"4560\"},\"selection_glyph\":null,\"view\":{\"id\":\"4562\"}},\"id\":\"4561\",\"type\":\"GlyphRenderer\"},{\"attributes\":{\"click_policy\":\"hide\",\"items\":[{\"id\":\"4572\"},{\"id\":\"4588\"},{\"id\":\"4606\"}],\"location\":\"bottom_left\"},\"id\":\"4571\",\"type\":\"Legend\"},{\"attributes\":{},\"id\":\"4545\",\"type\":\"WheelZoomTool\"},{\"attributes\":{\"end\":0.26,\"start\":-0.26},\"id\":\"4530\",\"type\":\"Range1d\"},{\"attributes\":{\"label\":{\"value\":\"hdi\"},\"renderers\":[{\"id\":\"4561\"}]},\"id\":\"4572\",\"type\":\"LegendItem\"},{\"attributes\":{\"axis\":{\"id\":\"4540\"},\"dimension\":1,\"ticker\":null},\"id\":\"4543\",\"type\":\"Grid\"},{\"attributes\":{\"line_color\":\"blue\",\"x\":{\"field\":\"x\"},\"y\":{\"field\":\"y\"}},\"id\":\"4590\",\"type\":\"Line\"},{\"attributes\":{\"data\":{\"x\":[224,225,226,227,228,229,230,231,232,233,234,235,236,237,238,239,240,241,242,243,244,245,246,247,248,249,250,251,252,253],\"y\":{\"__ndarray__\":\"exSuR+F6pD+cxCCwcmihP7gehetRuJ4/2c73U+Olmz/ZzvdT46WbPxkEVg4tsp0/eekmMQisnD+4HoXrUbiePxkEVg4tsp0/mpmZmZmZmT/b+X5qvHSTP/yp8dJNYpA/uB6F61G4jj+4HoXrUbiOP3sUrkfhepQ/WmQ730+Nlz/6fmq8dJOYP5qZmZmZmZk/ObTIdr6fmj85tMh2vp+aP9nO91PjpZs/eekmMQisnD956SYxCKycPzm0yHa+n5o/mpmZmZmZmT8bL90kBoGVPzvfT42XbpI/uB6F61G4jj85tMh2vp+KP/p+arx0k4g/\",\"dtype\":\"float64\",\"order\":\"little\",\"shape\":[30]}},\"selected\":{\"id\":\"4587\"},\"selection_policy\":{\"id\":\"4586\"}},\"id\":\"4573\",\"type\":\"ColumnDataSource\"},{\"attributes\":{},\"id\":\"4605\",\"type\":\"Selection\"},{\"attributes\":{},\"id\":\"4541\",\"type\":\"BasicTicker\"},{\"attributes\":{},\"id\":\"4586\",\"type\":\"UnionRenderers\"},{\"attributes\":{\"data_source\":{\"id\":\"4573\"},\"glyph\":{\"id\":\"4574\"},\"hover_glyph\":null,\"muted_glyph\":null,\"nonselection_glyph\":{\"id\":\"4575\"},\"selection_glyph\":null,\"view\":{\"id\":\"4577\"}},\"id\":\"4576\",\"type\":\"GlyphRenderer\"},{\"attributes\":{\"data_source\":{\"id\":\"4607\"},\"glyph\":{\"id\":\"4608\"},\"hover_glyph\":null,\"muted_glyph\":null,\"nonselection_glyph\":{\"id\":\"4609\"},\"selection_glyph\":null,\"view\":{\"id\":\"4611\"}},\"id\":\"4610\",\"type\":\"GlyphRenderer\"},{\"attributes\":{\"label\":{\"value\":\"metric\"},\"renderers\":[{\"id\":\"4592\"},{\"id\":\"4610\"}]},\"id\":\"4606\",\"type\":\"LegendItem\"},{\"attributes\":{\"data\":{\"x\":[224,225,226,227,228,229,230,231,232,233,234,235,236,237,238,239,240,241,242,243,244,245,246,247,248,249,250,251,252,253],\"y\":{\"__ndarray__\":\"UllJPX1Jkb9obPuu00aMv1piUdf0UYQ/65kcJX6OnT8BYGWctgesP/JjaieS/bM/J6yOL/ajpD8EXiquayClP7XJqz/96ZE/2dvWtxMQdL/PtX331gKgv8P10Syk0Yc/si2b5myvpj8UfgfvUeumP4Kw9QdLv7I/4jafsujXqj+Q3kc2tZSiPwYon43v+6I/0S7aHWR+oD/B9hV5ePd7v7Dpvgo1g24/kHvoKpazXz8S+50ILEB6P7yGLB6rUX6/tejm9QCVlT8o1VSqx4ByP4ZBOa3oT5m/ucT0VkCji7+UF3nj7JKcvwOpW0bSJZe/\",\"dtype\":\"float64\",\"order\":\"little\",\"shape\":[30]}},\"selected\":{\"id\":\"4625\"},\"selection_policy\":{\"id\":\"4624\"}},\"id\":\"4607\",\"type\":\"ColumnDataSource\"},{\"attributes\":{},\"id\":\"4570\",\"type\":\"Selection\"},{\"attributes\":{\"active_drag\":\"auto\",\"active_inspect\":\"auto\",\"active_multi\":null,\"active_scroll\":\"auto\",\"active_tap\":\"auto\",\"tools\":[{\"id\":\"4544\"},{\"id\":\"4545\"},{\"id\":\"4546\"},{\"id\":\"4547\"},{\"id\":\"4548\"},{\"id\":\"4549\"}]},\"id\":\"4551\",\"type\":\"Toolbar\"},{\"attributes\":{\"fill_alpha\":0.1,\"x\":{\"field\":\"x\"},\"y1\":{\"field\":\"y1\"},\"y2\":{\"field\":\"y2\"}},\"id\":\"4559\",\"type\":\"VArea\"},{\"attributes\":{\"line_alpha\":0.1,\"line_color\":\"green\",\"x\":{\"field\":\"x\"},\"y\":{\"field\":\"y\"}},\"id\":\"4575\",\"type\":\"Line\"},{\"attributes\":{\"bottom_units\":\"screen\",\"fill_alpha\":0.5,\"fill_color\":\"lightgrey\",\"left_units\":\"screen\",\"level\":\"overlay\",\"line_alpha\":1.0,\"line_color\":\"black\",\"line_dash\":[4,4],\"line_width\":2,\"right_units\":\"screen\",\"top_units\":\"screen\"},\"id\":\"4550\",\"type\":\"BoxAnnotation\"},{\"attributes\":{},\"id\":\"4587\",\"type\":\"Selection\"},{\"attributes\":{\"text\":\"Timeseries - niam\"},\"id\":\"4526\",\"type\":\"Title\"},{\"attributes\":{\"data_source\":{\"id\":\"4589\"},\"glyph\":{\"id\":\"4590\"},\"hover_glyph\":null,\"muted_glyph\":null,\"nonselection_glyph\":{\"id\":\"4591\"},\"selection_glyph\":null,\"view\":{\"id\":\"4593\"}},\"id\":\"4592\",\"type\":\"GlyphRenderer\"},{\"attributes\":{\"formatter\":{\"id\":\"4566\"},\"ticker\":{\"id\":\"4541\"}},\"id\":\"4540\",\"type\":\"LinearAxis\"},{\"attributes\":{},\"id\":\"4528\",\"type\":\"DataRange1d\"},{\"attributes\":{\"source\":{\"id\":\"4573\"}},\"id\":\"4577\",\"type\":\"CDSView\"},{\"attributes\":{\"data\":{\"x\":[224,225,226,227,228,229,230,231,232,233,234,235,236,237,238,239,240,241,242,243,244,245,246,247,248,249,250,251,252,253],\"y\":{\"__ndarray__\":\"UllJPX1Jkb9obPuu00aMv1piUdf0UYQ/65kcJX6OnT8BYGWctgesP/JjaieS/bM/J6yOL/ajpD8EXiquayClP7XJqz/96ZE/2dvWtxMQdL/PtX331gKgv8P10Syk0Yc/si2b5myvpj8UfgfvUeumP4Kw9QdLv7I/4jafsujXqj+Q3kc2tZSiPwYon43v+6I/0S7aHWR+oD/B9hV5ePd7v7Dpvgo1g24/kHvoKpazXz8S+50ILEB6P7yGLB6rUX6/tejm9QCVlT8o1VSqx4ByP4ZBOa3oT5m/ucT0VkCji7+UF3nj7JKcvwOpW0bSJZe/\",\"dtype\":\"float64\",\"order\":\"little\",\"shape\":[30]}},\"selected\":{\"id\":\"4605\"},\"selection_policy\":{\"id\":\"4604\"}},\"id\":\"4589\",\"type\":\"ColumnDataSource\"},{\"attributes\":{\"line_alpha\":0.1,\"line_color\":\"blue\",\"x\":{\"field\":\"x\"},\"y\":{\"field\":\"y\"}},\"id\":\"4591\",\"type\":\"Line\"},{\"attributes\":{\"label\":{\"value\":\"mean\"},\"renderers\":[{\"id\":\"4576\"}]},\"id\":\"4588\",\"type\":\"LegendItem\"},{\"attributes\":{\"fill_alpha\":{\"value\":0.1},\"fill_color\":{\"value\":\"blue\"},\"line_alpha\":{\"value\":0.1},\"line_color\":{\"value\":\"blue\"},\"x\":{\"field\":\"x\"},\"y\":{\"field\":\"y\"}},\"id\":\"4609\",\"type\":\"Circle\"},{\"attributes\":{},\"id\":\"4604\",\"type\":\"UnionRenderers\"},{\"attributes\":{\"line_color\":\"green\",\"x\":{\"field\":\"x\"},\"y\":{\"field\":\"y\"}},\"id\":\"4574\",\"type\":\"Line\"},{\"attributes\":{},\"id\":\"4625\",\"type\":\"Selection\"},{\"attributes\":{},\"id\":\"4537\",\"type\":\"BasicTicker\"},{\"attributes\":{\"dimension\":\"height\",\"line_color\":\"gray\",\"line_dash\":[6],\"location\":250},\"id\":\"4627\",\"type\":\"Span\"},{\"attributes\":{},\"id\":\"4544\",\"type\":\"PanTool\"},{\"attributes\":{\"fill_alpha\":0.1,\"x\":{\"field\":\"x\"},\"y1\":{\"field\":\"y1\"},\"y2\":{\"field\":\"y2\"}},\"id\":\"4560\",\"type\":\"VArea\"},{\"attributes\":{\"overlay\":{\"id\":\"4550\"}},\"id\":\"4546\",\"type\":\"BoxZoomTool\"},{\"attributes\":{},\"id\":\"4566\",\"type\":\"BasicTickFormatter\"},{\"attributes\":{},\"id\":\"4534\",\"type\":\"LinearScale\"},{\"attributes\":{},\"id\":\"4564\",\"type\":\"BasicTickFormatter\"},{\"attributes\":{\"fill_color\":{\"value\":\"blue\"},\"line_color\":{\"value\":\"blue\"},\"x\":{\"field\":\"x\"},\"y\":{\"field\":\"y\"}},\"id\":\"4608\",\"type\":\"Circle\"},{\"attributes\":{},\"id\":\"4532\",\"type\":\"LinearScale\"},{\"attributes\":{},\"id\":\"4624\",\"type\":\"UnionRenderers\"},{\"attributes\":{\"source\":{\"id\":\"4607\"}},\"id\":\"4611\",\"type\":\"CDSView\"},{\"attributes\":{\"source\":{\"id\":\"4589\"}},\"id\":\"4593\",\"type\":\"CDSView\"},{\"attributes\":{\"formatter\":{\"id\":\"4564\"},\"ticker\":{\"id\":\"4537\"}},\"id\":\"4536\",\"type\":\"LinearAxis\"},{\"attributes\":{\"dimension\":\"height\",\"line_color\":\"gray\",\"line_dash\":[6],\"location\":234},\"id\":\"4626\",\"type\":\"Span\"},{\"attributes\":{\"source\":{\"id\":\"4558\"}},\"id\":\"4562\",\"type\":\"CDSView\"},{\"attributes\":{\"axis\":{\"id\":\"4536\"},\"ticker\":null},\"id\":\"4539\",\"type\":\"Grid\"},{\"attributes\":{},\"id\":\"4548\",\"type\":\"ResetTool\"}],\"root_ids\":[\"4525\"]},\"title\":\"Bokeh Application\",\"version\":\"2.2.3\"}};\n",
       "  var render_items = [{\"docid\":\"6ade6cac-6004-487b-83d2-2fecf921c493\",\"root_ids\":[\"4525\"],\"roots\":{\"4525\":\"a500b8f1-a015-4e75-aca2-1f5ccbd82df4\"}}];\n",
       "  root.Bokeh.embed.embed_items_notebook(docs_json, render_items);\n",
       "\n",
       "  }\n",
       "  if (root.Bokeh !== undefined) {\n",
       "    embed_document(root);\n",
       "  } else {\n",
       "    var attempts = 0;\n",
       "    var timer = setInterval(function(root) {\n",
       "      if (root.Bokeh !== undefined) {\n",
       "        clearInterval(timer);\n",
       "        embed_document(root);\n",
       "      } else {\n",
       "        attempts++;\n",
       "        if (attempts > 100) {\n",
       "          clearInterval(timer);\n",
       "          console.log(\"Bokeh: ERROR: Unable to run BokehJS code because BokehJS library is missing\");\n",
       "        }\n",
       "      }\n",
       "    }, 10, root)\n",
       "  }\n",
       "})(window);"
      ],
      "application/vnd.bokehjs_exec.v0+json": ""
     },
     "metadata": {
      "application/vnd.bokehjs_exec.v0+json": {
       "id": "4525"
      }
     },
     "output_type": "display_data"
    },
    {
     "data": {
      "text/html": [
       "\n",
       "\n",
       "\n",
       "\n",
       "\n",
       "\n",
       "  <div class=\"bk-root\" id=\"85756f04-924d-400b-9786-2f9330f8295e\" data-root-id=\"4894\"></div>\n"
      ]
     },
     "metadata": {},
     "output_type": "display_data"
    },
    {
     "data": {
      "application/javascript": [
       "(function(root) {\n",
       "  function embed_document(root) {\n",
       "    \n",
       "  var docs_json = {\"bbfc7fba-d02f-4e0a-a188-be66e7f530c8\":{\"roots\":{\"references\":[{\"attributes\":{\"below\":[{\"id\":\"4905\"}],\"center\":[{\"id\":\"4908\"},{\"id\":\"4912\"},{\"id\":\"4940\"},{\"id\":\"4995\"},{\"id\":\"4996\"}],\"left\":[{\"id\":\"4909\"}],\"plot_height\":300,\"plot_width\":900,\"renderers\":[{\"id\":\"4930\"},{\"id\":\"4945\"},{\"id\":\"4961\"},{\"id\":\"4979\"}],\"title\":{\"id\":\"4895\"},\"toolbar\":{\"id\":\"4920\"},\"x_range\":{\"id\":\"4897\"},\"x_scale\":{\"id\":\"4901\"},\"y_range\":{\"id\":\"4899\"},\"y_scale\":{\"id\":\"4903\"}},\"id\":\"4894\",\"subtype\":\"Figure\",\"type\":\"Plot\"},{\"attributes\":{\"data\":{\"x\":[224,225,226,227,228,229,230,231,232,233,234,235,236,237,238,239,240,241,242,243,244,245,246,247,248,249,250,251,252,253],\"y\":{\"__ndarray__\":\"aL6D0ZAWVj8qbRdXLmt1v+S/s7ipJI0/zAG514wBoD9cFl7PWmWnP4cpSlt65qw/AD4I45VsYz8ME9VacratP1/2cLbvzLA/+NcN61UctD9UkPExmPyjP9oowh90JJs/HlQmpSAfoz/zW7A7V66jPzLpRKnOGbU/49M89x1VqD/9bTGVBmimP6isX4l82J0/e422s4nKpz+qlYdcLSORP6Dn7QuoIjs/HA5KuI8dgj94TuA3NdBfv7I2SD/7pHE/7/Beuw05kz+GyksJK4GbP1ybq6qlrqs/4KJiEqPnpT8ioYTpuTx0P8QasV9jy44/\",\"dtype\":\"float64\",\"order\":\"little\",\"shape\":[30]}},\"selected\":{\"id\":\"4994\"},\"selection_policy\":{\"id\":\"4993\"}},\"id\":\"4976\",\"type\":\"ColumnDataSource\"},{\"attributes\":{},\"id\":\"4935\",\"type\":\"BasicTickFormatter\"},{\"attributes\":{},\"id\":\"4938\",\"type\":\"UnionRenderers\"},{\"attributes\":{\"label\":{\"value\":\"mean\"},\"renderers\":[{\"id\":\"4945\"}]},\"id\":\"4957\",\"type\":\"LegendItem\"},{\"attributes\":{\"line_color\":\"green\",\"x\":{\"field\":\"x\"},\"y\":{\"field\":\"y\"}},\"id\":\"4943\",\"type\":\"Line\"},{\"attributes\":{},\"id\":\"4901\",\"type\":\"LinearScale\"},{\"attributes\":{\"line_alpha\":0.1,\"line_color\":\"blue\",\"x\":{\"field\":\"x\"},\"y\":{\"field\":\"y\"}},\"id\":\"4960\",\"type\":\"Line\"},{\"attributes\":{\"dimension\":\"height\",\"line_color\":\"gray\",\"line_dash\":[6],\"location\":234},\"id\":\"4995\",\"type\":\"Span\"},{\"attributes\":{\"dimension\":\"height\",\"line_color\":\"gray\",\"line_dash\":[6],\"location\":250},\"id\":\"4996\",\"type\":\"Span\"},{\"attributes\":{\"data\":{\"x\":[224,225,226,227,228,229,230,231,232,233,234,235,236,237,238,239,240,241,242,243,244,245,246,247,248,249,250,251,252,253],\"y1\":{\"__ndarray__\":\"exSuR+F6lD8bL90kBoGVP1pkO99PjZc/WmQ730+Nlz9aZDvfT42XPxsv3SQGgZU/exSuR+F6lD+6SQwCK4eWPxsv3SQGgZU/2/l+arx0kz+cxCCwcmiRP/yp8dJNYpA/uB6F61G4jj956SYxCKyMP/p+arx0k4g/exSuR+F6hD/8qfHSTWKAP/p+arx0k3g//Knx0k1icD/8qfHSTWJgP/yp8dJNYlA/AAAAAAAAAAD6fmq8dJNov/yp8dJNYlC/+n5qvHSTaL956SYxCKx8v/p+arx0k5i/ObTIdr6fqr8Sg8DKoUW2v8dLN4lBYMW/\",\"dtype\":\"float64\",\"order\":\"little\",\"shape\":[30]},\"y2\":{\"__ndarray__\":\"Gy/dJAaBpT9qvHSTGASmPwrXo3A9Cqc/WmQ730+Npz9aZDvfT42nP1pkO99Pjac/WmQ730+Npz+q8dJNYhCoP1pkO99Pjac/CtejcD0Kpz/LoUW28/2kPxsv3SQGgaU/arx0kxgEpj9qvHSTGASmP7pJDAIrh6Y/i2zn+6nxoj8730+Nl26iP5zEILByaKE/O99PjZduoj+cxCCwcmihPzvfT42XbqI/K4cW2c73oz9qvHSTGASmP/p+arx0k6g/aJHtfD81rj/0/dR46SaxP7pJDAIrh7Y/WmQ730+Ntz9xPQrXo3C9P9V46SYxCMw/\",\"dtype\":\"float64\",\"order\":\"little\",\"shape\":[30]}},\"selected\":{\"id\":\"4939\"},\"selection_policy\":{\"id\":\"4938\"}},\"id\":\"4927\",\"type\":\"ColumnDataSource\"},{\"attributes\":{\"fill_alpha\":0.1,\"x\":{\"field\":\"x\"},\"y1\":{\"field\":\"y1\"},\"y2\":{\"field\":\"y2\"}},\"id\":\"4928\",\"type\":\"VArea\"},{\"attributes\":{\"line_alpha\":0.1,\"line_color\":\"green\",\"x\":{\"field\":\"x\"},\"y\":{\"field\":\"y\"}},\"id\":\"4944\",\"type\":\"Line\"},{\"attributes\":{},\"id\":\"4933\",\"type\":\"BasicTickFormatter\"},{\"attributes\":{\"fill_alpha\":{\"value\":0.1},\"fill_color\":{\"value\":\"blue\"},\"line_alpha\":{\"value\":0.1},\"line_color\":{\"value\":\"blue\"},\"x\":{\"field\":\"x\"},\"y\":{\"field\":\"y\"}},\"id\":\"4978\",\"type\":\"Circle\"},{\"attributes\":{\"source\":{\"id\":\"4942\"}},\"id\":\"4946\",\"type\":\"CDSView\"},{\"attributes\":{\"click_policy\":\"hide\",\"items\":[{\"id\":\"4941\"},{\"id\":\"4957\"},{\"id\":\"4975\"}],\"location\":\"bottom_left\"},\"id\":\"4940\",\"type\":\"Legend\"},{\"attributes\":{},\"id\":\"4917\",\"type\":\"ResetTool\"},{\"attributes\":{},\"id\":\"4914\",\"type\":\"WheelZoomTool\"},{\"attributes\":{},\"id\":\"4955\",\"type\":\"UnionRenderers\"},{\"attributes\":{\"source\":{\"id\":\"4927\"}},\"id\":\"4931\",\"type\":\"CDSView\"},{\"attributes\":{\"data_source\":{\"id\":\"4927\"},\"glyph\":{\"id\":\"4928\"},\"hover_glyph\":null,\"muted_glyph\":null,\"nonselection_glyph\":{\"id\":\"4929\"},\"selection_glyph\":null,\"view\":{\"id\":\"4931\"}},\"id\":\"4930\",\"type\":\"GlyphRenderer\"},{\"attributes\":{\"axis\":{\"id\":\"4905\"},\"ticker\":null},\"id\":\"4908\",\"type\":\"Grid\"},{\"attributes\":{},\"id\":\"4993\",\"type\":\"UnionRenderers\"},{\"attributes\":{},\"id\":\"4973\",\"type\":\"UnionRenderers\"},{\"attributes\":{\"overlay\":{\"id\":\"4919\"}},\"id\":\"4915\",\"type\":\"BoxZoomTool\"},{\"attributes\":{\"formatter\":{\"id\":\"4933\"},\"ticker\":{\"id\":\"4906\"}},\"id\":\"4905\",\"type\":\"LinearAxis\"},{\"attributes\":{\"formatter\":{\"id\":\"4935\"},\"ticker\":{\"id\":\"4910\"}},\"id\":\"4909\",\"type\":\"LinearAxis\"},{\"attributes\":{\"data_source\":{\"id\":\"4976\"},\"glyph\":{\"id\":\"4977\"},\"hover_glyph\":null,\"muted_glyph\":null,\"nonselection_glyph\":{\"id\":\"4978\"},\"selection_glyph\":null,\"view\":{\"id\":\"4980\"}},\"id\":\"4979\",\"type\":\"GlyphRenderer\"},{\"attributes\":{},\"id\":\"4906\",\"type\":\"BasicTicker\"},{\"attributes\":{},\"id\":\"4956\",\"type\":\"Selection\"},{\"attributes\":{},\"id\":\"4939\",\"type\":\"Selection\"},{\"attributes\":{\"line_color\":\"blue\",\"x\":{\"field\":\"x\"},\"y\":{\"field\":\"y\"}},\"id\":\"4959\",\"type\":\"Line\"},{\"attributes\":{\"label\":{\"value\":\"metric\"},\"renderers\":[{\"id\":\"4961\"},{\"id\":\"4979\"}]},\"id\":\"4975\",\"type\":\"LegendItem\"},{\"attributes\":{\"data\":{\"x\":[224,225,226,227,228,229,230,231,232,233,234,235,236,237,238,239,240,241,242,243,244,245,246,247,248,249,250,251,252,253],\"y\":{\"__ndarray__\":\"WDm0yHa+nz/8qfHSTWKgP0w3iUFg5aA/nMQgsHJooT+cxCCwcmihP5zEILByaKE/TDeJQWDloD+cxCCwcmihP0w3iUFg5aA//Knx0k1ioD8ZBFYOLbKdPxkEVg4tsp0/GQRWDi2ynT956SYxCKycP3npJjEIrJw/+n5qvHSTmD+6SQwCK4eWPxsv3SQGgZU/exSuR+F6lD+cxCCwcmiRPzvfT42XbpI/2/l+arx0kz8bL90kBoGVP/p+arx0k5g/2c73U+Olmz8ZBFYOLbKdPxkEVg4tsp0/ukkMAiuHlj8730+Nl26CP7gehetRuI4/\",\"dtype\":\"float64\",\"order\":\"little\",\"shape\":[30]}},\"selected\":{\"id\":\"4956\"},\"selection_policy\":{\"id\":\"4955\"}},\"id\":\"4942\",\"type\":\"ColumnDataSource\"},{\"attributes\":{\"data_source\":{\"id\":\"4942\"},\"glyph\":{\"id\":\"4943\"},\"hover_glyph\":null,\"muted_glyph\":null,\"nonselection_glyph\":{\"id\":\"4944\"},\"selection_glyph\":null,\"view\":{\"id\":\"4946\"}},\"id\":\"4945\",\"type\":\"GlyphRenderer\"},{\"attributes\":{\"data_source\":{\"id\":\"4958\"},\"glyph\":{\"id\":\"4959\"},\"hover_glyph\":null,\"muted_glyph\":null,\"nonselection_glyph\":{\"id\":\"4960\"},\"selection_glyph\":null,\"view\":{\"id\":\"4962\"}},\"id\":\"4961\",\"type\":\"GlyphRenderer\"},{\"attributes\":{\"axis\":{\"id\":\"4909\"},\"dimension\":1,\"ticker\":null},\"id\":\"4912\",\"type\":\"Grid\"},{\"attributes\":{},\"id\":\"4916\",\"type\":\"SaveTool\"},{\"attributes\":{\"fill_alpha\":0.1,\"x\":{\"field\":\"x\"},\"y1\":{\"field\":\"y1\"},\"y2\":{\"field\":\"y2\"}},\"id\":\"4929\",\"type\":\"VArea\"},{\"attributes\":{\"end\":0.26,\"start\":-0.26},\"id\":\"4899\",\"type\":\"Range1d\"},{\"attributes\":{\"label\":{\"value\":\"hdi\"},\"renderers\":[{\"id\":\"4930\"}]},\"id\":\"4941\",\"type\":\"LegendItem\"},{\"attributes\":{},\"id\":\"4910\",\"type\":\"BasicTicker\"},{\"attributes\":{},\"id\":\"4913\",\"type\":\"PanTool\"},{\"attributes\":{},\"id\":\"4974\",\"type\":\"Selection\"},{\"attributes\":{},\"id\":\"4918\",\"type\":\"HelpTool\"},{\"attributes\":{\"data\":{\"x\":[224,225,226,227,228,229,230,231,232,233,234,235,236,237,238,239,240,241,242,243,244,245,246,247,248,249,250,251,252,253],\"y\":{\"__ndarray__\":\"aL6D0ZAWVj8qbRdXLmt1v+S/s7ipJI0/zAG514wBoD9cFl7PWmWnP4cpSlt65qw/AD4I45VsYz8ME9VacratP1/2cLbvzLA/+NcN61UctD9UkPExmPyjP9oowh90JJs/HlQmpSAfoz/zW7A7V66jPzLpRKnOGbU/49M89x1VqD/9bTGVBmimP6isX4l82J0/e422s4nKpz+qlYdcLSORP6Dn7QuoIjs/HA5KuI8dgj94TuA3NdBfv7I2SD/7pHE/7/Beuw05kz+GyksJK4GbP1ybq6qlrqs/4KJiEqPnpT8ioYTpuTx0P8QasV9jy44/\",\"dtype\":\"float64\",\"order\":\"little\",\"shape\":[30]}},\"selected\":{\"id\":\"4974\"},\"selection_policy\":{\"id\":\"4973\"}},\"id\":\"4958\",\"type\":\"ColumnDataSource\"},{\"attributes\":{\"bottom_units\":\"screen\",\"fill_alpha\":0.5,\"fill_color\":\"lightgrey\",\"left_units\":\"screen\",\"level\":\"overlay\",\"line_alpha\":1.0,\"line_color\":\"black\",\"line_dash\":[4,4],\"line_width\":2,\"right_units\":\"screen\",\"top_units\":\"screen\"},\"id\":\"4919\",\"type\":\"BoxAnnotation\"},{\"attributes\":{},\"id\":\"4897\",\"type\":\"DataRange1d\"},{\"attributes\":{\"fill_color\":{\"value\":\"blue\"},\"line_color\":{\"value\":\"blue\"},\"x\":{\"field\":\"x\"},\"y\":{\"field\":\"y\"}},\"id\":\"4977\",\"type\":\"Circle\"},{\"attributes\":{\"source\":{\"id\":\"4958\"}},\"id\":\"4962\",\"type\":\"CDSView\"},{\"attributes\":{},\"id\":\"4994\",\"type\":\"Selection\"},{\"attributes\":{\"text\":\"Convergence - sorios\"},\"id\":\"4895\",\"type\":\"Title\"},{\"attributes\":{\"source\":{\"id\":\"4976\"}},\"id\":\"4980\",\"type\":\"CDSView\"},{\"attributes\":{},\"id\":\"4903\",\"type\":\"LinearScale\"},{\"attributes\":{\"active_drag\":\"auto\",\"active_inspect\":\"auto\",\"active_multi\":null,\"active_scroll\":\"auto\",\"active_tap\":\"auto\",\"tools\":[{\"id\":\"4913\"},{\"id\":\"4914\"},{\"id\":\"4915\"},{\"id\":\"4916\"},{\"id\":\"4917\"},{\"id\":\"4918\"}]},\"id\":\"4920\",\"type\":\"Toolbar\"}],\"root_ids\":[\"4894\"]},\"title\":\"Bokeh Application\",\"version\":\"2.2.3\"}};\n",
       "  var render_items = [{\"docid\":\"bbfc7fba-d02f-4e0a-a188-be66e7f530c8\",\"root_ids\":[\"4894\"],\"roots\":{\"4894\":\"85756f04-924d-400b-9786-2f9330f8295e\"}}];\n",
       "  root.Bokeh.embed.embed_items_notebook(docs_json, render_items);\n",
       "\n",
       "  }\n",
       "  if (root.Bokeh !== undefined) {\n",
       "    embed_document(root);\n",
       "  } else {\n",
       "    var attempts = 0;\n",
       "    var timer = setInterval(function(root) {\n",
       "      if (root.Bokeh !== undefined) {\n",
       "        clearInterval(timer);\n",
       "        embed_document(root);\n",
       "      } else {\n",
       "        attempts++;\n",
       "        if (attempts > 100) {\n",
       "          clearInterval(timer);\n",
       "          console.log(\"Bokeh: ERROR: Unable to run BokehJS code because BokehJS library is missing\");\n",
       "        }\n",
       "      }\n",
       "    }, 10, root)\n",
       "  }\n",
       "})(window);"
      ],
      "application/vnd.bokehjs_exec.v0+json": ""
     },
     "metadata": {
      "application/vnd.bokehjs_exec.v0+json": {
       "id": "4894"
      }
     },
     "output_type": "display_data"
    },
    {
     "data": {
      "text/html": [
       "\n",
       "\n",
       "\n",
       "\n",
       "\n",
       "\n",
       "  <div class=\"bk-root\" id=\"2e1bde30-ecf0-4e79-b990-f675fdb2b48c\" data-root-id=\"5277\"></div>\n"
      ]
     },
     "metadata": {},
     "output_type": "display_data"
    },
    {
     "data": {
      "application/javascript": [
       "(function(root) {\n",
       "  function embed_document(root) {\n",
       "    \n",
       "  var docs_json = {\"750523ca-7d76-4895-80fc-bd5880da3aac\":{\"roots\":{\"references\":[{\"attributes\":{\"below\":[{\"id\":\"5288\"}],\"center\":[{\"id\":\"5291\"},{\"id\":\"5295\"},{\"id\":\"5323\"},{\"id\":\"5378\"},{\"id\":\"5379\"}],\"left\":[{\"id\":\"5292\"}],\"plot_height\":300,\"plot_width\":900,\"renderers\":[{\"id\":\"5313\"},{\"id\":\"5328\"},{\"id\":\"5344\"},{\"id\":\"5362\"}],\"title\":{\"id\":\"5278\"},\"toolbar\":{\"id\":\"5303\"},\"x_range\":{\"id\":\"5280\"},\"x_scale\":{\"id\":\"5284\"},\"y_range\":{\"id\":\"5282\"},\"y_scale\":{\"id\":\"5286\"}},\"id\":\"5277\",\"subtype\":\"Figure\",\"type\":\"Plot\"},{\"attributes\":{\"active_drag\":\"auto\",\"active_inspect\":\"auto\",\"active_multi\":null,\"active_scroll\":\"auto\",\"active_tap\":\"auto\",\"tools\":[{\"id\":\"5296\"},{\"id\":\"5297\"},{\"id\":\"5298\"},{\"id\":\"5299\"},{\"id\":\"5300\"},{\"id\":\"5301\"}]},\"id\":\"5303\",\"type\":\"Toolbar\"},{\"attributes\":{\"data\":{\"x\":[224,225,226,227,228,229,230,231,232,233,234,235,236,237,238,239,240,241,242,243,244,245,246,247,248,249,250,251,252,253],\"y\":{\"__ndarray__\":\"mpmZmZmZmT8bL90kBoGVP/yp8dJNYpA/ObTIdr6fij/6fmq8dJOIP3sUrkfheoQ/eekmMQisfD/6fmq8dJN4P3npJjEIrHw/O99PjZdugj+6SQwCK4eGP7pJDAIrh4Y/uB6F61G4jj+cxCCwcmiRP/p+arx0k5g/GQRWDi2ynT/8qfHSTWKgP5zEILByaKE/i2zn+6nxoj/b+X5qvHSjP9v5fmq8dKM/2/l+arx0oz/b+X5qvHSjPzvfT42XbqI/7FG4HoXroT9MN4lBYOWgPzvfT42XbqI/7FG4HoXroT/8qfHSTWKgPxkEVg4tsp0/\",\"dtype\":\"float64\",\"order\":\"little\",\"shape\":[30]}},\"selected\":{\"id\":\"5339\"},\"selection_policy\":{\"id\":\"5338\"}},\"id\":\"5325\",\"type\":\"ColumnDataSource\"},{\"attributes\":{\"line_color\":\"green\",\"x\":{\"field\":\"x\"},\"y\":{\"field\":\"y\"}},\"id\":\"5326\",\"type\":\"Line\"},{\"attributes\":{},\"id\":\"5286\",\"type\":\"LinearScale\"},{\"attributes\":{},\"id\":\"5321\",\"type\":\"UnionRenderers\"},{\"attributes\":{\"data_source\":{\"id\":\"5341\"},\"glyph\":{\"id\":\"5342\"},\"hover_glyph\":null,\"muted_glyph\":null,\"nonselection_glyph\":{\"id\":\"5343\"},\"selection_glyph\":null,\"view\":{\"id\":\"5345\"}},\"id\":\"5344\",\"type\":\"GlyphRenderer\"},{\"attributes\":{\"overlay\":{\"id\":\"5302\"}},\"id\":\"5298\",\"type\":\"BoxZoomTool\"},{\"attributes\":{},\"id\":\"5338\",\"type\":\"UnionRenderers\"},{\"attributes\":{\"line_color\":\"blue\",\"x\":{\"field\":\"x\"},\"y\":{\"field\":\"y\"}},\"id\":\"5342\",\"type\":\"Line\"},{\"attributes\":{\"dimension\":\"height\",\"line_color\":\"gray\",\"line_dash\":[6],\"location\":234},\"id\":\"5378\",\"type\":\"Span\"},{\"attributes\":{},\"id\":\"5300\",\"type\":\"ResetTool\"},{\"attributes\":{\"data\":{\"x\":[224,225,226,227,228,229,230,231,232,233,234,235,236,237,238,239,240,241,242,243,244,245,246,247,248,249,250,251,252,253],\"y\":{\"__ndarray__\":\"aL6D0ZAWVj8qbRdXLmt1v+S/s7ipJI0/zAG514wBoD9cFl7PWmWnP4cpSlt65qw/AD4I45VsYz8ME9VacratP1/2cLbvzLA/+NcN61UctD9UkPExmPyjP9oowh90JJs/HlQmpSAfoz/zW7A7V66jPzLpRKnOGbU/49M89x1VqD/9bTGVBmimP6isX4l82J0/e422s4nKpz+qlYdcLSORP6Dn7QuoIjs/HA5KuI8dgj94TuA3NdBfv7I2SD/7pHE/7/Beuw05kz+GyksJK4GbP1ybq6qlrqs/4KJiEqPnpT8ioYTpuTx0P8QasV9jy44/\",\"dtype\":\"float64\",\"order\":\"little\",\"shape\":[30]}},\"selected\":{\"id\":\"5377\"},\"selection_policy\":{\"id\":\"5376\"}},\"id\":\"5359\",\"type\":\"ColumnDataSource\"},{\"attributes\":{\"fill_color\":{\"value\":\"blue\"},\"line_color\":{\"value\":\"blue\"},\"x\":{\"field\":\"x\"},\"y\":{\"field\":\"y\"}},\"id\":\"5360\",\"type\":\"Circle\"},{\"attributes\":{},\"id\":\"5280\",\"type\":\"DataRange1d\"},{\"attributes\":{\"fill_alpha\":0.1,\"x\":{\"field\":\"x\"},\"y1\":{\"field\":\"y1\"},\"y2\":{\"field\":\"y2\"}},\"id\":\"5311\",\"type\":\"VArea\"},{\"attributes\":{},\"id\":\"5318\",\"type\":\"BasicTickFormatter\"},{\"attributes\":{\"label\":{\"value\":\"hdi\"},\"renderers\":[{\"id\":\"5313\"}]},\"id\":\"5324\",\"type\":\"LegendItem\"},{\"attributes\":{},\"id\":\"5301\",\"type\":\"HelpTool\"},{\"attributes\":{\"source\":{\"id\":\"5325\"}},\"id\":\"5329\",\"type\":\"CDSView\"},{\"attributes\":{},\"id\":\"5322\",\"type\":\"Selection\"},{\"attributes\":{},\"id\":\"5376\",\"type\":\"UnionRenderers\"},{\"attributes\":{\"axis\":{\"id\":\"5292\"},\"dimension\":1,\"ticker\":null},\"id\":\"5295\",\"type\":\"Grid\"},{\"attributes\":{},\"id\":\"5299\",\"type\":\"SaveTool\"},{\"attributes\":{\"line_alpha\":0.1,\"line_color\":\"blue\",\"x\":{\"field\":\"x\"},\"y\":{\"field\":\"y\"}},\"id\":\"5343\",\"type\":\"Line\"},{\"attributes\":{},\"id\":\"5289\",\"type\":\"BasicTicker\"},{\"attributes\":{},\"id\":\"5356\",\"type\":\"UnionRenderers\"},{\"attributes\":{},\"id\":\"5377\",\"type\":\"Selection\"},{\"attributes\":{\"source\":{\"id\":\"5310\"}},\"id\":\"5314\",\"type\":\"CDSView\"},{\"attributes\":{\"dimension\":\"height\",\"line_color\":\"gray\",\"line_dash\":[6],\"location\":250},\"id\":\"5379\",\"type\":\"Span\"},{\"attributes\":{\"end\":0.26,\"start\":-0.26},\"id\":\"5282\",\"type\":\"Range1d\"},{\"attributes\":{},\"id\":\"5297\",\"type\":\"WheelZoomTool\"},{\"attributes\":{\"data\":{\"x\":[224,225,226,227,228,229,230,231,232,233,234,235,236,237,238,239,240,241,242,243,244,245,246,247,248,249,250,251,252,253],\"y\":{\"__ndarray__\":\"aL6D0ZAWVj8qbRdXLmt1v+S/s7ipJI0/zAG514wBoD9cFl7PWmWnP4cpSlt65qw/AD4I45VsYz8ME9VacratP1/2cLbvzLA/+NcN61UctD9UkPExmPyjP9oowh90JJs/HlQmpSAfoz/zW7A7V66jPzLpRKnOGbU/49M89x1VqD/9bTGVBmimP6isX4l82J0/e422s4nKpz+qlYdcLSORP6Dn7QuoIjs/HA5KuI8dgj94TuA3NdBfv7I2SD/7pHE/7/Beuw05kz+GyksJK4GbP1ybq6qlrqs/4KJiEqPnpT8ioYTpuTx0P8QasV9jy44/\",\"dtype\":\"float64\",\"order\":\"little\",\"shape\":[30]}},\"selected\":{\"id\":\"5357\"},\"selection_policy\":{\"id\":\"5356\"}},\"id\":\"5341\",\"type\":\"ColumnDataSource\"},{\"attributes\":{},\"id\":\"5293\",\"type\":\"BasicTicker\"},{\"attributes\":{\"line_alpha\":0.1,\"line_color\":\"green\",\"x\":{\"field\":\"x\"},\"y\":{\"field\":\"y\"}},\"id\":\"5327\",\"type\":\"Line\"},{\"attributes\":{\"data_source\":{\"id\":\"5359\"},\"glyph\":{\"id\":\"5360\"},\"hover_glyph\":null,\"muted_glyph\":null,\"nonselection_glyph\":{\"id\":\"5361\"},\"selection_glyph\":null,\"view\":{\"id\":\"5363\"}},\"id\":\"5362\",\"type\":\"GlyphRenderer\"},{\"attributes\":{},\"id\":\"5357\",\"type\":\"Selection\"},{\"attributes\":{\"label\":{\"value\":\"metric\"},\"renderers\":[{\"id\":\"5344\"},{\"id\":\"5362\"}]},\"id\":\"5358\",\"type\":\"LegendItem\"},{\"attributes\":{\"formatter\":{\"id\":\"5318\"},\"ticker\":{\"id\":\"5293\"}},\"id\":\"5292\",\"type\":\"LinearAxis\"},{\"attributes\":{\"fill_alpha\":0.1,\"x\":{\"field\":\"x\"},\"y1\":{\"field\":\"y1\"},\"y2\":{\"field\":\"y2\"}},\"id\":\"5312\",\"type\":\"VArea\"},{\"attributes\":{},\"id\":\"5284\",\"type\":\"LinearScale\"},{\"attributes\":{\"axis\":{\"id\":\"5288\"},\"ticker\":null},\"id\":\"5291\",\"type\":\"Grid\"},{\"attributes\":{\"data_source\":{\"id\":\"5325\"},\"glyph\":{\"id\":\"5326\"},\"hover_glyph\":null,\"muted_glyph\":null,\"nonselection_glyph\":{\"id\":\"5327\"},\"selection_glyph\":null,\"view\":{\"id\":\"5329\"}},\"id\":\"5328\",\"type\":\"GlyphRenderer\"},{\"attributes\":{\"source\":{\"id\":\"5341\"}},\"id\":\"5345\",\"type\":\"CDSView\"},{\"attributes\":{\"source\":{\"id\":\"5359\"}},\"id\":\"5363\",\"type\":\"CDSView\"},{\"attributes\":{\"formatter\":{\"id\":\"5316\"},\"ticker\":{\"id\":\"5289\"}},\"id\":\"5288\",\"type\":\"LinearAxis\"},{\"attributes\":{},\"id\":\"5339\",\"type\":\"Selection\"},{\"attributes\":{\"bottom_units\":\"screen\",\"fill_alpha\":0.5,\"fill_color\":\"lightgrey\",\"left_units\":\"screen\",\"level\":\"overlay\",\"line_alpha\":1.0,\"line_color\":\"black\",\"line_dash\":[4,4],\"line_width\":2,\"right_units\":\"screen\",\"top_units\":\"screen\"},\"id\":\"5302\",\"type\":\"BoxAnnotation\"},{\"attributes\":{},\"id\":\"5316\",\"type\":\"BasicTickFormatter\"},{\"attributes\":{},\"id\":\"5296\",\"type\":\"PanTool\"},{\"attributes\":{\"label\":{\"value\":\"mean\"},\"renderers\":[{\"id\":\"5328\"}]},\"id\":\"5340\",\"type\":\"LegendItem\"},{\"attributes\":{\"fill_alpha\":{\"value\":0.1},\"fill_color\":{\"value\":\"blue\"},\"line_alpha\":{\"value\":0.1},\"line_color\":{\"value\":\"blue\"},\"x\":{\"field\":\"x\"},\"y\":{\"field\":\"y\"}},\"id\":\"5361\",\"type\":\"Circle\"},{\"attributes\":{\"text\":\"Timeseries - sorios\"},\"id\":\"5278\",\"type\":\"Title\"},{\"attributes\":{\"click_policy\":\"hide\",\"items\":[{\"id\":\"5324\"},{\"id\":\"5340\"},{\"id\":\"5358\"}],\"location\":\"bottom_left\"},\"id\":\"5323\",\"type\":\"Legend\"},{\"attributes\":{\"data_source\":{\"id\":\"5310\"},\"glyph\":{\"id\":\"5311\"},\"hover_glyph\":null,\"muted_glyph\":null,\"nonselection_glyph\":{\"id\":\"5312\"},\"selection_glyph\":null,\"view\":{\"id\":\"5314\"}},\"id\":\"5313\",\"type\":\"GlyphRenderer\"},{\"attributes\":{\"data\":{\"x\":[224,225,226,227,228,229,230,231,232,233,234,235,236,237,238,239,240,241,242,243,244,245,246,247,248,249,250,251,252,253],\"y1\":{\"__ndarray__\":\"/Knx0k1iYL956SYxCKx8v7pJDAIrh4a/exSuR+F6hL97FK5H4XqEv/p+arx0k4i/+n5qvHSTiL/6fmq8dJOIvzm0yHa+n4q/+n5qvHSTiL/6fmq8dJOIv/p+arx0k4i/eekmMQisfL/8qfHSTWJwv/yp8dJNYmA/ukkMAiuHhj/8qfHSTWKQPzvfT42XbpI/ukkMAiuHlj/6fmq8dJOYP/p+arx0k5g/mpmZmZmZmT/6fmq8dJOYP7pJDAIrh5Y/exSuR+F6lD/b+X5qvHSTP7pJDAIrh5Y/Gy/dJAaBlT/b+X5qvHSTP5zEILByaJE/\",\"dtype\":\"float64\",\"order\":\"little\",\"shape\":[30]},\"y2\":{\"__ndarray__\":\"KVyPwvUorD+q8dJNYhCoP8uhRbbz/aQ/i2zn+6nxoj/sUbgeheuhP7gehetRuJ4/ObTIdr6fmj+amZmZmZmZP9nO91PjpZs//Knx0k1ioD9MN4lBYOWgP0w3iUFg5aA/O99PjZduoj/b+X5qvHSjP7pJDAIrh6Y/qvHSTWIQqD9KDAIrhxapP0oMAiuHFqk/ObTIdr6fqj85tMh2vp+qPzm0yHa+n6o/6SYxCKwcqj+JQWDl0CKrP4lBYOXQIqs/6SYxCKwcqj9KDAIrhxapP5qZmZmZmak/SgwCK4cWqT9aZDvfT42nP8uhRbbz/aQ/\",\"dtype\":\"float64\",\"order\":\"little\",\"shape\":[30]}},\"selected\":{\"id\":\"5322\"},\"selection_policy\":{\"id\":\"5321\"}},\"id\":\"5310\",\"type\":\"ColumnDataSource\"}],\"root_ids\":[\"5277\"]},\"title\":\"Bokeh Application\",\"version\":\"2.2.3\"}};\n",
       "  var render_items = [{\"docid\":\"750523ca-7d76-4895-80fc-bd5880da3aac\",\"root_ids\":[\"5277\"],\"roots\":{\"5277\":\"2e1bde30-ecf0-4e79-b990-f675fdb2b48c\"}}];\n",
       "  root.Bokeh.embed.embed_items_notebook(docs_json, render_items);\n",
       "\n",
       "  }\n",
       "  if (root.Bokeh !== undefined) {\n",
       "    embed_document(root);\n",
       "  } else {\n",
       "    var attempts = 0;\n",
       "    var timer = setInterval(function(root) {\n",
       "      if (root.Bokeh !== undefined) {\n",
       "        clearInterval(timer);\n",
       "        embed_document(root);\n",
       "      } else {\n",
       "        attempts++;\n",
       "        if (attempts > 100) {\n",
       "          clearInterval(timer);\n",
       "          console.log(\"Bokeh: ERROR: Unable to run BokehJS code because BokehJS library is missing\");\n",
       "        }\n",
       "      }\n",
       "    }, 10, root)\n",
       "  }\n",
       "})(window);"
      ],
      "application/vnd.bokehjs_exec.v0+json": ""
     },
     "metadata": {
      "application/vnd.bokehjs_exec.v0+json": {
       "id": "5277"
      }
     },
     "output_type": "display_data"
    },
    {
     "data": {
      "text/html": [
       "\n",
       "\n",
       "\n",
       "\n",
       "\n",
       "\n",
       "  <div class=\"bk-root\" id=\"99791d34-a248-43be-b490-a0db86ff3830\" data-root-id=\"5674\"></div>\n"
      ]
     },
     "metadata": {},
     "output_type": "display_data"
    },
    {
     "data": {
      "application/javascript": [
       "(function(root) {\n",
       "  function embed_document(root) {\n",
       "    \n",
       "  var docs_json = {\"b45805b7-c8ca-46f4-aa7e-171c83583c29\":{\"roots\":{\"references\":[{\"attributes\":{\"below\":[{\"id\":\"5685\"}],\"center\":[{\"id\":\"5688\"},{\"id\":\"5692\"},{\"id\":\"5720\"},{\"id\":\"5775\"},{\"id\":\"5776\"}],\"left\":[{\"id\":\"5689\"}],\"plot_height\":300,\"plot_width\":900,\"renderers\":[{\"id\":\"5710\"},{\"id\":\"5725\"},{\"id\":\"5741\"},{\"id\":\"5759\"}],\"title\":{\"id\":\"5675\"},\"toolbar\":{\"id\":\"5700\"},\"x_range\":{\"id\":\"5677\"},\"x_scale\":{\"id\":\"5681\"},\"y_range\":{\"id\":\"5679\"},\"y_scale\":{\"id\":\"5683\"}},\"id\":\"5674\",\"subtype\":\"Figure\",\"type\":\"Plot\"},{\"attributes\":{\"line_alpha\":0.1,\"line_color\":\"green\",\"x\":{\"field\":\"x\"},\"y\":{\"field\":\"y\"}},\"id\":\"5724\",\"type\":\"Line\"},{\"attributes\":{\"formatter\":{\"id\":\"5713\"},\"ticker\":{\"id\":\"5686\"}},\"id\":\"5685\",\"type\":\"LinearAxis\"},{\"attributes\":{},\"id\":\"5713\",\"type\":\"BasicTickFormatter\"},{\"attributes\":{},\"id\":\"5690\",\"type\":\"BasicTicker\"},{\"attributes\":{},\"id\":\"5683\",\"type\":\"LinearScale\"},{\"attributes\":{\"data_source\":{\"id\":\"5738\"},\"glyph\":{\"id\":\"5739\"},\"hover_glyph\":null,\"muted_glyph\":null,\"nonselection_glyph\":{\"id\":\"5740\"},\"selection_glyph\":null,\"view\":{\"id\":\"5742\"}},\"id\":\"5741\",\"type\":\"GlyphRenderer\"},{\"attributes\":{\"source\":{\"id\":\"5722\"}},\"id\":\"5726\",\"type\":\"CDSView\"},{\"attributes\":{\"bottom_units\":\"screen\",\"fill_alpha\":0.5,\"fill_color\":\"lightgrey\",\"left_units\":\"screen\",\"level\":\"overlay\",\"line_alpha\":1.0,\"line_color\":\"black\",\"line_dash\":[4,4],\"line_width\":2,\"right_units\":\"screen\",\"top_units\":\"screen\"},\"id\":\"5699\",\"type\":\"BoxAnnotation\"},{\"attributes\":{},\"id\":\"5753\",\"type\":\"UnionRenderers\"},{\"attributes\":{\"dimension\":\"height\",\"line_color\":\"gray\",\"line_dash\":[6],\"location\":250},\"id\":\"5776\",\"type\":\"Span\"},{\"attributes\":{},\"id\":\"5696\",\"type\":\"SaveTool\"},{\"attributes\":{\"line_color\":\"green\",\"x\":{\"field\":\"x\"},\"y\":{\"field\":\"y\"}},\"id\":\"5723\",\"type\":\"Line\"},{\"attributes\":{\"source\":{\"id\":\"5738\"}},\"id\":\"5742\",\"type\":\"CDSView\"},{\"attributes\":{\"dimension\":\"height\",\"line_color\":\"gray\",\"line_dash\":[6],\"location\":234},\"id\":\"5775\",\"type\":\"Span\"},{\"attributes\":{},\"id\":\"5694\",\"type\":\"WheelZoomTool\"},{\"attributes\":{},\"id\":\"5774\",\"type\":\"Selection\"},{\"attributes\":{\"data_source\":{\"id\":\"5707\"},\"glyph\":{\"id\":\"5708\"},\"hover_glyph\":null,\"muted_glyph\":null,\"nonselection_glyph\":{\"id\":\"5709\"},\"selection_glyph\":null,\"view\":{\"id\":\"5711\"}},\"id\":\"5710\",\"type\":\"GlyphRenderer\"},{\"attributes\":{\"label\":{\"value\":\"metric\"},\"renderers\":[{\"id\":\"5741\"},{\"id\":\"5759\"}]},\"id\":\"5755\",\"type\":\"LegendItem\"},{\"attributes\":{},\"id\":\"5677\",\"type\":\"DataRange1d\"},{\"attributes\":{},\"id\":\"5681\",\"type\":\"LinearScale\"},{\"attributes\":{},\"id\":\"5697\",\"type\":\"ResetTool\"},{\"attributes\":{\"data\":{\"x\":[224,225,226,227,228,229,230,231,232,233,234,235,236,237,238,239,240,241,242,243,244,245,246,247,248,249,250,251,252,253],\"y\":{\"__ndarray__\":\"WwsCnJZfoT8yArWRmrSdP2QNDKmLXqU/KklZ1XdApT9MiAoe7/qyP4TtUuwSbrg/4KhhNwtTuT8zExRQYzqyP5LRul8uDac/O5EYz9gBiT86Z2eKq72JPwztGa8EB7I/S0YUFltLsj+0Oeodnz6qP0hMDflFJrM/nwGD5abarj8clgbRYZGlP3KtZwm6hKA/sJ/US+mgVD/NgyUhpvNgP+CYQfa4IEA/heeZ+mlHhz8anVMYbRGWP+QuJFbO7nY/322ja55klj9bzlbxkGKUP0+LzsnGZpa/feHbu1N4l79jx7RVsvWQv32RPwYM+ng/\",\"dtype\":\"float64\",\"order\":\"little\",\"shape\":[30]}},\"selected\":{\"id\":\"5754\"},\"selection_policy\":{\"id\":\"5753\"}},\"id\":\"5738\",\"type\":\"ColumnDataSource\"},{\"attributes\":{\"source\":{\"id\":\"5707\"}},\"id\":\"5711\",\"type\":\"CDSView\"},{\"attributes\":{},\"id\":\"5719\",\"type\":\"Selection\"},{\"attributes\":{\"label\":{\"value\":\"mean\"},\"renderers\":[{\"id\":\"5725\"}]},\"id\":\"5737\",\"type\":\"LegendItem\"},{\"attributes\":{\"click_policy\":\"hide\",\"items\":[{\"id\":\"5721\"},{\"id\":\"5737\"},{\"id\":\"5755\"}],\"location\":\"bottom_left\"},\"id\":\"5720\",\"type\":\"Legend\"},{\"attributes\":{\"data\":{\"x\":[224,225,226,227,228,229,230,231,232,233,234,235,236,237,238,239,240,241,242,243,244,245,246,247,248,249,250,251,252,253],\"y\":{\"__ndarray__\":\"WwsCnJZfoT8yArWRmrSdP2QNDKmLXqU/KklZ1XdApT9MiAoe7/qyP4TtUuwSbrg/4KhhNwtTuT8zExRQYzqyP5LRul8uDac/O5EYz9gBiT86Z2eKq72JPwztGa8EB7I/S0YUFltLsj+0Oeodnz6qP0hMDflFJrM/nwGD5abarj8clgbRYZGlP3KtZwm6hKA/sJ/US+mgVD/NgyUhpvNgP+CYQfa4IEA/heeZ+mlHhz8anVMYbRGWP+QuJFbO7nY/322ja55klj9bzlbxkGKUP0+LzsnGZpa/feHbu1N4l79jx7RVsvWQv32RPwYM+ng/\",\"dtype\":\"float64\",\"order\":\"little\",\"shape\":[30]}},\"selected\":{\"id\":\"5774\"},\"selection_policy\":{\"id\":\"5773\"}},\"id\":\"5756\",\"type\":\"ColumnDataSource\"},{\"attributes\":{\"data_source\":{\"id\":\"5722\"},\"glyph\":{\"id\":\"5723\"},\"hover_glyph\":null,\"muted_glyph\":null,\"nonselection_glyph\":{\"id\":\"5724\"},\"selection_glyph\":null,\"view\":{\"id\":\"5726\"}},\"id\":\"5725\",\"type\":\"GlyphRenderer\"},{\"attributes\":{},\"id\":\"5718\",\"type\":\"UnionRenderers\"},{\"attributes\":{\"formatter\":{\"id\":\"5715\"},\"ticker\":{\"id\":\"5690\"}},\"id\":\"5689\",\"type\":\"LinearAxis\"},{\"attributes\":{\"source\":{\"id\":\"5756\"}},\"id\":\"5760\",\"type\":\"CDSView\"},{\"attributes\":{\"text\":\"Convergence - themicon\"},\"id\":\"5675\",\"type\":\"Title\"},{\"attributes\":{},\"id\":\"5736\",\"type\":\"Selection\"},{\"attributes\":{},\"id\":\"5715\",\"type\":\"BasicTickFormatter\"},{\"attributes\":{},\"id\":\"5698\",\"type\":\"HelpTool\"},{\"attributes\":{},\"id\":\"5693\",\"type\":\"PanTool\"},{\"attributes\":{\"fill_alpha\":0.1,\"x\":{\"field\":\"x\"},\"y1\":{\"field\":\"y1\"},\"y2\":{\"field\":\"y2\"}},\"id\":\"5708\",\"type\":\"VArea\"},{\"attributes\":{\"overlay\":{\"id\":\"5699\"}},\"id\":\"5695\",\"type\":\"BoxZoomTool\"},{\"attributes\":{\"line_color\":\"blue\",\"x\":{\"field\":\"x\"},\"y\":{\"field\":\"y\"}},\"id\":\"5739\",\"type\":\"Line\"},{\"attributes\":{},\"id\":\"5773\",\"type\":\"UnionRenderers\"},{\"attributes\":{\"end\":0.26,\"start\":-0.26},\"id\":\"5679\",\"type\":\"Range1d\"},{\"attributes\":{},\"id\":\"5754\",\"type\":\"Selection\"},{\"attributes\":{\"active_drag\":\"auto\",\"active_inspect\":\"auto\",\"active_multi\":null,\"active_scroll\":\"auto\",\"active_tap\":\"auto\",\"tools\":[{\"id\":\"5693\"},{\"id\":\"5694\"},{\"id\":\"5695\"},{\"id\":\"5696\"},{\"id\":\"5697\"},{\"id\":\"5698\"}]},\"id\":\"5700\",\"type\":\"Toolbar\"},{\"attributes\":{\"data\":{\"x\":[224,225,226,227,228,229,230,231,232,233,234,235,236,237,238,239,240,241,242,243,244,245,246,247,248,249,250,251,252,253],\"y\":{\"__ndarray__\":\"TDeJQWDloD9MN4lBYOWgP0w3iUFg5aA/TDeJQWDloD/8qfHSTWKgP1g5tMh2vp8/eekmMQisnD+amZmZmZmZP1pkO99PjZc/ukkMAiuHlj+6SQwCK4eWP1pkO99PjZc/exSuR+F6lD+cxCCwcmiRP7gehetRuI4/ukkMAiuHhj956SYxCKx8P3sUrkfhenQ//Knx0k1iYD/8qfHSTWJgP/p+arx0k2g/+n5qvHSTaD/8qfHSTWJgP/yp8dJNYlC//Knx0k1iYL956SYxCKx8v3npJjEIrIy/ukkMAiuHhr/8qfHSTWJwv/p+arx0k2g/\",\"dtype\":\"float64\",\"order\":\"little\",\"shape\":[30]}},\"selected\":{\"id\":\"5736\"},\"selection_policy\":{\"id\":\"5735\"}},\"id\":\"5722\",\"type\":\"ColumnDataSource\"},{\"attributes\":{},\"id\":\"5686\",\"type\":\"BasicTicker\"},{\"attributes\":{\"fill_color\":{\"value\":\"blue\"},\"line_color\":{\"value\":\"blue\"},\"x\":{\"field\":\"x\"},\"y\":{\"field\":\"y\"}},\"id\":\"5757\",\"type\":\"Circle\"},{\"attributes\":{\"fill_alpha\":{\"value\":0.1},\"fill_color\":{\"value\":\"blue\"},\"line_alpha\":{\"value\":0.1},\"line_color\":{\"value\":\"blue\"},\"x\":{\"field\":\"x\"},\"y\":{\"field\":\"y\"}},\"id\":\"5758\",\"type\":\"Circle\"},{\"attributes\":{\"data_source\":{\"id\":\"5756\"},\"glyph\":{\"id\":\"5757\"},\"hover_glyph\":null,\"muted_glyph\":null,\"nonselection_glyph\":{\"id\":\"5758\"},\"selection_glyph\":null,\"view\":{\"id\":\"5760\"}},\"id\":\"5759\",\"type\":\"GlyphRenderer\"},{\"attributes\":{\"axis\":{\"id\":\"5689\"},\"dimension\":1,\"ticker\":null},\"id\":\"5692\",\"type\":\"Grid\"},{\"attributes\":{},\"id\":\"5735\",\"type\":\"UnionRenderers\"},{\"attributes\":{\"label\":{\"value\":\"hdi\"},\"renderers\":[{\"id\":\"5710\"}]},\"id\":\"5721\",\"type\":\"LegendItem\"},{\"attributes\":{\"axis\":{\"id\":\"5685\"},\"ticker\":null},\"id\":\"5688\",\"type\":\"Grid\"},{\"attributes\":{\"data\":{\"x\":[224,225,226,227,228,229,230,231,232,233,234,235,236,237,238,239,240,241,242,243,244,245,246,247,248,249,250,251,252,253],\"y1\":{\"__ndarray__\":\"nMQgsHJokT+cxCCwcmiRP5zEILByaJE//Knx0k1ikD956SYxCKyMPzm0yHa+n4o/ukkMAiuHhj8730+Nl26CP3npJjEIrHw//Knx0k1icD/8qfHSTWJwP3sUrkfhenQ/AAAAAAAAAAD8qfHSTWJQv/p+arx0k2i/+n5qvHSTeL956SYxCKx8vzvfT42XboK/ukkMAiuHhr85tMh2vp+Kv3npJjEIrIy//Knx0k1ikL8bL90kBoGVvzm0yHa+n5q/O99PjZduor+6SQwCK4emvxkEVg4tsq2/MzMzMzMzs7/hehSuR+G6v7x0kxgEVs6/\",\"dtype\":\"float64\",\"order\":\"little\",\"shape\":[30]},\"y2\":{\"__ndarray__\":\"+n5qvHSTqD/6fmq8dJOoP5qZmZmZmak/mpmZmZmZqT9KDAIrhxapP/p+arx0k6g/WmQ730+Npz/LoUW28/2kP3sUrkfheqQ/K4cW2c73oz97FK5H4XqkP8uhRbbz/aQ/i2zn+6nxoj/sUbgeheuhP/yp8dJNYqA/2c73U+Olmz8bL90kBoGVPzvfT42XbpI//Knx0k1ikD+cxCCwcmiRPxsv3SQGgZU/+n5qvHSTmD9aZDvfT42XP/p+arx0k5g/WDm0yHa+nz/ZzvdT46WbP7pJDAIrh5Y/CtejcD0Kpz/hehSuR+G6PzVeukkMAss/\",\"dtype\":\"float64\",\"order\":\"little\",\"shape\":[30]}},\"selected\":{\"id\":\"5719\"},\"selection_policy\":{\"id\":\"5718\"}},\"id\":\"5707\",\"type\":\"ColumnDataSource\"},{\"attributes\":{\"fill_alpha\":0.1,\"x\":{\"field\":\"x\"},\"y1\":{\"field\":\"y1\"},\"y2\":{\"field\":\"y2\"}},\"id\":\"5709\",\"type\":\"VArea\"},{\"attributes\":{\"line_alpha\":0.1,\"line_color\":\"blue\",\"x\":{\"field\":\"x\"},\"y\":{\"field\":\"y\"}},\"id\":\"5740\",\"type\":\"Line\"}],\"root_ids\":[\"5674\"]},\"title\":\"Bokeh Application\",\"version\":\"2.2.3\"}};\n",
       "  var render_items = [{\"docid\":\"b45805b7-c8ca-46f4-aa7e-171c83583c29\",\"root_ids\":[\"5674\"],\"roots\":{\"5674\":\"99791d34-a248-43be-b490-a0db86ff3830\"}}];\n",
       "  root.Bokeh.embed.embed_items_notebook(docs_json, render_items);\n",
       "\n",
       "  }\n",
       "  if (root.Bokeh !== undefined) {\n",
       "    embed_document(root);\n",
       "  } else {\n",
       "    var attempts = 0;\n",
       "    var timer = setInterval(function(root) {\n",
       "      if (root.Bokeh !== undefined) {\n",
       "        clearInterval(timer);\n",
       "        embed_document(root);\n",
       "      } else {\n",
       "        attempts++;\n",
       "        if (attempts > 100) {\n",
       "          clearInterval(timer);\n",
       "          console.log(\"Bokeh: ERROR: Unable to run BokehJS code because BokehJS library is missing\");\n",
       "        }\n",
       "      }\n",
       "    }, 10, root)\n",
       "  }\n",
       "})(window);"
      ],
      "application/vnd.bokehjs_exec.v0+json": ""
     },
     "metadata": {
      "application/vnd.bokehjs_exec.v0+json": {
       "id": "5674"
      }
     },
     "output_type": "display_data"
    },
    {
     "data": {
      "text/html": [
       "\n",
       "\n",
       "\n",
       "\n",
       "\n",
       "\n",
       "  <div class=\"bk-root\" id=\"9d864450-eba3-4344-9a93-1caeb1c466a2\" data-root-id=\"6085\"></div>\n"
      ]
     },
     "metadata": {},
     "output_type": "display_data"
    },
    {
     "data": {
      "application/javascript": [
       "(function(root) {\n",
       "  function embed_document(root) {\n",
       "    \n",
       "  var docs_json = {\"11909596-3799-444f-915d-afa825ff3b25\":{\"roots\":{\"references\":[{\"attributes\":{\"below\":[{\"id\":\"6096\"}],\"center\":[{\"id\":\"6099\"},{\"id\":\"6103\"},{\"id\":\"6131\"},{\"id\":\"6186\"},{\"id\":\"6187\"}],\"left\":[{\"id\":\"6100\"}],\"plot_height\":300,\"plot_width\":900,\"renderers\":[{\"id\":\"6121\"},{\"id\":\"6136\"},{\"id\":\"6152\"},{\"id\":\"6170\"}],\"title\":{\"id\":\"6086\"},\"toolbar\":{\"id\":\"6111\"},\"x_range\":{\"id\":\"6088\"},\"x_scale\":{\"id\":\"6092\"},\"y_range\":{\"id\":\"6090\"},\"y_scale\":{\"id\":\"6094\"}},\"id\":\"6085\",\"subtype\":\"Figure\",\"type\":\"Plot\"},{\"attributes\":{},\"id\":\"6107\",\"type\":\"SaveTool\"},{\"attributes\":{},\"id\":\"6105\",\"type\":\"WheelZoomTool\"},{\"attributes\":{},\"id\":\"6164\",\"type\":\"UnionRenderers\"},{\"attributes\":{\"source\":{\"id\":\"6167\"}},\"id\":\"6171\",\"type\":\"CDSView\"},{\"attributes\":{\"line_alpha\":0.1,\"line_color\":\"blue\",\"x\":{\"field\":\"x\"},\"y\":{\"field\":\"y\"}},\"id\":\"6151\",\"type\":\"Line\"},{\"attributes\":{\"formatter\":{\"id\":\"6126\"},\"ticker\":{\"id\":\"6101\"}},\"id\":\"6100\",\"type\":\"LinearAxis\"},{\"attributes\":{\"fill_alpha\":0.1,\"x\":{\"field\":\"x\"},\"y1\":{\"field\":\"y1\"},\"y2\":{\"field\":\"y2\"}},\"id\":\"6119\",\"type\":\"VArea\"},{\"attributes\":{},\"id\":\"6124\",\"type\":\"BasicTickFormatter\"},{\"attributes\":{\"fill_color\":{\"value\":\"blue\"},\"line_color\":{\"value\":\"blue\"},\"x\":{\"field\":\"x\"},\"y\":{\"field\":\"y\"}},\"id\":\"6168\",\"type\":\"Circle\"},{\"attributes\":{\"label\":{\"value\":\"mean\"},\"renderers\":[{\"id\":\"6136\"}]},\"id\":\"6148\",\"type\":\"LegendItem\"},{\"attributes\":{\"data\":{\"x\":[224,225,226,227,228,229,230,231,232,233,234,235,236,237,238,239,240,241,242,243,244,245,246,247,248,249,250,251,252,253],\"y\":{\"__ndarray__\":\"qvHSTWIQqD+6SQwCK4emP7pJDAIrh6Y/arx0kxgEpj9aZDvfT42nP0oMAiuHFqk/mpmZmZmZqT+JQWDl0CKrP4lBYOXQIqs/mpmZmZmZqT+q8dJNYhCoP/p+arx0k6g/+n5qvHSTqD+q8dJNYhCoP+kmMQisHKo/ObTIdr6fqj+JQWDl0CKrP4lBYOXQIqs/mpmZmZmZqT/6fmq8dJOoP1pkO99Pjac/CtejcD0Kpz+6SQwCK4emP2q8dJMYBKY/exSuR+F6pD8730+Nl26iP7gehetRuJ4/ObTIdr6fmj+6SQwCK4eWP7pJDAIrh5Y/\",\"dtype\":\"float64\",\"order\":\"little\",\"shape\":[30]}},\"selected\":{\"id\":\"6147\"},\"selection_policy\":{\"id\":\"6146\"}},\"id\":\"6133\",\"type\":\"ColumnDataSource\"},{\"attributes\":{},\"id\":\"6185\",\"type\":\"Selection\"},{\"attributes\":{\"data_source\":{\"id\":\"6118\"},\"glyph\":{\"id\":\"6119\"},\"hover_glyph\":null,\"muted_glyph\":null,\"nonselection_glyph\":{\"id\":\"6120\"},\"selection_glyph\":null,\"view\":{\"id\":\"6122\"}},\"id\":\"6121\",\"type\":\"GlyphRenderer\"},{\"attributes\":{\"source\":{\"id\":\"6149\"}},\"id\":\"6153\",\"type\":\"CDSView\"},{\"attributes\":{\"dimension\":\"height\",\"line_color\":\"gray\",\"line_dash\":[6],\"location\":250},\"id\":\"6187\",\"type\":\"Span\"},{\"attributes\":{\"axis\":{\"id\":\"6100\"},\"dimension\":1,\"ticker\":null},\"id\":\"6103\",\"type\":\"Grid\"},{\"attributes\":{\"data_source\":{\"id\":\"6149\"},\"glyph\":{\"id\":\"6150\"},\"hover_glyph\":null,\"muted_glyph\":null,\"nonselection_glyph\":{\"id\":\"6151\"},\"selection_glyph\":null,\"view\":{\"id\":\"6153\"}},\"id\":\"6152\",\"type\":\"GlyphRenderer\"},{\"attributes\":{\"line_alpha\":0.1,\"line_color\":\"green\",\"x\":{\"field\":\"x\"},\"y\":{\"field\":\"y\"}},\"id\":\"6135\",\"type\":\"Line\"},{\"attributes\":{\"active_drag\":\"auto\",\"active_inspect\":\"auto\",\"active_multi\":null,\"active_scroll\":\"auto\",\"active_tap\":\"auto\",\"tools\":[{\"id\":\"6104\"},{\"id\":\"6105\"},{\"id\":\"6106\"},{\"id\":\"6107\"},{\"id\":\"6108\"},{\"id\":\"6109\"}]},\"id\":\"6111\",\"type\":\"Toolbar\"},{\"attributes\":{},\"id\":\"6092\",\"type\":\"LinearScale\"},{\"attributes\":{\"data\":{\"x\":[224,225,226,227,228,229,230,231,232,233,234,235,236,237,238,239,240,241,242,243,244,245,246,247,248,249,250,251,252,253],\"y\":{\"__ndarray__\":\"WwsCnJZfoT8yArWRmrSdP2QNDKmLXqU/KklZ1XdApT9MiAoe7/qyP4TtUuwSbrg/4KhhNwtTuT8zExRQYzqyP5LRul8uDac/O5EYz9gBiT86Z2eKq72JPwztGa8EB7I/S0YUFltLsj+0Oeodnz6qP0hMDflFJrM/nwGD5abarj8clgbRYZGlP3KtZwm6hKA/sJ/US+mgVD/NgyUhpvNgP+CYQfa4IEA/heeZ+mlHhz8anVMYbRGWP+QuJFbO7nY/322ja55klj9bzlbxkGKUP0+LzsnGZpa/feHbu1N4l79jx7RVsvWQv32RPwYM+ng/\",\"dtype\":\"float64\",\"order\":\"little\",\"shape\":[30]}},\"selected\":{\"id\":\"6165\"},\"selection_policy\":{\"id\":\"6164\"}},\"id\":\"6149\",\"type\":\"ColumnDataSource\"},{\"attributes\":{\"source\":{\"id\":\"6133\"}},\"id\":\"6137\",\"type\":\"CDSView\"},{\"attributes\":{\"dimension\":\"height\",\"line_color\":\"gray\",\"line_dash\":[6],\"location\":234},\"id\":\"6186\",\"type\":\"Span\"},{\"attributes\":{\"line_color\":\"blue\",\"x\":{\"field\":\"x\"},\"y\":{\"field\":\"y\"}},\"id\":\"6150\",\"type\":\"Line\"},{\"attributes\":{\"data_source\":{\"id\":\"6133\"},\"glyph\":{\"id\":\"6134\"},\"hover_glyph\":null,\"muted_glyph\":null,\"nonselection_glyph\":{\"id\":\"6135\"},\"selection_glyph\":null,\"view\":{\"id\":\"6137\"}},\"id\":\"6136\",\"type\":\"GlyphRenderer\"},{\"attributes\":{},\"id\":\"6126\",\"type\":\"BasicTickFormatter\"},{\"attributes\":{},\"id\":\"6094\",\"type\":\"LinearScale\"},{\"attributes\":{},\"id\":\"6165\",\"type\":\"Selection\"},{\"attributes\":{},\"id\":\"6108\",\"type\":\"ResetTool\"},{\"attributes\":{},\"id\":\"6146\",\"type\":\"UnionRenderers\"},{\"attributes\":{\"axis\":{\"id\":\"6096\"},\"ticker\":null},\"id\":\"6099\",\"type\":\"Grid\"},{\"attributes\":{},\"id\":\"6097\",\"type\":\"BasicTicker\"},{\"attributes\":{\"end\":0.26,\"start\":-0.26},\"id\":\"6090\",\"type\":\"Range1d\"},{\"attributes\":{},\"id\":\"6109\",\"type\":\"HelpTool\"},{\"attributes\":{\"label\":{\"value\":\"metric\"},\"renderers\":[{\"id\":\"6152\"},{\"id\":\"6170\"}]},\"id\":\"6166\",\"type\":\"LegendItem\"},{\"attributes\":{},\"id\":\"6147\",\"type\":\"Selection\"},{\"attributes\":{},\"id\":\"6184\",\"type\":\"UnionRenderers\"},{\"attributes\":{\"text\":\"Timeseries - themicon\"},\"id\":\"6086\",\"type\":\"Title\"},{\"attributes\":{\"line_color\":\"green\",\"x\":{\"field\":\"x\"},\"y\":{\"field\":\"y\"}},\"id\":\"6134\",\"type\":\"Line\"},{\"attributes\":{\"label\":{\"value\":\"hdi\"},\"renderers\":[{\"id\":\"6121\"}]},\"id\":\"6132\",\"type\":\"LegendItem\"},{\"attributes\":{\"data\":{\"x\":[224,225,226,227,228,229,230,231,232,233,234,235,236,237,238,239,240,241,242,243,244,245,246,247,248,249,250,251,252,253],\"y1\":{\"__ndarray__\":\"TDeJQWDloD/8qfHSTWKgP1g5tMh2vp8/WDm0yHa+nz+cxCCwcmihP+xRuB6F66E/7FG4HoXroT8rhxbZzvejPyuHFtnO96M/nMQgsHJooT9YObTIdr6fP1g5tMh2vp8/WDm0yHa+nz/8qfHSTWKgPzvfT42XbqI/O99PjZduoj/b+X5qvHSjPyuHFtnO96M/7FG4HoXroT9YObTIdr6fPxkEVg4tsp0/eekmMQisnD+amZmZmZmZP1pkO99PjZc/ukkMAiuHlj/b+X5qvHSTP7gehetRuI4/O99PjZdugj/6fmq8dJN4P3sUrkfhenQ/\",\"dtype\":\"float64\",\"order\":\"little\",\"shape\":[30]},\"y2\":{\"__ndarray__\":\"aJHtfD81rj/Jdr6fGi+tP3npJjEIrKw/eekmMQisrD8ZBFYOLbKtP1TjpZvEILA/pHA9CtejsD+cxCCwcmixP5zEILByaLE/TDeJQWDlsD9U46WbxCCwP/yp8dJNYrA//Knx0k1isD9U46WbxCCwP0w3iUFg5bA/9P3UeOkmsT/0/dR46SaxP/T91HjpJrE/TDeJQWDlsD+kcD0K16OwP/yp8dJNYrA//Knx0k1isD9U46WbxCCwP7gehetRuK4/aJHtfD81rj/ZzvdT46WrP/p+arx0k6g/Gy/dJAaBpT97FK5H4XqkP3sUrkfheqQ/\",\"dtype\":\"float64\",\"order\":\"little\",\"shape\":[30]}},\"selected\":{\"id\":\"6130\"},\"selection_policy\":{\"id\":\"6129\"}},\"id\":\"6118\",\"type\":\"ColumnDataSource\"},{\"attributes\":{\"source\":{\"id\":\"6118\"}},\"id\":\"6122\",\"type\":\"CDSView\"},{\"attributes\":{\"fill_alpha\":{\"value\":0.1},\"fill_color\":{\"value\":\"blue\"},\"line_alpha\":{\"value\":0.1},\"line_color\":{\"value\":\"blue\"},\"x\":{\"field\":\"x\"},\"y\":{\"field\":\"y\"}},\"id\":\"6169\",\"type\":\"Circle\"},{\"attributes\":{\"click_policy\":\"hide\",\"items\":[{\"id\":\"6132\"},{\"id\":\"6148\"},{\"id\":\"6166\"}],\"location\":\"bottom_left\"},\"id\":\"6131\",\"type\":\"Legend\"},{\"attributes\":{\"data\":{\"x\":[224,225,226,227,228,229,230,231,232,233,234,235,236,237,238,239,240,241,242,243,244,245,246,247,248,249,250,251,252,253],\"y\":{\"__ndarray__\":\"WwsCnJZfoT8yArWRmrSdP2QNDKmLXqU/KklZ1XdApT9MiAoe7/qyP4TtUuwSbrg/4KhhNwtTuT8zExRQYzqyP5LRul8uDac/O5EYz9gBiT86Z2eKq72JPwztGa8EB7I/S0YUFltLsj+0Oeodnz6qP0hMDflFJrM/nwGD5abarj8clgbRYZGlP3KtZwm6hKA/sJ/US+mgVD/NgyUhpvNgP+CYQfa4IEA/heeZ+mlHhz8anVMYbRGWP+QuJFbO7nY/322ja55klj9bzlbxkGKUP0+LzsnGZpa/feHbu1N4l79jx7RVsvWQv32RPwYM+ng/\",\"dtype\":\"float64\",\"order\":\"little\",\"shape\":[30]}},\"selected\":{\"id\":\"6185\"},\"selection_policy\":{\"id\":\"6184\"}},\"id\":\"6167\",\"type\":\"ColumnDataSource\"},{\"attributes\":{},\"id\":\"6101\",\"type\":\"BasicTicker\"},{\"attributes\":{\"formatter\":{\"id\":\"6124\"},\"ticker\":{\"id\":\"6097\"}},\"id\":\"6096\",\"type\":\"LinearAxis\"},{\"attributes\":{\"data_source\":{\"id\":\"6167\"},\"glyph\":{\"id\":\"6168\"},\"hover_glyph\":null,\"muted_glyph\":null,\"nonselection_glyph\":{\"id\":\"6169\"},\"selection_glyph\":null,\"view\":{\"id\":\"6171\"}},\"id\":\"6170\",\"type\":\"GlyphRenderer\"},{\"attributes\":{\"bottom_units\":\"screen\",\"fill_alpha\":0.5,\"fill_color\":\"lightgrey\",\"left_units\":\"screen\",\"level\":\"overlay\",\"line_alpha\":1.0,\"line_color\":\"black\",\"line_dash\":[4,4],\"line_width\":2,\"right_units\":\"screen\",\"top_units\":\"screen\"},\"id\":\"6110\",\"type\":\"BoxAnnotation\"},{\"attributes\":{},\"id\":\"6130\",\"type\":\"Selection\"},{\"attributes\":{},\"id\":\"6104\",\"type\":\"PanTool\"},{\"attributes\":{\"overlay\":{\"id\":\"6110\"}},\"id\":\"6106\",\"type\":\"BoxZoomTool\"},{\"attributes\":{},\"id\":\"6129\",\"type\":\"UnionRenderers\"},{\"attributes\":{},\"id\":\"6088\",\"type\":\"DataRange1d\"},{\"attributes\":{\"fill_alpha\":0.1,\"x\":{\"field\":\"x\"},\"y1\":{\"field\":\"y1\"},\"y2\":{\"field\":\"y2\"}},\"id\":\"6120\",\"type\":\"VArea\"}],\"root_ids\":[\"6085\"]},\"title\":\"Bokeh Application\",\"version\":\"2.2.3\"}};\n",
       "  var render_items = [{\"docid\":\"11909596-3799-444f-915d-afa825ff3b25\",\"root_ids\":[\"6085\"],\"roots\":{\"6085\":\"9d864450-eba3-4344-9a93-1caeb1c466a2\"}}];\n",
       "  root.Bokeh.embed.embed_items_notebook(docs_json, render_items);\n",
       "\n",
       "  }\n",
       "  if (root.Bokeh !== undefined) {\n",
       "    embed_document(root);\n",
       "  } else {\n",
       "    var attempts = 0;\n",
       "    var timer = setInterval(function(root) {\n",
       "      if (root.Bokeh !== undefined) {\n",
       "        clearInterval(timer);\n",
       "        embed_document(root);\n",
       "      } else {\n",
       "        attempts++;\n",
       "        if (attempts > 100) {\n",
       "          clearInterval(timer);\n",
       "          console.log(\"Bokeh: ERROR: Unable to run BokehJS code because BokehJS library is missing\");\n",
       "        }\n",
       "      }\n",
       "    }, 10, root)\n",
       "  }\n",
       "})(window);"
      ],
      "application/vnd.bokehjs_exec.v0+json": ""
     },
     "metadata": {
      "application/vnd.bokehjs_exec.v0+json": {
       "id": "6085"
      }
     },
     "output_type": "display_data"
    },
    {
     "data": {
      "text/html": [
       "\n",
       "\n",
       "\n",
       "\n",
       "\n",
       "\n",
       "  <div class=\"bk-root\" id=\"33db8398-dbbf-4f50-8dbb-7c26aa126411\" data-root-id=\"6510\"></div>\n"
      ]
     },
     "metadata": {},
     "output_type": "display_data"
    },
    {
     "data": {
      "application/javascript": [
       "(function(root) {\n",
       "  function embed_document(root) {\n",
       "    \n",
       "  var docs_json = {\"d510fc3c-e749-4ad8-b3a9-0913ea4c9d31\":{\"roots\":{\"references\":[{\"attributes\":{\"below\":[{\"id\":\"6521\"}],\"center\":[{\"id\":\"6524\"},{\"id\":\"6528\"},{\"id\":\"6556\"},{\"id\":\"6611\"},{\"id\":\"6612\"}],\"left\":[{\"id\":\"6525\"}],\"plot_height\":300,\"plot_width\":900,\"renderers\":[{\"id\":\"6546\"},{\"id\":\"6561\"},{\"id\":\"6577\"},{\"id\":\"6595\"}],\"title\":{\"id\":\"6511\"},\"toolbar\":{\"id\":\"6536\"},\"x_range\":{\"id\":\"6513\"},\"x_scale\":{\"id\":\"6517\"},\"y_range\":{\"id\":\"6515\"},\"y_scale\":{\"id\":\"6519\"}},\"id\":\"6510\",\"subtype\":\"Figure\",\"type\":\"Plot\"},{\"attributes\":{},\"id\":\"6534\",\"type\":\"HelpTool\"},{\"attributes\":{\"axis\":{\"id\":\"6525\"},\"dimension\":1,\"ticker\":null},\"id\":\"6528\",\"type\":\"Grid\"},{\"attributes\":{\"source\":{\"id\":\"6558\"}},\"id\":\"6562\",\"type\":\"CDSView\"},{\"attributes\":{\"line_alpha\":0.1,\"line_color\":\"green\",\"x\":{\"field\":\"x\"},\"y\":{\"field\":\"y\"}},\"id\":\"6560\",\"type\":\"Line\"},{\"attributes\":{\"line_color\":\"green\",\"x\":{\"field\":\"x\"},\"y\":{\"field\":\"y\"}},\"id\":\"6559\",\"type\":\"Line\"},{\"attributes\":{},\"id\":\"6530\",\"type\":\"WheelZoomTool\"},{\"attributes\":{\"end\":0.26,\"start\":-0.26},\"id\":\"6515\",\"type\":\"Range1d\"},{\"attributes\":{\"fill_alpha\":0.1,\"x\":{\"field\":\"x\"},\"y1\":{\"field\":\"y1\"},\"y2\":{\"field\":\"y2\"}},\"id\":\"6545\",\"type\":\"VArea\"},{\"attributes\":{},\"id\":\"6529\",\"type\":\"PanTool\"},{\"attributes\":{\"label\":{\"value\":\"mean\"},\"renderers\":[{\"id\":\"6561\"}]},\"id\":\"6573\",\"type\":\"LegendItem\"},{\"attributes\":{\"bottom_units\":\"screen\",\"fill_alpha\":0.5,\"fill_color\":\"lightgrey\",\"left_units\":\"screen\",\"level\":\"overlay\",\"line_alpha\":1.0,\"line_color\":\"black\",\"line_dash\":[4,4],\"line_width\":2,\"right_units\":\"screen\",\"top_units\":\"screen\"},\"id\":\"6535\",\"type\":\"BoxAnnotation\"},{\"attributes\":{\"click_policy\":\"hide\",\"items\":[{\"id\":\"6557\"},{\"id\":\"6573\"},{\"id\":\"6591\"}],\"location\":\"bottom_left\"},\"id\":\"6556\",\"type\":\"Legend\"},{\"attributes\":{\"data\":{\"x\":[224,225,226,227,228,229,230,231,232,233,234,235,236,237,238,239,240,241,242,243,244,245,246,247,248,249,250,251,252,253],\"y\":{\"__ndarray__\":\"ObTIdr6fmj956SYxCKycP7gehetRuJ4/uB6F61G4nj9YObTIdr6fP/yp8dJNYqA/WDm0yHa+nz9YObTIdr6fP/yp8dJNYqA/7FG4HoXroT8rhxbZzvejP1pkO99Pjac/WmQ730+Npz9KDAIrhxapP5qZmZmZmak/mpmZmZmZqT+amZmZmZmpP5qZmZmZmak/SgwCK4cWqT+q8dJNYhCoP5qZmZmZmak/WmQ730+Npz/LoUW28/2kP3sUrkfheqQ/nMQgsHJooT+4HoXrUbieP5zEILByaKE/+n5qvHSTmD97FK5H4Xp0P9v5fmq8dKO/\",\"dtype\":\"float64\",\"order\":\"little\",\"shape\":[30]}},\"selected\":{\"id\":\"6572\"},\"selection_policy\":{\"id\":\"6571\"}},\"id\":\"6558\",\"type\":\"ColumnDataSource\"},{\"attributes\":{},\"id\":\"6551\",\"type\":\"BasicTickFormatter\"},{\"attributes\":{},\"id\":\"6609\",\"type\":\"UnionRenderers\"},{\"attributes\":{\"line_color\":\"blue\",\"x\":{\"field\":\"x\"},\"y\":{\"field\":\"y\"}},\"id\":\"6575\",\"type\":\"Line\"},{\"attributes\":{},\"id\":\"6526\",\"type\":\"BasicTicker\"},{\"attributes\":{\"dimension\":\"height\",\"line_color\":\"gray\",\"line_dash\":[6],\"location\":250},\"id\":\"6612\",\"type\":\"Span\"},{\"attributes\":{},\"id\":\"6513\",\"type\":\"DataRange1d\"},{\"attributes\":{\"source\":{\"id\":\"6574\"}},\"id\":\"6578\",\"type\":\"CDSView\"},{\"attributes\":{\"fill_color\":{\"value\":\"blue\"},\"line_color\":{\"value\":\"blue\"},\"x\":{\"field\":\"x\"},\"y\":{\"field\":\"y\"}},\"id\":\"6593\",\"type\":\"Circle\"},{\"attributes\":{},\"id\":\"6610\",\"type\":\"Selection\"},{\"attributes\":{},\"id\":\"6549\",\"type\":\"BasicTickFormatter\"},{\"attributes\":{\"active_drag\":\"auto\",\"active_inspect\":\"auto\",\"active_multi\":null,\"active_scroll\":\"auto\",\"active_tap\":\"auto\",\"tools\":[{\"id\":\"6529\"},{\"id\":\"6530\"},{\"id\":\"6531\"},{\"id\":\"6532\"},{\"id\":\"6533\"},{\"id\":\"6534\"}]},\"id\":\"6536\",\"type\":\"Toolbar\"},{\"attributes\":{\"label\":{\"value\":\"metric\"},\"renderers\":[{\"id\":\"6577\"},{\"id\":\"6595\"}]},\"id\":\"6591\",\"type\":\"LegendItem\"},{\"attributes\":{},\"id\":\"6532\",\"type\":\"SaveTool\"},{\"attributes\":{},\"id\":\"6533\",\"type\":\"ResetTool\"},{\"attributes\":{\"data\":{\"x\":[224,225,226,227,228,229,230,231,232,233,234,235,236,237,238,239,240,241,242,243,244,245,246,247,248,249,250,251,252,253],\"y\":{\"__ndarray__\":\"3P+WJzmmnb+FgsRVzdaQv8bFelrp95s/6HJ8vmEqaT+js78lxgJzPyrqFVS9oK0/w0E6p+lUkT/AcJkVE9Q/P99xg7wBhom/Qp9zAEsorL9kfj3sPsmyv7DzJOG9UqE/zNCvamkteL+E999XO9CjP4ykylXdbKY/JOn8G1qopz89CsARAOCtPxPdNk1ln60/6vOuhHXasT/H3MJYN8iQPzs4AMfdrrc/UosW015xtD8fkvb0UmGsPx6Ta9bYprE/f+a0SYXdqz+L8hLpmR6IPxrbzSzLjLE/V/oc08YzsD/4OMFPmjeoP5BYcTRe1aO/\",\"dtype\":\"float64\",\"order\":\"little\",\"shape\":[30]}},\"selected\":{\"id\":\"6610\"},\"selection_policy\":{\"id\":\"6609\"}},\"id\":\"6592\",\"type\":\"ColumnDataSource\"},{\"attributes\":{},\"id\":\"6572\",\"type\":\"Selection\"},{\"attributes\":{\"data_source\":{\"id\":\"6543\"},\"glyph\":{\"id\":\"6544\"},\"hover_glyph\":null,\"muted_glyph\":null,\"nonselection_glyph\":{\"id\":\"6545\"},\"selection_glyph\":null,\"view\":{\"id\":\"6547\"}},\"id\":\"6546\",\"type\":\"GlyphRenderer\"},{\"attributes\":{},\"id\":\"6571\",\"type\":\"UnionRenderers\"},{\"attributes\":{\"source\":{\"id\":\"6543\"}},\"id\":\"6547\",\"type\":\"CDSView\"},{\"attributes\":{\"line_alpha\":0.1,\"line_color\":\"blue\",\"x\":{\"field\":\"x\"},\"y\":{\"field\":\"y\"}},\"id\":\"6576\",\"type\":\"Line\"},{\"attributes\":{},\"id\":\"6522\",\"type\":\"BasicTicker\"},{\"attributes\":{},\"id\":\"6519\",\"type\":\"LinearScale\"},{\"attributes\":{\"axis\":{\"id\":\"6521\"},\"ticker\":null},\"id\":\"6524\",\"type\":\"Grid\"},{\"attributes\":{\"fill_alpha\":0.1,\"x\":{\"field\":\"x\"},\"y1\":{\"field\":\"y1\"},\"y2\":{\"field\":\"y2\"}},\"id\":\"6544\",\"type\":\"VArea\"},{\"attributes\":{\"fill_alpha\":{\"value\":0.1},\"fill_color\":{\"value\":\"blue\"},\"line_alpha\":{\"value\":0.1},\"line_color\":{\"value\":\"blue\"},\"x\":{\"field\":\"x\"},\"y\":{\"field\":\"y\"}},\"id\":\"6594\",\"type\":\"Circle\"},{\"attributes\":{\"data_source\":{\"id\":\"6558\"},\"glyph\":{\"id\":\"6559\"},\"hover_glyph\":null,\"muted_glyph\":null,\"nonselection_glyph\":{\"id\":\"6560\"},\"selection_glyph\":null,\"view\":{\"id\":\"6562\"}},\"id\":\"6561\",\"type\":\"GlyphRenderer\"},{\"attributes\":{\"dimension\":\"height\",\"line_color\":\"gray\",\"line_dash\":[6],\"location\":234},\"id\":\"6611\",\"type\":\"Span\"},{\"attributes\":{\"label\":{\"value\":\"hdi\"},\"renderers\":[{\"id\":\"6546\"}]},\"id\":\"6557\",\"type\":\"LegendItem\"},{\"attributes\":{\"data\":{\"x\":[224,225,226,227,228,229,230,231,232,233,234,235,236,237,238,239,240,241,242,243,244,245,246,247,248,249,250,251,252,253],\"y\":{\"__ndarray__\":\"3P+WJzmmnb+FgsRVzdaQv8bFelrp95s/6HJ8vmEqaT+js78lxgJzPyrqFVS9oK0/w0E6p+lUkT/AcJkVE9Q/P99xg7wBhom/Qp9zAEsorL9kfj3sPsmyv7DzJOG9UqE/zNCvamkteL+E999XO9CjP4ykylXdbKY/JOn8G1qopz89CsARAOCtPxPdNk1ln60/6vOuhHXasT/H3MJYN8iQPzs4AMfdrrc/UosW015xtD8fkvb0UmGsPx6Ta9bYprE/f+a0SYXdqz+L8hLpmR6IPxrbzSzLjLE/V/oc08YzsD/4OMFPmjeoP5BYcTRe1aO/\",\"dtype\":\"float64\",\"order\":\"little\",\"shape\":[30]}},\"selected\":{\"id\":\"6590\"},\"selection_policy\":{\"id\":\"6589\"}},\"id\":\"6574\",\"type\":\"ColumnDataSource\"},{\"attributes\":{},\"id\":\"6554\",\"type\":\"UnionRenderers\"},{\"attributes\":{\"data_source\":{\"id\":\"6574\"},\"glyph\":{\"id\":\"6575\"},\"hover_glyph\":null,\"muted_glyph\":null,\"nonselection_glyph\":{\"id\":\"6576\"},\"selection_glyph\":null,\"view\":{\"id\":\"6578\"}},\"id\":\"6577\",\"type\":\"GlyphRenderer\"},{\"attributes\":{\"data\":{\"x\":[224,225,226,227,228,229,230,231,232,233,234,235,236,237,238,239,240,241,242,243,244,245,246,247,248,249,250,251,252,253],\"y1\":{\"__ndarray__\":\"eekmMQisfD8730+Nl26CP3sUrkfheoQ/O99PjZdugj+6SQwCK4eGP7pJDAIrh4Y/O99PjZdugj956SYxCKx8PzvfT42XboI/O99PjZdugj+cxCCwcmiRP9nO91PjpZs/2c73U+Olmz8ZBFYOLbKdPxkEVg4tsp0/eekmMQisnD+amZmZmZmZP/p+arx0k5g/2/l+arx0kz8730+Nl26SP3npJjEIrIw/ukkMAiuHhj/8qfHSTWJQv3sUrkfheoS/ukkMAiuHlr/LoUW28/2kv4lBYOXQIqu/ukkMAiuHtr+YbhKDwMrBv1K4HoXrUdC/\",\"dtype\":\"float64\",\"order\":\"little\",\"shape\":[30]},\"y2\":{\"__ndarray__\":\"WmQ730+Npz+q8dJNYhCoP0oMAiuHFqk/mpmZmZmZqT/pJjEIrByqP9nO91Pjpas/2c73U+Olqz/ZzvdT46WrP8l2vp8aL60/CKwcWmQ7rz9YObTIdr6vP/yp8dJNYrA/9P3UeOkmsT+cxCCwcmixP5MYBFYOLbI/46WbxCCwsj+LbOf7qfGyP9NNYhBYObQ/K4cW2c73sz8j2/l+ary0P8uhRbbz/bQ/y6FFtvP9tD/LoUW28/20PxKDwMqhRbY/qvHSTWIQuD9KDAIrhxa5P1TjpZvEIMA/+FPjpZvEwD8rhxbZzvfDP+xRuB6F68E/\",\"dtype\":\"float64\",\"order\":\"little\",\"shape\":[30]}},\"selected\":{\"id\":\"6555\"},\"selection_policy\":{\"id\":\"6554\"}},\"id\":\"6543\",\"type\":\"ColumnDataSource\"},{\"attributes\":{},\"id\":\"6590\",\"type\":\"Selection\"},{\"attributes\":{\"overlay\":{\"id\":\"6535\"}},\"id\":\"6531\",\"type\":\"BoxZoomTool\"},{\"attributes\":{\"text\":\"Convergence - uuazed\"},\"id\":\"6511\",\"type\":\"Title\"},{\"attributes\":{},\"id\":\"6589\",\"type\":\"UnionRenderers\"},{\"attributes\":{\"formatter\":{\"id\":\"6551\"},\"ticker\":{\"id\":\"6526\"}},\"id\":\"6525\",\"type\":\"LinearAxis\"},{\"attributes\":{\"formatter\":{\"id\":\"6549\"},\"ticker\":{\"id\":\"6522\"}},\"id\":\"6521\",\"type\":\"LinearAxis\"},{\"attributes\":{\"data_source\":{\"id\":\"6592\"},\"glyph\":{\"id\":\"6593\"},\"hover_glyph\":null,\"muted_glyph\":null,\"nonselection_glyph\":{\"id\":\"6594\"},\"selection_glyph\":null,\"view\":{\"id\":\"6596\"}},\"id\":\"6595\",\"type\":\"GlyphRenderer\"},{\"attributes\":{\"source\":{\"id\":\"6592\"}},\"id\":\"6596\",\"type\":\"CDSView\"},{\"attributes\":{},\"id\":\"6517\",\"type\":\"LinearScale\"},{\"attributes\":{},\"id\":\"6555\",\"type\":\"Selection\"}],\"root_ids\":[\"6510\"]},\"title\":\"Bokeh Application\",\"version\":\"2.2.3\"}};\n",
       "  var render_items = [{\"docid\":\"d510fc3c-e749-4ad8-b3a9-0913ea4c9d31\",\"root_ids\":[\"6510\"],\"roots\":{\"6510\":\"33db8398-dbbf-4f50-8dbb-7c26aa126411\"}}];\n",
       "  root.Bokeh.embed.embed_items_notebook(docs_json, render_items);\n",
       "\n",
       "  }\n",
       "  if (root.Bokeh !== undefined) {\n",
       "    embed_document(root);\n",
       "  } else {\n",
       "    var attempts = 0;\n",
       "    var timer = setInterval(function(root) {\n",
       "      if (root.Bokeh !== undefined) {\n",
       "        clearInterval(timer);\n",
       "        embed_document(root);\n",
       "      } else {\n",
       "        attempts++;\n",
       "        if (attempts > 100) {\n",
       "          clearInterval(timer);\n",
       "          console.log(\"Bokeh: ERROR: Unable to run BokehJS code because BokehJS library is missing\");\n",
       "        }\n",
       "      }\n",
       "    }, 10, root)\n",
       "  }\n",
       "})(window);"
      ],
      "application/vnd.bokehjs_exec.v0+json": ""
     },
     "metadata": {
      "application/vnd.bokehjs_exec.v0+json": {
       "id": "6510"
      }
     },
     "output_type": "display_data"
    },
    {
     "data": {
      "text/html": [
       "\n",
       "\n",
       "\n",
       "\n",
       "\n",
       "\n",
       "  <div class=\"bk-root\" id=\"fe1dfed7-c584-454c-bdf8-c43b27de2883\" data-root-id=\"6949\"></div>\n"
      ]
     },
     "metadata": {},
     "output_type": "display_data"
    },
    {
     "data": {
      "application/javascript": [
       "(function(root) {\n",
       "  function embed_document(root) {\n",
       "    \n",
       "  var docs_json = {\"619fdd7c-e74d-4bad-98e1-86bf2a4f8678\":{\"roots\":{\"references\":[{\"attributes\":{\"below\":[{\"id\":\"6960\"}],\"center\":[{\"id\":\"6963\"},{\"id\":\"6967\"},{\"id\":\"6995\"},{\"id\":\"7050\"},{\"id\":\"7051\"}],\"left\":[{\"id\":\"6964\"}],\"plot_height\":300,\"plot_width\":900,\"renderers\":[{\"id\":\"6985\"},{\"id\":\"7000\"},{\"id\":\"7016\"},{\"id\":\"7034\"}],\"title\":{\"id\":\"6950\"},\"toolbar\":{\"id\":\"6975\"},\"x_range\":{\"id\":\"6952\"},\"x_scale\":{\"id\":\"6956\"},\"y_range\":{\"id\":\"6954\"},\"y_scale\":{\"id\":\"6958\"}},\"id\":\"6949\",\"subtype\":\"Figure\",\"type\":\"Plot\"},{\"attributes\":{\"click_policy\":\"hide\",\"items\":[{\"id\":\"6996\"},{\"id\":\"7012\"},{\"id\":\"7030\"}],\"location\":\"bottom_left\"},\"id\":\"6995\",\"type\":\"Legend\"},{\"attributes\":{\"fill_alpha\":{\"value\":0.1},\"fill_color\":{\"value\":\"blue\"},\"line_alpha\":{\"value\":0.1},\"line_color\":{\"value\":\"blue\"},\"x\":{\"field\":\"x\"},\"y\":{\"field\":\"y\"}},\"id\":\"7033\",\"type\":\"Circle\"},{\"attributes\":{},\"id\":\"6971\",\"type\":\"SaveTool\"},{\"attributes\":{\"line_color\":\"green\",\"x\":{\"field\":\"x\"},\"y\":{\"field\":\"y\"}},\"id\":\"6998\",\"type\":\"Line\"},{\"attributes\":{\"fill_color\":{\"value\":\"blue\"},\"line_color\":{\"value\":\"blue\"},\"x\":{\"field\":\"x\"},\"y\":{\"field\":\"y\"}},\"id\":\"7032\",\"type\":\"Circle\"},{\"attributes\":{},\"id\":\"6990\",\"type\":\"BasicTickFormatter\"},{\"attributes\":{\"data_source\":{\"id\":\"7031\"},\"glyph\":{\"id\":\"7032\"},\"hover_glyph\":null,\"muted_glyph\":null,\"nonselection_glyph\":{\"id\":\"7033\"},\"selection_glyph\":null,\"view\":{\"id\":\"7035\"}},\"id\":\"7034\",\"type\":\"GlyphRenderer\"},{\"attributes\":{},\"id\":\"6973\",\"type\":\"HelpTool\"},{\"attributes\":{\"data\":{\"x\":[224,225,226,227,228,229,230,231,232,233,234,235,236,237,238,239,240,241,242,243,244,245,246,247,248,249,250,251,252,253],\"y1\":{\"__ndarray__\":\"/Knx0k1iUL/8qfHSTWJwv/yp8dJNYnC/exSuR+F6dL/8qfHSTWJwv/yp8dJNYmC/+n5qvHSTaL/8qfHSTWJQP/yp8dJNYlC//Knx0k1igL/8qfHSTWKQv5zEILByaJG/nMQgsHJokb8730+Nl26Sv/yp8dJNYpC/ObTIdr6fir956SYxCKyMv/p+arx0k4i/O99PjZdugr8730+Nl26Cv/yp8dJNYnC//Knx0k1iYD/8qfHSTWJQP/p+arx0k3g/O99PjZdugj/6fmq8dJN4P3npJjEIrHw/O99PjZdugj956SYxCKyMP/yp8dJNYpA/\",\"dtype\":\"float64\",\"order\":\"little\",\"shape\":[30]},\"y2\":{\"__ndarray__\":\"eekmMQisnD85tMh2vp+aP3npJjEIrJw/WmQ730+Nlz/6fmq8dJOYP9nO91PjpZs/eekmMQisnD956SYxCKycP9nO91PjpZs/ukkMAiuHlj/b+X5qvHSTPzvfT42XbpI/O99PjZdukj+cxCCwcmiRP3sUrkfhepQ/mpmZmZmZmT/ZzvdT46WbP7gehetRuJ4/i2zn+6nxoj/sUbgeheuhP7pJDAIrh6Y/6SYxCKwcqj/pJjEIrByqPylcj8L1KKw/GQRWDi2yrT8pXI/C9SisP2iR7Xw/Na4/CKwcWmQ7rz9YObTIdr6vP1g5tMh2vq8/\",\"dtype\":\"float64\",\"order\":\"little\",\"shape\":[30]}},\"selected\":{\"id\":\"6994\"},\"selection_policy\":{\"id\":\"6993\"}},\"id\":\"6982\",\"type\":\"ColumnDataSource\"},{\"attributes\":{\"data_source\":{\"id\":\"6982\"},\"glyph\":{\"id\":\"6983\"},\"hover_glyph\":null,\"muted_glyph\":null,\"nonselection_glyph\":{\"id\":\"6984\"},\"selection_glyph\":null,\"view\":{\"id\":\"6986\"}},\"id\":\"6985\",\"type\":\"GlyphRenderer\"},{\"attributes\":{\"source\":{\"id\":\"7013\"}},\"id\":\"7017\",\"type\":\"CDSView\"},{\"attributes\":{\"active_drag\":\"auto\",\"active_inspect\":\"auto\",\"active_multi\":null,\"active_scroll\":\"auto\",\"active_tap\":\"auto\",\"tools\":[{\"id\":\"6968\"},{\"id\":\"6969\"},{\"id\":\"6970\"},{\"id\":\"6971\"},{\"id\":\"6972\"},{\"id\":\"6973\"}]},\"id\":\"6975\",\"type\":\"Toolbar\"},{\"attributes\":{\"source\":{\"id\":\"6982\"}},\"id\":\"6986\",\"type\":\"CDSView\"},{\"attributes\":{\"text\":\"Timeseries - uuazed\"},\"id\":\"6950\",\"type\":\"Title\"},{\"attributes\":{\"line_color\":\"blue\",\"x\":{\"field\":\"x\"},\"y\":{\"field\":\"y\"}},\"id\":\"7014\",\"type\":\"Line\"},{\"attributes\":{},\"id\":\"6952\",\"type\":\"DataRange1d\"},{\"attributes\":{\"line_alpha\":0.1,\"line_color\":\"blue\",\"x\":{\"field\":\"x\"},\"y\":{\"field\":\"y\"}},\"id\":\"7015\",\"type\":\"Line\"},{\"attributes\":{\"fill_alpha\":0.1,\"x\":{\"field\":\"x\"},\"y1\":{\"field\":\"y1\"},\"y2\":{\"field\":\"y2\"}},\"id\":\"6983\",\"type\":\"VArea\"},{\"attributes\":{\"formatter\":{\"id\":\"6988\"},\"ticker\":{\"id\":\"6961\"}},\"id\":\"6960\",\"type\":\"LinearAxis\"},{\"attributes\":{\"label\":{\"value\":\"metric\"},\"renderers\":[{\"id\":\"7016\"},{\"id\":\"7034\"}]},\"id\":\"7030\",\"type\":\"LegendItem\"},{\"attributes\":{\"data_source\":{\"id\":\"7013\"},\"glyph\":{\"id\":\"7014\"},\"hover_glyph\":null,\"muted_glyph\":null,\"nonselection_glyph\":{\"id\":\"7015\"},\"selection_glyph\":null,\"view\":{\"id\":\"7017\"}},\"id\":\"7016\",\"type\":\"GlyphRenderer\"},{\"attributes\":{},\"id\":\"6994\",\"type\":\"Selection\"},{\"attributes\":{},\"id\":\"7011\",\"type\":\"Selection\"},{\"attributes\":{},\"id\":\"6961\",\"type\":\"BasicTicker\"},{\"attributes\":{},\"id\":\"7028\",\"type\":\"UnionRenderers\"},{\"attributes\":{\"label\":{\"value\":\"mean\"},\"renderers\":[{\"id\":\"7000\"}]},\"id\":\"7012\",\"type\":\"LegendItem\"},{\"attributes\":{\"bottom_units\":\"screen\",\"fill_alpha\":0.5,\"fill_color\":\"lightgrey\",\"left_units\":\"screen\",\"level\":\"overlay\",\"line_alpha\":1.0,\"line_color\":\"black\",\"line_dash\":[4,4],\"line_width\":2,\"right_units\":\"screen\",\"top_units\":\"screen\"},\"id\":\"6974\",\"type\":\"BoxAnnotation\"},{\"attributes\":{\"overlay\":{\"id\":\"6974\"}},\"id\":\"6970\",\"type\":\"BoxZoomTool\"},{\"attributes\":{\"data\":{\"x\":[224,225,226,227,228,229,230,231,232,233,234,235,236,237,238,239,240,241,242,243,244,245,246,247,248,249,250,251,252,253],\"y\":{\"__ndarray__\":\"eekmMQisjD/6fmq8dJOIP7pJDAIrh4Y/O99PjZdugj97FK5H4XqEP/p+arx0k4g/+n5qvHSTiD956SYxCKyMPzm0yHa+n4o/eekmMQisfD/8qfHSTWJQP/yp8dJNYlA/AAAAAAAAAIAAAAAAAAAAAPp+arx0k2g/exSuR+F6dD956SYxCKx8P3sUrkfheoQ/ObTIdr6fij956SYxCKyMP3sUrkfhepQ/mpmZmZmZmT/ZzvdT46WbP7gehetRuJ4//Knx0k1ioD+4HoXrUbieP0w3iUFg5aA/O99PjZduoj8rhxbZzvejP3sUrkfheqQ/\",\"dtype\":\"float64\",\"order\":\"little\",\"shape\":[30]}},\"selected\":{\"id\":\"7011\"},\"selection_policy\":{\"id\":\"7010\"}},\"id\":\"6997\",\"type\":\"ColumnDataSource\"},{\"attributes\":{\"data\":{\"x\":[224,225,226,227,228,229,230,231,232,233,234,235,236,237,238,239,240,241,242,243,244,245,246,247,248,249,250,251,252,253],\"y\":{\"__ndarray__\":\"3P+WJzmmnb+FgsRVzdaQv8bFelrp95s/6HJ8vmEqaT+js78lxgJzPyrqFVS9oK0/w0E6p+lUkT/AcJkVE9Q/P99xg7wBhom/Qp9zAEsorL9kfj3sPsmyv7DzJOG9UqE/zNCvamkteL+E999XO9CjP4ykylXdbKY/JOn8G1qopz89CsARAOCtPxPdNk1ln60/6vOuhHXasT/H3MJYN8iQPzs4AMfdrrc/UosW015xtD8fkvb0UmGsPx6Ta9bYprE/f+a0SYXdqz+L8hLpmR6IPxrbzSzLjLE/V/oc08YzsD/4OMFPmjeoP5BYcTRe1aO/\",\"dtype\":\"float64\",\"order\":\"little\",\"shape\":[30]}},\"selected\":{\"id\":\"7029\"},\"selection_policy\":{\"id\":\"7028\"}},\"id\":\"7013\",\"type\":\"ColumnDataSource\"},{\"attributes\":{\"formatter\":{\"id\":\"6990\"},\"ticker\":{\"id\":\"6965\"}},\"id\":\"6964\",\"type\":\"LinearAxis\"},{\"attributes\":{},\"id\":\"6988\",\"type\":\"BasicTickFormatter\"},{\"attributes\":{},\"id\":\"7029\",\"type\":\"Selection\"},{\"attributes\":{},\"id\":\"7048\",\"type\":\"UnionRenderers\"},{\"attributes\":{\"source\":{\"id\":\"6997\"}},\"id\":\"7001\",\"type\":\"CDSView\"},{\"attributes\":{},\"id\":\"7010\",\"type\":\"UnionRenderers\"},{\"attributes\":{\"dimension\":\"height\",\"line_color\":\"gray\",\"line_dash\":[6],\"location\":234},\"id\":\"7050\",\"type\":\"Span\"},{\"attributes\":{},\"id\":\"6972\",\"type\":\"ResetTool\"},{\"attributes\":{\"fill_alpha\":0.1,\"x\":{\"field\":\"x\"},\"y1\":{\"field\":\"y1\"},\"y2\":{\"field\":\"y2\"}},\"id\":\"6984\",\"type\":\"VArea\"},{\"attributes\":{},\"id\":\"6993\",\"type\":\"UnionRenderers\"},{\"attributes\":{\"label\":{\"value\":\"hdi\"},\"renderers\":[{\"id\":\"6985\"}]},\"id\":\"6996\",\"type\":\"LegendItem\"},{\"attributes\":{\"line_alpha\":0.1,\"line_color\":\"green\",\"x\":{\"field\":\"x\"},\"y\":{\"field\":\"y\"}},\"id\":\"6999\",\"type\":\"Line\"},{\"attributes\":{\"data\":{\"x\":[224,225,226,227,228,229,230,231,232,233,234,235,236,237,238,239,240,241,242,243,244,245,246,247,248,249,250,251,252,253],\"y\":{\"__ndarray__\":\"3P+WJzmmnb+FgsRVzdaQv8bFelrp95s/6HJ8vmEqaT+js78lxgJzPyrqFVS9oK0/w0E6p+lUkT/AcJkVE9Q/P99xg7wBhom/Qp9zAEsorL9kfj3sPsmyv7DzJOG9UqE/zNCvamkteL+E999XO9CjP4ykylXdbKY/JOn8G1qopz89CsARAOCtPxPdNk1ln60/6vOuhHXasT/H3MJYN8iQPzs4AMfdrrc/UosW015xtD8fkvb0UmGsPx6Ta9bYprE/f+a0SYXdqz+L8hLpmR6IPxrbzSzLjLE/V/oc08YzsD/4OMFPmjeoP5BYcTRe1aO/\",\"dtype\":\"float64\",\"order\":\"little\",\"shape\":[30]}},\"selected\":{\"id\":\"7049\"},\"selection_policy\":{\"id\":\"7048\"}},\"id\":\"7031\",\"type\":\"ColumnDataSource\"},{\"attributes\":{},\"id\":\"6958\",\"type\":\"LinearScale\"},{\"attributes\":{\"source\":{\"id\":\"7031\"}},\"id\":\"7035\",\"type\":\"CDSView\"},{\"attributes\":{},\"id\":\"6956\",\"type\":\"LinearScale\"},{\"attributes\":{},\"id\":\"6968\",\"type\":\"PanTool\"},{\"attributes\":{},\"id\":\"6969\",\"type\":\"WheelZoomTool\"},{\"attributes\":{\"dimension\":\"height\",\"line_color\":\"gray\",\"line_dash\":[6],\"location\":250},\"id\":\"7051\",\"type\":\"Span\"},{\"attributes\":{},\"id\":\"7049\",\"type\":\"Selection\"},{\"attributes\":{\"axis\":{\"id\":\"6960\"},\"ticker\":null},\"id\":\"6963\",\"type\":\"Grid\"},{\"attributes\":{},\"id\":\"6965\",\"type\":\"BasicTicker\"},{\"attributes\":{\"data_source\":{\"id\":\"6997\"},\"glyph\":{\"id\":\"6998\"},\"hover_glyph\":null,\"muted_glyph\":null,\"nonselection_glyph\":{\"id\":\"6999\"},\"selection_glyph\":null,\"view\":{\"id\":\"7001\"}},\"id\":\"7000\",\"type\":\"GlyphRenderer\"},{\"attributes\":{\"end\":0.26,\"start\":-0.26},\"id\":\"6954\",\"type\":\"Range1d\"},{\"attributes\":{\"axis\":{\"id\":\"6964\"},\"dimension\":1,\"ticker\":null},\"id\":\"6967\",\"type\":\"Grid\"}],\"root_ids\":[\"6949\"]},\"title\":\"Bokeh Application\",\"version\":\"2.2.3\"}};\n",
       "  var render_items = [{\"docid\":\"619fdd7c-e74d-4bad-98e1-86bf2a4f8678\",\"root_ids\":[\"6949\"],\"roots\":{\"6949\":\"fe1dfed7-c584-454c-bdf8-c43b27de2883\"}}];\n",
       "  root.Bokeh.embed.embed_items_notebook(docs_json, render_items);\n",
       "\n",
       "  }\n",
       "  if (root.Bokeh !== undefined) {\n",
       "    embed_document(root);\n",
       "  } else {\n",
       "    var attempts = 0;\n",
       "    var timer = setInterval(function(root) {\n",
       "      if (root.Bokeh !== undefined) {\n",
       "        clearInterval(timer);\n",
       "        embed_document(root);\n",
       "      } else {\n",
       "        attempts++;\n",
       "        if (attempts > 100) {\n",
       "          clearInterval(timer);\n",
       "          console.log(\"Bokeh: ERROR: Unable to run BokehJS code because BokehJS library is missing\");\n",
       "        }\n",
       "      }\n",
       "    }, 10, root)\n",
       "  }\n",
       "})(window);"
      ],
      "application/vnd.bokehjs_exec.v0+json": ""
     },
     "metadata": {
      "application/vnd.bokehjs_exec.v0+json": {
       "id": "6949"
      }
     },
     "output_type": "display_data"
    }
   ],
   "source": [
    "for name in accounts:\n",
    "    if name in convergences and name in timeseries:\n",
    "        show(plot_series(convergences[name], title=f'Convergence - {name}'))\n",
    "        show(plot_series(timeseries[name], title=f'Timeseries - {name}'))"
   ]
  },
  {
   "cell_type": "code",
   "execution_count": null,
   "metadata": {},
   "outputs": [],
   "source": []
  },
  {
   "cell_type": "code",
   "execution_count": null,
   "metadata": {},
   "outputs": [],
   "source": []
  },
  {
   "cell_type": "code",
   "execution_count": 12,
   "metadata": {},
   "outputs": [],
   "source": [
    "def get_summary_diff(observed, hdi_prob=0.94):\n",
    "    with pm.Model():\n",
    "        prior_mean_0 = pm.Normal('mean0', mu=0, sigma=1)\n",
    "        prior_std_0 = pm.HalfNormal('std0', sigma=0.4 / 6)\n",
    "        likelihood_0 = pm.Normal('likelihood0', mu=prior_mean_0, sigma=prior_std_0, observed=observed[0])\n",
    "        \n",
    "        prior_mean_1 = pm.Normal('mean1', mu=0, sigma=1)\n",
    "        prior_std_1 = pm.HalfNormal('std1', sigma=0.4 / 6)\n",
    "        likelihood_1 = pm.Normal('likelihood1', mu=prior_mean_1, sigma=prior_std_1, observed=observed[1])\n",
    "\n",
    "        mean_diff = pm.Deterministic('mean_diff', prior_mean_0 - prior_mean_1)\n",
    "        std_diff = pm.Deterministic('std_diff', prior_std_0 - prior_std_1)\n",
    "        effect_size = pm.Deterministic('effect_size',\n",
    "                                       mean_diff / np.sqrt((prior_std_0 ** 2 + prior_std_1 ** 2) / 2))\n",
    "\n",
    "        trace = pm.sample(2000, return_inferencedata=True, progressbar=False)\n",
    "        return az.summary(trace, hdi_prob=hdi_prob).T['mean_diff'].to_dict()"
   ]
  },
  {
   "cell_type": "code",
   "execution_count": 13,
   "metadata": {},
   "outputs": [],
   "source": [
    "def compare(series, n_rounds=20, prob=0.94, rope_prob=0.0025):\n",
    "    summary = get_summary_diff([\n",
    "        series[0].tail(n_rounds).values,\n",
    "        series[1].tail(n_rounds).values\n",
    "    ], hdi_prob=prob)\n",
    "    posterior = stats.norm(loc=summary['mean'], scale=summary['sd'])\n",
    "    lower = posterior.cdf(-rope_prob)\n",
    "    higher = posterior.cdf(rope_prob)\n",
    "    return 1-higher, lower"
   ]
  },
  {
   "cell_type": "code",
   "execution_count": 14,
   "metadata": {},
   "outputs": [],
   "source": [
    "def get_probs(results, accounts, metric_name='corr+mmc', **kwargs):\n",
    "    n_accounts = len(accounts)\n",
    "    data = np.full((n_accounts, n_accounts), np.nan)\n",
    "    for i in tqdm(list(range(n_accounts))):\n",
    "        for j in range(i+1, n_accounts):\n",
    "            better, worse = compare([results[accounts[i]][metric_name], results[accounts[j]][metric_name]], **kwargs)\n",
    "            data[i, j] = better\n",
    "            data[j, i] = worse\n",
    "    return pd.DataFrame(data, columns=accounts, index=accounts)"
   ]
  },
  {
   "cell_type": "code",
   "execution_count": 15,
   "metadata": {},
   "outputs": [
    {
     "data": {
      "application/vnd.jupyter.widget-view+json": {
       "model_id": "f80422124445495faf974151220c17ad",
       "version_major": 2,
       "version_minor": 0
      },
      "text/plain": [
       "HBox(children=(HTML(value=''), FloatProgress(value=0.0, max=10.0), HTML(value='')))"
      ]
     },
     "metadata": {},
     "output_type": "display_data"
    },
    {
     "name": "stdout",
     "output_type": "stream",
     "text": [
      "\n"
     ]
    }
   ],
   "source": [
    "accounts = [\n",
    "    'arbitrage',\n",
    "    'benben11',\n",
    "    'hiryuu',\n",
    "    'integration_test_7',\n",
    "    'jrb',\n",
    "    'nasdaqjockey',\n",
    "    'niam',\n",
    "    'sorios',\n",
    "    'themicon',\n",
    "    'uuazed',\n",
    "]\n",
    "\n",
    "results = {n: get_metrics(n) for n in tqdm(accounts)}"
   ]
  },
  {
   "cell_type": "code",
   "execution_count": 16,
   "metadata": {},
   "outputs": [
    {
     "data": {
      "application/vnd.jupyter.widget-view+json": {
       "model_id": "ff90c31eb1234ab7b731ade7a4a71be2",
       "version_major": 2,
       "version_minor": 0
      },
      "text/plain": [
       "HBox(children=(HTML(value=''), FloatProgress(value=0.0, max=10.0), HTML(value='')))"
      ]
     },
     "metadata": {},
     "output_type": "display_data"
    },
    {
     "name": "stdout",
     "output_type": "stream",
     "text": [
      "\n"
     ]
    }
   ],
   "source": [
    "probs = get_probs(results, accounts)"
   ]
  },
  {
   "cell_type": "code",
   "execution_count": 17,
   "metadata": {},
   "outputs": [
    {
     "data": {
      "text/html": [
       "<div>\n",
       "<style scoped>\n",
       "    .dataframe tbody tr th:only-of-type {\n",
       "        vertical-align: middle;\n",
       "    }\n",
       "\n",
       "    .dataframe tbody tr th {\n",
       "        vertical-align: top;\n",
       "    }\n",
       "\n",
       "    .dataframe thead th {\n",
       "        text-align: right;\n",
       "    }\n",
       "</style>\n",
       "<table border=\"1\" class=\"dataframe\">\n",
       "  <thead>\n",
       "    <tr style=\"text-align: right;\">\n",
       "      <th></th>\n",
       "      <th>arbitrage</th>\n",
       "      <th>benben11</th>\n",
       "      <th>hiryuu</th>\n",
       "      <th>integration_test_7</th>\n",
       "      <th>jrb</th>\n",
       "      <th>nasdaqjockey</th>\n",
       "      <th>niam</th>\n",
       "      <th>sorios</th>\n",
       "      <th>themicon</th>\n",
       "      <th>uuazed</th>\n",
       "    </tr>\n",
       "  </thead>\n",
       "  <tbody>\n",
       "    <tr>\n",
       "      <th>arbitrage</th>\n",
       "      <td>NaN</td>\n",
       "      <td>3.159335e-03</td>\n",
       "      <td>3.508822e-04</td>\n",
       "      <td>0.636831</td>\n",
       "      <td>0.997906</td>\n",
       "      <td>0.999596</td>\n",
       "      <td>0.967843</td>\n",
       "      <td>0.522152</td>\n",
       "      <td>0.752323</td>\n",
       "      <td>0.232460</td>\n",
       "    </tr>\n",
       "    <tr>\n",
       "      <th>benben11</th>\n",
       "      <td>0.990516</td>\n",
       "      <td>NaN</td>\n",
       "      <td>5.497382e-01</td>\n",
       "      <td>0.997505</td>\n",
       "      <td>1.000000</td>\n",
       "      <td>1.000000</td>\n",
       "      <td>0.999949</td>\n",
       "      <td>0.997378</td>\n",
       "      <td>0.999081</td>\n",
       "      <td>0.953382</td>\n",
       "    </tr>\n",
       "    <tr>\n",
       "      <th>hiryuu</th>\n",
       "      <td>0.997697</td>\n",
       "      <td>2.940241e-01</td>\n",
       "      <td>NaN</td>\n",
       "      <td>0.999423</td>\n",
       "      <td>1.000000</td>\n",
       "      <td>1.000000</td>\n",
       "      <td>1.000000</td>\n",
       "      <td>0.999816</td>\n",
       "      <td>0.999975</td>\n",
       "      <td>0.953698</td>\n",
       "    </tr>\n",
       "    <tr>\n",
       "      <th>integration_test_7</th>\n",
       "      <td>0.197663</td>\n",
       "      <td>7.057045e-04</td>\n",
       "      <td>8.841729e-05</td>\n",
       "      <td>NaN</td>\n",
       "      <td>0.987035</td>\n",
       "      <td>0.995975</td>\n",
       "      <td>0.852094</td>\n",
       "      <td>0.270563</td>\n",
       "      <td>0.554233</td>\n",
       "      <td>0.098236</td>\n",
       "    </tr>\n",
       "    <tr>\n",
       "      <th>jrb</th>\n",
       "      <td>0.000453</td>\n",
       "      <td>4.492143e-08</td>\n",
       "      <td>2.876854e-11</td>\n",
       "      <td>0.003661</td>\n",
       "      <td>NaN</td>\n",
       "      <td>0.480061</td>\n",
       "      <td>0.079404</td>\n",
       "      <td>0.000099</td>\n",
       "      <td>0.007996</td>\n",
       "      <td>0.000144</td>\n",
       "    </tr>\n",
       "    <tr>\n",
       "      <th>nasdaqjockey</th>\n",
       "      <td>0.000059</td>\n",
       "      <td>2.929088e-08</td>\n",
       "      <td>7.403041e-14</td>\n",
       "      <td>0.000816</td>\n",
       "      <td>0.326355</td>\n",
       "      <td>NaN</td>\n",
       "      <td>0.040059</td>\n",
       "      <td>0.000063</td>\n",
       "      <td>0.002186</td>\n",
       "      <td>0.000075</td>\n",
       "    </tr>\n",
       "    <tr>\n",
       "      <th>niam</th>\n",
       "      <td>0.009387</td>\n",
       "      <td>9.807413e-06</td>\n",
       "      <td>5.256983e-09</td>\n",
       "      <td>0.066807</td>\n",
       "      <td>0.830096</td>\n",
       "      <td>0.894350</td>\n",
       "      <td>NaN</td>\n",
       "      <td>0.015130</td>\n",
       "      <td>0.109860</td>\n",
       "      <td>0.005516</td>\n",
       "    </tr>\n",
       "    <tr>\n",
       "      <th>sorios</th>\n",
       "      <td>0.270563</td>\n",
       "      <td>6.675333e-04</td>\n",
       "      <td>1.410220e-05</td>\n",
       "      <td>0.522152</td>\n",
       "      <td>0.999229</td>\n",
       "      <td>0.999477</td>\n",
       "      <td>0.946422</td>\n",
       "      <td>NaN</td>\n",
       "      <td>0.691462</td>\n",
       "      <td>0.127902</td>\n",
       "    </tr>\n",
       "    <tr>\n",
       "      <th>themicon</th>\n",
       "      <td>0.127902</td>\n",
       "      <td>2.326291e-04</td>\n",
       "      <td>2.002612e-06</td>\n",
       "      <td>0.277291</td>\n",
       "      <td>0.974682</td>\n",
       "      <td>0.990613</td>\n",
       "      <td>0.780158</td>\n",
       "      <td>0.145586</td>\n",
       "      <td>NaN</td>\n",
       "      <td>0.052081</td>\n",
       "    </tr>\n",
       "    <tr>\n",
       "      <th>uuazed</th>\n",
       "      <td>0.635386</td>\n",
       "      <td>2.088953e-02</td>\n",
       "      <td>1.632489e-02</td>\n",
       "      <td>0.809213</td>\n",
       "      <td>0.999332</td>\n",
       "      <td>0.999631</td>\n",
       "      <td>0.983207</td>\n",
       "      <td>0.752323</td>\n",
       "      <td>0.886540</td>\n",
       "      <td>NaN</td>\n",
       "    </tr>\n",
       "  </tbody>\n",
       "</table>\n",
       "</div>"
      ],
      "text/plain": [
       "                    arbitrage      benben11        hiryuu  integration_test_7  \\\n",
       "arbitrage                 NaN  3.159335e-03  3.508822e-04            0.636831   \n",
       "benben11             0.990516           NaN  5.497382e-01            0.997505   \n",
       "hiryuu               0.997697  2.940241e-01           NaN            0.999423   \n",
       "integration_test_7   0.197663  7.057045e-04  8.841729e-05                 NaN   \n",
       "jrb                  0.000453  4.492143e-08  2.876854e-11            0.003661   \n",
       "nasdaqjockey         0.000059  2.929088e-08  7.403041e-14            0.000816   \n",
       "niam                 0.009387  9.807413e-06  5.256983e-09            0.066807   \n",
       "sorios               0.270563  6.675333e-04  1.410220e-05            0.522152   \n",
       "themicon             0.127902  2.326291e-04  2.002612e-06            0.277291   \n",
       "uuazed               0.635386  2.088953e-02  1.632489e-02            0.809213   \n",
       "\n",
       "                         jrb  nasdaqjockey      niam    sorios  themicon  \\\n",
       "arbitrage           0.997906      0.999596  0.967843  0.522152  0.752323   \n",
       "benben11            1.000000      1.000000  0.999949  0.997378  0.999081   \n",
       "hiryuu              1.000000      1.000000  1.000000  0.999816  0.999975   \n",
       "integration_test_7  0.987035      0.995975  0.852094  0.270563  0.554233   \n",
       "jrb                      NaN      0.480061  0.079404  0.000099  0.007996   \n",
       "nasdaqjockey        0.326355           NaN  0.040059  0.000063  0.002186   \n",
       "niam                0.830096      0.894350       NaN  0.015130  0.109860   \n",
       "sorios              0.999229      0.999477  0.946422       NaN  0.691462   \n",
       "themicon            0.974682      0.990613  0.780158  0.145586       NaN   \n",
       "uuazed              0.999332      0.999631  0.983207  0.752323  0.886540   \n",
       "\n",
       "                      uuazed  \n",
       "arbitrage           0.232460  \n",
       "benben11            0.953382  \n",
       "hiryuu              0.953698  \n",
       "integration_test_7  0.098236  \n",
       "jrb                 0.000144  \n",
       "nasdaqjockey        0.000075  \n",
       "niam                0.005516  \n",
       "sorios              0.127902  \n",
       "themicon            0.052081  \n",
       "uuazed                   NaN  "
      ]
     },
     "execution_count": 17,
     "metadata": {},
     "output_type": "execute_result"
    }
   ],
   "source": [
    "probs"
   ]
  },
  {
   "cell_type": "markdown",
   "metadata": {},
   "source": [
    "# Some popular accounts"
   ]
  },
  {
   "cell_type": "code",
   "execution_count": 18,
   "metadata": {},
   "outputs": [
    {
     "data": {
      "text/html": [
       "<div>\n",
       "<style scoped>\n",
       "    .dataframe tbody tr th:only-of-type {\n",
       "        vertical-align: middle;\n",
       "    }\n",
       "\n",
       "    .dataframe tbody tr th {\n",
       "        vertical-align: top;\n",
       "    }\n",
       "\n",
       "    .dataframe thead th {\n",
       "        text-align: right;\n",
       "    }\n",
       "</style>\n",
       "<table border=\"1\" class=\"dataframe\">\n",
       "  <thead>\n",
       "    <tr style=\"text-align: right;\">\n",
       "      <th></th>\n",
       "      <th>rank</th>\n",
       "      <th>mean_prob</th>\n",
       "    </tr>\n",
       "  </thead>\n",
       "  <tbody>\n",
       "    <tr>\n",
       "      <th>benben11</th>\n",
       "      <td>1.0</td>\n",
       "      <td>0.943061</td>\n",
       "    </tr>\n",
       "    <tr>\n",
       "      <th>hiryuu</th>\n",
       "      <td>2.0</td>\n",
       "      <td>0.916070</td>\n",
       "    </tr>\n",
       "    <tr>\n",
       "      <th>uuazed</th>\n",
       "      <td>3.0</td>\n",
       "      <td>0.678094</td>\n",
       "    </tr>\n",
       "    <tr>\n",
       "      <th>arbitrage</th>\n",
       "      <td>4.0</td>\n",
       "      <td>0.568069</td>\n",
       "    </tr>\n",
       "    <tr>\n",
       "      <th>sorios</th>\n",
       "      <td>5.0</td>\n",
       "      <td>0.506432</td>\n",
       "    </tr>\n",
       "    <tr>\n",
       "      <th>integration_test_7</th>\n",
       "      <td>6.0</td>\n",
       "      <td>0.439621</td>\n",
       "    </tr>\n",
       "    <tr>\n",
       "      <th>themicon</th>\n",
       "      <td>7.0</td>\n",
       "      <td>0.372061</td>\n",
       "    </tr>\n",
       "    <tr>\n",
       "      <th>niam</th>\n",
       "      <td>8.0</td>\n",
       "      <td>0.214573</td>\n",
       "    </tr>\n",
       "    <tr>\n",
       "      <th>jrb</th>\n",
       "      <td>9.0</td>\n",
       "      <td>0.063535</td>\n",
       "    </tr>\n",
       "    <tr>\n",
       "      <th>nasdaqjockey</th>\n",
       "      <td>10.0</td>\n",
       "      <td>0.041068</td>\n",
       "    </tr>\n",
       "  </tbody>\n",
       "</table>\n",
       "</div>"
      ],
      "text/plain": [
       "                    rank  mean_prob\n",
       "benben11             1.0   0.943061\n",
       "hiryuu               2.0   0.916070\n",
       "uuazed               3.0   0.678094\n",
       "arbitrage            4.0   0.568069\n",
       "sorios               5.0   0.506432\n",
       "integration_test_7   6.0   0.439621\n",
       "themicon             7.0   0.372061\n",
       "niam                 8.0   0.214573\n",
       "jrb                  9.0   0.063535\n",
       "nasdaqjockey        10.0   0.041068"
      ]
     },
     "execution_count": 18,
     "metadata": {},
     "output_type": "execute_result"
    }
   ],
   "source": [
    "probs.mean(axis=1).rank(ascending=False).sort_values().to_frame('rank').join(\n",
    "    probs.mean(axis=1).to_frame('mean_prob'))"
   ]
  },
  {
   "cell_type": "code",
   "execution_count": null,
   "metadata": {},
   "outputs": [],
   "source": []
  },
  {
   "cell_type": "code",
   "execution_count": null,
   "metadata": {},
   "outputs": [],
   "source": []
  },
  {
   "cell_type": "code",
   "execution_count": 19,
   "metadata": {},
   "outputs": [
    {
     "data": {
      "application/vnd.jupyter.widget-view+json": {
       "model_id": "daf8cf6d2f504dc383b6562bda2714de",
       "version_major": 2,
       "version_minor": 0
      },
      "text/plain": [
       "HBox(children=(HTML(value=''), FloatProgress(value=0.0, max=20.0), HTML(value='')))"
      ]
     },
     "metadata": {},
     "output_type": "display_data"
    },
    {
     "name": "stdout",
     "output_type": "stream",
     "text": [
      "\n"
     ]
    }
   ],
   "source": [
    "accounts = [x['username'] for x in napi.get_leaderboard(20)]\n",
    "\n",
    "results = {n: get_metrics(n) for n in tqdm(accounts)}"
   ]
  },
  {
   "cell_type": "code",
   "execution_count": 20,
   "metadata": {},
   "outputs": [
    {
     "data": {
      "application/vnd.jupyter.widget-view+json": {
       "model_id": "05b7cf9ad4ca465eaae1781b10486343",
       "version_major": 2,
       "version_minor": 0
      },
      "text/plain": [
       "HBox(children=(HTML(value=''), FloatProgress(value=0.0, max=20.0), HTML(value='')))"
      ]
     },
     "metadata": {},
     "output_type": "display_data"
    },
    {
     "name": "stdout",
     "output_type": "stream",
     "text": [
      "\n"
     ]
    }
   ],
   "source": [
    "probs = get_probs(results, accounts, 'corr')"
   ]
  },
  {
   "cell_type": "markdown",
   "metadata": {},
   "source": [
    "# Top 20 accounts"
   ]
  },
  {
   "cell_type": "code",
   "execution_count": 21,
   "metadata": {},
   "outputs": [
    {
     "data": {
      "text/html": [
       "<div>\n",
       "<style scoped>\n",
       "    .dataframe tbody tr th:only-of-type {\n",
       "        vertical-align: middle;\n",
       "    }\n",
       "\n",
       "    .dataframe tbody tr th {\n",
       "        vertical-align: top;\n",
       "    }\n",
       "\n",
       "    .dataframe thead th {\n",
       "        text-align: right;\n",
       "    }\n",
       "</style>\n",
       "<table border=\"1\" class=\"dataframe\">\n",
       "  <thead>\n",
       "    <tr style=\"text-align: right;\">\n",
       "      <th></th>\n",
       "      <th>rank</th>\n",
       "      <th>mean_prob</th>\n",
       "    </tr>\n",
       "  </thead>\n",
       "  <tbody>\n",
       "    <tr>\n",
       "      <th>quantyquant</th>\n",
       "      <td>1.0</td>\n",
       "      <td>0.651241</td>\n",
       "    </tr>\n",
       "    <tr>\n",
       "      <th>benben11</th>\n",
       "      <td>2.0</td>\n",
       "      <td>0.646935</td>\n",
       "    </tr>\n",
       "    <tr>\n",
       "      <th>hb_falcon</th>\n",
       "      <td>3.0</td>\n",
       "      <td>0.638706</td>\n",
       "    </tr>\n",
       "    <tr>\n",
       "      <th>hiryuu</th>\n",
       "      <td>4.0</td>\n",
       "      <td>0.497765</td>\n",
       "    </tr>\n",
       "    <tr>\n",
       "      <th>labrat</th>\n",
       "      <td>5.0</td>\n",
       "      <td>0.489565</td>\n",
       "    </tr>\n",
       "    <tr>\n",
       "      <th>uuazed6</th>\n",
       "      <td>6.0</td>\n",
       "      <td>0.480233</td>\n",
       "    </tr>\n",
       "    <tr>\n",
       "      <th>neuralnetwork3</th>\n",
       "      <td>7.0</td>\n",
       "      <td>0.475968</td>\n",
       "    </tr>\n",
       "    <tr>\n",
       "      <th>uuazed5</th>\n",
       "      <td>8.0</td>\n",
       "      <td>0.457606</td>\n",
       "    </tr>\n",
       "    <tr>\n",
       "      <th>anna13</th>\n",
       "      <td>9.0</td>\n",
       "      <td>0.437460</td>\n",
       "    </tr>\n",
       "    <tr>\n",
       "      <th>junyou</th>\n",
       "      <td>10.0</td>\n",
       "      <td>0.377131</td>\n",
       "    </tr>\n",
       "    <tr>\n",
       "      <th>quantaquetzalcoatlus</th>\n",
       "      <td>11.0</td>\n",
       "      <td>0.367260</td>\n",
       "    </tr>\n",
       "    <tr>\n",
       "      <th>ezekiel_47_v12</th>\n",
       "      <td>12.0</td>\n",
       "      <td>0.345929</td>\n",
       "    </tr>\n",
       "    <tr>\n",
       "      <th>uuazed4</th>\n",
       "      <td>13.0</td>\n",
       "      <td>0.344450</td>\n",
       "    </tr>\n",
       "    <tr>\n",
       "      <th>uuazed12</th>\n",
       "      <td>14.0</td>\n",
       "      <td>0.311241</td>\n",
       "    </tr>\n",
       "    <tr>\n",
       "      <th>hiyou</th>\n",
       "      <td>15.0</td>\n",
       "      <td>0.309449</td>\n",
       "    </tr>\n",
       "    <tr>\n",
       "      <th>kond</th>\n",
       "      <td>16.0</td>\n",
       "      <td>0.290668</td>\n",
       "    </tr>\n",
       "    <tr>\n",
       "      <th>linearato</th>\n",
       "      <td>17.0</td>\n",
       "      <td>0.278464</td>\n",
       "    </tr>\n",
       "    <tr>\n",
       "      <th>algotime</th>\n",
       "      <td>18.0</td>\n",
       "      <td>0.273605</td>\n",
       "    </tr>\n",
       "    <tr>\n",
       "      <th>algoinvestment</th>\n",
       "      <td>19.0</td>\n",
       "      <td>0.253617</td>\n",
       "    </tr>\n",
       "    <tr>\n",
       "      <th>victoria</th>\n",
       "      <td>20.0</td>\n",
       "      <td>0.164778</td>\n",
       "    </tr>\n",
       "  </tbody>\n",
       "</table>\n",
       "</div>"
      ],
      "text/plain": [
       "                      rank  mean_prob\n",
       "quantyquant            1.0   0.651241\n",
       "benben11               2.0   0.646935\n",
       "hb_falcon              3.0   0.638706\n",
       "hiryuu                 4.0   0.497765\n",
       "labrat                 5.0   0.489565\n",
       "uuazed6                6.0   0.480233\n",
       "neuralnetwork3         7.0   0.475968\n",
       "uuazed5                8.0   0.457606\n",
       "anna13                 9.0   0.437460\n",
       "junyou                10.0   0.377131\n",
       "quantaquetzalcoatlus  11.0   0.367260\n",
       "ezekiel_47_v12        12.0   0.345929\n",
       "uuazed4               13.0   0.344450\n",
       "uuazed12              14.0   0.311241\n",
       "hiyou                 15.0   0.309449\n",
       "kond                  16.0   0.290668\n",
       "linearato             17.0   0.278464\n",
       "algotime              18.0   0.273605\n",
       "algoinvestment        19.0   0.253617\n",
       "victoria              20.0   0.164778"
      ]
     },
     "execution_count": 21,
     "metadata": {},
     "output_type": "execute_result"
    }
   ],
   "source": [
    "probs.mean(axis=1).rank(ascending=False).sort_values().to_frame('rank').join(\n",
    "    probs.mean(axis=1).to_frame('mean_prob'))"
   ]
  },
  {
   "cell_type": "code",
   "execution_count": null,
   "metadata": {},
   "outputs": [],
   "source": []
  },
  {
   "cell_type": "code",
   "execution_count": null,
   "metadata": {},
   "outputs": [],
   "source": []
  },
  {
   "cell_type": "code",
   "execution_count": 23,
   "metadata": {},
   "outputs": [
    {
     "data": {
      "application/vnd.jupyter.widget-view+json": {
       "model_id": "adf889d77d304acb9bec624334a274c2",
       "version_major": 2,
       "version_minor": 0
      },
      "text/plain": [
       "HBox(children=(HTML(value=''), FloatProgress(value=0.0, max=15.0), HTML(value='')))"
      ]
     },
     "metadata": {},
     "output_type": "display_data"
    },
    {
     "name": "stdout",
     "output_type": "stream",
     "text": [
      "\n"
     ]
    }
   ],
   "source": [
    "accounts = [\n",
    "    'evolvz',\n",
    "    'zbrain',\n",
    "    'nasdaqjockey',\n",
    "    'nasdaqjockey1',\n",
    "    'nasdaqjockey2',\n",
    "    'nasdaqjockey3',\n",
    "    'nasdaqjockey4',\n",
    "    'nasdaqjockey5',\n",
    "    'nasdaqjockey6',\n",
    "    'nasdaqjockey7',\n",
    "    'nasdaqjockey8',\n",
    "    'nasdaqjockey9',\n",
    "    'nasdaqjockey10',\n",
    "    'nasdaqjockey11',\n",
    "    'nasdaqjockey12',\n",
    "]\n",
    "\n",
    "results = {n: get_metrics(n) for n in tqdm(accounts)}"
   ]
  },
  {
   "cell_type": "code",
   "execution_count": 24,
   "metadata": {},
   "outputs": [
    {
     "data": {
      "application/vnd.jupyter.widget-view+json": {
       "model_id": "a62f86f5123246699d10d6f3d755bf12",
       "version_major": 2,
       "version_minor": 0
      },
      "text/plain": [
       "HBox(children=(HTML(value=''), FloatProgress(value=0.0, max=15.0), HTML(value='')))"
      ]
     },
     "metadata": {},
     "output_type": "display_data"
    },
    {
     "name": "stdout",
     "output_type": "stream",
     "text": [
      "\n"
     ]
    }
   ],
   "source": [
    "probs = get_probs(results, accounts, 'corr', n_rounds=13)"
   ]
  },
  {
   "cell_type": "markdown",
   "metadata": {},
   "source": [
    "# nasdaqjockey's accounts"
   ]
  },
  {
   "cell_type": "code",
   "execution_count": 25,
   "metadata": {},
   "outputs": [
    {
     "data": {
      "text/html": [
       "<div>\n",
       "<style scoped>\n",
       "    .dataframe tbody tr th:only-of-type {\n",
       "        vertical-align: middle;\n",
       "    }\n",
       "\n",
       "    .dataframe tbody tr th {\n",
       "        vertical-align: top;\n",
       "    }\n",
       "\n",
       "    .dataframe thead th {\n",
       "        text-align: right;\n",
       "    }\n",
       "</style>\n",
       "<table border=\"1\" class=\"dataframe\">\n",
       "  <thead>\n",
       "    <tr style=\"text-align: right;\">\n",
       "      <th></th>\n",
       "      <th>rank</th>\n",
       "      <th>mean_prob</th>\n",
       "    </tr>\n",
       "  </thead>\n",
       "  <tbody>\n",
       "    <tr>\n",
       "      <th>nasdaqjockey4</th>\n",
       "      <td>1.0</td>\n",
       "      <td>0.832989</td>\n",
       "    </tr>\n",
       "    <tr>\n",
       "      <th>nasdaqjockey3</th>\n",
       "      <td>2.0</td>\n",
       "      <td>0.693676</td>\n",
       "    </tr>\n",
       "    <tr>\n",
       "      <th>nasdaqjockey9</th>\n",
       "      <td>3.0</td>\n",
       "      <td>0.652473</td>\n",
       "    </tr>\n",
       "    <tr>\n",
       "      <th>nasdaqjockey12</th>\n",
       "      <td>4.0</td>\n",
       "      <td>0.520772</td>\n",
       "    </tr>\n",
       "    <tr>\n",
       "      <th>evolvz</th>\n",
       "      <td>5.0</td>\n",
       "      <td>0.462582</td>\n",
       "    </tr>\n",
       "    <tr>\n",
       "      <th>nasdaqjockey1</th>\n",
       "      <td>6.0</td>\n",
       "      <td>0.459245</td>\n",
       "    </tr>\n",
       "    <tr>\n",
       "      <th>nasdaqjockey7</th>\n",
       "      <td>7.0</td>\n",
       "      <td>0.410780</td>\n",
       "    </tr>\n",
       "    <tr>\n",
       "      <th>nasdaqjockey10</th>\n",
       "      <td>8.0</td>\n",
       "      <td>0.337432</td>\n",
       "    </tr>\n",
       "    <tr>\n",
       "      <th>nasdaqjockey5</th>\n",
       "      <td>9.0</td>\n",
       "      <td>0.322857</td>\n",
       "    </tr>\n",
       "    <tr>\n",
       "      <th>nasdaqjockey11</th>\n",
       "      <td>10.0</td>\n",
       "      <td>0.299672</td>\n",
       "    </tr>\n",
       "    <tr>\n",
       "      <th>nasdaqjockey2</th>\n",
       "      <td>11.0</td>\n",
       "      <td>0.273403</td>\n",
       "    </tr>\n",
       "    <tr>\n",
       "      <th>nasdaqjockey8</th>\n",
       "      <td>12.0</td>\n",
       "      <td>0.191604</td>\n",
       "    </tr>\n",
       "    <tr>\n",
       "      <th>nasdaqjockey</th>\n",
       "      <td>13.0</td>\n",
       "      <td>0.173835</td>\n",
       "    </tr>\n",
       "    <tr>\n",
       "      <th>nasdaqjockey6</th>\n",
       "      <td>14.0</td>\n",
       "      <td>0.112489</td>\n",
       "    </tr>\n",
       "    <tr>\n",
       "      <th>zbrain</th>\n",
       "      <td>15.0</td>\n",
       "      <td>0.098287</td>\n",
       "    </tr>\n",
       "  </tbody>\n",
       "</table>\n",
       "</div>"
      ],
      "text/plain": [
       "                rank  mean_prob\n",
       "nasdaqjockey4    1.0   0.832989\n",
       "nasdaqjockey3    2.0   0.693676\n",
       "nasdaqjockey9    3.0   0.652473\n",
       "nasdaqjockey12   4.0   0.520772\n",
       "evolvz           5.0   0.462582\n",
       "nasdaqjockey1    6.0   0.459245\n",
       "nasdaqjockey7    7.0   0.410780\n",
       "nasdaqjockey10   8.0   0.337432\n",
       "nasdaqjockey5    9.0   0.322857\n",
       "nasdaqjockey11  10.0   0.299672\n",
       "nasdaqjockey2   11.0   0.273403\n",
       "nasdaqjockey8   12.0   0.191604\n",
       "nasdaqjockey    13.0   0.173835\n",
       "nasdaqjockey6   14.0   0.112489\n",
       "zbrain          15.0   0.098287"
      ]
     },
     "execution_count": 25,
     "metadata": {},
     "output_type": "execute_result"
    }
   ],
   "source": [
    "probs.mean(axis=1).rank(ascending=False).sort_values().to_frame('rank').join(\n",
    "    probs.mean(axis=1).to_frame('mean_prob'))"
   ]
  }
 ],
 "metadata": {
  "kernelspec": {
   "display_name": "Python 3",
   "language": "python",
   "name": "python3"
  },
  "language_info": {
   "codemirror_mode": {
    "name": "ipython",
    "version": 3
   },
   "file_extension": ".py",
   "mimetype": "text/x-python",
   "name": "python",
   "nbconvert_exporter": "python",
   "pygments_lexer": "ipython3",
   "version": "3.8.5"
  }
 },
 "nbformat": 4,
 "nbformat_minor": 4
}
